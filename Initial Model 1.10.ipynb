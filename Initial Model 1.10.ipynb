{
 "cells": [
  {
   "cell_type": "markdown",
   "id": "1dc6c140",
   "metadata": {},
   "source": [
    "# Imports"
   ]
  },
  {
   "cell_type": "code",
   "execution_count": 1,
   "id": "d174e253",
   "metadata": {},
   "outputs": [],
   "source": [
    "# !pip install PyMuPDF \n",
    "# !pip install transformers torch\n",
    "# !pip install --upgrade ipywidgets\n",
    "# !pip install -U gensim"
   ]
  },
  {
   "cell_type": "code",
   "execution_count": 2,
   "id": "a64d74fb",
   "metadata": {},
   "outputs": [],
   "source": [
    "import fitz  # PyMuPDF\n",
    "import torch\n",
    "import logging\n",
    "import spacy\n",
    "import os\n",
    "import string\n",
    "import warnings\n",
    "import ast\n",
    "import numpy as np\n",
    "import pandas as pd\n",
    "import matplotlib.pyplot as plt\n",
    "import seaborn as sns\n",
    "from datetime import datetime\n",
    "from tqdm import tqdm\n",
    "from sklearn.model_selection import train_test_split, LeaveOneOut, StratifiedKFold\n",
    "from sklearn.svm import SVC\n",
    "from sklearn.naive_bayes import MultinomialNB, GaussianNB \n",
    "from sklearn.ensemble import RandomForestClassifier\n",
    "from sklearn.metrics import classification_report, accuracy_score, confusion_matrix\n",
    "from sklearn.pipeline import FeatureUnion\n",
    "from sklearn.feature_extraction import DictVectorizer\n",
    "from sklearn.feature_extraction.text import CountVectorizer, TfidfVectorizer\n",
    "from sklearn.preprocessing import LabelEncoder, MaxAbsScaler, OneHotEncoder, StandardScaler\n",
    "from scipy.sparse import hstack, csr_matrix\n",
    "from transformers import BertTokenizer, BertModel, AutoTokenizer, AutoModel, TFAutoModel\n",
    "from collections import Counter\n",
    "from gensim.models import Word2Vec"
   ]
  },
  {
   "cell_type": "markdown",
   "id": "9b417a19",
   "metadata": {},
   "source": [
    "# Loading Data"
   ]
  },
  {
   "cell_type": "code",
   "execution_count": 3,
   "id": "ab59a12a",
   "metadata": {},
   "outputs": [
    {
     "data": {
      "text/html": [
       "<div>\n",
       "<style scoped>\n",
       "    .dataframe tbody tr th:only-of-type {\n",
       "        vertical-align: middle;\n",
       "    }\n",
       "\n",
       "    .dataframe tbody tr th {\n",
       "        vertical-align: top;\n",
       "    }\n",
       "\n",
       "    .dataframe thead th {\n",
       "        text-align: right;\n",
       "    }\n",
       "</style>\n",
       "<table border=\"1\" class=\"dataframe\">\n",
       "  <thead>\n",
       "    <tr style=\"text-align: right;\">\n",
       "      <th></th>\n",
       "      <th></th>\n",
       "      <th>text</th>\n",
       "      <th>group</th>\n",
       "      <th>publication_date</th>\n",
       "      <th>file_path</th>\n",
       "      <th>original_text</th>\n",
       "      <th>text before lemmatization</th>\n",
       "      <th>pos_tags</th>\n",
       "    </tr>\n",
       "    <tr>\n",
       "      <th>article_id</th>\n",
       "      <th>paragraph_id</th>\n",
       "      <th></th>\n",
       "      <th></th>\n",
       "      <th></th>\n",
       "      <th></th>\n",
       "      <th></th>\n",
       "      <th></th>\n",
       "      <th></th>\n",
       "    </tr>\n",
       "  </thead>\n",
       "  <tbody>\n",
       "    <tr>\n",
       "      <th rowspan=\"5\" valign=\"top\">1</th>\n",
       "      <th>1</th>\n",
       "      <td>provincie willen slag versoepeling stikstofreg...</td>\n",
       "      <td>Bouw &amp; Vastgoed</td>\n",
       "      <td>2024-08-28</td>\n",
       "      <td>data\\Bouw &amp; Vastgoed\\1, 28-08-2024.pdf</td>\n",
       "      <td>Provincies willen aan de slag met versoepeling...</td>\n",
       "      <td>provincies willen slag versoepeling stikstofre...</td>\n",
       "      <td>[(provincie, NOUN), (willen, VERB), (slag, NOU...</td>\n",
       "    </tr>\n",
       "    <tr>\n",
       "      <th>2</th>\n",
       "      <td>draaien allemaal drempelwaran stikstofvergunni...</td>\n",
       "      <td>Bouw &amp; Vastgoed</td>\n",
       "      <td>2024-08-28</td>\n",
       "      <td>data\\Bouw &amp; Vastgoed\\1, 28-08-2024.pdf</td>\n",
       "      <td>Het draait allemaal om de drempelwaarde voor e...</td>\n",
       "      <td>draait allemaal drempelwaarde stikstofvergunni...</td>\n",
       "      <td>[(draaien, VERB), (allemaal, ADV), (drempelwar...</td>\n",
       "    </tr>\n",
       "    <tr>\n",
       "      <th>3</th>\n",
       "      <td>hoog drempelwaard vergunning [NEWLINE] aangevo...</td>\n",
       "      <td>Bouw &amp; Vastgoed</td>\n",
       "      <td>2024-08-28</td>\n",
       "      <td>data\\Bouw &amp; Vastgoed\\1, 28-08-2024.pdf</td>\n",
       "      <td>Met een hogere drempelwaarde zouden minder ver...</td>\n",
       "      <td>hogere drempelwaarde vergunningen [NEWLINE] aa...</td>\n",
       "      <td>[(hoog, ADJ), (drempelwaard, NOUN), (vergunnin...</td>\n",
       "    </tr>\n",
       "    <tr>\n",
       "      <th>4</th>\n",
       "      <td>hoofdlijnenakkoord vier coalitiepartij afsprek...</td>\n",
       "      <td>Bouw &amp; Vastgoed</td>\n",
       "      <td>2024-08-28</td>\n",
       "      <td>data\\Bouw &amp; Vastgoed\\1, 28-08-2024.pdf</td>\n",
       "      <td>In het hoofdlijnenakkoord hebben de vier coali...</td>\n",
       "      <td>hoofdlijnenakkoord vier coalitiepartijen afges...</td>\n",
       "      <td>[(hoofdlijnenakkoord, PROPN), (vier, NUM), (co...</td>\n",
       "    </tr>\n",
       "    <tr>\n",
       "      <th>5</th>\n",
       "      <td>ondergren lang onderwerp discussie huidig Nede...</td>\n",
       "      <td>Bouw &amp; Vastgoed</td>\n",
       "      <td>2024-08-28</td>\n",
       "      <td>data\\Bouw &amp; Vastgoed\\1, 28-08-2024.pdf</td>\n",
       "      <td>De ondergrens is al langer onderwerp van discu...</td>\n",
       "      <td>ondergrens langer onderwerp discussie huidige ...</td>\n",
       "      <td>[(ondergren, VERB), (lang, ADJ), (onderwerp, N...</td>\n",
       "    </tr>\n",
       "    <tr>\n",
       "      <th>...</th>\n",
       "      <th>...</th>\n",
       "      <td>...</td>\n",
       "      <td>...</td>\n",
       "      <td>...</td>\n",
       "      <td>...</td>\n",
       "      <td>...</td>\n",
       "      <td>...</td>\n",
       "      <td>...</td>\n",
       "    </tr>\n",
       "    <tr>\n",
       "      <th>104</th>\n",
       "      <th>2</th>\n",
       "      <td>telgenkamp vestigen hoop kort termijn twee cru...</td>\n",
       "      <td>Zorg</td>\n",
       "      <td>2024-10-08</td>\n",
       "      <td>data\\Zorg\\7, 08-10-2024.pdf</td>\n",
       "      <td>Telgenkamp vestigt haar hoop voor de korte ter...</td>\n",
       "      <td>telgenkamp vestigt hoop korte termijn twee cru...</td>\n",
       "      <td>[(telgenkamp, NOUN), (vestigen, VERB), (hoop, ...</td>\n",
       "    </tr>\n",
       "    <tr>\n",
       "      <th>105</th>\n",
       "      <th>1</th>\n",
       "      <td>verzekeraar inkomst zwart werk vergoeden [NEWL...</td>\n",
       "      <td>Zorg</td>\n",
       "      <td>2024-10-17</td>\n",
       "      <td>data\\Zorg\\8, 17-10-2024.pdf</td>\n",
       "      <td>Waarom verzekeraars inkomsten uit zwart werk w...</td>\n",
       "      <td>verzekeraars inkomsten zwart werk vergoeden [N...</td>\n",
       "      <td>[(verzekeraar, ADJ), (inkomst, NOUN), (zwart, ...</td>\n",
       "    </tr>\n",
       "    <tr>\n",
       "      <th rowspan=\"3\" valign=\"top\">106</th>\n",
       "      <th>1</th>\n",
       "      <td>verzekeraar klant helpen zorgbemiddeling [NEWL...</td>\n",
       "      <td>Zorg</td>\n",
       "      <td>2024-10-16</td>\n",
       "      <td>data\\Zorg\\9, 16-10-2024.pdf</td>\n",
       "      <td>Verzekeraar wil klant helpen met zorgbemiddeli...</td>\n",
       "      <td>verzekeraar klant helpen zorgbemiddeling [NEWL...</td>\n",
       "      <td>[(verzekeraar, ADJ), (klant, NOUN), (helpen, V...</td>\n",
       "    </tr>\n",
       "    <tr>\n",
       "      <th>2</th>\n",
       "      <td>verzekeraar wachten patiënt snel zorg helpen [...</td>\n",
       "      <td>Zorg</td>\n",
       "      <td>2024-10-16</td>\n",
       "      <td>data\\Zorg\\9, 16-10-2024.pdf</td>\n",
       "      <td>Verzekeraar wil wachtende patiënt aan snelle z...</td>\n",
       "      <td>verzekeraar wachtende patiënt snelle zorg help...</td>\n",
       "      <td>[(verzekeraar, NOUN), (wachten, VERB), (patiën...</td>\n",
       "    </tr>\n",
       "    <tr>\n",
       "      <th>3</th>\n",
       "      <td>zorgbemiddeling wondermiddel helpen zeggen Haa...</td>\n",
       "      <td>Zorg</td>\n",
       "      <td>2024-10-16</td>\n",
       "      <td>data\\Zorg\\9, 16-10-2024.pdf</td>\n",
       "      <td>Zorgbemiddeling is geen wondermiddel, maar kan...</td>\n",
       "      <td>zorgbemiddeling wondermiddel helpen zegt haarl...</td>\n",
       "      <td>[(zorgbemiddeling, NOUN), (wondermiddel, NOUN)...</td>\n",
       "    </tr>\n",
       "  </tbody>\n",
       "</table>\n",
       "<p>326 rows × 7 columns</p>\n",
       "</div>"
      ],
      "text/plain": [
       "                                                                      text  \\\n",
       "article_id paragraph_id                                                      \n",
       "1          1             provincie willen slag versoepeling stikstofreg...   \n",
       "           2             draaien allemaal drempelwaran stikstofvergunni...   \n",
       "           3             hoog drempelwaard vergunning [NEWLINE] aangevo...   \n",
       "           4             hoofdlijnenakkoord vier coalitiepartij afsprek...   \n",
       "           5             ondergren lang onderwerp discussie huidig Nede...   \n",
       "...                                                                    ...   \n",
       "104        2             telgenkamp vestigen hoop kort termijn twee cru...   \n",
       "105        1             verzekeraar inkomst zwart werk vergoeden [NEWL...   \n",
       "106        1             verzekeraar klant helpen zorgbemiddeling [NEWL...   \n",
       "           2             verzekeraar wachten patiënt snel zorg helpen [...   \n",
       "           3             zorgbemiddeling wondermiddel helpen zeggen Haa...   \n",
       "\n",
       "                                   group publication_date  \\\n",
       "article_id paragraph_id                                     \n",
       "1          1             Bouw & Vastgoed       2024-08-28   \n",
       "           2             Bouw & Vastgoed       2024-08-28   \n",
       "           3             Bouw & Vastgoed       2024-08-28   \n",
       "           4             Bouw & Vastgoed       2024-08-28   \n",
       "           5             Bouw & Vastgoed       2024-08-28   \n",
       "...                                  ...              ...   \n",
       "104        2                        Zorg       2024-10-08   \n",
       "105        1                        Zorg       2024-10-17   \n",
       "106        1                        Zorg       2024-10-16   \n",
       "           2                        Zorg       2024-10-16   \n",
       "           3                        Zorg       2024-10-16   \n",
       "\n",
       "                                                      file_path  \\\n",
       "article_id paragraph_id                                           \n",
       "1          1             data\\Bouw & Vastgoed\\1, 28-08-2024.pdf   \n",
       "           2             data\\Bouw & Vastgoed\\1, 28-08-2024.pdf   \n",
       "           3             data\\Bouw & Vastgoed\\1, 28-08-2024.pdf   \n",
       "           4             data\\Bouw & Vastgoed\\1, 28-08-2024.pdf   \n",
       "           5             data\\Bouw & Vastgoed\\1, 28-08-2024.pdf   \n",
       "...                                                         ...   \n",
       "104        2                        data\\Zorg\\7, 08-10-2024.pdf   \n",
       "105        1                        data\\Zorg\\8, 17-10-2024.pdf   \n",
       "106        1                        data\\Zorg\\9, 16-10-2024.pdf   \n",
       "           2                        data\\Zorg\\9, 16-10-2024.pdf   \n",
       "           3                        data\\Zorg\\9, 16-10-2024.pdf   \n",
       "\n",
       "                                                             original_text  \\\n",
       "article_id paragraph_id                                                      \n",
       "1          1             Provincies willen aan de slag met versoepeling...   \n",
       "           2             Het draait allemaal om de drempelwaarde voor e...   \n",
       "           3             Met een hogere drempelwaarde zouden minder ver...   \n",
       "           4             In het hoofdlijnenakkoord hebben de vier coali...   \n",
       "           5             De ondergrens is al langer onderwerp van discu...   \n",
       "...                                                                    ...   \n",
       "104        2             Telgenkamp vestigt haar hoop voor de korte ter...   \n",
       "105        1             Waarom verzekeraars inkomsten uit zwart werk w...   \n",
       "106        1             Verzekeraar wil klant helpen met zorgbemiddeli...   \n",
       "           2             Verzekeraar wil wachtende patiënt aan snelle z...   \n",
       "           3             Zorgbemiddeling is geen wondermiddel, maar kan...   \n",
       "\n",
       "                                                 text before lemmatization  \\\n",
       "article_id paragraph_id                                                      \n",
       "1          1             provincies willen slag versoepeling stikstofre...   \n",
       "           2             draait allemaal drempelwaarde stikstofvergunni...   \n",
       "           3             hogere drempelwaarde vergunningen [NEWLINE] aa...   \n",
       "           4             hoofdlijnenakkoord vier coalitiepartijen afges...   \n",
       "           5             ondergrens langer onderwerp discussie huidige ...   \n",
       "...                                                                    ...   \n",
       "104        2             telgenkamp vestigt hoop korte termijn twee cru...   \n",
       "105        1             verzekeraars inkomsten zwart werk vergoeden [N...   \n",
       "106        1             verzekeraar klant helpen zorgbemiddeling [NEWL...   \n",
       "           2             verzekeraar wachtende patiënt snelle zorg help...   \n",
       "           3             zorgbemiddeling wondermiddel helpen zegt haarl...   \n",
       "\n",
       "                                                                  pos_tags  \n",
       "article_id paragraph_id                                                     \n",
       "1          1             [(provincie, NOUN), (willen, VERB), (slag, NOU...  \n",
       "           2             [(draaien, VERB), (allemaal, ADV), (drempelwar...  \n",
       "           3             [(hoog, ADJ), (drempelwaard, NOUN), (vergunnin...  \n",
       "           4             [(hoofdlijnenakkoord, PROPN), (vier, NUM), (co...  \n",
       "           5             [(ondergren, VERB), (lang, ADJ), (onderwerp, N...  \n",
       "...                                                                    ...  \n",
       "104        2             [(telgenkamp, NOUN), (vestigen, VERB), (hoop, ...  \n",
       "105        1             [(verzekeraar, ADJ), (inkomst, NOUN), (zwart, ...  \n",
       "106        1             [(verzekeraar, ADJ), (klant, NOUN), (helpen, V...  \n",
       "           2             [(verzekeraar, NOUN), (wachten, VERB), (patiën...  \n",
       "           3             [(zorgbemiddeling, NOUN), (wondermiddel, NOUN)...  \n",
       "\n",
       "[326 rows x 7 columns]"
      ]
     },
     "execution_count": 3,
     "metadata": {},
     "output_type": "execute_result"
    }
   ],
   "source": [
    "df = pd.read_csv('pre-processed data.csv').set_index(['article_id' , 'paragraph_id'], inplace=False)\n",
    "df['pos_tags'] = df['pos_tags'].apply(ast.literal_eval)\n",
    "df"
   ]
  },
  {
   "cell_type": "code",
   "execution_count": 4,
   "id": "719d1774-3f36-43dd-8458-d2c562361835",
   "metadata": {},
   "outputs": [
    {
     "name": "stdout",
     "output_type": "stream",
     "text": [
      "106 paragraphs in Bouw & Vastgoed.\n",
      "101 paragraphs in Handel & Industrie.\n",
      "71 paragraphs in Zakelijke Dienstverlening.\n",
      "48 paragraphs in Zorg.\n"
     ]
    }
   ],
   "source": [
    "for group in df['group'].unique():\n",
    "    print(f\"{len(df[df['group'] == group])} paragraphs in {group}.\")"
   ]
  },
  {
   "cell_type": "markdown",
   "id": "35c2f1da-ba16-487f-8d96-518aea903d37",
   "metadata": {},
   "source": [
    "# Overarching Function"
   ]
  },
  {
   "cell_type": "markdown",
   "id": "54b743e7-b85e-4431-b8e1-9ccac1e09110",
   "metadata": {},
   "source": [
    "**The function evaluate_model() as described below is an overarching function for finding the model with the highest validation accuracy given the provided parameter values.** <br>\n",
    "\n",
    "Expected parameter values: <br>\n",
    "- **df**: Pandas DataFrame containing the following columns:\n",
    "> **original_text**: Text before any pre-processing steps were taken, $str$ <br>\n",
    "> **text before lemmatization**: Text just before lemmatization has taken place, $str$ <br>\n",
    "> **text**: Text after all pre-processing steps have been completed, $str$ <br>\n",
    "> **pos_tags**: Part-Of-Speech tags, $list$ <br>\n",
    "> **group**: Target variable, $str$ (Converted to numeric in the evaluate_model function) <br>\n",
    "- **test_ratio**: The ratio of the data that is reserved for testing. Any floating point in the inclusive interval [0, 1].\n",
    "> Note that in the case of hold-out cross-validation (which is performed when $k=1$), test_ratio is also used the ratio of training data that is reserved for validation.\n",
    "- **k_values**: List of k values for k-fold cross-validation. Default value: [2, 3, 5, 10, 20]\n",
    "- **model_type**: Selects the type of classifier from amongst the following: [\"svm\", \"naive_bayes\", \"random_forest\"].\n",
    "> If model_type=\"naive_bayes\", a multinomial naive bayes classifier is trained if $pos=$\"none\" and embedding $\\in$ [\"BoW\", \"tf-idf\"]. Otherwise, a Gaussian naive bayes classifier is trained since the resulting word embedding will contain continuous features, which multinomial naive bayes classifiers cannot handle.\n",
    "- **embedding**: Selects the type of word embedding from amongst the following: [\"BoW\", \"tf-idf\", \"BERTje\", \"mBERT\", \"RobBERT\", \"Word2Vec\"].\n",
    "- **pos**: Selects how POS tags are used from amongst the following: [\"none\", \"one-hot\", \"ngram\"].\n",
    "- **ngram_size**: Selects the type of ngrams that are used. Must be an integer, no smaller than 2. Set to 2 by default.\n",
    "> Note that if _pos_$\\neq$\"ngram\", n is not used and the value of ngram_size is irrelevant.\n",
    "- **print_updates**: If set to True, intermediate and final results will be printed in addition to being returned. Default value: True\n",
    "- **show_class_accuracy**: If set to True, the accuracies per class are shown for the final classifier. Default: True\n",
    "- **show_confusion_matrix**: If set to True, the resulting confusion matrix of the final classifier will be shown. Default: True\n",
    "- **return_data**: If set to True, the function returns not only results and best_model, but also the data used to train, validate and test the model\n",
    "- **save_first_vectorizer**: If True, return first vectorizer as well. Works only for tf-idf.\n",
    "\n",
    "**The parameters below are model-specific and their values are only relevant if the corresponding model type is selected.**\n",
    "\n",
    "- **C_values**: A list containing all values of C to be tested for SVM classifiers. Default value: [0.1, 1, 10]\n",
    "- **kernel_values**: A list containing all kernel types to be tested for SVM classifiers. Default value: ['linear', 'rbf', 'poly']\n",
    "- **max_depth_values**: A list containing all maximum depth values to be tested for Random Forest classifiers. Default value: [5, 10, 15, 20, None]\n",
    "- **alpha_values**: A list containing all $\\alpha$ values to be tested for multinomial naive bayes classifiers. Default value: [0.01, 0.1, 0.5, 1.0, 2.0, 5.0, 10.0]\n",
    "- **fit_prior_values**: A list containing all prior_values values to be tested for Multinomial Naive Bayes classifiers. Default value: [True, False]\n",
    "- **var_smoothing_values**: A list containing all var_smoothing values to be tested for Gaussian Naive Bayes classifiers. Default value: [$10^{-11}$, $10^{-10}$, $10^{-9}$, $10^{-8}$, $10^{-7}$]"
   ]
  },
  {
   "cell_type": "code",
   "execution_count": 5,
   "id": "05375a7b-9283-4029-aaa6-5c1fe664e3e3",
   "metadata": {},
   "outputs": [],
   "source": [
    "def evaluate_model(df: pd.DataFrame, test_ratio: float = 0.15, k_values: list = [2, 3, 5, 10, 20], \n",
    "                   model_type: str = \"svm\", embedding: str = \"tf-idf\",\n",
    "                   pos: str = \"none\", ngram_size: int = 2, print_updates: bool = True,\n",
    "                   show_class_accuracy: bool = True, show_confusion_matrix: bool = True, \n",
    "                   return_data = False, save_first_vectorizer = False,\n",
    "                   C_values: list = [0.1, 1, 10], kernel_values: list = ['linear', 'rbf', 'poly'],\n",
    "                   max_depth_values: list = [5, 10, 15, 20, None],\n",
    "                   alpha_values: list = [0.01, 0.1, 0.5, 1.0, 2.0, 5.0, 10.0],\n",
    "                   fit_prior_values: list = [True, False],\n",
    "                   var_smoothing_values: list = [10**-11, 10**-10, 10**-9, 10**-8, 10**-7]):\n",
    "    \"\"\"\n",
    "    Function to extract embeddings (TF-IDF or BERTje), perform classification with SVM hyperparameter tuning, and evaluate using k-fold cross-validation.\n",
    "\n",
    "    For parameters, see the markdown above this cell.\n",
    "\n",
    "    Returns:\n",
    "        dict: Dictionary of accuracies for each k and best SVM hyperparameters.\n",
    "    \"\"\"\n",
    "    \n",
    "    #Raise appropriate error message in case of a faulty parameter value\n",
    "    if not isinstance(df, pd.DataFrame):\n",
    "        raise ValueError(f\"Invalid input data. Please ensure df is a Pandas DataFrame\")\n",
    "    if test_ratio <= 0 or test_ratio >= 1:\n",
    "        raise ValueError(f\"Invalid test_ratio. Choose a value in the exclusive interval (0,1)\")\n",
    "    if not all(isinstance(x, int) and x > 0 for x in k_values):\n",
    "        raise ValueError(f\"Invalid k_values. Please ensure all entries in k_values are positive integers\")\n",
    "    if model_type.lower() not in [\"svm\", \"naive_bayes\", \"random_forest\"]:\n",
    "        raise ValueError(f\"Invalid model_type. Choose from {'SVM', 'Naive_Bayes', 'Random_Forest'}\")\n",
    "    if embedding.lower() not in [\"bow\", \"tf-idf\", \"bertje\", \"mbert\", \"robbert\", \"word2vec\"]:\n",
    "        raise ValueError(f'Invalid embedding. Choose from [\"BoW\", \"tf-idf\", \"BERTje\", \"mBERT\", \"RobBERT\", \"Word2Vec\"]')\n",
    "    if pos not in [\"none\", \"one-hot\", \"ngram\"]:\n",
    "        raise ValueError(f'Invalid pos. Choose from [\"none\", \"one-hot\", \"ngram\"]')\n",
    "    if type(ngram_size) != int or ngram_size < 2:\n",
    "        raise ValueError(f'Invalid ngram_size. Please ensure that ngram_size is an integer, no smaller than 2')\n",
    "    if not type(print_updates) == bool:\n",
    "        raise ValueError(f'Invalid print_updates value. Please ensure this parameter has a boolean value.')\n",
    "    if not isinstance(show_class_accuracy, bool):\n",
    "        raise ValueError(f'Invalid show_class_accuracy value. Please ensure this parameter has a boolean value.')\n",
    "    if not isinstance(show_confusion_matrix, bool):\n",
    "        raise ValueError(f'Invalid show_confusion_matrix value. Please ensure this parameter has a boolean value.')\n",
    "    if not isinstance(return_data, bool):\n",
    "        raise ValueError(f'Invalid return_data value. Please ensure this parameter has a boolean value.')\n",
    "    if not all(x > 0 for x in C_values):\n",
    "        raise ValueError(f'Invalid C_values. Please ensure that all entries in C_values lie in the exclusive interval (0, inf)')\n",
    "    if not all(type(x) == str for x in kernel_values):\n",
    "        raise ValueError(f'Invalid kernel_values. Please ensure every entry in kernel_values is a string that represents a kernel type')\n",
    "    if not all((type(x) == int and x > 0) or x == None for x in max_depth_values):\n",
    "        raise ValueError(f'Invalid max_depth_values. Please ensure every entry in max_depth_values is a positive integer or None for no maximum')\n",
    "    if not all((type(x) == int or type(x) == float) and (x > 0) for x in alpha_values):\n",
    "        raise ValueError(f'Invalid alpha_values. Please ensure every entry in alpha_values is numeric and non-negative')\n",
    "    if not all(type(x) == bool for x in fit_prior_values):\n",
    "        raise ValueError(f'Invalid fit_prior_values. Please ensure every entry in fit_prior_values is boolean')\n",
    "    if not all(x >= 0 for x in var_smoothing_values):\n",
    "        raise ValueError(f'Invalid var_smoothing_values. Please ensure every entry in var_smoothing_values is a non-negative number')\n",
    "\n",
    "    first_iteration = True\n",
    "\n",
    "    # Convert labels to numeric format\n",
    "    df[\"label\"] = df[\"group\"].astype(\"category\").cat.codes \n",
    "    df_train, df_test = train_test_split(df, test_size=test_ratio, stratify=df[\"label\"], random_state=42)\n",
    "    \n",
    "    # ===========================\n",
    "    # 1. Extract Features (BoW, TF-IDF, BERTje, mBERT, RobBERT or Word2Vec)\n",
    "    # ===========================\n",
    "\n",
    "    if embedding.lower() == \"bow\":\n",
    "        if print_updates:\n",
    "            print(\"\\nUsing Bag of Words (BoW) Embeddings...\")\n",
    "        vectorizer = CountVectorizer(max_features=10_000)\n",
    "        embeddings = vectorizer.fit_transform(df_train[\"text\"])#.toarray()\n",
    "        test_embeddings = vectorizer.transform(df_test[\"text\"])#.toarray()\n",
    "    \n",
    "    elif embedding.lower() == \"tf-idf\":\n",
    "        if print_updates:\n",
    "            print(\"\\nUsing TF-IDF Embeddings...\")\n",
    "        vectorizer = TfidfVectorizer(max_features=10_000)\n",
    "        embeddings = vectorizer.fit_transform(df_train[\"text\"])#.toarray()\n",
    "        test_embeddings = vectorizer.transform(df_test[\"text\"])\n",
    "        if save_first_vectorizer and first_iteration:\n",
    "            vectorizer_backup = vectorizer\n",
    "            first_iteration = False\n",
    "\n",
    "    elif embedding.lower() in [\"bertje\", \"mbert\", \"robbert\"]:\n",
    "        if embedding.lower() == \"bertje\":\n",
    "            model_name = \"GroNLP/bert-base-dutch-cased\"\n",
    "        elif embedding.lower() == \"mbert\":\n",
    "            model_name = \"bert-base-multilingual-cased\"\n",
    "        elif embedding.lower() == \"robbert\":\n",
    "            model_name = \"pdelobelle/robbert-v2-dutch-base\"\n",
    "\n",
    "        if print_updates:\n",
    "            print(f\"\\nUsing {embedding.upper()} Embeddings ({model_name})...\")\n",
    "\n",
    "        tokenizer = AutoTokenizer.from_pretrained(model_name)\n",
    "        model = AutoModel.from_pretrained(model_name)\n",
    "        model.eval()\n",
    "\n",
    "        def get_word_embedding(text):\n",
    "            with torch.no_grad():\n",
    "                tokens = tokenizer(text, padding=\"max_length\", truncation=True, max_length=256, return_tensors=\"pt\")\n",
    "                output = model(**tokens)\n",
    "                embeddings = output.last_hidden_state.mean(dim=1)\n",
    "            return embeddings.squeeze().numpy()\n",
    "\n",
    "        if print_updates:\n",
    "            print(f\"\\nCreating {embedding} embedding, this may take a few minutes.\")\n",
    "        embeddings = np.array([get_word_embedding(text) for text in df_train[\"text\"]])\n",
    "        test_embeddings = np.array([get_word_embedding(text) for text in df_test[\"text\"]])\n",
    "\n",
    "    elif embedding.lower() == \"word2vec\":\n",
    "        if print_updates:\n",
    "            print(\"\\nUsing Word2Vec Embeddings...\")\n",
    "\n",
    "        sentences = [text.split() for text in df_train[\"text\"]]\n",
    "        w2v_model = Word2Vec(sentences, vector_size=300, window=5, min_count=2, workers=4)\n",
    "\n",
    "        def get_w2v_embedding(text):\n",
    "            words = text.split()\n",
    "            word_vectors = [w2v_model.wv[word] for word in words if word in w2v_model.wv]\n",
    "            return np.mean(word_vectors, axis=0) if word_vectors else np.zeros(300)\n",
    "\n",
    "        embeddings = np.array([get_w2v_embedding(text) for text in df_train[\"text\"]])\n",
    "        test_embeddings = np.array([get_w2v_embedding(text) for text in df_test[\"text\"]])\n",
    "\n",
    "    else:\n",
    "        raise ValueError(\"Invalid embedding type. Choose 'tf-idf' 'BERTje', 'mBERT', 'RobBERT' or 'Word2Vec'.\")\n",
    "\n",
    "    # ===========================\n",
    "    # 2. Process POS Tags if Needed\n",
    "    # ===========================\n",
    "\n",
    "    if pos == \"one-hot\":\n",
    "        if print_updates:\n",
    "            print(\"\\nUsing One-Hot Encoding for POS Tags...\")\n",
    "\n",
    "        def pos_to_features(pos_tags):\n",
    "            \"\"\"Convert list of (word, POS) tuples into a dictionary of POS tag counts.\"\"\"\n",
    "            pos_counts = Counter(tag for _, tag in pos_tags)\n",
    "            return dict(pos_counts)\n",
    "\n",
    "        # Convert to list of dictionaries\n",
    "        pos_features = [pos_to_features(tags) for tags in df_train[\"pos_tags\"]]\n",
    "        test_pos_features = [pos_to_features(tags) for tags in df_test[\"pos_tags\"]]\n",
    "    \n",
    "        # Convert list of dictionaries to Pandas DataFrame (fill missing tags with 0)\n",
    "        pos_df = pd.DataFrame(pos_features).fillna(0)\n",
    "        pos_df_test = pd.DataFrame(test_pos_features).fillna(0)\n",
    "\n",
    "        # Ensure that pos_df_test and pos_df_test have the same columns\n",
    "        pos_df_test = pos_df_test.reindex(columns=pos_df.columns, fill_value=0)\n",
    "    \n",
    "        # Create OneHotEncoder and use it on the pos features\n",
    "        encoder = OneHotEncoder(sparse=False, handle_unknown=\"ignore\")\n",
    "        pos_features_encoded = encoder.fit_transform(pos_df)\n",
    "        pos_features_encoded_test = encoder.transform(pos_df_test)\n",
    "    \n",
    "        # Scale the POS features\n",
    "        scaler = StandardScaler()\n",
    "        pos_features_scaled = scaler.fit_transform(pos_features_encoded)\n",
    "        pos_features_scaled_test = scaler.transform(pos_features_encoded_test)\n",
    "\n",
    "        # Ensure embeddings and pos_features_scaled have the same format\n",
    "        if isinstance(embeddings, np.ndarray):  \n",
    "            embeddings = csr_matrix(embeddings)  # Convert dense to sparse\n",
    "        if isinstance(test_embeddings, np.ndarray):  \n",
    "            test_embeddings = csr_matrix(test_embeddings)  # Convert dense to sparse\n",
    "\n",
    "        if not isinstance(pos_features_scaled, csr_matrix):  \n",
    "            pos_features_scaled = csr_matrix(pos_features_scaled)  # Convert dense to sparse\n",
    "        if not isinstance(pos_features_scaled_test, csr_matrix):  \n",
    "            pos_features_scaled_test = csr_matrix(pos_features_scaled_test)  # Convert dense to sparse\n",
    "\n",
    "        # Combine embeddings with POS features\n",
    "        embeddings = hstack([embeddings, pos_features_scaled])\n",
    "        test_embeddings = hstack([test_embeddings, pos_features_scaled_test])\n",
    "\n",
    "    elif pos.lower() == \"ngram\":\n",
    "        if print_updates:\n",
    "            print(f\"\\nUsing N-gram POS Features (n={ngram_size})...\")\n",
    "        \n",
    "        # Function to convert POS tags to n-grams\n",
    "        def pos_to_ngrams(pos_tags, n=2):\n",
    "            \"\"\"Convert a list of POS-tag tuples into n-gram strings.\"\"\"\n",
    "            pos_sequence = [tag for _, tag in pos_tags]  # Extract only POS tags\n",
    "            ngrams = ['_'.join(pos_sequence[i:i+n]) for i in range(len(pos_sequence)-n+1)]\n",
    "            return ' '.join(ngrams)  # Convert to space-separated string for TF-IDF\n",
    "\n",
    "        # Create POS n-grams\n",
    "        pos_ngrams = np.array([pos_to_ngrams(tags, ngram_size) for tags in df_train[\"pos_tags\"]])\n",
    "        pos_ngrams_test = np.array([pos_to_ngrams(tags, ngram_size) for tags in df_test[\"pos_tags\"]])\n",
    "\n",
    "        # Use TF-IDF to extract n-gram features\n",
    "        vectorizer = TfidfVectorizer(max_features=1000)  # Use fewer features since it's for POS\n",
    "        pos_embeddings = vectorizer.fit_transform(pos_ngrams)#.toarray()\n",
    "        pos_embeddings_test = vectorizer.transform(pos_ngrams_test)\n",
    "\n",
    "        # Ensure embeddings and pos_features_scaled have the same format\n",
    "        if isinstance(embeddings, np.ndarray):  \n",
    "            embeddings = csr_matrix(embeddings)  # Convert dense to sparse\n",
    "        if isinstance(test_embeddings, np.ndarray):  \n",
    "            test_embeddings = csr_matrix(test_embeddings)  # Convert dense to sparse\n",
    "\n",
    "        if not isinstance(pos_embeddings, csr_matrix):  \n",
    "            pos_embeddings = csr_matrix(pos_embeddings)  # Convert dense to sparse\n",
    "        if not isinstance(pos_embeddings_test, csr_matrix):  \n",
    "            pos_embeddings_test = csr_matrix(pos_embeddings_test)  # Convert dense to sparse\n",
    "        \n",
    "        # Combine embeddings with POS n-grams features\n",
    "        embeddings = hstack([embeddings, pos_embeddings])\n",
    "        test_embeddings = hstack([test_embeddings, pos_embeddings_test])\n",
    "\n",
    "    elif pos != \"none\":\n",
    "        raise ValueError(\"Invalid POS type. Choose 'none', 'one-hot', or 'ngram'.\")\n",
    "\n",
    "    # ===========================\n",
    "    # 3. Model Evaluation (Holdout or k-Fold) with Hyperparameter Search\n",
    "    # ===========================\n",
    "\n",
    "    # Set initial performance metrics such that they can be updated after a better classifier has been found\n",
    "    # best_k = None\n",
    "    best_accuracy = 0\n",
    "    best_params = None\n",
    "    results = {}\n",
    "    best_functionwide_accuracy = 0\n",
    "    best_functionwide_params = None\n",
    "\n",
    "    # For every value of k, we find the best parameter settings and save them in the results dictionary\n",
    "    for k in k_values:\n",
    "        param_results = {}\n",
    "        # accuracy_scores = []\n",
    "        # best_model_params = {}\n",
    "\n",
    "        if k == 1: # Use regular hold-out cross-validation\n",
    "            X_train, X_val, y_train, y_val = train_test_split(\n",
    "                embeddings, df_train[\"label\"], test_size=test_ratio, stratify=df_train[\"label\"], random_state=42\n",
    "            )\n",
    "            \n",
    "            if model_type.lower() == \"svm\":\n",
    "                for C in C_values:\n",
    "                    for kernel in kernel_values:\n",
    "                        classifier = SVC(kernel=kernel, C=C)\n",
    "                        classifier.fit(X_train, y_train)\n",
    "                        accuracy = accuracy_score(y_val, classifier.predict(X_val))\n",
    "                        param_results.setdefault((C, kernel), []).append(accuracy)\n",
    "            \n",
    "            elif model_type.lower() == \"random_forest\":\n",
    "                for max_depth in max_depth_values:\n",
    "                    classifier = RandomForestClassifier(max_depth=max_depth, random_state=42)\n",
    "                    classifier.fit(X_train, y_train)\n",
    "                    accuracy = accuracy_score(y_val, classifier.predict(X_val))\n",
    "                    param_results.setdefault((max_depth), []).append(accuracy)\n",
    "            \n",
    "            elif model_type.lower() == \"naive_bayes\":\n",
    "                if pos == \"none\" and embedding.lower() in [\"bow\", \"tf-idf\"]: # In this case all features are discrete, so we can use MultinomialNB\n",
    "                    for alpha in alpha_values:\n",
    "                        for fit_prior in fit_prior_values:\n",
    "                            classifier = MultinomialNB(alpha=alpha, fit_prior=fit_prior)\n",
    "                            classifier.fit(X_train, y_train)\n",
    "                            accuracy = accuracy_score(y_val, classifier.predict(X_val))\n",
    "                            param_results.setdefault((alpha, fit_prior), []).append(accuracy)\n",
    "                else: # In this case, there are continuous features, so we use GaussianNB\n",
    "                    for var_smoothing in var_smoothing_values:\n",
    "                        classifier = GaussianNB(var_smoothing=var_smoothing)\n",
    "                        \n",
    "                        if isinstance(X_train, np.ndarray):\n",
    "                            classifier.fit(X_train, y_train)\n",
    "                            accuracy = accuracy_score(y_val, classifier.predict(X_val))\n",
    "                        else:\n",
    "                            classifier.fit(X_train.toarray(), y_train)\n",
    "                            accuracy = accuracy_score(y_val, classifier.predict(X_val.toarray()))\n",
    "                            \n",
    "                        param_results.setdefault((var_smoothing), []).append(accuracy)\n",
    "\n",
    "            else:\n",
    "                raise ValueError('Invalid model_type. Choose \"svm\", \"random_forest\" or \"naive_bayes\".')\n",
    "\n",
    "            # accuracy_scores.append(best_accuracy)\n",
    "            \n",
    "        else:  # Use stratified k-fold cross-validation\n",
    "            kf = StratifiedKFold(n_splits=k, shuffle=True, random_state=42)\n",
    "            for train_index, val_index in kf.split(embeddings, df_train[\"label\"]):\n",
    "                X_train, X_val = embeddings[train_index], embeddings[val_index]\n",
    "                y_train, y_val = df_train[\"label\"].iloc[train_index].values, df_train[\"label\"].iloc[val_index].values\n",
    "                \n",
    "                best_fold_accuracy = 0\n",
    "                \n",
    "                if model_type == \"svm\":\n",
    "                    for C in C_values:\n",
    "                        for kernel in kernel_values:\n",
    "                            classifier = SVC(kernel=kernel, C=C)\n",
    "                            classifier.fit(X_train, y_train)\n",
    "                            accuracy = accuracy_score(y_val, classifier.predict(X_val))\n",
    "                            param_results.setdefault((C, kernel), []).append(accuracy)\n",
    "                \n",
    "                elif model_type == \"random_forest\":\n",
    "                    for max_depth in max_depth_values:\n",
    "                        classifier = RandomForestClassifier(max_depth=max_depth, random_state=42)\n",
    "                        classifier.fit(X_train, y_train)\n",
    "                        accuracy = accuracy_score(y_val, classifier.predict(X_val))\n",
    "                        param_results.setdefault((max_depth), []).append(accuracy)\n",
    "                \n",
    "                elif model_type == \"naive_bayes\":\n",
    "                    if pos == \"none\" and embedding.lower() in [\"bow\", \"tf-idf\"]:\n",
    "                        for alpha in alpha_values:\n",
    "                            for fit_prior in fit_prior_values:\n",
    "                                classifier = MultinomialNB(alpha=alpha, fit_prior=fit_prior)\n",
    "                                classifier.fit(X_train, y_train)\n",
    "                                accuracy = accuracy_score(y_val, classifier.predict(X_val))\n",
    "                                param_results.setdefault((alpha, fit_prior), []).append(accuracy)\n",
    "                    else:\n",
    "                        for var_smoothing in var_smoothing_values:\n",
    "                            classifier = GaussianNB(var_smoothing=var_smoothing)\n",
    "                            if isinstance(X_train, np.ndarray):\n",
    "                                classifier.fit(X_train, y_train)\n",
    "                                accuracy = accuracy_score(y_val, classifier.predict(X_val))\n",
    "                            else:\n",
    "                                classifier.fit(X_train.toarray(), y_train)\n",
    "                                accuracy = accuracy_score(y_val, classifier.predict(X_val.toarray()))\n",
    "                            param_results.setdefault((var_smoothing), []).append(accuracy)\n",
    "                                \n",
    "                else:\n",
    "                    raise ValueError('Invalid model_type. Choose \"svm\", \"random_forest\" or \"naive_bayes\".')\n",
    "                \n",
    "                # accuracy_scores.append(best_fold_accuracy)\n",
    "        \n",
    "        # results[k] = {\"accuracy\": np.mean(accuracy_scores), \"best_params\": best_model_params}\n",
    "\n",
    "        # Compute mean accuracy for each hyperparameter set\n",
    "        mean_accuracies = {params: np.mean(acc_list) for params, acc_list in param_results.items()}\n",
    "        best_params = max(mean_accuracies, key=mean_accuracies.get)\n",
    "        best_accuracy = mean_accuracies[best_params]\n",
    "        results[k] = {\"accuracy\": best_accuracy, \"best_params\": best_params}\n",
    "        \n",
    "        if print_updates:\n",
    "            print(f\"Best {model_type} Params for k={k}: {results[k]['best_params']}, Mean Validation Accuracy: {results[k]['accuracy']:.4f}\")\n",
    "        \n",
    "        if print_updates:\n",
    "            print(f\"param_results: {param_results}\")\n",
    "            print(f\"mean results: {mean_accuracies}\")\n",
    "            print(f\"best validation accuracy for K={k}: {best_accuracy}\")\n",
    "            print(f\"best functionwide validation accuracy: {best_functionwide_accuracy}\\n\")\n",
    "\n",
    "        # Train final model on full training set if this is the best performance so far\n",
    "        if best_accuracy > best_functionwide_accuracy:\n",
    "            best_functionwide_accuracy = best_accuracy\n",
    "            best_functionwide_params = best_params\n",
    "            if not isinstance(best_params, tuple):\n",
    "                best_params = (best_params,)\n",
    "            if model_type.lower() == \"svm\":\n",
    "                best_model = SVC(C=best_params[0], kernel=best_params[1])\n",
    "            elif model_type.lower() == \"random_forest\":\n",
    "                best_model = RandomForestClassifier(max_depth=best_params[0], random_state=42)\n",
    "            elif model_type.lower() == \"naive_bayes\":\n",
    "                if pos == \"none\" and embedding.lower() in [\"bow\", \"tf-idf\"]:\n",
    "                    best_model = MultinomialNB(alpha=best_params[0], fit_prior=best_params[1])\n",
    "                else:\n",
    "                    best_model = GaussianNB(var_smoothing=best_params[0])\n",
    "                    \n",
    "            if isinstance(X_train, np.ndarray):\n",
    "                best_model.fit(X_train, y_train)\n",
    "            else:\n",
    "                best_model.fit(X_train.toarray(), y_train)\n",
    "    \n",
    "    # Evaluate best model on test set\n",
    "    if not isinstance(test_embeddings, np.ndarray):\n",
    "        test_accuracy = accuracy_score(df_test[\"label\"], best_model.predict(test_embeddings.toarray()))\n",
    "    else:\n",
    "        test_accuracy = accuracy_score(df_test[\"label\"], best_model.predict(test_embeddings))\n",
    "        \n",
    "    if print_updates:\n",
    "        print(f\"\\nBest model found: \\nModel={model_type}, \\nParameter values: {best_params}, \\nValidation Accuracy: {best_functionwide_accuracy:.4f}\")\n",
    "        print(f\"Final Test Accuracy: {test_accuracy:.4f}\")\n",
    "\n",
    "    if show_class_accuracy:\n",
    "        y_test = df_test[\"label\"]\n",
    "        \n",
    "        if not isinstance(test_embeddings, np.ndarray):\n",
    "            y_pred = best_model.predict(test_embeddings.toarray())\n",
    "        else:\n",
    "            y_pred = best_model.predict(test_embeddings)\n",
    "            \n",
    "        cm = confusion_matrix(y_test, y_pred)\n",
    "        \n",
    "        # Class names (assuming they are in the same order as in y_train or y_test)\n",
    "        class_names = np.unique(y_test)  # This will give you the unique class labels\n",
    "        \n",
    "        # Calculate per-class accuracy: TP / (TP + FN)\n",
    "        class_accuracies = cm.diagonal() / cm.sum(axis=1)\n",
    "        \n",
    "        # Print the accuracy for each class along with its name\n",
    "        for i, acc in enumerate(class_accuracies):\n",
    "            print(f\"Class '{class_names[i]}' Accuracy: {acc:.4f}\")\n",
    "\n",
    "    if show_confusion_matrix:\n",
    "        y_test = df_test[\"label\"]\n",
    "        \n",
    "        if not isinstance(test_embeddings, np.ndarray):\n",
    "            y_pred = best_model.predict(test_embeddings.toarray())\n",
    "        else:\n",
    "            y_pred = best_model.predict(test_embeddings)\n",
    "            \n",
    "        cm = confusion_matrix(y_test, y_pred)\n",
    "        class_mapping = {0: 'Bouw & Vastgoed', 1: 'Handel & Industrie', 2: 'Zakelijke Dienstverlening', 3: 'Zorg'}\n",
    "        class_names = [class_mapping[i] for i in np.unique(y_test)]\n",
    "        \n",
    "        # Plotting the confusion matrix\n",
    "        plt.figure(figsize=(8, 6))\n",
    "        sns.heatmap(cm, annot=True, fmt='d', cmap='Blues', xticklabels=class_names, yticklabels=class_names, cbar=True)\n",
    "        \n",
    "        # Label the axes\n",
    "        plt.xlabel('Predicted Label')\n",
    "        plt.ylabel('True Label')\n",
    "        plt.title('Confusion Matrix')\n",
    "        \n",
    "        # Display the plot\n",
    "        plt.show()\n",
    "\n",
    "    if not save_first_vectorizer:\n",
    "        if return_data:\n",
    "            y_test = df_test[\"label\"]\n",
    "            return results, best_model, [(X_train, y_train), (X_val, y_val), (test_embeddings, y_test)]\n",
    "        else:\n",
    "            return results, best_model\n",
    "\n",
    "    else:\n",
    "        if return_data:\n",
    "            y_test = df_test[\"label\"]\n",
    "            return results, best_model, [(X_train, y_train), (X_val, y_val), (test_embeddings, y_test)], vectorizer_backup\n",
    "        else:\n",
    "            return results, best_model, vectorizer_backup"
   ]
  },
  {
   "cell_type": "markdown",
   "id": "63f1cb8e-3aea-49ae-8f44-f14583996f4b",
   "metadata": {},
   "source": [
    "# Testing:"
   ]
  },
  {
   "cell_type": "code",
   "execution_count": 6,
   "id": "89cf1789-14a2-4917-b1fa-f3abf782beae",
   "metadata": {
    "scrolled": true
   },
   "outputs": [
    {
     "name": "stdout",
     "output_type": "stream",
     "text": [
      "\n",
      "Using TF-IDF Embeddings...\n",
      "Best random_forest Params for k=2: 20, Mean Validation Accuracy: 0.6246\n",
      "param_results: {5: [0.5251798561151079, 0.572463768115942], 10: [0.5827338129496403, 0.6304347826086957], 15: [0.6115107913669064, 0.6304347826086957], 20: [0.60431654676259, 0.644927536231884], None: [0.5827338129496403, 0.6231884057971014]}\n",
      "mean results: {5: 0.5488218121155249, 10: 0.606584297779168, 15: 0.620972786987801, 20: 0.624622041497237, None: 0.6029611093733709}\n",
      "best validation accuracy for K=2: 0.624622041497237\n",
      "best functionwide validation accuracy: 0\n",
      "\n",
      "Best random_forest Params for k=3: None, Mean Validation Accuracy: 0.6609\n",
      "param_results: {5: [0.5483870967741935, 0.5652173913043478, 0.6086956521739131], 10: [0.6021505376344086, 0.6521739130434783, 0.6304347826086957], 15: [0.5913978494623656, 0.6521739130434783, 0.6847826086956522], 20: [0.5806451612903226, 0.6521739130434783, 0.6956521739130435], None: [0.5913978494623656, 0.7065217391304348, 0.6847826086956522]}\n",
      "mean results: {5: 0.574100046750818, 10: 0.6282530777621943, 15: 0.6427847904004987, 20: 0.6428237494156148, None: 0.6609007324294843}\n",
      "best validation accuracy for K=3: 0.6609007324294843\n",
      "best functionwide validation accuracy: 0.624622041497237\n",
      "\n",
      "Best random_forest Params for k=5: 15, Mean Validation Accuracy: 0.6718\n",
      "param_results: {5: [0.5892857142857143, 0.5357142857142857, 0.5818181818181818, 0.5818181818181818, 0.5272727272727272], 10: [0.6785714285714286, 0.6071428571428571, 0.7090909090909091, 0.6727272727272727, 0.6545454545454545], 15: [0.6607142857142857, 0.6071428571428571, 0.7090909090909091, 0.6909090909090909, 0.6909090909090909], 20: [0.7321428571428571, 0.625, 0.6181818181818182, 0.6727272727272727, 0.6545454545454545], None: [0.6785714285714286, 0.7142857142857143, 0.6, 0.6727272727272727, 0.6545454545454545]}\n",
      "mean results: {5: 0.5631818181818182, 10: 0.6644155844155843, 15: 0.6717532467532468, 20: 0.6605194805194806, None: 0.664025974025974}\n",
      "best validation accuracy for K=5: 0.6717532467532468\n",
      "best functionwide validation accuracy: 0.6609007324294843\n",
      "\n",
      "\n",
      "Best model found: \n",
      "Model=random_forest, \n",
      "Parameter values: (15,), \n",
      "Validation Accuracy: 0.6718\n",
      "Final Test Accuracy: 0.6531\n",
      "Class '0' Accuracy: 0.9375\n",
      "Class '1' Accuracy: 0.7333\n",
      "Class '2' Accuracy: 0.1818\n",
      "Class '3' Accuracy: 0.5714\n"
     ]
    },
    {
     "data": {
      "image/png": "[encoded data removed]",
      "text/plain": [
       "<Figure size 800x600 with 2 Axes>"
      ]
     },
     "metadata": {},
     "output_type": "display_data"
    },
    {
     "data": {
      "text/plain": [
       "({2: {'accuracy': 0.624622041497237, 'best_params': 20},\n",
       "  3: {'accuracy': 0.6609007324294843, 'best_params': None},\n",
       "  5: {'accuracy': 0.6717532467532468, 'best_params': 15}},\n",
       " RandomForestClassifier(max_depth=15, random_state=42))"
      ]
     },
     "execution_count": 6,
     "metadata": {},
     "output_type": "execute_result"
    }
   ],
   "source": [
    "evaluate_model(df, test_ratio = 0.15, k_values = [2, 3, 5], \n",
    "                   embedding = \"tf-idf\", model_type = \"random_forest\",\n",
    "                   C_values = [0.1, 1, 10], kernel_values = ['linear', 'rbf', 'poly'],\n",
    "                   max_depth_values = [5, 10, 15, 20, None],\n",
    "                   alpha_values = [0.01, 0.1, 0.5, 1.0, 2.0, 5.0, 10.0],\n",
    "                   fit_prior_values = [True, False],\n",
    "                   var_smoothing_values = [10**-11, 10**-10, 10**-9, 10**-8, 10**-7],\n",
    "                   pos = \"none\", ngram_size = 2,)"
   ]
  },
  {
   "cell_type": "code",
   "execution_count": 7,
   "id": "d8e5d384-a5c4-4c31-b78d-02cd6e26505d",
   "metadata": {
    "scrolled": true
   },
   "outputs": [
    {
     "name": "stdout",
     "output_type": "stream",
     "text": [
      "\n",
      "Using BERTJE Embeddings (GroNLP/bert-base-dutch-cased)...\n"
     ]
    },
    {
     "name": "stderr",
     "output_type": "stream",
     "text": [
      "Some weights of BertModel were not initialized from the model checkpoint at GroNLP/bert-base-dutch-cased and are newly initialized: ['bert.pooler.dense.bias', 'bert.pooler.dense.weight']\n",
      "You should probably TRAIN this model on a down-stream task to be able to use it for predictions and inference.\n"
     ]
    },
    {
     "name": "stdout",
     "output_type": "stream",
     "text": [
      "\n",
      "Creating BERTje embedding, this may take a few minutes.\n",
      "Best random_forest Params for k=2: 5, Mean Validation Accuracy: 0.6751\n",
      "param_results: {5: [0.6690647482014388, 0.6811594202898551], 10: [0.6690647482014388, 0.6666666666666666], 15: [0.6690647482014388, 0.6666666666666666], 20: [0.6690647482014388, 0.6666666666666666], None: [0.6690647482014388, 0.6666666666666666]}\n",
      "mean results: {5: 0.675112084245647, 10: 0.6678657074340527, 15: 0.6678657074340527, 20: 0.6678657074340527, None: 0.6678657074340527}\n",
      "best validation accuracy for K=2: 0.675112084245647\n",
      "best functionwide validation accuracy: 0\n",
      "\n",
      "Best random_forest Params for k=3: 5, Mean Validation Accuracy: 0.6897\n",
      "param_results: {5: [0.6559139784946236, 0.6413043478260869, 0.7717391304347826], 10: [0.6129032258064516, 0.6413043478260869, 0.75], 15: [0.6236559139784946, 0.6413043478260869, 0.75], 20: [0.6236559139784946, 0.6413043478260869, 0.75], None: [0.6236559139784946, 0.6413043478260869, 0.75]}\n",
      "mean results: {5: 0.6896524855851643, 10: 0.6680691912108462, 15: 0.6716534206015271, 20: 0.6716534206015271, None: 0.6716534206015271}\n",
      "best validation accuracy for K=3: 0.6896524855851643\n",
      "best functionwide validation accuracy: 0.675112084245647\n",
      "\n",
      "Best random_forest Params for k=5: 10, Mean Validation Accuracy: 0.7116\n",
      "param_results: {5: [0.7321428571428571, 0.5892857142857143, 0.6545454545454545, 0.7090909090909091, 0.7454545454545455], 10: [0.7678571428571429, 0.5535714285714286, 0.7454545454545455, 0.7272727272727273, 0.7636363636363637], 15: [0.7678571428571429, 0.5357142857142857, 0.7090909090909091, 0.7090909090909091, 0.7636363636363637], 20: [0.7678571428571429, 0.5357142857142857, 0.7090909090909091, 0.7090909090909091, 0.7636363636363637], None: [0.7678571428571429, 0.5357142857142857, 0.7090909090909091, 0.7090909090909091, 0.7636363636363637]}\n",
      "mean results: {5: 0.6861038961038961, 10: 0.7115584415584417, 15: 0.6970779220779221, 20: 0.6970779220779221, None: 0.6970779220779221}\n",
      "best validation accuracy for K=5: 0.7115584415584417\n",
      "best functionwide validation accuracy: 0.6896524855851643\n",
      "\n",
      "\n",
      "Best model found: \n",
      "Model=random_forest, \n",
      "Parameter values: (10,), \n",
      "Validation Accuracy: 0.7116\n",
      "Final Test Accuracy: 0.6531\n",
      "Class '0' Accuracy: 0.8750\n",
      "Class '1' Accuracy: 0.7333\n",
      "Class '2' Accuracy: 0.5455\n",
      "Class '3' Accuracy: 0.1429\n"
     ]
    },
    {
     "data": {
      "image/png": "[encoded data removed]",
      "text/plain": [
       "<Figure size 800x600 with 2 Axes>"
      ]
     },
     "metadata": {},
     "output_type": "display_data"
    },
    {
     "data": {
      "text/plain": [
       "({2: {'accuracy': 0.675112084245647, 'best_params': 5},\n",
       "  3: {'accuracy': 0.6896524855851643, 'best_params': 5},\n",
       "  5: {'accuracy': 0.7115584415584417, 'best_params': 10}},\n",
       " RandomForestClassifier(max_depth=10, random_state=42))"
      ]
     },
     "execution_count": 7,
     "metadata": {},
     "output_type": "execute_result"
    }
   ],
   "source": [
    "evaluate_model(df, test_ratio = 0.15, k_values = [2, 3, 5], \n",
    "                   embedding = \"BERTje\", model_type = \"random_forest\",\n",
    "                   C_values = [0.1, 1, 10], kernel_values = ['linear', 'rbf', 'poly'],\n",
    "                   max_depth_values = [5, 10, 15, 20, None],\n",
    "                   alpha_values = [0.01, 0.1, 0.5, 1.0, 2.0, 5.0, 10.0],\n",
    "                   fit_prior_values = [True, False],\n",
    "                   var_smoothing_values = [10**-11, 10**-10, 10**-9, 10**-8, 10**-7],\n",
    "                   pos = \"none\", ngram_size = 2)"
   ]
  },
  {
   "cell_type": "code",
   "execution_count": 8,
   "id": "81b3d6c4-8346-44e6-ac90-fe229c91e638",
   "metadata": {
    "scrolled": true
   },
   "outputs": [
    {
     "name": "stdout",
     "output_type": "stream",
     "text": [
      "\n",
      "Using TF-IDF Embeddings...\n",
      "\n",
      "Using One-Hot Encoding for POS Tags...\n"
     ]
    },
    {
     "name": "stderr",
     "output_type": "stream",
     "text": [
      "C:\\Users\\20193204\\AppData\\Roaming\\Python\\Python310\\site-packages\\sklearn\\preprocessing\\_encoders.py:975: FutureWarning: `sparse` was renamed to `sparse_output` in version 1.2 and will be removed in 1.4. `sparse_output` is ignored unless you leave `sparse` to its default value.\n",
      "  warnings.warn(\n"
     ]
    },
    {
     "name": "stdout",
     "output_type": "stream",
     "text": [
      "Best random_forest Params for k=2: 20, Mean Validation Accuracy: 0.5884\n",
      "param_results: {5: [0.4676258992805755, 0.5217391304347826], 10: [0.5827338129496403, 0.5579710144927537], 15: [0.5827338129496403, 0.5797101449275363], 20: [0.6115107913669064, 0.5652173913043478], None: [0.5827338129496403, 0.5797101449275363]}\n",
      "mean results: {5: 0.49468251485767906, 10: 0.570352413721197, 15: 0.5812219789385883, 20: 0.5883640913356272, None: 0.5812219789385883}\n",
      "best validation accuracy for K=2: 0.5883640913356272\n",
      "best functionwide validation accuracy: 0\n",
      "\n",
      "Best random_forest Params for k=3: None, Mean Validation Accuracy: 0.6391\n",
      "param_results: {5: [0.5376344086021505, 0.5217391304347826, 0.5869565217391305], 10: [0.6129032258064516, 0.5869565217391305, 0.6739130434782609], 15: [0.5806451612903226, 0.5978260869565217, 0.6739130434782609], 20: [0.6236559139784946, 0.6086956521739131, 0.6739130434782609], None: [0.6129032258064516, 0.6086956521739131, 0.6956521739130435]}\n",
      "mean results: {5: 0.5487766869253545, 10: 0.624590930341281, 15: 0.6174614305750351, 20: 0.6354215365435562, None: 0.6390836839644694}\n",
      "best validation accuracy for K=3: 0.6390836839644694\n",
      "best functionwide validation accuracy: 0.5883640913356272\n",
      "\n",
      "Best random_forest Params for k=5: 20, Mean Validation Accuracy: 0.6425\n",
      "param_results: {5: [0.6071428571428571, 0.5535714285714286, 0.509090909090909, 0.6363636363636364, 0.5636363636363636], 10: [0.6428571428571429, 0.6428571428571429, 0.5454545454545454, 0.6727272727272727, 0.5454545454545454], 15: [0.7142857142857143, 0.625, 0.5818181818181818, 0.6909090909090909, 0.6], 20: [0.6607142857142857, 0.6428571428571429, 0.6181818181818182, 0.6909090909090909, 0.6], None: [0.7142857142857143, 0.625, 0.5636363636363636, 0.6545454545454545, 0.6]}\n",
      "mean results: {5: 0.5739610389610389, 10: 0.6098701298701299, 15: 0.6424025974025974, 20: 0.6425324675324675, None: 0.6314935064935064}\n",
      "best validation accuracy for K=5: 0.6425324675324675\n",
      "best functionwide validation accuracy: 0.6390836839644694\n",
      "\n",
      "\n",
      "Best model found: \n",
      "Model=random_forest, \n",
      "Parameter values: (20,), \n",
      "Validation Accuracy: 0.6425\n",
      "Final Test Accuracy: 0.5714\n",
      "Class '0' Accuracy: 0.8125\n",
      "Class '1' Accuracy: 0.8000\n",
      "Class '2' Accuracy: 0.0909\n",
      "Class '3' Accuracy: 0.2857\n"
     ]
    },
    {
     "data": {
      "image/png": "[encoded data removed]",
      "text/plain": [
       "<Figure size 800x600 with 2 Axes>"
      ]
     },
     "metadata": {},
     "output_type": "display_data"
    },
    {
     "data": {
      "text/plain": [
       "({2: {'accuracy': 0.5883640913356272, 'best_params': 20},\n",
       "  3: {'accuracy': 0.6390836839644694, 'best_params': None},\n",
       "  5: {'accuracy': 0.6425324675324675, 'best_params': 20}},\n",
       " RandomForestClassifier(max_depth=20, random_state=42))"
      ]
     },
     "execution_count": 8,
     "metadata": {},
     "output_type": "execute_result"
    }
   ],
   "source": [
    "evaluate_model(df, test_ratio = 0.15, k_values = [2, 3, 5], \n",
    "                   embedding = \"tf-idf\", model_type = \"random_forest\",\n",
    "                   C_values = [0.1, 1, 10], kernel_values = ['linear', 'rbf', 'poly'],\n",
    "                   max_depth_values = [5, 10, 15, 20, None],\n",
    "                   alpha_values = [0.01, 0.1, 0.5, 1.0, 2.0, 5.0, 10.0],\n",
    "                   fit_prior_values = [True, False],\n",
    "                   var_smoothing_values = [10**-11, 10**-10, 10**-9, 10**-8, 10**-7],\n",
    "                   pos = \"one-hot\", ngram_size = 2)"
   ]
  },
  {
   "cell_type": "code",
   "execution_count": 9,
   "id": "1e439779-31d0-4d7f-a242-21bc47ebfcfb",
   "metadata": {
    "scrolled": true
   },
   "outputs": [
    {
     "name": "stdout",
     "output_type": "stream",
     "text": [
      "\n",
      "Using MBERT Embeddings (bert-base-multilingual-cased)...\n",
      "\n",
      "Creating mbert embedding, this may take a few minutes.\n",
      "\n",
      "Using N-gram POS Features (n=2)...\n",
      "Best random_forest Params for k=2: 5, Mean Validation Accuracy: 0.5920\n",
      "param_results: {5: [0.60431654676259, 0.5797101449275363], 10: [0.5683453237410072, 0.6014492753623188], 15: [0.5611510791366906, 0.6014492753623188], 20: [0.5611510791366906, 0.6014492753623188], None: [0.5611510791366906, 0.6014492753623188]}\n",
      "mean results: {5: 0.5920133458450632, 10: 0.584897299551663, 15: 0.5813001772495048, 20: 0.5813001772495048, None: 0.5813001772495048}\n",
      "best validation accuracy for K=2: 0.5920133458450632\n",
      "best functionwide validation accuracy: 0\n",
      "\n",
      "Best random_forest Params for k=3: 5, Mean Validation Accuracy: 0.5993\n",
      "param_results: {5: [0.6021505376344086, 0.5434782608695652, 0.6521739130434783], 10: [0.5913978494623656, 0.5760869565217391, 0.6086956521739131], 15: [0.6129032258064516, 0.5760869565217391, 0.6086956521739131], 20: [0.6129032258064516, 0.5760869565217391, 0.6086956521739131], None: [0.6129032258064516, 0.5760869565217391, 0.6086956521739131]}\n",
      "mean results: {5: 0.5992675705158174, 10: 0.5920601527193393, 15: 0.5992286115007013, 20: 0.5992286115007013, None: 0.5992286115007013}\n",
      "best validation accuracy for K=3: 0.5992675705158174\n",
      "best functionwide validation accuracy: 0.5920133458450632\n",
      "\n",
      "Best random_forest Params for k=5: 5, Mean Validation Accuracy: 0.6247\n",
      "param_results: {5: [0.6785714285714286, 0.5178571428571429, 0.6181818181818182, 0.6545454545454545, 0.6545454545454545], 10: [0.6964285714285714, 0.44642857142857145, 0.6545454545454545, 0.5454545454545454, 0.6545454545454545], 15: [0.6964285714285714, 0.44642857142857145, 0.6363636363636364, 0.5454545454545454, 0.6363636363636364], 20: [0.6964285714285714, 0.44642857142857145, 0.6363636363636364, 0.5454545454545454, 0.6363636363636364], None: [0.6964285714285714, 0.44642857142857145, 0.6363636363636364, 0.5454545454545454, 0.6363636363636364]}\n",
      "mean results: {5: 0.6247402597402598, 10: 0.5994805194805194, 15: 0.5922077922077922, 20: 0.5922077922077922, None: 0.5922077922077922}\n",
      "best validation accuracy for K=5: 0.6247402597402598\n",
      "best functionwide validation accuracy: 0.5992675705158174\n",
      "\n",
      "\n",
      "Best model found: \n",
      "Model=random_forest, \n",
      "Parameter values: (5,), \n",
      "Validation Accuracy: 0.6247\n",
      "Final Test Accuracy: 0.5918\n",
      "Class '0' Accuracy: 0.6875\n",
      "Class '1' Accuracy: 0.9333\n",
      "Class '2' Accuracy: 0.3636\n",
      "Class '3' Accuracy: 0.0000\n"
     ]
    },
    {
     "data": {
      "image/png": "[encoded data removed]",
      "text/plain": [
       "<Figure size 800x600 with 2 Axes>"
      ]
     },
     "metadata": {},
     "output_type": "display_data"
    },
    {
     "data": {
      "text/plain": [
       "({2: {'accuracy': 0.5920133458450632, 'best_params': 5},\n",
       "  3: {'accuracy': 0.5992675705158174, 'best_params': 5},\n",
       "  5: {'accuracy': 0.6247402597402598, 'best_params': 5}},\n",
       " RandomForestClassifier(max_depth=5, random_state=42))"
      ]
     },
     "execution_count": 9,
     "metadata": {},
     "output_type": "execute_result"
    }
   ],
   "source": [
    "evaluate_model(df, test_ratio = 0.15, k_values = [2, 3, 5], \n",
    "                   embedding = \"mbert\", model_type = \"random_forest\",\n",
    "                   C_values = [0.1, 1, 10], kernel_values = ['linear', 'rbf', 'poly'],\n",
    "                   max_depth_values = [5, 10, 15, 20, None],\n",
    "                   alpha_values = [0.01, 0.1, 0.5, 1.0, 2.0, 5.0, 10.0],\n",
    "                   fit_prior_values = [True, False],\n",
    "                   var_smoothing_values = [10**-11, 10**-10, 10**-9, 10**-8, 10**-7],\n",
    "                   pos = \"ngram\", ngram_size = 2)"
   ]
  },
  {
   "cell_type": "code",
   "execution_count": 10,
   "id": "593ea37e-589b-4bf3-8bcc-4de3550f0880",
   "metadata": {
    "scrolled": true
   },
   "outputs": [
    {
     "name": "stdout",
     "output_type": "stream",
     "text": [
      "\n",
      "Using BERTJE Embeddings (GroNLP/bert-base-dutch-cased)...\n"
     ]
    },
    {
     "name": "stderr",
     "output_type": "stream",
     "text": [
      "Some weights of BertModel were not initialized from the model checkpoint at GroNLP/bert-base-dutch-cased and are newly initialized: ['bert.pooler.dense.bias', 'bert.pooler.dense.weight']\n",
      "You should probably TRAIN this model on a down-stream task to be able to use it for predictions and inference.\n"
     ]
    },
    {
     "name": "stdout",
     "output_type": "stream",
     "text": [
      "\n",
      "Creating BERTje embedding, this may take a few minutes.\n",
      "Best svm Params for k=2: (10, 'poly'), Mean Validation Accuracy: 0.7979\n",
      "param_results: {(0.1, 'linear'): [0.7769784172661871, 0.7898550724637681], (0.1, 'rbf'): [0.3237410071942446, 0.32608695652173914], (0.1, 'poly'): [0.4244604316546763, 0.47101449275362317], (1, 'linear'): [0.7410071942446043, 0.8260869565217391], (1, 'rbf'): [0.4892086330935252, 0.5507246376811594], (1, 'poly'): [0.5179856115107914, 0.5797101449275363], (10, 'linear'): [0.7410071942446043, 0.8260869565217391], (10, 'rbf'): [0.7841726618705036, 0.8043478260869565], (10, 'poly'): [0.7913669064748201, 0.8043478260869565]}\n",
      "mean results: {(0.1, 'linear'): 0.7834167448649776, (0.1, 'rbf'): 0.32491398185799186, (0.1, 'poly'): 0.4477374622041497, (1, 'linear'): 0.7835470753831717, (1, 'rbf'): 0.5199666353873423, (1, 'poly'): 0.5488478782191638, (10, 'linear'): 0.7835470753831717, (10, 'rbf'): 0.7942602439787301, (10, 'poly'): 0.7978573662808883}\n",
      "best validation accuracy for K=2: 0.7978573662808883\n",
      "best functionwide validation accuracy: 0\n",
      "\n",
      "Best svm Params for k=3: (10, 'rbf'), Mean Validation Accuracy: 0.8014\n",
      "param_results: {(0.1, 'linear'): [0.8279569892473119, 0.7282608695652174, 0.8260869565217391], (0.1, 'rbf'): [0.3655913978494624, 0.44565217391304346, 0.32608695652173914], (0.1, 'poly'): [0.4838709677419355, 0.4673913043478261, 0.532608695652174], (1, 'linear'): [0.7956989247311828, 0.7282608695652174, 0.8369565217391305], (1, 'rbf'): [0.5053763440860215, 0.5108695652173914, 0.6521739130434783], (1, 'poly'): [0.5483870967741935, 0.5978260869565217, 0.6847826086956522], (10, 'linear'): [0.7956989247311828, 0.7282608695652174, 0.8369565217391305], (10, 'rbf'): [0.8172043010752689, 0.7608695652173914, 0.8260869565217391], (10, 'poly'): [0.8279569892473119, 0.7282608695652174, 0.8260869565217391]}\n",
      "mean results: {(0.1, 'linear'): 0.7941016051114228, (0.1, 'rbf'): 0.37911017609474834, (0.1, 'poly'): 0.4946236559139785, (1, 'linear'): 0.7869721053451769, (1, 'rbf'): 0.556139940782297, (1, 'poly'): 0.6103319308087891, (10, 'linear'): 0.7869721053451769, (10, 'rbf'): 0.8013869409381331, (10, 'poly'): 0.7941016051114228}\n",
      "best validation accuracy for K=3: 0.8013869409381331\n",
      "best functionwide validation accuracy: 0.7978573662808883\n",
      "\n",
      "Best svm Params for k=5: (10, 'poly'), Mean Validation Accuracy: 0.8047\n",
      "param_results: {(0.1, 'linear'): [0.8392857142857143, 0.7857142857142857, 0.7090909090909091, 0.8181818181818182, 0.8181818181818182], (0.1, 'rbf'): [0.4107142857142857, 0.375, 0.43636363636363634, 0.4909090909090909, 0.4], (0.1, 'poly'): [0.5357142857142857, 0.4107142857142857, 0.4909090909090909, 0.4727272727272727, 0.5818181818181818], (1, 'linear'): [0.7678571428571429, 0.875, 0.7454545454545455, 0.8, 0.8181818181818182], (1, 'rbf'): [0.6071428571428571, 0.42857142857142855, 0.5818181818181818, 0.6363636363636364, 0.6545454545454545], (1, 'poly'): [0.7321428571428571, 0.5357142857142857, 0.6545454545454545, 0.7272727272727273, 0.6909090909090909], (10, 'linear'): [0.7678571428571429, 0.875, 0.7454545454545455, 0.8, 0.8181818181818182], (10, 'rbf'): [0.8392857142857143, 0.8035714285714286, 0.7090909090909091, 0.8363636363636363, 0.8], (10, 'poly'): [0.8571428571428571, 0.8392857142857143, 0.6909090909090909, 0.8, 0.8363636363636363]}\n",
      "mean results: {(0.1, 'linear'): 0.7940909090909092, (0.1, 'rbf'): 0.42259740259740264, (0.1, 'poly'): 0.4983766233766234, (1, 'linear'): 0.8012987012987013, (1, 'rbf'): 0.5816883116883117, (1, 'poly'): 0.6681168831168831, (10, 'linear'): 0.8012987012987013, (10, 'rbf'): 0.7976623376623376, (10, 'poly'): 0.8047402597402596}\n",
      "best validation accuracy for K=5: 0.8047402597402596\n",
      "best functionwide validation accuracy: 0.8013869409381331\n",
      "\n",
      "\n",
      "Best model found: \n",
      "Model=svm, \n",
      "Parameter values: (10, 'poly'), \n",
      "Validation Accuracy: 0.8047\n",
      "Final Test Accuracy: 0.7959\n",
      "Class '0' Accuracy: 0.7500\n",
      "Class '1' Accuracy: 0.8667\n",
      "Class '2' Accuracy: 0.8182\n",
      "Class '3' Accuracy: 0.7143\n"
     ]
    },
    {
     "data": {
      "image/png": "[encoded data removed]",
      "text/plain": [
       "<Figure size 800x600 with 2 Axes>"
      ]
     },
     "metadata": {},
     "output_type": "display_data"
    },
    {
     "data": {
      "text/plain": [
       "({2: {'accuracy': 0.7978573662808883, 'best_params': (10, 'poly')},\n",
       "  3: {'accuracy': 0.8013869409381331, 'best_params': (10, 'rbf')},\n",
       "  5: {'accuracy': 0.8047402597402596, 'best_params': (10, 'poly')}},\n",
       " SVC(C=10, kernel='poly'))"
      ]
     },
     "execution_count": 10,
     "metadata": {},
     "output_type": "execute_result"
    }
   ],
   "source": [
    "evaluate_model(df, test_ratio = 0.15, k_values = [2, 3, 5], \n",
    "                   embedding = \"BERTje\", model_type = \"svm\",\n",
    "                   C_values = [0.1, 1, 10], kernel_values = ['linear', 'rbf', 'poly'],\n",
    "                   max_depth_values = [5, 10, 15, 20, None],\n",
    "                   alpha_values = [0.01, 0.1, 0.5, 1.0, 2.0, 5.0, 10.0],\n",
    "                   fit_prior_values = [True, False],\n",
    "                   var_smoothing_values = [10**-11, 10**-10, 10**-9, 10**-8, 10**-7],\n",
    "                   pos = \"none\", ngram_size = 2)"
   ]
  },
  {
   "cell_type": "code",
   "execution_count": 11,
   "id": "8a9f5f14-abea-4e15-9690-703a63f98f61",
   "metadata": {
    "scrolled": true
   },
   "outputs": [
    {
     "name": "stdout",
     "output_type": "stream",
     "text": [
      "\n",
      "Using Bag of Words (BoW) Embeddings...\n",
      "\n",
      "Using One-Hot Encoding for POS Tags...\n"
     ]
    },
    {
     "name": "stderr",
     "output_type": "stream",
     "text": [
      "C:\\Users\\20193204\\AppData\\Roaming\\Python\\Python310\\site-packages\\sklearn\\preprocessing\\_encoders.py:975: FutureWarning: `sparse` was renamed to `sparse_output` in version 1.2 and will be removed in 1.4. `sparse_output` is ignored unless you leave `sparse` to its default value.\n",
      "  warnings.warn(\n"
     ]
    },
    {
     "name": "stdout",
     "output_type": "stream",
     "text": [
      "Best svm Params for k=2: (0.1, 'linear'), Mean Validation Accuracy: 0.5488\n",
      "param_results: {(0.1, 'linear'): [0.5179856115107914, 0.5797101449275363], (0.1, 'rbf'): [0.3237410071942446, 0.32608695652173914], (0.1, 'poly'): [0.3597122302158273, 0.3333333333333333], (1, 'linear'): [0.5179856115107914, 0.5797101449275363], (1, 'rbf'): [0.43884892086330934, 0.5217391304347826], (1, 'poly'): [0.4028776978417266, 0.4492753623188406], (10, 'linear'): [0.5179856115107914, 0.5797101449275363], (10, 'rbf'): [0.4892086330935252, 0.5797101449275363], (10, 'poly'): [0.4316546762589928, 0.4927536231884058]}\n",
      "mean results: {(0.1, 'linear'): 0.5488478782191638, (0.1, 'rbf'): 0.32491398185799186, (0.1, 'poly'): 0.3465227817745803, (1, 'linear'): 0.5488478782191638, (1, 'rbf'): 0.480294025649046, (1, 'poly'): 0.42607653008028357, (10, 'linear'): 0.5488478782191638, (10, 'rbf'): 0.5344593890105307, (10, 'poly'): 0.4622041497236993}\n",
      "best validation accuracy for K=2: 0.5488478782191638\n",
      "best functionwide validation accuracy: 0\n",
      "\n",
      "Best svm Params for k=3: (0.1, 'linear'), Mean Validation Accuracy: 0.5923\n",
      "param_results: {(0.1, 'linear'): [0.5268817204301075, 0.5869565217391305, 0.6630434782608695], (0.1, 'rbf'): [0.3225806451612903, 0.32608695652173914, 0.32608695652173914], (0.1, 'poly'): [0.34408602150537637, 0.3695652173913043, 0.33695652173913043], (1, 'linear'): [0.5268817204301075, 0.5869565217391305, 0.6630434782608695], (1, 'rbf'): [0.44086021505376344, 0.44565217391304346, 0.5869565217391305], (1, 'poly'): [0.3763440860215054, 0.42391304347826086, 0.43478260869565216], (10, 'linear'): [0.5268817204301075, 0.5869565217391305, 0.6630434782608695], (10, 'rbf'): [0.5483870967741935, 0.5108695652173914, 0.6739130434782609], (10, 'poly'): [0.3978494623655914, 0.45652173913043476, 0.5652173913043478]}\n",
      "mean results: {(0.1, 'linear'): 0.5922939068100358, (0.1, 'rbf'): 0.32491818606825623, (0.1, 'poly'): 0.35020258687860367, (1, 'linear'): 0.5922939068100358, (1, 'rbf'): 0.49115630356864576, (1, 'poly'): 0.4116799127318061, (10, 'linear'): 0.5922939068100358, (10, 'rbf'): 0.5777232351566153, (10, 'poly'): 0.4731961976001246}\n",
      "best validation accuracy for K=3: 0.5922939068100358\n",
      "best functionwide validation accuracy: 0.5488478782191638\n",
      "\n",
      "Best svm Params for k=5: (0.1, 'linear'), Mean Validation Accuracy: 0.6068\n",
      "param_results: {(0.1, 'linear'): [0.6071428571428571, 0.5178571428571429, 0.6181818181818182, 0.6727272727272727, 0.6181818181818182], (0.1, 'rbf'): [0.32142857142857145, 0.39285714285714285, 0.4, 0.34545454545454546, 0.32727272727272727], (0.1, 'poly'): [0.3392857142857143, 0.375, 0.38181818181818183, 0.38181818181818183, 0.32727272727272727], (1, 'linear'): [0.6071428571428571, 0.5178571428571429, 0.6181818181818182, 0.6727272727272727, 0.6181818181818182], (1, 'rbf'): [0.5357142857142857, 0.4107142857142857, 0.509090909090909, 0.509090909090909, 0.6], (1, 'poly'): [0.35714285714285715, 0.375, 0.41818181818181815, 0.4727272727272727, 0.45454545454545453], (10, 'linear'): [0.6071428571428571, 0.5178571428571429, 0.6181818181818182, 0.6727272727272727, 0.6181818181818182], (10, 'rbf'): [0.6607142857142857, 0.48214285714285715, 0.4909090909090909, 0.6181818181818182, 0.6909090909090909], (10, 'poly'): [0.48214285714285715, 0.375, 0.5272727272727272, 0.4909090909090909, 0.5818181818181818]}\n",
      "mean results: {(0.1, 'linear'): 0.6068181818181818, (0.1, 'rbf'): 0.35740259740259744, (0.1, 'poly'): 0.36103896103896105, (1, 'linear'): 0.6068181818181818, (1, 'rbf'): 0.5129220779220779, (1, 'poly'): 0.4155194805194805, (10, 'linear'): 0.6068181818181818, (10, 'rbf'): 0.5885714285714285, (10, 'poly'): 0.49142857142857144}\n",
      "best validation accuracy for K=5: 0.6068181818181818\n",
      "best functionwide validation accuracy: 0.5922939068100358\n",
      "\n",
      "\n",
      "Best model found: \n",
      "Model=svm, \n",
      "Parameter values: (0.1, 'linear'), \n",
      "Validation Accuracy: 0.6068\n",
      "Final Test Accuracy: 0.5510\n",
      "Class '0' Accuracy: 0.6250\n",
      "Class '1' Accuracy: 0.8667\n",
      "Class '2' Accuracy: 0.2727\n",
      "Class '3' Accuracy: 0.1429\n"
     ]
    },
    {
     "data": {
      "image/png": "[encoded data removed]",
      "text/plain": [
       "<Figure size 800x600 with 2 Axes>"
      ]
     },
     "metadata": {},
     "output_type": "display_data"
    },
    {
     "data": {
      "text/plain": [
       "({2: {'accuracy': 0.5488478782191638, 'best_params': (0.1, 'linear')},\n",
       "  3: {'accuracy': 0.5922939068100358, 'best_params': (0.1, 'linear')},\n",
       "  5: {'accuracy': 0.6068181818181818, 'best_params': (0.1, 'linear')}},\n",
       " SVC(C=0.1, kernel='linear'))"
      ]
     },
     "execution_count": 11,
     "metadata": {},
     "output_type": "execute_result"
    }
   ],
   "source": [
    "evaluate_model(df, test_ratio = 0.15, k_values = [2, 3, 5], \n",
    "                   embedding = \"BoW\", model_type = \"svm\",\n",
    "                   C_values = [0.1, 1, 10], kernel_values = ['linear', 'rbf', 'poly'],\n",
    "                   max_depth_values = [5, 10, 15, 20, None],\n",
    "                   alpha_values = [0.01, 0.1, 0.5, 1.0, 2.0, 5.0, 10.0],\n",
    "                   fit_prior_values = [True, False],\n",
    "                   var_smoothing_values = [10**-11, 10**-10, 10**-9, 10**-8, 10**-7],\n",
    "                   pos = \"one-hot\", ngram_size = 2)"
   ]
  },
  {
   "cell_type": "code",
   "execution_count": 12,
   "id": "adfb0f54-7aca-41bd-ad44-c2e5c116d87e",
   "metadata": {
    "scrolled": true
   },
   "outputs": [
    {
     "name": "stdout",
     "output_type": "stream",
     "text": [
      "\n",
      "Using ROBBERT Embeddings (pdelobelle/robbert-v2-dutch-base)...\n"
     ]
    },
    {
     "name": "stderr",
     "output_type": "stream",
     "text": [
      "Some weights of RobertaModel were not initialized from the model checkpoint at pdelobelle/robbert-v2-dutch-base and are newly initialized: ['roberta.pooler.dense.bias', 'roberta.pooler.dense.weight']\n",
      "You should probably TRAIN this model on a down-stream task to be able to use it for predictions and inference.\n"
     ]
    },
    {
     "name": "stdout",
     "output_type": "stream",
     "text": [
      "\n",
      "Creating robBERT embedding, this may take a few minutes.\n",
      "\n",
      "Using N-gram POS Features (n=2)...\n",
      "Best svm Params for k=2: (1, 'linear'), Mean Validation Accuracy: 0.7942\n",
      "param_results: {(0.1, 'linear'): [0.6402877697841727, 0.7463768115942029], (0.1, 'rbf'): [0.3237410071942446, 0.32608695652173914], (0.1, 'poly'): [0.39568345323741005, 0.37681159420289856], (1, 'linear'): [0.7985611510791367, 0.7898550724637681], (1, 'rbf'): [0.4460431654676259, 0.47101449275362317], (1, 'poly'): [0.4460431654676259, 0.4927536231884058], (10, 'linear'): [0.7841726618705036, 0.7898550724637681], (10, 'rbf'): [0.5467625899280576, 0.7318840579710145], (10, 'poly'): [0.5899280575539568, 0.717391304347826]}\n",
      "mean results: {(0.1, 'linear'): 0.6933322906891878, (0.1, 'rbf'): 0.32491398185799186, (0.1, 'poly'): 0.3862475237201543, (1, 'linear'): 0.7942081117714523, (1, 'rbf'): 0.45852882911062454, (1, 'poly'): 0.4693983943280159, (10, 'linear'): 0.7870138671671358, (10, 'rbf'): 0.6393233239495361, (10, 'poly'): 0.6536596809508914}\n",
      "best validation accuracy for K=2: 0.7942081117714523\n",
      "best functionwide validation accuracy: 0\n",
      "\n",
      "Best svm Params for k=3: (10, 'linear'), Mean Validation Accuracy: 0.7689\n",
      "param_results: {(0.1, 'linear'): [0.6989247311827957, 0.717391304347826, 0.7934782608695652], (0.1, 'rbf'): [0.3225806451612903, 0.32608695652173914, 0.32608695652173914], (0.1, 'poly'): [0.44086021505376344, 0.42391304347826086, 0.5108695652173914], (1, 'linear'): [0.8172043010752689, 0.7391304347826086, 0.7391304347826086], (1, 'rbf'): [0.44086021505376344, 0.42391304347826086, 0.5217391304347826], (1, 'poly'): [0.44086021505376344, 0.42391304347826086, 0.532608695652174], (10, 'linear'): [0.7956989247311828, 0.7608695652173914, 0.75], (10, 'rbf'): [0.6881720430107527, 0.7282608695652174, 0.782608695652174], (10, 'poly'): [0.7204301075268817, 0.7065217391304348, 0.7717391304347826]}\n",
      "mean results: {(0.1, 'linear'): 0.7365980988000622, (0.1, 'rbf'): 0.32491818606825623, (0.1, 'poly'): 0.45854760791647187, (1, 'linear'): 0.7651550568801619, (1, 'rbf'): 0.462170796322269, (1, 'poly'): 0.46579398472806605, (10, 'linear'): 0.7688561633161913, (10, 'rbf'): 0.7330138694093814, (10, 'poly'): 0.732896992364033}\n",
      "best validation accuracy for K=3: 0.7688561633161913\n",
      "best functionwide validation accuracy: 0.7942081117714523\n",
      "\n",
      "Best svm Params for k=5: (1, 'linear'), Mean Validation Accuracy: 0.7940\n",
      "param_results: {(0.1, 'linear'): [0.8214285714285714, 0.6964285714285714, 0.7090909090909091, 0.7636363636363637, 0.7636363636363637], (0.1, 'rbf'): [0.32142857142857145, 0.32142857142857145, 0.32727272727272727, 0.32727272727272727, 0.32727272727272727], (0.1, 'poly'): [0.5178571428571429, 0.35714285714285715, 0.45454545454545453, 0.4727272727272727, 0.5818181818181818], (1, 'linear'): [0.8214285714285714, 0.8214285714285714, 0.8, 0.8181818181818182, 0.7090909090909091], (1, 'rbf'): [0.5357142857142857, 0.32142857142857145, 0.4909090909090909, 0.43636363636363634, 0.5636363636363636], (1, 'poly'): [0.5357142857142857, 0.3392857142857143, 0.4909090909090909, 0.45454545454545453, 0.5818181818181818], (10, 'linear'): [0.8214285714285714, 0.8214285714285714, 0.7818181818181819, 0.8181818181818182, 0.7090909090909091], (10, 'rbf'): [0.75, 0.6964285714285714, 0.7090909090909091, 0.8, 0.7454545454545455], (10, 'poly'): [0.8214285714285714, 0.6964285714285714, 0.7454545454545455, 0.8, 0.7454545454545455]}\n",
      "mean results: {(0.1, 'linear'): 0.7508441558441559, (0.1, 'rbf'): 0.32493506493506497, (0.1, 'poly'): 0.47681818181818175, (1, 'linear'): 0.7940259740259741, (1, 'rbf'): 0.4696103896103896, (1, 'poly'): 0.48045454545454547, (10, 'linear'): 0.7903896103896104, (10, 'rbf'): 0.7401948051948053, (10, 'poly'): 0.7617532467532467}\n",
      "best validation accuracy for K=5: 0.7940259740259741\n",
      "best functionwide validation accuracy: 0.7942081117714523\n",
      "\n",
      "\n",
      "Best model found: \n",
      "Model=svm, \n",
      "Parameter values: (1, 'linear'), \n",
      "Validation Accuracy: 0.7942\n",
      "Final Test Accuracy: 0.7755\n",
      "Class '0' Accuracy: 0.8750\n",
      "Class '1' Accuracy: 0.8667\n",
      "Class '2' Accuracy: 0.6364\n",
      "Class '3' Accuracy: 0.5714\n"
     ]
    },
    {
     "data": {
      "image/png": "[encoded data removed]",
      "text/plain": [
       "<Figure size 800x600 with 2 Axes>"
      ]
     },
     "metadata": {},
     "output_type": "display_data"
    },
    {
     "data": {
      "text/plain": [
       "({2: {'accuracy': 0.7942081117714523, 'best_params': (1, 'linear')},\n",
       "  3: {'accuracy': 0.7688561633161913, 'best_params': (10, 'linear')},\n",
       "  5: {'accuracy': 0.7940259740259741, 'best_params': (1, 'linear')}},\n",
       " SVC(C=1, kernel='linear'))"
      ]
     },
     "execution_count": 12,
     "metadata": {},
     "output_type": "execute_result"
    }
   ],
   "source": [
    "evaluate_model(df, test_ratio = 0.15, k_values = [2, 3, 5], \n",
    "                   embedding = \"robBERT\", model_type = \"svm\",\n",
    "                   C_values = [0.1, 1, 10], kernel_values = ['linear', 'rbf', 'poly'],\n",
    "                   max_depth_values = [5, 10, 15, 20, None],\n",
    "                   alpha_values = [0.01, 0.1, 0.5, 1.0, 2.0, 5.0, 10.0],\n",
    "                   fit_prior_values = [True, False],\n",
    "                   var_smoothing_values = [10**-11, 10**-10, 10**-9, 10**-8, 10**-7],\n",
    "                   pos = \"ngram\", ngram_size = 2)"
   ]
  },
  {
   "cell_type": "code",
   "execution_count": 13,
   "id": "6f2576a7-c632-4f37-b94d-5f0c0f4f1363",
   "metadata": {
    "scrolled": true
   },
   "outputs": [
    {
     "name": "stdout",
     "output_type": "stream",
     "text": [
      "\n",
      "Using TF-IDF Embeddings...\n",
      "Best naive_bayes Params for k=2: (0.01, True), Mean Validation Accuracy: 0.8735\n",
      "param_results: {(0.01, True): [0.9064748201438849, 0.8405797101449275], (0.01, False): [0.8705035971223022, 0.8260869565217391], (0.1, True): [0.8705035971223022, 0.8478260869565217], (0.1, False): [0.8848920863309353, 0.8478260869565217], (0.5, True): [0.6762589928057554, 0.6666666666666666], (0.5, False): [0.841726618705036, 0.8333333333333334], (1.0, True): [0.6187050359712231, 0.6014492753623188], (1.0, False): [0.7913669064748201, 0.782608695652174], (2.0, True): [0.6115107913669064, 0.5942028985507246], (2.0, False): [0.7338129496402878, 0.7246376811594203], (5.0, True): [0.60431654676259, 0.6014492753623188], (5.0, False): [0.6187050359712231, 0.6521739130434783], (10.0, True): [0.5971223021582733, 0.5942028985507246], (10.0, False): [0.539568345323741, 0.6014492753623188]}\n",
      "mean results: {(0.01, True): 0.8735272651444062, (0.01, False): 0.8482952768220207, (0.1, True): 0.859164842039412, (0.1, False): 0.8663590866437285, (0.5, True): 0.6714628297362111, (0.5, False): 0.8375299760191847, (1.0, True): 0.610077155666771, (1.0, False): 0.786987801063497, (2.0, True): 0.6028568449588155, (2.0, False): 0.729225315399854, (5.0, True): 0.6028829110624544, (5.0, False): 0.6354394745073506, (10.0, True): 0.5956626003544989, (10.0, False): 0.5705088103430299}\n",
      "best validation accuracy for K=2: 0.8735272651444062\n",
      "best functionwide validation accuracy: 0\n",
      "\n",
      "Best naive_bayes Params for k=3: (0.1, True), Mean Validation Accuracy: 0.9024\n",
      "param_results: {(0.01, True): [0.9354838709677419, 0.8478260869565217, 0.8804347826086957], (0.01, False): [0.8924731182795699, 0.8152173913043478, 0.8478260869565217], (0.1, True): [0.946236559139785, 0.9130434782608695, 0.8478260869565217], (0.1, False): [0.9354838709677419, 0.8804347826086957, 0.8804347826086957], (0.5, True): [0.7419354838709677, 0.7391304347826086, 0.7065217391304348], (0.5, False): [0.9354838709677419, 0.8586956521739131, 0.8478260869565217], (1.0, True): [0.6236559139784946, 0.6304347826086957, 0.6086956521739131], (1.0, False): [0.8602150537634409, 0.8152173913043478, 0.8478260869565217], (2.0, True): [0.6129032258064516, 0.6086956521739131, 0.6086956521739131], (2.0, False): [0.8064516129032258, 0.7608695652173914, 0.7934782608695652], (5.0, True): [0.6021505376344086, 0.6086956521739131, 0.6086956521739131], (5.0, False): [0.7096774193548387, 0.6521739130434783, 0.717391304347826], (10.0, True): [0.6021505376344086, 0.5869565217391305, 0.5978260869565217], (10.0, False): [0.6344086021505376, 0.5652173913043478, 0.6304347826086957]}\n",
      "mean results: {(0.01, True): 0.8879149135109864, (0.01, False): 0.8518388655134798, (0.1, True): 0.9023687081190589, (0.1, False): 0.8987844787283777, (0.5, True): 0.7291958859280037, (0.5, False): 0.8806685366993922, (1.0, True): 0.6209287829203678, (1.0, False): 0.8410861773414368, (2.0, True): 0.6100981767180925, (2.0, False): 0.7869331463300607, (5.0, True): 0.6065139473274116, (5.0, False): 0.6930808789153811, (10.0, True): 0.5956443821100202, (10.0, False): 0.6100202586878604}\n",
      "best validation accuracy for K=3: 0.9023687081190589\n",
      "best functionwide validation accuracy: 0.8735272651444062\n",
      "\n",
      "Best naive_bayes Params for k=5: (0.1, True), Mean Validation Accuracy: 0.8914\n",
      "param_results: {(0.01, True): [0.9107142857142857, 0.9107142857142857, 0.8363636363636363, 0.8727272727272727, 0.8909090909090909], (0.01, False): [0.9285714285714286, 0.9107142857142857, 0.8181818181818182, 0.8545454545454545, 0.8727272727272727], (0.1, True): [0.9285714285714286, 0.9285714285714286, 0.8545454545454545, 0.9090909090909091, 0.8363636363636363], (0.1, False): [0.9107142857142857, 0.9107142857142857, 0.8181818181818182, 0.8727272727272727, 0.8727272727272727], (0.5, True): [0.7857142857142857, 0.75, 0.7636363636363637, 0.8, 0.6727272727272727], (0.5, False): [0.9464285714285714, 0.8928571428571429, 0.8181818181818182, 0.9090909090909091, 0.8181818181818182], (1.0, True): [0.6785714285714286, 0.6607142857142857, 0.6363636363636364, 0.6545454545454545, 0.6], (1.0, False): [0.875, 0.875, 0.7454545454545455, 0.8909090909090909, 0.7818181818181819], (2.0, True): [0.625, 0.625, 0.5636363636363636, 0.6363636363636364, 0.5818181818181818], (2.0, False): [0.8392857142857143, 0.7857142857142857, 0.7454545454545455, 0.8545454545454545, 0.7454545454545455], (5.0, True): [0.625, 0.6071428571428571, 0.5636363636363636, 0.6363636363636364, 0.5818181818181818], (5.0, False): [0.7678571428571429, 0.6964285714285714, 0.6727272727272727, 0.7272727272727273, 0.6909090909090909], (10.0, True): [0.625, 0.6071428571428571, 0.5818181818181818, 0.6181818181818182, 0.5818181818181818], (10.0, False): [0.625, 0.5714285714285714, 0.6181818181818182, 0.6181818181818182, 0.6545454545454545]}\n",
      "mean results: {(0.01, True): 0.8842857142857141, (0.01, False): 0.876948051948052, (0.1, True): 0.8914285714285715, (0.1, False): 0.8770129870129869, (0.5, True): 0.7544155844155844, (0.5, False): 0.876948051948052, (1.0, True): 0.6460389610389611, (1.0, False): 0.8336363636363637, (2.0, True): 0.6063636363636362, (2.0, False): 0.7940909090909092, (5.0, True): 0.6027922077922078, (5.0, False): 0.7110389610389611, (10.0, True): 0.6027922077922078, (10.0, False): 0.6174675324675324}\n",
      "best validation accuracy for K=5: 0.8914285714285715\n",
      "best functionwide validation accuracy: 0.9023687081190589\n",
      "\n",
      "\n",
      "Best model found: \n",
      "Model=naive_bayes, \n",
      "Parameter values: (0.1, True), \n",
      "Validation Accuracy: 0.9024\n",
      "Final Test Accuracy: 0.7959\n",
      "Class '0' Accuracy: 0.9375\n",
      "Class '1' Accuracy: 0.8667\n",
      "Class '2' Accuracy: 0.6364\n",
      "Class '3' Accuracy: 0.5714\n"
     ]
    },
    {
     "data": {
      "image/png": "[encoded data removed]",
      "text/plain": [
       "<Figure size 800x600 with 2 Axes>"
      ]
     },
     "metadata": {},
     "output_type": "display_data"
    },
    {
     "data": {
      "text/plain": [
       "({2: {'accuracy': 0.8735272651444062, 'best_params': (0.01, True)},\n",
       "  3: {'accuracy': 0.9023687081190589, 'best_params': (0.1, True)},\n",
       "  5: {'accuracy': 0.8914285714285715, 'best_params': (0.1, True)}},\n",
       " MultinomialNB(alpha=0.1))"
      ]
     },
     "execution_count": 13,
     "metadata": {},
     "output_type": "execute_result"
    }
   ],
   "source": [
    "evaluate_model(df, test_ratio = 0.15, k_values = [2, 3, 5], \n",
    "                   embedding = \"tf-idf\", model_type = \"naive_bayes\",\n",
    "                   C_values = [0.1, 1, 10], kernel_values = ['linear', 'rbf', 'poly'],\n",
    "                   max_depth_values = [5, 10, 15, 20, None],\n",
    "                   alpha_values = [0.01, 0.1, 0.5, 1.0, 2.0, 5.0, 10.0],\n",
    "                   fit_prior_values = [True, False],\n",
    "                   var_smoothing_values = [10**-11, 10**-10, 10**-9, 10**-8, 10**-7],\n",
    "                   pos = \"none\", ngram_size = 2)"
   ]
  },
  {
   "cell_type": "code",
   "execution_count": 14,
   "id": "a3fa4f8c-a329-475f-9091-1ed0077ef729",
   "metadata": {
    "scrolled": true
   },
   "outputs": [
    {
     "name": "stdout",
     "output_type": "stream",
     "text": [
      "\n",
      "Using TF-IDF Embeddings...\n",
      "Best naive_bayes Params for k=2: (0.01, True), Mean Validation Accuracy: 0.8735\n",
      "param_results: {(0.01, True): [0.9064748201438849, 0.8405797101449275], (0.01, False): [0.8705035971223022, 0.8260869565217391], (0.1, True): [0.8705035971223022, 0.8478260869565217], (0.1, False): [0.8848920863309353, 0.8478260869565217], (0.5, True): [0.6762589928057554, 0.6666666666666666], (0.5, False): [0.841726618705036, 0.8333333333333334], (1.0, True): [0.6187050359712231, 0.6014492753623188], (1.0, False): [0.7913669064748201, 0.782608695652174], (2.0, True): [0.6115107913669064, 0.5942028985507246], (2.0, False): [0.7338129496402878, 0.7246376811594203], (5.0, True): [0.60431654676259, 0.6014492753623188], (5.0, False): [0.6187050359712231, 0.6521739130434783], (10.0, True): [0.5971223021582733, 0.5942028985507246], (10.0, False): [0.539568345323741, 0.6014492753623188]}\n",
      "mean results: {(0.01, True): 0.8735272651444062, (0.01, False): 0.8482952768220207, (0.1, True): 0.859164842039412, (0.1, False): 0.8663590866437285, (0.5, True): 0.6714628297362111, (0.5, False): 0.8375299760191847, (1.0, True): 0.610077155666771, (1.0, False): 0.786987801063497, (2.0, True): 0.6028568449588155, (2.0, False): 0.729225315399854, (5.0, True): 0.6028829110624544, (5.0, False): 0.6354394745073506, (10.0, True): 0.5956626003544989, (10.0, False): 0.5705088103430299}\n",
      "best validation accuracy for K=2: 0.8735272651444062\n",
      "best functionwide validation accuracy: 0\n",
      "\n",
      "Best naive_bayes Params for k=3: (0.1, True), Mean Validation Accuracy: 0.9024\n",
      "param_results: {(0.01, True): [0.9354838709677419, 0.8478260869565217, 0.8804347826086957], (0.01, False): [0.8924731182795699, 0.8152173913043478, 0.8478260869565217], (0.1, True): [0.946236559139785, 0.9130434782608695, 0.8478260869565217], (0.1, False): [0.9354838709677419, 0.8804347826086957, 0.8804347826086957], (0.5, True): [0.7419354838709677, 0.7391304347826086, 0.7065217391304348], (0.5, False): [0.9354838709677419, 0.8586956521739131, 0.8478260869565217], (1.0, True): [0.6236559139784946, 0.6304347826086957, 0.6086956521739131], (1.0, False): [0.8602150537634409, 0.8152173913043478, 0.8478260869565217], (2.0, True): [0.6129032258064516, 0.6086956521739131, 0.6086956521739131], (2.0, False): [0.8064516129032258, 0.7608695652173914, 0.7934782608695652], (5.0, True): [0.6021505376344086, 0.6086956521739131, 0.6086956521739131], (5.0, False): [0.7096774193548387, 0.6521739130434783, 0.717391304347826], (10.0, True): [0.6021505376344086, 0.5869565217391305, 0.5978260869565217], (10.0, False): [0.6344086021505376, 0.5652173913043478, 0.6304347826086957]}\n",
      "mean results: {(0.01, True): 0.8879149135109864, (0.01, False): 0.8518388655134798, (0.1, True): 0.9023687081190589, (0.1, False): 0.8987844787283777, (0.5, True): 0.7291958859280037, (0.5, False): 0.8806685366993922, (1.0, True): 0.6209287829203678, (1.0, False): 0.8410861773414368, (2.0, True): 0.6100981767180925, (2.0, False): 0.7869331463300607, (5.0, True): 0.6065139473274116, (5.0, False): 0.6930808789153811, (10.0, True): 0.5956443821100202, (10.0, False): 0.6100202586878604}\n",
      "best validation accuracy for K=3: 0.9023687081190589\n",
      "best functionwide validation accuracy: 0.8735272651444062\n",
      "\n",
      "Best naive_bayes Params for k=5: (0.1, True), Mean Validation Accuracy: 0.8914\n",
      "param_results: {(0.01, True): [0.9107142857142857, 0.9107142857142857, 0.8363636363636363, 0.8727272727272727, 0.8909090909090909], (0.01, False): [0.9285714285714286, 0.9107142857142857, 0.8181818181818182, 0.8545454545454545, 0.8727272727272727], (0.1, True): [0.9285714285714286, 0.9285714285714286, 0.8545454545454545, 0.9090909090909091, 0.8363636363636363], (0.1, False): [0.9107142857142857, 0.9107142857142857, 0.8181818181818182, 0.8727272727272727, 0.8727272727272727], (0.5, True): [0.7857142857142857, 0.75, 0.7636363636363637, 0.8, 0.6727272727272727], (0.5, False): [0.9464285714285714, 0.8928571428571429, 0.8181818181818182, 0.9090909090909091, 0.8181818181818182], (1.0, True): [0.6785714285714286, 0.6607142857142857, 0.6363636363636364, 0.6545454545454545, 0.6], (1.0, False): [0.875, 0.875, 0.7454545454545455, 0.8909090909090909, 0.7818181818181819], (2.0, True): [0.625, 0.625, 0.5636363636363636, 0.6363636363636364, 0.5818181818181818], (2.0, False): [0.8392857142857143, 0.7857142857142857, 0.7454545454545455, 0.8545454545454545, 0.7454545454545455], (5.0, True): [0.625, 0.6071428571428571, 0.5636363636363636, 0.6363636363636364, 0.5818181818181818], (5.0, False): [0.7678571428571429, 0.6964285714285714, 0.6727272727272727, 0.7272727272727273, 0.6909090909090909], (10.0, True): [0.625, 0.6071428571428571, 0.5818181818181818, 0.6181818181818182, 0.5818181818181818], (10.0, False): [0.625, 0.5714285714285714, 0.6181818181818182, 0.6181818181818182, 0.6545454545454545]}\n",
      "mean results: {(0.01, True): 0.8842857142857141, (0.01, False): 0.876948051948052, (0.1, True): 0.8914285714285715, (0.1, False): 0.8770129870129869, (0.5, True): 0.7544155844155844, (0.5, False): 0.876948051948052, (1.0, True): 0.6460389610389611, (1.0, False): 0.8336363636363637, (2.0, True): 0.6063636363636362, (2.0, False): 0.7940909090909092, (5.0, True): 0.6027922077922078, (5.0, False): 0.7110389610389611, (10.0, True): 0.6027922077922078, (10.0, False): 0.6174675324675324}\n",
      "best validation accuracy for K=5: 0.8914285714285715\n",
      "best functionwide validation accuracy: 0.9023687081190589\n",
      "\n",
      "\n",
      "Best model found: \n",
      "Model=naive_bayes, \n",
      "Parameter values: (0.1, True), \n",
      "Validation Accuracy: 0.9024\n",
      "Final Test Accuracy: 0.7959\n",
      "Class '0' Accuracy: 0.9375\n",
      "Class '1' Accuracy: 0.8667\n",
      "Class '2' Accuracy: 0.6364\n",
      "Class '3' Accuracy: 0.5714\n"
     ]
    },
    {
     "data": {
      "image/png": "[encoded data removed]",
      "text/plain": [
       "<Figure size 800x600 with 2 Axes>"
      ]
     },
     "metadata": {},
     "output_type": "display_data"
    },
    {
     "data": {
      "text/plain": [
       "({2: {'accuracy': 0.8735272651444062, 'best_params': (0.01, True)},\n",
       "  3: {'accuracy': 0.9023687081190589, 'best_params': (0.1, True)},\n",
       "  5: {'accuracy': 0.8914285714285715, 'best_params': (0.1, True)}},\n",
       " MultinomialNB(alpha=0.1))"
      ]
     },
     "execution_count": 14,
     "metadata": {},
     "output_type": "execute_result"
    }
   ],
   "source": [
    "evaluate_model(df, test_ratio = 0.15, k_values = [2, 3, 5], \n",
    "                   embedding = \"tf-idf\", model_type = \"naive_bayes\",\n",
    "                   C_values = [0.1, 1, 10], kernel_values = ['linear', 'rbf', 'poly'],\n",
    "                   max_depth_values = [5, 10, 15, 20, None],\n",
    "                   alpha_values = [0.01, 0.1, 0.5, 1.0, 2.0, 5.0, 10.0],\n",
    "                   fit_prior_values = [True, False],\n",
    "                   var_smoothing_values = [10**-11, 10**-10, 10**-9, 10**-8, 10**-7],\n",
    "                   pos = \"none\", ngram_size = 2)"
   ]
  },
  {
   "cell_type": "code",
   "execution_count": 15,
   "id": "73858ac7-b747-47f0-a9f8-a5e447086153",
   "metadata": {
    "scrolled": true
   },
   "outputs": [
    {
     "name": "stdout",
     "output_type": "stream",
     "text": [
      "\n",
      "Using Bag of Words (BoW) Embeddings...\n",
      "\n",
      "Using N-gram POS Features (n=2)...\n",
      "Best naive_bayes Params for k=2: 1e-11, Mean Validation Accuracy: 0.8122\n",
      "param_results: {1e-11: [0.8345323741007195, 0.7898550724637681], 1e-10: [0.8345323741007195, 0.7898550724637681], 1e-09: [0.8345323741007195, 0.7898550724637681], 1e-08: [0.8345323741007195, 0.7898550724637681], 1e-07: [0.8345323741007195, 0.7898550724637681]}\n",
      "mean results: {1e-11: 0.8121937232822438, 1e-10: 0.8121937232822438, 1e-09: 0.8121937232822438, 1e-08: 0.8121937232822438, 1e-07: 0.8121937232822438}\n",
      "best validation accuracy for K=2: 0.8121937232822438\n",
      "best functionwide validation accuracy: 0\n",
      "\n",
      "Best naive_bayes Params for k=3: 1e-07, Mean Validation Accuracy: 0.8627\n",
      "param_results: {1e-11: [0.9032258064516129, 0.8369565217391305, 0.8369565217391305], 1e-10: [0.9032258064516129, 0.8369565217391305, 0.8369565217391305], 1e-09: [0.9032258064516129, 0.8369565217391305, 0.8369565217391305], 1e-08: [0.9032258064516129, 0.8369565217391305, 0.8369565217391305], 1e-07: [0.9032258064516129, 0.8478260869565217, 0.8369565217391305]}\n",
      "mean results: {1e-11: 0.8590462833099579, 1e-10: 0.8590462833099579, 1e-09: 0.8590462833099579, 1e-08: 0.8590462833099579, 1e-07: 0.8626694717157549}\n",
      "best validation accuracy for K=3: 0.8626694717157549\n",
      "best functionwide validation accuracy: 0.8121937232822438\n",
      "\n",
      "Best naive_bayes Params for k=5: 1e-11, Mean Validation Accuracy: 0.8553\n",
      "param_results: {1e-11: [0.9107142857142857, 0.875, 0.8181818181818182, 0.8363636363636363, 0.8363636363636363], 1e-10: [0.9107142857142857, 0.875, 0.8181818181818182, 0.8363636363636363, 0.8363636363636363], 1e-09: [0.9107142857142857, 0.875, 0.8181818181818182, 0.8363636363636363, 0.8363636363636363], 1e-08: [0.9107142857142857, 0.875, 0.8181818181818182, 0.8363636363636363, 0.8363636363636363], 1e-07: [0.9107142857142857, 0.875, 0.8181818181818182, 0.8363636363636363, 0.8363636363636363]}\n",
      "mean results: {1e-11: 0.8553246753246754, 1e-10: 0.8553246753246754, 1e-09: 0.8553246753246754, 1e-08: 0.8553246753246754, 1e-07: 0.8553246753246754}\n",
      "best validation accuracy for K=5: 0.8553246753246754\n",
      "best functionwide validation accuracy: 0.8626694717157549\n",
      "\n",
      "\n",
      "Best model found: \n",
      "Model=naive_bayes, \n",
      "Parameter values: 1e-11, \n",
      "Validation Accuracy: 0.8627\n",
      "Final Test Accuracy: 0.8163\n",
      "Class '0' Accuracy: 0.8750\n",
      "Class '1' Accuracy: 0.9333\n",
      "Class '2' Accuracy: 0.7273\n",
      "Class '3' Accuracy: 0.5714\n"
     ]
    },
    {
     "data": {
      "image/png": "[encoded data removed]",
      "text/plain": [
       "<Figure size 800x600 with 2 Axes>"
      ]
     },
     "metadata": {},
     "output_type": "display_data"
    },
    {
     "data": {
      "text/plain": [
       "({2: {'accuracy': 0.8121937232822438, 'best_params': 1e-11},\n",
       "  3: {'accuracy': 0.8626694717157549, 'best_params': 1e-07},\n",
       "  5: {'accuracy': 0.8553246753246754, 'best_params': 1e-11}},\n",
       " GaussianNB(var_smoothing=1e-07))"
      ]
     },
     "execution_count": 15,
     "metadata": {},
     "output_type": "execute_result"
    }
   ],
   "source": [
    "evaluate_model(df, test_ratio = 0.15, k_values = [2, 3, 5], \n",
    "                   embedding = \"BoW\", model_type = \"naive_bayes\",\n",
    "                   C_values = [0.1, 1, 10], kernel_values = ['linear', 'rbf', 'poly'],\n",
    "                   max_depth_values = [5, 10, 15, 20, None],\n",
    "                   alpha_values = [0.01, 0.1, 0.5, 1.0, 2.0, 5.0, 10.0],\n",
    "                   fit_prior_values = [True, False],\n",
    "                   var_smoothing_values = [10**-11, 10**-10, 10**-9, 10**-8, 10**-7],\n",
    "                   pos = \"ngram\", ngram_size = 2)"
   ]
  },
  {
   "cell_type": "code",
   "execution_count": null,
   "id": "d4a52df0-8bbf-496d-ae72-22c8305b8c12",
   "metadata": {},
   "outputs": [],
   "source": [
    "# To Do:\n",
    "\n",
    "# -Add some print statements to show the model chosen en parameters, especially for Gaussian- of Multinomial Naive Bayes\n",
    "# -Print update of best model after every k\n",
    "# -Clean Code and add/remove/update comments where needed\n",
    "# -Return actual model and validation accuracy such that we can visualize the results in confusion matrices\n",
    "# -If 2 classes too close in likelihood or no class likelihood exceeds threshold, then say class 5"
   ]
  },
  {
   "cell_type": "markdown",
   "id": "d6c0e4d6-b432-474b-9dc6-c849606fb3e4",
   "metadata": {},
   "source": [
    "# Finding the best model"
   ]
  },
  {
   "cell_type": "markdown",
   "id": "e7f21a1a-684a-4858-bffc-635d70fde24e",
   "metadata": {},
   "source": [
    "Our goal is to find the classifier with the highest validation accuracy for each model type"
   ]
  },
  {
   "cell_type": "code",
   "execution_count": 16,
   "id": "2f75715a-e332-4874-b594-16a7d501c90f",
   "metadata": {},
   "outputs": [],
   "source": [
    "# Ignore all warnings since they cause problems for te progress bars\n",
    "warnings.simplefilter(\"ignore\")"
   ]
  },
  {
   "cell_type": "code",
   "execution_count": 17,
   "id": "459a5987-e39d-4f54-97e3-5d9a824a7dbe",
   "metadata": {},
   "outputs": [
    {
     "name": "stderr",
     "output_type": "stream",
     "text": [
      "Progress:   0%|                                                                          | 0/30 [00:00<?, ?iteration/s]"
     ]
    },
    {
     "name": "stdout",
     "output_type": "stream",
     "text": [
      "\n",
      "testing for embedding=BoW, pos=none, n=2\n"
     ]
    },
    {
     "name": "stderr",
     "output_type": "stream",
     "text": [
      "Progress:   3%|██▏                                                               | 1/30 [00:21<10:28, 21.67s/iteration]"
     ]
    },
    {
     "name": "stdout",
     "output_type": "stream",
     "text": [
      "Maximum validation accuracy this iteration: 0.8333333333333334\n",
      "Best validaton accuracy increased from -inf to 0.8333333333333334 with params BoW, none, (10, 'rbf').\n",
      "\n",
      "testing for embedding=BoW, pos=one-hot, n=2\n"
     ]
    },
    {
     "name": "stderr",
     "output_type": "stream",
     "text": [
      "Progress:   7%|████▍                                                             | 2/30 [00:59<14:35, 31.26s/iteration]"
     ]
    },
    {
     "name": "stdout",
     "output_type": "stream",
     "text": [
      "Maximum validation accuracy this iteration: 0.6666666666666666\n",
      "\n",
      "testing for embedding=BoW, pos=ngram, n=2\n"
     ]
    },
    {
     "name": "stderr",
     "output_type": "stream",
     "text": [
      "Progress:  10%|██████▌                                                           | 3/30 [01:29<13:47, 30.63s/iteration]"
     ]
    },
    {
     "name": "stdout",
     "output_type": "stream",
     "text": [
      "Maximum validation accuracy this iteration: 0.8333333333333334\n",
      "\n",
      "testing for embedding=BoW, pos=ngram, n=3\n"
     ]
    },
    {
     "name": "stderr",
     "output_type": "stream",
     "text": [
      "Progress:  13%|████████▊                                                         | 4/30 [02:08<14:40, 33.87s/iteration]"
     ]
    },
    {
     "name": "stdout",
     "output_type": "stream",
     "text": [
      "Maximum validation accuracy this iteration: 0.8095238095238095\n",
      "\n",
      "testing for embedding=BoW, pos=ngram, n=5\n"
     ]
    },
    {
     "name": "stderr",
     "output_type": "stream",
     "text": [
      "Progress:  17%|███████████                                                       | 5/30 [02:43<14:14, 34.16s/iteration]"
     ]
    },
    {
     "name": "stdout",
     "output_type": "stream",
     "text": [
      "Maximum validation accuracy this iteration: 0.8095238095238095\n",
      "\n",
      "testing for embedding=tf-idf, pos=none, n=2\n"
     ]
    },
    {
     "name": "stderr",
     "output_type": "stream",
     "text": [
      "Progress:  20%|█████████████▏                                                    | 6/30 [03:06<12:12, 30.51s/iteration]"
     ]
    },
    {
     "name": "stdout",
     "output_type": "stream",
     "text": [
      "Maximum validation accuracy this iteration: 0.8793956043956044\n",
      "Best validaton accuracy increased from 0.8333333333333334 to 0.8793956043956044 with params tf-idf, none, (10, 'linear').\n",
      "\n",
      "testing for embedding=tf-idf, pos=one-hot, n=2\n"
     ]
    },
    {
     "name": "stderr",
     "output_type": "stream",
     "text": [
      "Progress:  23%|███████████████▍                                                  | 7/30 [03:44<12:41, 33.11s/iteration]"
     ]
    },
    {
     "name": "stdout",
     "output_type": "stream",
     "text": [
      "Maximum validation accuracy this iteration: 0.47619047619047616\n",
      "\n",
      "testing for embedding=tf-idf, pos=ngram, n=2\n"
     ]
    },
    {
     "name": "stderr",
     "output_type": "stream",
     "text": [
      "Progress:  27%|█████████████████▌                                                | 8/30 [04:16<11:54, 32.50s/iteration]"
     ]
    },
    {
     "name": "stdout",
     "output_type": "stream",
     "text": [
      "Maximum validation accuracy this iteration: 0.8156084656084657\n",
      "\n",
      "testing for embedding=tf-idf, pos=ngram, n=3\n"
     ]
    },
    {
     "name": "stderr",
     "output_type": "stream",
     "text": [
      "Progress:  30%|███████████████████▊                                              | 9/30 [04:57<12:20, 35.28s/iteration]"
     ]
    },
    {
     "name": "stdout",
     "output_type": "stream",
     "text": [
      "Maximum validation accuracy this iteration: 0.7857142857142857\n",
      "\n",
      "testing for embedding=tf-idf, pos=ngram, n=5\n"
     ]
    },
    {
     "name": "stderr",
     "output_type": "stream",
     "text": [
      "Progress:  33%|█████████████████████▋                                           | 10/30 [05:34<11:59, 35.96s/iteration]"
     ]
    },
    {
     "name": "stdout",
     "output_type": "stream",
     "text": [
      "Maximum validation accuracy this iteration: 0.757967032967033\n",
      "\n",
      "testing for embedding=BERTje, pos=none, n=2\n"
     ]
    },
    {
     "name": "stderr",
     "output_type": "stream",
     "text": [
      "Some weights of BertModel were not initialized from the model checkpoint at GroNLP/bert-base-dutch-cased and are newly initialized: ['bert.pooler.dense.bias', 'bert.pooler.dense.weight']\n",
      "You should probably TRAIN this model on a down-stream task to be able to use it for predictions and inference.\n",
      "Progress:  37%|███████████████████████▊                                         | 11/30 [07:37<19:45, 62.38s/iteration]"
     ]
    },
    {
     "name": "stdout",
     "output_type": "stream",
     "text": [
      "Maximum validation accuracy this iteration: 0.8809523809523809\n",
      "Best validaton accuracy increased from 0.8793956043956044 to 0.8809523809523809 with params BERTje, none, (0.1, 'linear').\n",
      "\n",
      "testing for embedding=BERTje, pos=one-hot, n=2\n"
     ]
    },
    {
     "name": "stderr",
     "output_type": "stream",
     "text": [
      "Some weights of BertModel were not initialized from the model checkpoint at GroNLP/bert-base-dutch-cased and are newly initialized: ['bert.pooler.dense.bias', 'bert.pooler.dense.weight']\n",
      "You should probably TRAIN this model on a down-stream task to be able to use it for predictions and inference.\n",
      "Progress:  40%|██████████████████████████                                       | 12/30 [10:21<28:00, 93.36s/iteration]"
     ]
    },
    {
     "name": "stdout",
     "output_type": "stream",
     "text": [
      "Maximum validation accuracy this iteration: 0.6190476190476191\n",
      "\n",
      "testing for embedding=BERTje, pos=ngram, n=2\n"
     ]
    },
    {
     "name": "stderr",
     "output_type": "stream",
     "text": [
      "Some weights of BertModel were not initialized from the model checkpoint at GroNLP/bert-base-dutch-cased and are newly initialized: ['bert.pooler.dense.bias', 'bert.pooler.dense.weight']\n",
      "You should probably TRAIN this model on a down-stream task to be able to use it for predictions and inference.\n",
      "Progress:  43%|███████████████████████████▋                                    | 13/30 [12:40<30:23, 107.29s/iteration]"
     ]
    },
    {
     "name": "stdout",
     "output_type": "stream",
     "text": [
      "Maximum validation accuracy this iteration: 0.8809523809523809\n",
      "\n",
      "testing for embedding=BERTje, pos=ngram, n=3\n"
     ]
    },
    {
     "name": "stderr",
     "output_type": "stream",
     "text": [
      "Some weights of BertModel were not initialized from the model checkpoint at GroNLP/bert-base-dutch-cased and are newly initialized: ['bert.pooler.dense.bias', 'bert.pooler.dense.weight']\n",
      "You should probably TRAIN this model on a down-stream task to be able to use it for predictions and inference.\n",
      "Progress:  47%|█████████████████████████████▊                                  | 14/30 [15:10<32:02, 120.18s/iteration]"
     ]
    },
    {
     "name": "stdout",
     "output_type": "stream",
     "text": [
      "Maximum validation accuracy this iteration: 0.8809523809523809\n",
      "\n",
      "testing for embedding=BERTje, pos=ngram, n=5\n"
     ]
    },
    {
     "name": "stderr",
     "output_type": "stream",
     "text": [
      "Some weights of BertModel were not initialized from the model checkpoint at GroNLP/bert-base-dutch-cased and are newly initialized: ['bert.pooler.dense.bias', 'bert.pooler.dense.weight']\n",
      "You should probably TRAIN this model on a down-stream task to be able to use it for predictions and inference.\n",
      "Progress:  50%|████████████████████████████████                                | 15/30 [17:38<32:08, 128.54s/iteration]"
     ]
    },
    {
     "name": "stdout",
     "output_type": "stream",
     "text": [
      "Maximum validation accuracy this iteration: 0.8809523809523809\n",
      "\n",
      "testing for embedding=mBERT, pos=none, n=2\n"
     ]
    },
    {
     "name": "stderr",
     "output_type": "stream",
     "text": [
      "Progress:  53%|██████████████████████████████████▏                             | 16/30 [19:38<29:24, 126.02s/iteration]"
     ]
    },
    {
     "name": "stdout",
     "output_type": "stream",
     "text": [
      "Maximum validation accuracy this iteration: 0.8333333333333334\n",
      "\n",
      "testing for embedding=mBERT, pos=one-hot, n=2\n"
     ]
    },
    {
     "name": "stderr",
     "output_type": "stream",
     "text": [
      "Progress:  57%|████████████████████████████████████▎                           | 17/30 [22:27<30:06, 138.96s/iteration]"
     ]
    },
    {
     "name": "stdout",
     "output_type": "stream",
     "text": [
      "Maximum validation accuracy this iteration: 0.5714285714285714\n",
      "\n",
      "testing for embedding=mBERT, pos=ngram, n=2\n"
     ]
    },
    {
     "name": "stderr",
     "output_type": "stream",
     "text": [
      "Progress:  60%|██████████████████████████████████████▍                         | 18/30 [24:55<28:18, 141.53s/iteration]"
     ]
    },
    {
     "name": "stdout",
     "output_type": "stream",
     "text": [
      "Maximum validation accuracy this iteration: 0.8095238095238095\n",
      "\n",
      "testing for embedding=mBERT, pos=ngram, n=3\n"
     ]
    },
    {
     "name": "stderr",
     "output_type": "stream",
     "text": [
      "Progress:  60%|███████████████████████████████████████                          | 18/30 [27:20<18:13, 91.12s/iteration]\n",
      "\n",
      "KeyboardInterrupt\n",
      "\n"
     ]
    }
   ],
   "source": [
    "# Support Vector Machine\n",
    "\n",
    "counter = 0\n",
    "n_values = [2, 3, 5]\n",
    "\n",
    "# Total iterations to track progress\n",
    "total_combinations = len([\"BoW\", \"tf-idf\", \"BERTje\", \"mBERT\", \"RobBERT\", \"Word2Vec\"]) * len([\"none\", \"one-hot\"] + 3 * [\"ngram\"])\n",
    "\n",
    "# Initialize tracking variables\n",
    "best_overall_model = None\n",
    "best_overall_accuracy = float('-inf')\n",
    "best_overall_params = None\n",
    "\n",
    "# Create tqdm progress bar\n",
    "with tqdm(total=total_combinations, desc=\"Progress\", unit=\"iteration\") as pbar:\n",
    "    for embedding in [\"BoW\", \"tf-idf\", \"BERTje\", \"mBERT\", \"RobBERT\", \"Word2Vec\"]:\n",
    "        for pos in [\"none\", \"one-hot\"] + 3 * [\"ngram\"]:\n",
    "            \n",
    "            n = 2  # Default value in case pos != \"ngram\"\n",
    "            if pos == \"ngram\":\n",
    "                n = n_values[counter % 3]\n",
    "                counter += 1\n",
    "\n",
    "            print(f\"\\ntesting for embedding={embedding}, pos={pos}, n={n}\")\n",
    "            results = evaluate_model(df, \n",
    "                                     test_ratio=0.15, \n",
    "                                     k_values=[1, 2, 3, 5, 10, 20],\n",
    "                                     embedding=embedding, \n",
    "                                     model_type=\"svm\",\n",
    "                                     pos=pos, \n",
    "                                     ngram_size=n,\n",
    "                                     print_updates=False,\n",
    "                                     show_class_accuracy=False, \n",
    "                                     show_confusion_matrix=False)[0]\n",
    "\n",
    "            # Find the best model in this iteration\n",
    "            global_best_model = max(results.items(), key=lambda x: x[1]['accuracy'])\n",
    "            global_best_model_key = global_best_model[0]\n",
    "            best_accuracy = global_best_model[1]['accuracy']\n",
    "            best_params = global_best_model[1]['best_params']\n",
    "\n",
    "            print(f\"Maximum validation accuracy this iteration: {best_accuracy}\")\n",
    "            \n",
    "            # Update global best if the current model is better\n",
    "            if best_accuracy > best_overall_accuracy:\n",
    "                print(f\"Best validaton accuracy increased from {best_overall_accuracy} to {best_accuracy} with params {embedding}, {pos}, {best_params}.\")\n",
    "                best_overall_accuracy = best_accuracy\n",
    "                best_overall_model = (embedding, pos, global_best_model_key)\n",
    "                best_overall_params = best_params\n",
    "\n",
    "            # Update the progress bar\n",
    "            pbar.update(1)\n",
    "\n",
    "# Print the overall best model after all iterations\n",
    "print(f\"Best overall model: {best_overall_model}\")\n",
    "print(f\"Best overall accuracy: {best_overall_accuracy}\")\n",
    "print(f\"Best overall parameters: {best_overall_params}\")"
   ]
  },
  {
   "cell_type": "code",
   "execution_count": 10,
   "id": "8429373c-08d5-434c-987e-2ad413c33261",
   "metadata": {},
   "outputs": [
    {
     "name": "stderr",
     "output_type": "stream",
     "text": [
      "Progress:   0%|                                                                          | 0/30 [00:00<?, ?iteration/s]"
     ]
    },
    {
     "name": "stdout",
     "output_type": "stream",
     "text": [
      "\n",
      "testing for embedding=BoW, pos=none, n=2\n"
     ]
    },
    {
     "name": "stderr",
     "output_type": "stream",
     "text": [
      "Progress:   3%|██▏                                                               | 1/30 [00:01<00:39,  1.37s/iteration]"
     ]
    },
    {
     "name": "stdout",
     "output_type": "stream",
     "text": [
      "Maximum validation accuracy this iteration: 0.9047619047619048\n",
      "Best validaton accuracy increased from -inf to 0.9047619047619048 with params BoW, none, (0.01, True).\n",
      "\n",
      "testing for embedding=BoW, pos=one-hot, n=2\n"
     ]
    },
    {
     "name": "stderr",
     "output_type": "stream",
     "text": [
      "Progress:   7%|████▍                                                             | 2/30 [00:12<03:20,  7.16s/iteration]"
     ]
    },
    {
     "name": "stdout",
     "output_type": "stream",
     "text": [
      "Maximum validation accuracy this iteration: 0.6190476190476191\n",
      "\n",
      "testing for embedding=BoW, pos=ngram, n=2\n"
     ]
    },
    {
     "name": "stderr",
     "output_type": "stream",
     "text": [
      "Progress:  10%|██████▌                                                           | 3/30 [00:23<03:53,  8.65s/iteration]"
     ]
    },
    {
     "name": "stdout",
     "output_type": "stream",
     "text": [
      "Maximum validation accuracy this iteration: 0.9761904761904762\n",
      "Best validaton accuracy increased from 0.9047619047619048 to 0.9761904761904762 with params BoW, ngram, 1e-11.\n",
      "\n",
      "testing for embedding=BoW, pos=ngram, n=3\n"
     ]
    },
    {
     "name": "stderr",
     "output_type": "stream",
     "text": [
      "Progress:  13%|████████▊                                                         | 4/30 [00:34<04:14,  9.79s/iteration]"
     ]
    },
    {
     "name": "stdout",
     "output_type": "stream",
     "text": [
      "Maximum validation accuracy this iteration: 0.9761904761904762\n",
      "\n",
      "testing for embedding=BoW, pos=ngram, n=5\n"
     ]
    },
    {
     "name": "stderr",
     "output_type": "stream",
     "text": [
      "Progress:  17%|███████████                                                       | 5/30 [00:45<04:19, 10.36s/iteration]"
     ]
    },
    {
     "name": "stdout",
     "output_type": "stream",
     "text": [
      "Maximum validation accuracy this iteration: 0.9761904761904762\n",
      "\n",
      "testing for embedding=tf-idf, pos=none, n=2\n"
     ]
    },
    {
     "name": "stderr",
     "output_type": "stream",
     "text": [
      "Progress:  20%|█████████████▏                                                    | 6/30 [00:47<02:54,  7.26s/iteration]"
     ]
    },
    {
     "name": "stdout",
     "output_type": "stream",
     "text": [
      "Maximum validation accuracy this iteration: 0.9523809523809523\n",
      "\n",
      "testing for embedding=tf-idf, pos=one-hot, n=2\n"
     ]
    },
    {
     "name": "stderr",
     "output_type": "stream",
     "text": [
      "Progress:  23%|███████████████▍                                                  | 7/30 [00:58<03:14,  8.45s/iteration]"
     ]
    },
    {
     "name": "stdout",
     "output_type": "stream",
     "text": [
      "Maximum validation accuracy this iteration: 0.5714285714285714\n",
      "\n",
      "testing for embedding=tf-idf, pos=ngram, n=2\n"
     ]
    },
    {
     "name": "stderr",
     "output_type": "stream",
     "text": [
      "Progress:  27%|█████████████████▌                                                | 8/30 [01:08<03:19,  9.08s/iteration]"
     ]
    },
    {
     "name": "stdout",
     "output_type": "stream",
     "text": [
      "Maximum validation accuracy this iteration: 0.9761904761904762\n",
      "\n",
      "testing for embedding=tf-idf, pos=ngram, n=3\n"
     ]
    },
    {
     "name": "stderr",
     "output_type": "stream",
     "text": [
      "Progress:  30%|███████████████████▊                                              | 9/30 [01:20<03:29,  9.99s/iteration]"
     ]
    },
    {
     "name": "stdout",
     "output_type": "stream",
     "text": [
      "Maximum validation accuracy this iteration: 0.9047619047619048\n",
      "\n",
      "testing for embedding=tf-idf, pos=ngram, n=5\n"
     ]
    },
    {
     "name": "stderr",
     "output_type": "stream",
     "text": [
      "Progress:  33%|█████████████████████▋                                           | 10/30 [01:33<03:36, 10.84s/iteration]"
     ]
    },
    {
     "name": "stdout",
     "output_type": "stream",
     "text": [
      "Maximum validation accuracy this iteration: 0.7473544973544974\n",
      "\n",
      "testing for embedding=BERTje, pos=none, n=2\n"
     ]
    },
    {
     "name": "stderr",
     "output_type": "stream",
     "text": [
      "Some weights of BertModel were not initialized from the model checkpoint at GroNLP/bert-base-dutch-cased and are newly initialized: ['bert.pooler.dense.bias', 'bert.pooler.dense.weight']\n",
      "You should probably TRAIN this model on a down-stream task to be able to use it for predictions and inference.\n",
      "Progress:  37%|███████████████████████▊                                         | 11/30 [03:40<14:41, 46.38s/iteration]"
     ]
    },
    {
     "name": "stdout",
     "output_type": "stream",
     "text": [
      "Maximum validation accuracy this iteration: 0.6976190476190476\n",
      "\n",
      "testing for embedding=BERTje, pos=one-hot, n=2\n"
     ]
    },
    {
     "name": "stderr",
     "output_type": "stream",
     "text": [
      "Some weights of BertModel were not initialized from the model checkpoint at GroNLP/bert-base-dutch-cased and are newly initialized: ['bert.pooler.dense.bias', 'bert.pooler.dense.weight']\n",
      "You should probably TRAIN this model on a down-stream task to be able to use it for predictions and inference.\n",
      "Progress:  40%|██████████████████████████                                       | 12/30 [05:45<21:05, 70.31s/iteration]"
     ]
    },
    {
     "name": "stdout",
     "output_type": "stream",
     "text": [
      "Maximum validation accuracy this iteration: 0.42857142857142855\n",
      "\n",
      "testing for embedding=BERTje, pos=ngram, n=2\n"
     ]
    },
    {
     "name": "stderr",
     "output_type": "stream",
     "text": [
      "Some weights of BertModel were not initialized from the model checkpoint at GroNLP/bert-base-dutch-cased and are newly initialized: ['bert.pooler.dense.bias', 'bert.pooler.dense.weight']\n",
      "You should probably TRAIN this model on a down-stream task to be able to use it for predictions and inference.\n",
      "Progress:  43%|████████████████████████████▏                                    | 13/30 [07:57<25:14, 89.06s/iteration]"
     ]
    },
    {
     "name": "stdout",
     "output_type": "stream",
     "text": [
      "Maximum validation accuracy this iteration: 0.5476190476190477\n",
      "\n",
      "testing for embedding=BERTje, pos=ngram, n=3\n"
     ]
    },
    {
     "name": "stderr",
     "output_type": "stream",
     "text": [
      "Some weights of BertModel were not initialized from the model checkpoint at GroNLP/bert-base-dutch-cased and are newly initialized: ['bert.pooler.dense.bias', 'bert.pooler.dense.weight']\n",
      "You should probably TRAIN this model on a down-stream task to be able to use it for predictions and inference.\n",
      "Progress:  47%|█████████████████████████████▊                                  | 14/30 [10:08<27:10, 101.90s/iteration]"
     ]
    },
    {
     "name": "stdout",
     "output_type": "stream",
     "text": [
      "Maximum validation accuracy this iteration: 0.42266233766233763\n",
      "\n",
      "testing for embedding=BERTje, pos=ngram, n=5\n"
     ]
    },
    {
     "name": "stderr",
     "output_type": "stream",
     "text": [
      "Some weights of BertModel were not initialized from the model checkpoint at GroNLP/bert-base-dutch-cased and are newly initialized: ['bert.pooler.dense.bias', 'bert.pooler.dense.weight']\n",
      "You should probably TRAIN this model on a down-stream task to be able to use it for predictions and inference.\n",
      "Progress:  50%|████████████████████████████████                                | 15/30 [12:38<29:03, 116.22s/iteration]"
     ]
    },
    {
     "name": "stdout",
     "output_type": "stream",
     "text": [
      "Maximum validation accuracy this iteration: 0.32501824627254716\n",
      "\n",
      "testing for embedding=mBERT, pos=none, n=2\n"
     ]
    },
    {
     "name": "stderr",
     "output_type": "stream",
     "text": [
      "Progress:  53%|██████████████████████████████████▏                             | 16/30 [14:56<28:38, 122.78s/iteration]"
     ]
    },
    {
     "name": "stdout",
     "output_type": "stream",
     "text": [
      "Maximum validation accuracy this iteration: 0.6137566137566137\n",
      "\n",
      "testing for embedding=mBERT, pos=one-hot, n=2\n"
     ]
    },
    {
     "name": "stderr",
     "output_type": "stream",
     "text": [
      "Progress:  57%|████████████████████████████████████▎                           | 17/30 [17:08<27:13, 125.66s/iteration]"
     ]
    },
    {
     "name": "stdout",
     "output_type": "stream",
     "text": [
      "Maximum validation accuracy this iteration: 0.42857142857142855\n",
      "\n",
      "testing for embedding=mBERT, pos=ngram, n=2\n"
     ]
    },
    {
     "name": "stderr",
     "output_type": "stream",
     "text": [
      "Progress:  60%|██████████████████████████████████████▍                         | 18/30 [19:13<25:06, 125.51s/iteration]"
     ]
    },
    {
     "name": "stdout",
     "output_type": "stream",
     "text": [
      "Maximum validation accuracy this iteration: 0.5476190476190477\n",
      "\n",
      "testing for embedding=mBERT, pos=ngram, n=3\n"
     ]
    },
    {
     "name": "stderr",
     "output_type": "stream",
     "text": [
      "Progress:  63%|████████████████████████████████████████▌                       | 19/30 [21:16<22:51, 124.72s/iteration]"
     ]
    },
    {
     "name": "stdout",
     "output_type": "stream",
     "text": [
      "Maximum validation accuracy this iteration: 0.3938311688311688\n",
      "\n",
      "testing for embedding=mBERT, pos=ngram, n=5\n"
     ]
    },
    {
     "name": "stderr",
     "output_type": "stream",
     "text": [
      "Progress:  67%|██████████████████████████████████████████▋                     | 20/30 [23:27<21:04, 126.48s/iteration]"
     ]
    },
    {
     "name": "stdout",
     "output_type": "stream",
     "text": [
      "Maximum validation accuracy this iteration: 0.32501824627254716\n",
      "\n",
      "testing for embedding=RobBERT, pos=none, n=2\n"
     ]
    },
    {
     "name": "stderr",
     "output_type": "stream",
     "text": [
      "Some weights of RobertaModel were not initialized from the model checkpoint at pdelobelle/robbert-v2-dutch-base and are newly initialized: ['roberta.pooler.dense.bias', 'roberta.pooler.dense.weight']\n",
      "You should probably TRAIN this model on a down-stream task to be able to use it for predictions and inference.\n",
      "Progress:  70%|████████████████████████████████████████████▊                   | 21/30 [25:42<19:22, 129.20s/iteration]"
     ]
    },
    {
     "name": "stdout",
     "output_type": "stream",
     "text": [
      "Maximum validation accuracy this iteration: 0.6030465949820788\n",
      "\n",
      "testing for embedding=RobBERT, pos=one-hot, n=2\n"
     ]
    },
    {
     "name": "stderr",
     "output_type": "stream",
     "text": [
      "Some weights of RobertaModel were not initialized from the model checkpoint at pdelobelle/robbert-v2-dutch-base and are newly initialized: ['roberta.pooler.dense.bias', 'roberta.pooler.dense.weight']\n",
      "You should probably TRAIN this model on a down-stream task to be able to use it for predictions and inference.\n",
      "Progress:  73%|██████████████████████████████████████████████▉                 | 22/30 [27:54<17:18, 129.83s/iteration]"
     ]
    },
    {
     "name": "stdout",
     "output_type": "stream",
     "text": [
      "Maximum validation accuracy this iteration: 0.42857142857142855\n",
      "\n",
      "testing for embedding=RobBERT, pos=ngram, n=2\n"
     ]
    },
    {
     "name": "stderr",
     "output_type": "stream",
     "text": [
      "Some weights of RobertaModel were not initialized from the model checkpoint at pdelobelle/robbert-v2-dutch-base and are newly initialized: ['roberta.pooler.dense.bias', 'roberta.pooler.dense.weight']\n",
      "You should probably TRAIN this model on a down-stream task to be able to use it for predictions and inference.\n",
      "Progress:  77%|█████████████████████████████████████████████████               | 23/30 [30:05<15:11, 130.21s/iteration]"
     ]
    },
    {
     "name": "stdout",
     "output_type": "stream",
     "text": [
      "Maximum validation accuracy this iteration: 0.5238095238095238\n",
      "\n",
      "testing for embedding=RobBERT, pos=ngram, n=3\n"
     ]
    },
    {
     "name": "stderr",
     "output_type": "stream",
     "text": [
      "Some weights of RobertaModel were not initialized from the model checkpoint at pdelobelle/robbert-v2-dutch-base and are newly initialized: ['roberta.pooler.dense.bias', 'roberta.pooler.dense.weight']\n",
      "You should probably TRAIN this model on a down-stream task to be able to use it for predictions and inference.\n",
      "Progress:  80%|███████████████████████████████████████████████████▏            | 24/30 [32:23<13:16, 132.71s/iteration]"
     ]
    },
    {
     "name": "stdout",
     "output_type": "stream",
     "text": [
      "Maximum validation accuracy this iteration: 0.4154545454545454\n",
      "\n",
      "testing for embedding=RobBERT, pos=ngram, n=5\n"
     ]
    },
    {
     "name": "stderr",
     "output_type": "stream",
     "text": [
      "Some weights of RobertaModel were not initialized from the model checkpoint at pdelobelle/robbert-v2-dutch-base and are newly initialized: ['roberta.pooler.dense.bias', 'roberta.pooler.dense.weight']\n",
      "You should probably TRAIN this model on a down-stream task to be able to use it for predictions and inference.\n",
      "Progress:  83%|█████████████████████████████████████████████████████▎          | 25/30 [34:38<11:06, 133.27s/iteration]"
     ]
    },
    {
     "name": "stdout",
     "output_type": "stream",
     "text": [
      "Maximum validation accuracy this iteration: 0.32501824627254716\n",
      "\n",
      "testing for embedding=Word2Vec, pos=none, n=2\n"
     ]
    },
    {
     "name": "stderr",
     "output_type": "stream",
     "text": [
      "Progress:  87%|████████████████████████████████████████████████████████▎        | 26/30 [34:39<06:14, 93.50s/iteration]"
     ]
    },
    {
     "name": "stdout",
     "output_type": "stream",
     "text": [
      "Maximum validation accuracy this iteration: 0.35714285714285715\n",
      "\n",
      "testing for embedding=Word2Vec, pos=one-hot, n=2\n"
     ]
    },
    {
     "name": "stderr",
     "output_type": "stream",
     "text": [
      "Progress:  90%|██████████████████████████████████████████████████████████▌      | 27/30 [34:40<03:17, 65.82s/iteration]"
     ]
    },
    {
     "name": "stdout",
     "output_type": "stream",
     "text": [
      "Maximum validation accuracy this iteration: 0.42857142857142855\n",
      "\n",
      "testing for embedding=Word2Vec, pos=ngram, n=2\n"
     ]
    },
    {
     "name": "stderr",
     "output_type": "stream",
     "text": [
      "Progress:  93%|████████████████████████████████████████████████████████████▋    | 28/30 [34:41<01:32, 46.36s/iteration]"
     ]
    },
    {
     "name": "stdout",
     "output_type": "stream",
     "text": [
      "Maximum validation accuracy this iteration: 0.47619047619047616\n",
      "\n",
      "testing for embedding=Word2Vec, pos=ngram, n=3\n"
     ]
    },
    {
     "name": "stderr",
     "output_type": "stream",
     "text": [
      "Progress:  97%|██████████████████████████████████████████████████████████████▊  | 29/30 [34:43<00:32, 32.97s/iteration]"
     ]
    },
    {
     "name": "stdout",
     "output_type": "stream",
     "text": [
      "Maximum validation accuracy this iteration: 0.3720779220779221\n",
      "\n",
      "testing for embedding=Word2Vec, pos=ngram, n=5\n"
     ]
    },
    {
     "name": "stderr",
     "output_type": "stream",
     "text": [
      "Progress: 100%|█████████████████████████████████████████████████████████████████| 30/30 [34:45<00:00, 69.50s/iteration]"
     ]
    },
    {
     "name": "stdout",
     "output_type": "stream",
     "text": [
      "Maximum validation accuracy this iteration: 0.32501824627254716\n",
      "Best overall model: ('BoW', 'ngram', 1)\n",
      "Best overall accuracy: 0.9761904761904762\n",
      "Best overall parameters: 1e-11\n"
     ]
    },
    {
     "name": "stderr",
     "output_type": "stream",
     "text": [
      "\n"
     ]
    }
   ],
   "source": [
    "# Naive Bayes\n",
    "\n",
    "counter = 0\n",
    "n_values = [2, 3, 5]\n",
    "\n",
    "# Total iterations to track progress\n",
    "total_combinations = len([\"BoW\", \"tf-idf\", \"BERTje\", \"mBERT\", \"RobBERT\", \"Word2Vec\"]) * len([\"none\", \"one-hot\"] + 3 * [\"ngram\"])\n",
    "\n",
    "# Initialize tracking variables\n",
    "best_overall_model = None\n",
    "best_overall_accuracy = float('-inf')\n",
    "best_overall_params = None\n",
    "\n",
    "# Create tqdm progress bar\n",
    "with tqdm(total=total_combinations, desc=\"Progress\", unit=\"iteration\") as pbar:\n",
    "    for embedding in [\"BoW\", \"tf-idf\", \"BERTje\", \"mBERT\", \"RobBERT\", \"Word2Vec\"]:\n",
    "        for pos in [\"none\", \"one-hot\"] + 3 * [\"ngram\"]:\n",
    "            \n",
    "            n = 2  # Default value in case pos != \"ngram\"\n",
    "            if pos == \"ngram\":\n",
    "                n = n_values[counter % 3]\n",
    "                counter += 1\n",
    "\n",
    "            print(f\"\\ntesting for embedding={embedding}, pos={pos}, n={n}\")\n",
    "            results = evaluate_model(df, \n",
    "                                     test_ratio=0.15, \n",
    "                                     k_values=[1, 2, 3, 5, 10, 20],\n",
    "                                     embedding=embedding, \n",
    "                                     model_type=\"naive_bayes\",\n",
    "                                     pos=pos, \n",
    "                                     ngram_size=n,\n",
    "                                     print_updates=False,\n",
    "                                     show_class_accuracy=False, \n",
    "                                     show_confusion_matrix=False)[0]\n",
    "\n",
    "            # Find the best model in this iteration\n",
    "            global_best_model = max(results.items(), key=lambda x: x[1]['accuracy'])\n",
    "            global_best_model_key = global_best_model[0]\n",
    "            best_accuracy = global_best_model[1]['accuracy']\n",
    "            best_params = global_best_model[1]['best_params']\n",
    "\n",
    "            print(f\"Maximum validation accuracy this iteration: {best_accuracy}\")\n",
    "\n",
    "            # Update global best if the current model is better\n",
    "            if best_accuracy > best_overall_accuracy:\n",
    "                print(f\"Best validaton accuracy increased from {best_overall_accuracy} to {best_accuracy} with params {embedding}, {pos}, {best_params}.\")\n",
    "                best_overall_accuracy = best_accuracy\n",
    "                best_overall_model = (embedding, pos, global_best_model_key)\n",
    "                best_overall_params = best_params\n",
    "\n",
    "            # Update the progress bar\n",
    "            pbar.update(1)\n",
    "\n",
    "# Print the overall best model after all iterations\n",
    "print(f\"Best overall model: {best_overall_model}\")\n",
    "print(f\"Best overall accuracy: {best_overall_accuracy}\")\n",
    "print(f\"Best overall parameters: {best_overall_params}\")"
   ]
  },
  {
   "cell_type": "code",
   "execution_count": 64,
   "id": "e1ecc2d9-6a87-42c4-bb73-ba92087537ad",
   "metadata": {},
   "outputs": [
    {
     "name": "stderr",
     "output_type": "stream",
     "text": [
      "Progress:   0%|                                                                          | 0/30 [00:00<?, ?iteration/s]"
     ]
    },
    {
     "name": "stdout",
     "output_type": "stream",
     "text": [
      "\n",
      "testing for embedding=BoW, pos=none, n=2\n"
     ]
    },
    {
     "name": "stderr",
     "output_type": "stream",
     "text": [
      "Progress:   3%|██                                                             | 1/30 [06:20<3:03:41, 380.06s/iteration]"
     ]
    },
    {
     "name": "stdout",
     "output_type": "stream",
     "text": [
      "Maximum validation accuracy this iteration: 0.5833333333333334\n",
      "Best validaton accuracy increased from -inf to 0.5833333333333334 with params BoW, none, 15.\n",
      "\n",
      "testing for embedding=BoW, pos=one-hot, n=2\n"
     ]
    },
    {
     "name": "stderr",
     "output_type": "stream",
     "text": [
      "Progress:   7%|████▏                                                          | 2/30 [12:22<2:52:25, 369.48s/iteration]"
     ]
    },
    {
     "name": "stdout",
     "output_type": "stream",
     "text": [
      "Maximum validation accuracy this iteration: 0.5833333333333334\n",
      "\n",
      "testing for embedding=BoW, pos=ngram, n=2\n"
     ]
    },
    {
     "name": "stderr",
     "output_type": "stream",
     "text": [
      "Progress:  10%|██████▎                                                        | 3/30 [18:53<2:50:43, 379.39s/iteration]"
     ]
    },
    {
     "name": "stdout",
     "output_type": "stream",
     "text": [
      "Maximum validation accuracy this iteration: 0.6041666666666666\n",
      "Best validaton accuracy increased from 0.5833333333333334 to 0.6041666666666666 with params BoW, ngram, 5.\n",
      "\n",
      "testing for embedding=BoW, pos=ngram, n=3\n"
     ]
    },
    {
     "name": "stderr",
     "output_type": "stream",
     "text": [
      "Progress:  13%|████████▍                                                      | 4/30 [27:05<3:03:37, 423.73s/iteration]"
     ]
    },
    {
     "name": "stdout",
     "output_type": "stream",
     "text": [
      "Maximum validation accuracy this iteration: 0.6041666666666666\n",
      "\n",
      "testing for embedding=BoW, pos=ngram, n=5\n"
     ]
    },
    {
     "name": "stderr",
     "output_type": "stream",
     "text": [
      "Progress:  17%|██████████▌                                                    | 5/30 [34:05<2:56:02, 422.49s/iteration]"
     ]
    },
    {
     "name": "stdout",
     "output_type": "stream",
     "text": [
      "Maximum validation accuracy this iteration: 0.5625\n",
      "\n",
      "testing for embedding=tf-idf, pos=none, n=2\n"
     ]
    },
    {
     "name": "stderr",
     "output_type": "stream",
     "text": [
      "Progress:  20%|████████████▌                                                  | 6/30 [39:22<2:34:39, 386.64s/iteration]"
     ]
    },
    {
     "name": "stdout",
     "output_type": "stream",
     "text": [
      "Maximum validation accuracy this iteration: 0.6041666666666666\n",
      "\n",
      "testing for embedding=tf-idf, pos=one-hot, n=2\n"
     ]
    },
    {
     "name": "stderr",
     "output_type": "stream",
     "text": [
      "Progress:  23%|██████████████▋                                                | 7/30 [44:59<2:21:58, 370.39s/iteration]"
     ]
    },
    {
     "name": "stdout",
     "output_type": "stream",
     "text": [
      "Maximum validation accuracy this iteration: 0.625\n",
      "Best validaton accuracy increased from 0.6041666666666666 to 0.625 with params tf-idf, one-hot, 10.\n",
      "\n",
      "testing for embedding=tf-idf, pos=ngram, n=2\n"
     ]
    },
    {
     "name": "stderr",
     "output_type": "stream",
     "text": [
      "Progress:  27%|████████████████▊                                              | 8/30 [51:21<2:17:11, 374.15s/iteration]"
     ]
    },
    {
     "name": "stdout",
     "output_type": "stream",
     "text": [
      "Maximum validation accuracy this iteration: 0.6041666666666666\n",
      "\n",
      "testing for embedding=tf-idf, pos=ngram, n=3\n"
     ]
    },
    {
     "name": "stderr",
     "output_type": "stream",
     "text": [
      "Progress:  30%|██████████████████▉                                            | 9/30 [59:23<2:22:48, 408.01s/iteration]"
     ]
    },
    {
     "name": "stdout",
     "output_type": "stream",
     "text": [
      "Maximum validation accuracy this iteration: 0.5833333333333334\n",
      "\n",
      "testing for embedding=tf-idf, pos=ngram, n=5\n"
     ]
    },
    {
     "name": "stderr",
     "output_type": "stream",
     "text": [
      "Progress:  33%|████████████████████                                        | 10/30 [1:06:26<2:17:31, 412.55s/iteration]"
     ]
    },
    {
     "name": "stdout",
     "output_type": "stream",
     "text": [
      "Maximum validation accuracy this iteration: 0.5204166666666666\n",
      "\n",
      "testing for embedding=BERTje, pos=none, n=2\n"
     ]
    },
    {
     "name": "stderr",
     "output_type": "stream",
     "text": [
      "Some weights of BertModel were not initialized from the model checkpoint at GroNLP/bert-base-dutch-cased and are newly initialized: ['bert.pooler.dense.bias', 'bert.pooler.dense.weight']\n",
      "You should probably TRAIN this model on a down-stream task to be able to use it for predictions and inference.\n",
      "Progress:  37%|██████████████████████                                      | 11/30 [1:11:24<1:59:30, 377.38s/iteration]"
     ]
    },
    {
     "name": "stdout",
     "output_type": "stream",
     "text": [
      "Maximum validation accuracy this iteration: 0.6458333333333334\n",
      "Best validaton accuracy increased from 0.625 to 0.6458333333333334 with params BERTje, none, 15.\n",
      "\n",
      "testing for embedding=BERTje, pos=one-hot, n=2\n"
     ]
    },
    {
     "name": "stderr",
     "output_type": "stream",
     "text": [
      "Some weights of BertModel were not initialized from the model checkpoint at GroNLP/bert-base-dutch-cased and are newly initialized: ['bert.pooler.dense.bias', 'bert.pooler.dense.weight']\n",
      "You should probably TRAIN this model on a down-stream task to be able to use it for predictions and inference.\n",
      "Progress:  40%|████████████████████████                                    | 12/30 [1:18:00<1:54:54, 383.03s/iteration]"
     ]
    },
    {
     "name": "stdout",
     "output_type": "stream",
     "text": [
      "Maximum validation accuracy this iteration: 0.625\n",
      "\n",
      "testing for embedding=BERTje, pos=ngram, n=2\n"
     ]
    },
    {
     "name": "stderr",
     "output_type": "stream",
     "text": [
      "Some weights of BertModel were not initialized from the model checkpoint at GroNLP/bert-base-dutch-cased and are newly initialized: ['bert.pooler.dense.bias', 'bert.pooler.dense.weight']\n",
      "You should probably TRAIN this model on a down-stream task to be able to use it for predictions and inference.\n",
      "Progress:  43%|██████████████████████████                                  | 13/30 [1:24:28<1:49:00, 384.74s/iteration]"
     ]
    },
    {
     "name": "stdout",
     "output_type": "stream",
     "text": [
      "Maximum validation accuracy this iteration: 0.625\n",
      "\n",
      "testing for embedding=BERTje, pos=ngram, n=3\n"
     ]
    },
    {
     "name": "stderr",
     "output_type": "stream",
     "text": [
      "Some weights of BertModel were not initialized from the model checkpoint at GroNLP/bert-base-dutch-cased and are newly initialized: ['bert.pooler.dense.bias', 'bert.pooler.dense.weight']\n",
      "You should probably TRAIN this model on a down-stream task to be able to use it for predictions and inference.\n",
      "Progress:  47%|████████████████████████████                                | 14/30 [1:31:24<1:45:06, 394.17s/iteration]"
     ]
    },
    {
     "name": "stdout",
     "output_type": "stream",
     "text": [
      "Maximum validation accuracy this iteration: 0.625\n",
      "\n",
      "testing for embedding=BERTje, pos=ngram, n=5\n"
     ]
    },
    {
     "name": "stderr",
     "output_type": "stream",
     "text": [
      "Some weights of BertModel were not initialized from the model checkpoint at GroNLP/bert-base-dutch-cased and are newly initialized: ['bert.pooler.dense.bias', 'bert.pooler.dense.weight']\n",
      "You should probably TRAIN this model on a down-stream task to be able to use it for predictions and inference.\n",
      "Progress:  50%|██████████████████████████████                              | 15/30 [1:38:47<1:42:13, 408.89s/iteration]"
     ]
    },
    {
     "name": "stdout",
     "output_type": "stream",
     "text": [
      "Maximum validation accuracy this iteration: 0.6666666666666666\n",
      "Best validaton accuracy increased from 0.6458333333333334 to 0.6666666666666666 with params BERTje, ngram, 15.\n",
      "\n",
      "testing for embedding=mBERT, pos=none, n=2\n"
     ]
    },
    {
     "name": "stderr",
     "output_type": "stream",
     "text": [
      "Progress:  53%|████████████████████████████████                            | 16/30 [1:44:31<1:30:47, 389.09s/iteration]"
     ]
    },
    {
     "name": "stdout",
     "output_type": "stream",
     "text": [
      "Maximum validation accuracy this iteration: 0.6041666666666666\n",
      "\n",
      "testing for embedding=mBERT, pos=one-hot, n=2\n"
     ]
    },
    {
     "name": "stderr",
     "output_type": "stream",
     "text": [
      "Progress:  57%|██████████████████████████████████                          | 17/30 [1:51:09<1:24:53, 391.82s/iteration]"
     ]
    },
    {
     "name": "stdout",
     "output_type": "stream",
     "text": [
      "Maximum validation accuracy this iteration: 0.625\n",
      "\n",
      "testing for embedding=mBERT, pos=ngram, n=2\n"
     ]
    },
    {
     "name": "stderr",
     "output_type": "stream",
     "text": [
      "Progress:  60%|████████████████████████████████████                        | 18/30 [1:57:42<1:18:26, 392.23s/iteration]"
     ]
    },
    {
     "name": "stdout",
     "output_type": "stream",
     "text": [
      "Maximum validation accuracy this iteration: 0.6458333333333334\n",
      "\n",
      "testing for embedding=mBERT, pos=ngram, n=3\n"
     ]
    },
    {
     "name": "stderr",
     "output_type": "stream",
     "text": [
      "Progress:  63%|██████████████████████████████████████                      | 19/30 [2:04:36<1:13:07, 398.86s/iteration]"
     ]
    },
    {
     "name": "stdout",
     "output_type": "stream",
     "text": [
      "Maximum validation accuracy this iteration: 0.5833333333333334\n",
      "\n",
      "testing for embedding=mBERT, pos=ngram, n=5\n"
     ]
    },
    {
     "name": "stderr",
     "output_type": "stream",
     "text": [
      "Progress:  67%|████████████████████████████████████████                    | 20/30 [2:11:37<1:07:34, 405.40s/iteration]"
     ]
    },
    {
     "name": "stdout",
     "output_type": "stream",
     "text": [
      "Maximum validation accuracy this iteration: 0.625\n",
      "\n",
      "testing for embedding=RobBERT, pos=none, n=2\n"
     ]
    },
    {
     "name": "stderr",
     "output_type": "stream",
     "text": [
      "Some weights of RobertaModel were not initialized from the model checkpoint at pdelobelle/robbert-v2-dutch-base and are newly initialized: ['roberta.pooler.dense.bias', 'roberta.pooler.dense.weight']\n",
      "You should probably TRAIN this model on a down-stream task to be able to use it for predictions and inference.\n",
      "Progress:  70%|███████████████████████████████████████████▍                  | 21/30 [2:16:35<56:00, 373.35s/iteration]"
     ]
    },
    {
     "name": "stdout",
     "output_type": "stream",
     "text": [
      "Maximum validation accuracy this iteration: 0.6458333333333334\n",
      "\n",
      "testing for embedding=RobBERT, pos=one-hot, n=2\n"
     ]
    },
    {
     "name": "stderr",
     "output_type": "stream",
     "text": [
      "Some weights of RobertaModel were not initialized from the model checkpoint at pdelobelle/robbert-v2-dutch-base and are newly initialized: ['roberta.pooler.dense.bias', 'roberta.pooler.dense.weight']\n",
      "You should probably TRAIN this model on a down-stream task to be able to use it for predictions and inference.\n",
      "Progress:  73%|█████████████████████████████████████████████▍                | 22/30 [2:23:12<50:43, 380.41s/iteration]"
     ]
    },
    {
     "name": "stdout",
     "output_type": "stream",
     "text": [
      "Maximum validation accuracy this iteration: 0.625\n",
      "\n",
      "testing for embedding=RobBERT, pos=ngram, n=2\n"
     ]
    },
    {
     "name": "stderr",
     "output_type": "stream",
     "text": [
      "Some weights of RobertaModel were not initialized from the model checkpoint at pdelobelle/robbert-v2-dutch-base and are newly initialized: ['roberta.pooler.dense.bias', 'roberta.pooler.dense.weight']\n",
      "You should probably TRAIN this model on a down-stream task to be able to use it for predictions and inference.\n",
      "Progress:  77%|███████████████████████████████████████████████▌              | 23/30 [2:29:46<44:51, 384.43s/iteration]"
     ]
    },
    {
     "name": "stdout",
     "output_type": "stream",
     "text": [
      "Maximum validation accuracy this iteration: 0.6458333333333334\n",
      "\n",
      "testing for embedding=RobBERT, pos=ngram, n=3\n"
     ]
    },
    {
     "name": "stderr",
     "output_type": "stream",
     "text": [
      "Some weights of RobertaModel were not initialized from the model checkpoint at pdelobelle/robbert-v2-dutch-base and are newly initialized: ['roberta.pooler.dense.bias', 'roberta.pooler.dense.weight']\n",
      "You should probably TRAIN this model on a down-stream task to be able to use it for predictions and inference.\n",
      "Progress:  80%|█████████████████████████████████████████████████▌            | 24/30 [2:36:43<39:24, 394.05s/iteration]"
     ]
    },
    {
     "name": "stdout",
     "output_type": "stream",
     "text": [
      "Maximum validation accuracy this iteration: 0.625\n",
      "\n",
      "testing for embedding=RobBERT, pos=ngram, n=5\n"
     ]
    },
    {
     "name": "stderr",
     "output_type": "stream",
     "text": [
      "Some weights of RobertaModel were not initialized from the model checkpoint at pdelobelle/robbert-v2-dutch-base and are newly initialized: ['roberta.pooler.dense.bias', 'roberta.pooler.dense.weight']\n",
      "You should probably TRAIN this model on a down-stream task to be able to use it for predictions and inference.\n",
      "Progress:  83%|███████████████████████████████████████████████████▋          | 25/30 [2:43:48<33:36, 403.36s/iteration]"
     ]
    },
    {
     "name": "stdout",
     "output_type": "stream",
     "text": [
      "Maximum validation accuracy this iteration: 0.6458333333333334\n",
      "\n",
      "testing for embedding=Word2Vec, pos=none, n=2\n"
     ]
    },
    {
     "name": "stderr",
     "output_type": "stream",
     "text": [
      "Progress:  87%|█████████████████████████████████████████████████████▋        | 26/30 [2:46:10<21:40, 325.15s/iteration]"
     ]
    },
    {
     "name": "stdout",
     "output_type": "stream",
     "text": [
      "Maximum validation accuracy this iteration: 0.34500000000000003\n",
      "\n",
      "testing for embedding=Word2Vec, pos=one-hot, n=2\n"
     ]
    },
    {
     "name": "stderr",
     "output_type": "stream",
     "text": [
      "Progress:  90%|███████████████████████████████████████████████████████▊      | 27/30 [2:49:26<14:18, 286.26s/iteration]"
     ]
    },
    {
     "name": "stdout",
     "output_type": "stream",
     "text": [
      "Maximum validation accuracy this iteration: 0.4038035339922132\n",
      "\n",
      "testing for embedding=Word2Vec, pos=ngram, n=2\n"
     ]
    },
    {
     "name": "stderr",
     "output_type": "stream",
     "text": [
      "Progress:  93%|█████████████████████████████████████████████████████████▊    | 28/30 [2:52:37<08:35, 257.84s/iteration]"
     ]
    },
    {
     "name": "stdout",
     "output_type": "stream",
     "text": [
      "Maximum validation accuracy this iteration: 0.441633064516129\n",
      "\n",
      "testing for embedding=Word2Vec, pos=ngram, n=3\n"
     ]
    },
    {
     "name": "stderr",
     "output_type": "stream",
     "text": [
      "Progress:  97%|███████████████████████████████████████████████████████████▉  | 29/30 [2:56:13<04:05, 245.12s/iteration]"
     ]
    },
    {
     "name": "stdout",
     "output_type": "stream",
     "text": [
      "Maximum validation accuracy this iteration: 0.41949685534591197\n",
      "\n",
      "testing for embedding=Word2Vec, pos=ngram, n=5\n"
     ]
    },
    {
     "name": "stderr",
     "output_type": "stream",
     "text": [
      "Progress: 100%|██████████████████████████████████████████████████████████████| 30/30 [2:59:55<00:00, 359.83s/iteration]"
     ]
    },
    {
     "name": "stdout",
     "output_type": "stream",
     "text": [
      "Maximum validation accuracy this iteration: 0.37583333333333335\n",
      "Best overall model: ('BERTje', 'ngram', 1)\n",
      "Best overall accuracy: 0.6666666666666666\n",
      "Best overall parameters: 15\n"
     ]
    },
    {
     "name": "stderr",
     "output_type": "stream",
     "text": [
      "\n"
     ]
    }
   ],
   "source": [
    "# Random Forest\n",
    "\n",
    "counter = 0\n",
    "n_values = [2, 3, 5]\n",
    "\n",
    "# Total iterations to track progress\n",
    "total_combinations = len([\"BoW\", \"tf-idf\", \"BERTje\", \"mBERT\", \"RobBERT\", \"Word2Vec\"]) * len([\"none\", \"one-hot\"] + 3 * [\"ngram\"])\n",
    "\n",
    "# Initialize tracking variables\n",
    "best_overall_model = None\n",
    "best_overall_accuracy = float('-inf')\n",
    "best_overall_params = None\n",
    "\n",
    "# Create tqdm progress bar\n",
    "with tqdm(total=total_combinations, desc=\"Progress\", unit=\"iteration\") as pbar:\n",
    "    for embedding in [\"BoW\", \"tf-idf\", \"BERTje\", \"mBERT\", \"RobBERT\", \"Word2Vec\"]:\n",
    "        for pos in [\"none\", \"one-hot\"] + 3 * [\"ngram\"]:\n",
    "            \n",
    "            n = 2  # Default value in case pos != \"ngram\"\n",
    "            if pos == \"ngram\":\n",
    "                n = n_values[counter % 3]\n",
    "                counter += 1\n",
    "\n",
    "            print(f\"\\ntesting for embedding={embedding}, pos={pos}, n={n}\")\n",
    "            results = evaluate_model(df, \n",
    "                                     test_ratio=0.15, \n",
    "                                     k_values=[1, 2, 3, 5, 10, 20],\n",
    "                                     embedding=embedding, \n",
    "                                     model_type=\"random_forest\",\n",
    "                                     pos=pos, \n",
    "                                     ngram_size=n,\n",
    "                                     print_updates=False,\n",
    "                                     show_class_accuracy=False, \n",
    "                                     show_confusion_matrix=False)[0]\n",
    "\n",
    "            # Find the best model in this iteration\n",
    "            global_best_model = max(results.items(), key=lambda x: x[1]['accuracy'])\n",
    "            global_best_model_key = global_best_model[0]\n",
    "            best_accuracy = global_best_model[1]['accuracy']\n",
    "            best_params = global_best_model[1]['best_params']\n",
    "\n",
    "            print(f\"Maximum validation accuracy this iteration: {best_accuracy}\")\n",
    "\n",
    "            # Update global best if the current model is better\n",
    "            if best_accuracy > best_overall_accuracy:\n",
    "                print(f\"Best validaton accuracy increased from {best_overall_accuracy} to {best_accuracy} with params {embedding}, {pos}, {best_params}.\")\n",
    "                best_overall_accuracy = best_accuracy\n",
    "                best_overall_model = (embedding, pos, global_best_model_key)\n",
    "                best_overall_params = best_params\n",
    "\n",
    "            # Update the progress bar\n",
    "            pbar.update(1)\n",
    "\n",
    "# Print the overall best model after all iterations\n",
    "print(f\"Best overall model: {best_overall_model}\")\n",
    "print(f\"Best overall accuracy: {best_overall_accuracy}\")\n",
    "print(f\"Best overall parameters: {best_overall_params}\")"
   ]
  },
  {
   "cell_type": "code",
   "execution_count": 64,
   "id": "12c282a9-f453-4450-9b6e-f77d9c81a2c0",
   "metadata": {
    "scrolled": true
   },
   "outputs": [
    {
     "name": "stdout",
     "output_type": "stream",
     "text": [
      "\n",
      "Using Bag of Words (BoW) Embeddings...\n",
      "\n",
      "Using N-gram POS Features (n=2)...\n",
      "Best naive_bayes Params for k=1: 1e-11, Mean Validation Accuracy: 0.9762\n",
      "param_results: {1e-11: [0.9761904761904762], 1e-10: [0.9761904761904762], 1e-09: [0.9761904761904762], 1e-08: [0.9761904761904762], 1e-07: [0.9761904761904762]}\n",
      "mean results: {1e-11: 0.9761904761904762, 1e-10: 0.9761904761904762, 1e-09: 0.9761904761904762, 1e-08: 0.9761904761904762, 1e-07: 0.9761904761904762}\n",
      "best validation accuracy for K=1: 0.9761904761904762\n",
      "best functionwide validation accuracy: 0\n",
      "\n",
      "Best naive_bayes Params for k=2: 1e-11, Mean Validation Accuracy: 0.8122\n",
      "param_results: {1e-11: [0.8345323741007195, 0.7898550724637681], 1e-10: [0.8345323741007195, 0.7898550724637681], 1e-09: [0.8345323741007195, 0.7898550724637681], 1e-08: [0.8345323741007195, 0.7898550724637681], 1e-07: [0.8345323741007195, 0.7898550724637681]}\n",
      "mean results: {1e-11: 0.8121937232822438, 1e-10: 0.8121937232822438, 1e-09: 0.8121937232822438, 1e-08: 0.8121937232822438, 1e-07: 0.8121937232822438}\n",
      "best validation accuracy for K=2: 0.8121937232822438\n",
      "best functionwide validation accuracy: 0.9761904761904762\n",
      "\n",
      "Best naive_bayes Params for k=3: 1e-07, Mean Validation Accuracy: 0.8627\n",
      "param_results: {1e-11: [0.9032258064516129, 0.8369565217391305, 0.8369565217391305], 1e-10: [0.9032258064516129, 0.8369565217391305, 0.8369565217391305], 1e-09: [0.9032258064516129, 0.8369565217391305, 0.8369565217391305], 1e-08: [0.9032258064516129, 0.8369565217391305, 0.8369565217391305], 1e-07: [0.9032258064516129, 0.8478260869565217, 0.8369565217391305]}\n",
      "mean results: {1e-11: 0.8590462833099579, 1e-10: 0.8590462833099579, 1e-09: 0.8590462833099579, 1e-08: 0.8590462833099579, 1e-07: 0.8626694717157549}\n",
      "best validation accuracy for K=3: 0.8626694717157549\n",
      "best functionwide validation accuracy: 0.9761904761904762\n",
      "\n",
      "Best naive_bayes Params for k=5: 1e-11, Mean Validation Accuracy: 0.8553\n",
      "param_results: {1e-11: [0.9107142857142857, 0.875, 0.8181818181818182, 0.8363636363636363, 0.8363636363636363], 1e-10: [0.9107142857142857, 0.875, 0.8181818181818182, 0.8363636363636363, 0.8363636363636363], 1e-09: [0.9107142857142857, 0.875, 0.8181818181818182, 0.8363636363636363, 0.8363636363636363], 1e-08: [0.9107142857142857, 0.875, 0.8181818181818182, 0.8363636363636363, 0.8363636363636363], 1e-07: [0.9107142857142857, 0.875, 0.8181818181818182, 0.8363636363636363, 0.8363636363636363]}\n",
      "mean results: {1e-11: 0.8553246753246754, 1e-10: 0.8553246753246754, 1e-09: 0.8553246753246754, 1e-08: 0.8553246753246754, 1e-07: 0.8553246753246754}\n",
      "best validation accuracy for K=5: 0.8553246753246754\n",
      "best functionwide validation accuracy: 0.9761904761904762\n",
      "\n",
      "Best naive_bayes Params for k=10: 1e-11, Mean Validation Accuracy: 0.8771\n",
      "param_results: {1e-11: [0.9285714285714286, 0.8928571428571429, 0.9642857142857143, 0.7857142857142857, 0.9285714285714286, 0.75, 0.9285714285714286, 0.7777777777777778, 0.9259259259259259, 0.8888888888888888], 1e-10: [0.9285714285714286, 0.8928571428571429, 0.9642857142857143, 0.7857142857142857, 0.9285714285714286, 0.75, 0.9285714285714286, 0.7777777777777778, 0.9259259259259259, 0.8888888888888888], 1e-09: [0.9285714285714286, 0.8928571428571429, 0.9642857142857143, 0.7857142857142857, 0.9285714285714286, 0.75, 0.9285714285714286, 0.7777777777777778, 0.9259259259259259, 0.8888888888888888], 1e-08: [0.9285714285714286, 0.8928571428571429, 0.9642857142857143, 0.7857142857142857, 0.9285714285714286, 0.75, 0.9285714285714286, 0.7777777777777778, 0.9259259259259259, 0.8888888888888888], 1e-07: [0.9285714285714286, 0.8928571428571429, 0.9642857142857143, 0.7857142857142857, 0.9285714285714286, 0.75, 0.9285714285714286, 0.7777777777777778, 0.9259259259259259, 0.8888888888888888]}\n",
      "mean results: {1e-11: 0.8771164021164022, 1e-10: 0.8771164021164022, 1e-09: 0.8771164021164022, 1e-08: 0.8771164021164022, 1e-07: 0.8771164021164022}\n",
      "best validation accuracy for K=10: 0.8771164021164022\n",
      "best functionwide validation accuracy: 0.9761904761904762\n",
      "\n",
      "Best naive_bayes Params for k=20: 1e-11, Mean Validation Accuracy: 0.8626\n",
      "param_results: {1e-11: [1.0, 0.8571428571428571, 0.9285714285714286, 0.7857142857142857, 0.9285714285714286, 0.8571428571428571, 0.8571428571428571, 0.7857142857142857, 0.9285714285714286, 0.6428571428571429, 0.8571428571428571, 0.9285714285714286, 0.8571428571428571, 0.9285714285714286, 0.9285714285714286, 0.6428571428571429, 1.0, 0.8461538461538461, 0.9230769230769231, 0.7692307692307693], 1e-10: [1.0, 0.8571428571428571, 0.9285714285714286, 0.7857142857142857, 0.9285714285714286, 0.8571428571428571, 0.8571428571428571, 0.7857142857142857, 0.9285714285714286, 0.6428571428571429, 0.8571428571428571, 0.9285714285714286, 0.8571428571428571, 0.9285714285714286, 0.9285714285714286, 0.6428571428571429, 1.0, 0.8461538461538461, 0.9230769230769231, 0.7692307692307693], 1e-09: [1.0, 0.8571428571428571, 0.9285714285714286, 0.7857142857142857, 0.9285714285714286, 0.8571428571428571, 0.8571428571428571, 0.7857142857142857, 0.9285714285714286, 0.6428571428571429, 0.8571428571428571, 0.9285714285714286, 0.8571428571428571, 0.9285714285714286, 0.9285714285714286, 0.6428571428571429, 1.0, 0.8461538461538461, 0.9230769230769231, 0.7692307692307693], 1e-08: [1.0, 0.8571428571428571, 0.9285714285714286, 0.7857142857142857, 0.9285714285714286, 0.8571428571428571, 0.8571428571428571, 0.7857142857142857, 0.9285714285714286, 0.6428571428571429, 0.8571428571428571, 0.9285714285714286, 0.8571428571428571, 0.9285714285714286, 0.9285714285714286, 0.6428571428571429, 1.0, 0.8461538461538461, 0.9230769230769231, 0.7692307692307693], 1e-07: [1.0, 0.8571428571428571, 0.9285714285714286, 0.7857142857142857, 0.9285714285714286, 0.8571428571428571, 0.8571428571428571, 0.7857142857142857, 0.9285714285714286, 0.6428571428571429, 0.8571428571428571, 0.9285714285714286, 0.8571428571428571, 0.9285714285714286, 0.9285714285714286, 0.6428571428571429, 1.0, 0.8461538461538461, 0.9230769230769231, 0.7692307692307693]}\n",
      "mean results: {1e-11: 0.8626373626373628, 1e-10: 0.8626373626373628, 1e-09: 0.8626373626373628, 1e-08: 0.8626373626373628, 1e-07: 0.8626373626373628}\n",
      "best validation accuracy for K=20: 0.8626373626373628\n",
      "best functionwide validation accuracy: 0.9761904761904762\n",
      "\n",
      "\n",
      "Best model found: \n",
      "Model=naive_bayes, \n",
      "Parameter values: 1e-11, \n",
      "Validation Accuracy: 0.9762\n",
      "Final Test Accuracy: 0.8571\n",
      "Class '0' Accuracy: 0.9375\n",
      "Class '1' Accuracy: 1.0000\n",
      "Class '2' Accuracy: 0.7273\n",
      "Class '3' Accuracy: 0.5714\n"
     ]
    },
    {
     "data": {
      "image/png": "[encoded data removed]",
      "text/plain": [
       "<Figure size 800x600 with 2 Axes>"
      ]
     },
     "metadata": {},
     "output_type": "display_data"
    }
   ],
   "source": [
    "# Model with best validation accuracy:\n",
    "\n",
    "final_results = evaluate_model(df, \n",
    "                               test_ratio=0.15, \n",
    "                               k_values=[1, 2, 3, 5, 10, 20],\n",
    "                               embedding=\"BoW\", \n",
    "                               model_type=\"naive_bayes\",\n",
    "                               pos=\"ngram\", \n",
    "                               ngram_size=2,\n",
    "                               print_updates=True,\n",
    "                               show_class_accuracy=True, \n",
    "                               show_confusion_matrix=True,\n",
    "                               return_data=True)\n",
    "\n",
    "final_performance, final_nb, data_final_model = final_results[0], final_results[1], final_results[2]"
   ]
  },
  {
   "cell_type": "markdown",
   "id": "0321b7e7-2e84-4911-adab-ca94480d62f6",
   "metadata": {},
   "source": [
    "We test for the settings below since these gave the best performance before duplicate articles were removed"
   ]
  },
  {
   "cell_type": "code",
   "execution_count": 120,
   "id": "317aa529-7b5b-4c5d-bcc7-1c666551fdf2",
   "metadata": {},
   "outputs": [
    {
     "name": "stdout",
     "output_type": "stream",
     "text": [
      "\n",
      "Using TF-IDF Embeddings...\n",
      "Best naive_bayes Params for k=1: (0.01, True), Mean Validation Accuracy: 0.9524\n",
      "param_results: {(0.01, True): [0.9523809523809523], (0.01, False): [0.8095238095238095], (0.1, True): [0.9285714285714286], (0.1, False): [0.9285714285714286], (0.5, True): [0.8333333333333334], (0.5, False): [0.9047619047619048], (1.0, True): [0.6904761904761905], (1.0, False): [0.9047619047619048], (2.0, True): [0.6428571428571429], (2.0, False): [0.8095238095238095], (5.0, True): [0.6428571428571429], (5.0, False): [0.7857142857142857], (10.0, True): [0.6190476190476191], (10.0, False): [0.7142857142857143]}\n",
      "mean results: {(0.01, True): 0.9523809523809523, (0.01, False): 0.8095238095238095, (0.1, True): 0.9285714285714286, (0.1, False): 0.9285714285714286, (0.5, True): 0.8333333333333334, (0.5, False): 0.9047619047619048, (1.0, True): 0.6904761904761905, (1.0, False): 0.9047619047619048, (2.0, True): 0.6428571428571429, (2.0, False): 0.8095238095238095, (5.0, True): 0.6428571428571429, (5.0, False): 0.7857142857142857, (10.0, True): 0.6190476190476191, (10.0, False): 0.7142857142857143}\n",
      "best validation accuracy for K=1: 0.9523809523809523\n",
      "best functionwide validation accuracy: 0\n",
      "\n",
      "Best naive_bayes Params for k=2: (0.01, True), Mean Validation Accuracy: 0.8735\n",
      "param_results: {(0.01, True): [0.9064748201438849, 0.8405797101449275], (0.01, False): [0.8705035971223022, 0.8260869565217391], (0.1, True): [0.8705035971223022, 0.8478260869565217], (0.1, False): [0.8848920863309353, 0.8478260869565217], (0.5, True): [0.6762589928057554, 0.6666666666666666], (0.5, False): [0.841726618705036, 0.8333333333333334], (1.0, True): [0.6187050359712231, 0.6014492753623188], (1.0, False): [0.7913669064748201, 0.782608695652174], (2.0, True): [0.6115107913669064, 0.5942028985507246], (2.0, False): [0.7338129496402878, 0.7246376811594203], (5.0, True): [0.60431654676259, 0.6014492753623188], (5.0, False): [0.6187050359712231, 0.6521739130434783], (10.0, True): [0.5971223021582733, 0.5942028985507246], (10.0, False): [0.539568345323741, 0.6014492753623188]}\n",
      "mean results: {(0.01, True): 0.8735272651444062, (0.01, False): 0.8482952768220207, (0.1, True): 0.859164842039412, (0.1, False): 0.8663590866437285, (0.5, True): 0.6714628297362111, (0.5, False): 0.8375299760191847, (1.0, True): 0.610077155666771, (1.0, False): 0.786987801063497, (2.0, True): 0.6028568449588155, (2.0, False): 0.729225315399854, (5.0, True): 0.6028829110624544, (5.0, False): 0.6354394745073506, (10.0, True): 0.5956626003544989, (10.0, False): 0.5705088103430299}\n",
      "best validation accuracy for K=2: 0.8735272651444062\n",
      "best functionwide validation accuracy: 0.9523809523809523\n",
      "\n",
      "Best naive_bayes Params for k=3: (0.1, True), Mean Validation Accuracy: 0.9024\n",
      "param_results: {(0.01, True): [0.9354838709677419, 0.8478260869565217, 0.8804347826086957], (0.01, False): [0.8924731182795699, 0.8152173913043478, 0.8478260869565217], (0.1, True): [0.946236559139785, 0.9130434782608695, 0.8478260869565217], (0.1, False): [0.9354838709677419, 0.8804347826086957, 0.8804347826086957], (0.5, True): [0.7419354838709677, 0.7391304347826086, 0.7065217391304348], (0.5, False): [0.9354838709677419, 0.8586956521739131, 0.8478260869565217], (1.0, True): [0.6236559139784946, 0.6304347826086957, 0.6086956521739131], (1.0, False): [0.8602150537634409, 0.8152173913043478, 0.8478260869565217], (2.0, True): [0.6129032258064516, 0.6086956521739131, 0.6086956521739131], (2.0, False): [0.8064516129032258, 0.7608695652173914, 0.7934782608695652], (5.0, True): [0.6021505376344086, 0.6086956521739131, 0.6086956521739131], (5.0, False): [0.7096774193548387, 0.6521739130434783, 0.717391304347826], (10.0, True): [0.6021505376344086, 0.5869565217391305, 0.5978260869565217], (10.0, False): [0.6344086021505376, 0.5652173913043478, 0.6304347826086957]}\n",
      "mean results: {(0.01, True): 0.8879149135109864, (0.01, False): 0.8518388655134798, (0.1, True): 0.9023687081190589, (0.1, False): 0.8987844787283777, (0.5, True): 0.7291958859280037, (0.5, False): 0.8806685366993922, (1.0, True): 0.6209287829203678, (1.0, False): 0.8410861773414368, (2.0, True): 0.6100981767180925, (2.0, False): 0.7869331463300607, (5.0, True): 0.6065139473274116, (5.0, False): 0.6930808789153811, (10.0, True): 0.5956443821100202, (10.0, False): 0.6100202586878604}\n",
      "best validation accuracy for K=3: 0.9023687081190589\n",
      "best functionwide validation accuracy: 0.9523809523809523\n",
      "\n",
      "Best naive_bayes Params for k=5: (0.1, True), Mean Validation Accuracy: 0.8914\n",
      "param_results: {(0.01, True): [0.9107142857142857, 0.9107142857142857, 0.8363636363636363, 0.8727272727272727, 0.8909090909090909], (0.01, False): [0.9285714285714286, 0.9107142857142857, 0.8181818181818182, 0.8545454545454545, 0.8727272727272727], (0.1, True): [0.9285714285714286, 0.9285714285714286, 0.8545454545454545, 0.9090909090909091, 0.8363636363636363], (0.1, False): [0.9107142857142857, 0.9107142857142857, 0.8181818181818182, 0.8727272727272727, 0.8727272727272727], (0.5, True): [0.7857142857142857, 0.75, 0.7636363636363637, 0.8, 0.6727272727272727], (0.5, False): [0.9464285714285714, 0.8928571428571429, 0.8181818181818182, 0.9090909090909091, 0.8181818181818182], (1.0, True): [0.6785714285714286, 0.6607142857142857, 0.6363636363636364, 0.6545454545454545, 0.6], (1.0, False): [0.875, 0.875, 0.7454545454545455, 0.8909090909090909, 0.7818181818181819], (2.0, True): [0.625, 0.625, 0.5636363636363636, 0.6363636363636364, 0.5818181818181818], (2.0, False): [0.8392857142857143, 0.7857142857142857, 0.7454545454545455, 0.8545454545454545, 0.7454545454545455], (5.0, True): [0.625, 0.6071428571428571, 0.5636363636363636, 0.6363636363636364, 0.5818181818181818], (5.0, False): [0.7678571428571429, 0.6964285714285714, 0.6727272727272727, 0.7272727272727273, 0.6909090909090909], (10.0, True): [0.625, 0.6071428571428571, 0.5818181818181818, 0.6181818181818182, 0.5818181818181818], (10.0, False): [0.625, 0.5714285714285714, 0.6181818181818182, 0.6181818181818182, 0.6545454545454545]}\n",
      "mean results: {(0.01, True): 0.8842857142857141, (0.01, False): 0.876948051948052, (0.1, True): 0.8914285714285715, (0.1, False): 0.8770129870129869, (0.5, True): 0.7544155844155844, (0.5, False): 0.876948051948052, (1.0, True): 0.6460389610389611, (1.0, False): 0.8336363636363637, (2.0, True): 0.6063636363636362, (2.0, False): 0.7940909090909092, (5.0, True): 0.6027922077922078, (5.0, False): 0.7110389610389611, (10.0, True): 0.6027922077922078, (10.0, False): 0.6174675324675324}\n",
      "best validation accuracy for K=5: 0.8914285714285715\n",
      "best functionwide validation accuracy: 0.9523809523809523\n",
      "\n",
      "Best naive_bayes Params for k=10: (0.01, True), Mean Validation Accuracy: 0.8954\n",
      "param_results: {(0.01, True): [0.9285714285714286, 0.9285714285714286, 0.8928571428571429, 0.9285714285714286, 0.8928571428571429, 0.75, 0.9285714285714286, 0.8518518518518519, 1.0, 0.8518518518518519], (0.01, False): [0.9285714285714286, 0.9285714285714286, 0.8928571428571429, 0.8928571428571429, 0.8928571428571429, 0.75, 0.8928571428571429, 0.8148148148148148, 0.9259259259259259, 0.8148148148148148], (0.1, True): [0.9642857142857143, 0.9285714285714286, 0.9285714285714286, 0.9285714285714286, 0.8928571428571429, 0.8214285714285714, 0.9642857142857143, 0.8148148148148148, 0.9629629629629629, 0.7407407407407407], (0.1, False): [0.9285714285714286, 0.8928571428571429, 0.8571428571428571, 0.9285714285714286, 0.8928571428571429, 0.7857142857142857, 0.8928571428571429, 0.8518518518518519, 1.0, 0.8148148148148148], (0.5, True): [0.8214285714285714, 0.75, 0.7142857142857143, 0.8214285714285714, 0.8928571428571429, 0.7142857142857143, 0.8928571428571429, 0.8148148148148148, 0.7407407407407407, 0.6666666666666666], (0.5, False): [0.9642857142857143, 0.9285714285714286, 0.8571428571428571, 0.9285714285714286, 0.9285714285714286, 0.7142857142857143, 0.9642857142857143, 0.8518518518518519, 0.8888888888888888, 0.7407407407407407], (1.0, True): [0.7142857142857143, 0.6428571428571429, 0.7142857142857143, 0.75, 0.75, 0.6071428571428571, 0.6785714285714286, 0.6296296296296297, 0.6296296296296297, 0.5925925925925926], (1.0, False): [0.8571428571428571, 0.8928571428571429, 0.8571428571428571, 0.8928571428571429, 0.8571428571428571, 0.6785714285714286, 0.9642857142857143, 0.8518518518518519, 0.8518518518518519, 0.7037037037037037], (2.0, True): [0.6428571428571429, 0.6428571428571429, 0.6428571428571429, 0.6428571428571429, 0.6428571428571429, 0.5357142857142857, 0.6071428571428571, 0.6296296296296297, 0.6296296296296297, 0.5555555555555556], (2.0, False): [0.8571428571428571, 0.7857142857142857, 0.7857142857142857, 0.7142857142857143, 0.8571428571428571, 0.6428571428571429, 0.9285714285714286, 0.8148148148148148, 0.7777777777777778, 0.7037037037037037], (5.0, True): [0.6428571428571429, 0.6071428571428571, 0.6428571428571429, 0.6428571428571429, 0.6428571428571429, 0.5357142857142857, 0.6071428571428571, 0.5925925925925926, 0.6296296296296297, 0.5555555555555556], (5.0, False): [0.75, 0.75, 0.75, 0.7142857142857143, 0.8214285714285714, 0.6071428571428571, 0.8214285714285714, 0.7407407407407407, 0.6666666666666666, 0.7037037037037037], (10.0, True): [0.6428571428571429, 0.6071428571428571, 0.6071428571428571, 0.6428571428571429, 0.6071428571428571, 0.5357142857142857, 0.5714285714285714, 0.6296296296296297, 0.6296296296296297, 0.5555555555555556], (10.0, False): [0.6428571428571429, 0.6071428571428571, 0.6785714285714286, 0.6071428571428571, 0.7142857142857143, 0.5357142857142857, 0.6071428571428571, 0.6296296296296297, 0.6296296296296297, 0.7037037037037037]}\n",
      "mean results: {(0.01, True): 0.8953703703703703, (0.01, False): 0.8734126984126984, (0.1, True): 0.8947089947089948, (0.1, False): 0.8845238095238095, (0.5, True): 0.7829365079365079, (0.5, False): 0.8767195767195768, (1.0, True): 0.670899470899471, (1.0, False): 0.8407407407407407, (2.0, True): 0.6171957671957673, (2.0, False): 0.7867724867724867, (5.0, True): 0.6099206349206349, (5.0, False): 0.7325396825396826, (10.0, True): 0.6029100529100528, (10.0, False): 0.6355820105820106}\n",
      "best validation accuracy for K=10: 0.8953703703703703\n",
      "best functionwide validation accuracy: 0.9523809523809523\n",
      "\n",
      "Best naive_bayes Params for k=20: (0.01, True), Mean Validation Accuracy: 0.8986\n",
      "param_results: {(0.01, True): [1.0, 0.8571428571428571, 1.0, 0.8571428571428571, 0.9285714285714286, 0.8571428571428571, 1.0, 0.8571428571428571, 0.9285714285714286, 0.7142857142857143, 0.9285714285714286, 0.9285714285714286, 0.8571428571428571, 0.9285714285714286, 1.0, 0.7142857142857143, 1.0, 1.0, 0.8461538461538461, 0.7692307692307693], (0.01, False): [1.0, 0.8571428571428571, 1.0, 0.8571428571428571, 0.9285714285714286, 0.8571428571428571, 1.0, 0.8571428571428571, 0.8571428571428571, 0.7142857142857143, 0.8571428571428571, 0.9285714285714286, 0.8571428571428571, 0.8571428571428571, 1.0, 0.6428571428571429, 0.9285714285714286, 0.9230769230769231, 0.8461538461538461, 0.6923076923076923], (0.1, True): [1.0, 0.9285714285714286, 0.9285714285714286, 0.8571428571428571, 0.9285714285714286, 1.0, 0.9285714285714286, 0.8571428571428571, 0.9285714285714286, 0.7857142857142857, 0.8571428571428571, 1.0, 0.9285714285714286, 1.0, 0.9285714285714286, 0.7142857142857143, 1.0, 0.9230769230769231, 0.6923076923076923, 0.7692307692307693], (0.1, False): [1.0, 0.8571428571428571, 0.9285714285714286, 0.8571428571428571, 0.8571428571428571, 0.8571428571428571, 1.0, 0.8571428571428571, 0.8571428571428571, 0.7142857142857143, 0.9285714285714286, 0.9285714285714286, 0.8571428571428571, 0.9285714285714286, 1.0, 0.7142857142857143, 1.0, 1.0, 0.8461538461538461, 0.6923076923076923], (0.5, True): [0.8571428571428571, 0.7857142857142857, 0.7857142857142857, 0.6428571428571429, 0.7142857142857143, 0.8571428571428571, 0.6428571428571429, 0.9285714285714286, 0.8571428571428571, 0.7857142857142857, 0.6428571428571429, 0.8571428571428571, 0.8571428571428571, 1.0, 0.9285714285714286, 0.7142857142857143, 0.7857142857142857, 0.7692307692307693, 0.6153846153846154, 0.6923076923076923], (0.5, False): [1.0, 0.8571428571428571, 0.9285714285714286, 0.8571428571428571, 0.9285714285714286, 0.8571428571428571, 0.9285714285714286, 0.8571428571428571, 0.9285714285714286, 0.7142857142857143, 0.8571428571428571, 1.0, 0.9285714285714286, 1.0, 0.9285714285714286, 0.7857142857142857, 0.8571428571428571, 0.8461538461538461, 0.6923076923076923, 0.7692307692307693], (1.0, True): [0.7142857142857143, 0.7142857142857143, 0.6428571428571429, 0.6428571428571429, 0.6428571428571429, 0.7857142857142857, 0.6428571428571429, 0.8571428571428571, 0.7142857142857143, 0.6428571428571429, 0.6428571428571429, 0.7142857142857143, 0.7857142857142857, 0.7142857142857143, 0.6428571428571429, 0.6428571428571429, 0.5714285714285714, 0.6153846153846154, 0.6153846153846154, 0.5384615384615384], (1.0, False): [0.9285714285714286, 0.7857142857142857, 0.9285714285714286, 0.7857142857142857, 0.8571428571428571, 0.8571428571428571, 0.8571428571428571, 0.8571428571428571, 0.9285714285714286, 0.7142857142857143, 0.7142857142857143, 1.0, 0.8571428571428571, 1.0, 0.9285714285714286, 0.7857142857142857, 0.8571428571428571, 0.8461538461538461, 0.6923076923076923, 0.6923076923076923], (2.0, True): [0.6428571428571429, 0.6428571428571429, 0.6428571428571429, 0.6428571428571429, 0.6428571428571429, 0.5714285714285714, 0.5714285714285714, 0.6428571428571429, 0.7142857142857143, 0.5, 0.6428571428571429, 0.6428571428571429, 0.5714285714285714, 0.6428571428571429, 0.6428571428571429, 0.6428571428571429, 0.5714285714285714, 0.6153846153846154, 0.5384615384615384, 0.5384615384615384], (2.0, False): [0.9285714285714286, 0.7857142857142857, 0.7857142857142857, 0.7142857142857143, 0.8571428571428571, 0.7857142857142857, 0.6428571428571429, 0.8571428571428571, 0.8571428571428571, 0.6428571428571429, 0.6428571428571429, 1.0, 0.9285714285714286, 0.8571428571428571, 0.9285714285714286, 0.7857142857142857, 0.7857142857142857, 0.7692307692307693, 0.6923076923076923, 0.6923076923076923], (5.0, True): [0.6428571428571429, 0.6428571428571429, 0.6428571428571429, 0.6428571428571429, 0.6428571428571429, 0.5714285714285714, 0.5, 0.6428571428571429, 0.6428571428571429, 0.5, 0.6428571428571429, 0.6428571428571429, 0.5714285714285714, 0.5714285714285714, 0.6428571428571429, 0.6428571428571429, 0.5714285714285714, 0.6153846153846154, 0.5384615384615384, 0.5384615384615384], (5.0, False): [0.7142857142857143, 0.7857142857142857, 0.7857142857142857, 0.5714285714285714, 0.7142857142857143, 0.7857142857142857, 0.5, 0.9285714285714286, 0.7857142857142857, 0.6428571428571429, 0.6428571428571429, 0.7857142857142857, 0.9285714285714286, 0.6428571428571429, 0.7857142857142857, 0.7857142857142857, 0.7142857142857143, 0.7692307692307693, 0.6923076923076923, 0.6923076923076923], (10.0, True): [0.6428571428571429, 0.6428571428571429, 0.6428571428571429, 0.6428571428571429, 0.6428571428571429, 0.5714285714285714, 0.5714285714285714, 0.6428571428571429, 0.6428571428571429, 0.5, 0.5714285714285714, 0.6428571428571429, 0.5714285714285714, 0.5714285714285714, 0.6428571428571429, 0.5714285714285714, 0.5714285714285714, 0.6153846153846154, 0.5384615384615384, 0.5384615384615384], (10.0, False): [0.6428571428571429, 0.6428571428571429, 0.6428571428571429, 0.5, 0.6428571428571429, 0.7142857142857143, 0.42857142857142855, 0.8571428571428571, 0.6428571428571429, 0.5714285714285714, 0.5, 0.7857142857142857, 0.7142857142857143, 0.6428571428571429, 0.6428571428571429, 0.6428571428571429, 0.6428571428571429, 0.6923076923076923, 0.6923076923076923, 0.7692307692307693]}\n",
      "mean results: {(0.01, True): 0.8986263736263738, (0.01, False): 0.8730769230769232, (0.1, True): 0.8978021978021979, (0.1, False): 0.8840659340659341, (0.5, True): 0.7859890109890111, (0.5, False): 0.8760989010989013, (1.0, True): 0.6741758241758241, (1.0, False): 0.8436813186813188, (2.0, True): 0.6131868131868131, (2.0, False): 0.796978021978022, (5.0, True): 0.6024725274725274, (5.0, False): 0.7326923076923075, (10.0, True): 0.5989010989010989, (10.0, False): 0.6505494505494506}\n",
      "best validation accuracy for K=20: 0.8986263736263738\n",
      "best functionwide validation accuracy: 0.9523809523809523\n",
      "\n",
      "\n",
      "Best model found: \n",
      "Model=naive_bayes, \n",
      "Parameter values: (0.01, True), \n",
      "Validation Accuracy: 0.9524\n",
      "Final Test Accuracy: 0.9184\n",
      "Class '0' Accuracy: 1.0000\n",
      "Class '1' Accuracy: 1.0000\n",
      "Class '2' Accuracy: 0.8182\n",
      "Class '3' Accuracy: 0.7143\n"
     ]
    },
    {
     "data": {
      "image/png": "[encoded data removed]",
      "text/plain": [
       "<Figure size 800x600 with 2 Axes>"
      ]
     },
     "metadata": {},
     "output_type": "display_data"
    }
   ],
   "source": [
    "# Model with best validation accuracy:\n",
    "\n",
    "final_results = evaluate_model(df, \n",
    "                               test_ratio=0.15, \n",
    "                               k_values=[1, 2, 3, 5, 10, 20],\n",
    "                               embedding=\"tf-idf\", \n",
    "                               model_type=\"naive_bayes\",\n",
    "                               pos=\"none\", \n",
    "                               ngram_size=2,\n",
    "                               print_updates=True,\n",
    "                               show_class_accuracy=True, \n",
    "                               show_confusion_matrix=True,\n",
    "                               return_data=True,\n",
    "                              save_first_vectorizer=True)\n",
    "\n",
    "final_performance, final_nb, data_final_model, final_nb_vectorizer = final_results[0], final_results[1], final_results[2], final_results[3]"
   ]
  },
  {
   "cell_type": "markdown",
   "id": "a7e49473-de3c-42bf-8f65-000b9bbac028",
   "metadata": {},
   "source": [
    "Not only is the test accuracy higher, the performance is more balanced over the classes as well. <br>\n",
    "Therefore, we choose this model"
   ]
  },
  {
   "cell_type": "markdown",
   "id": "f1509cbb-6c44-4a91-9c45-89b8dece4111",
   "metadata": {},
   "source": [
    "# Small test on 2 articles"
   ]
  },
  {
   "cell_type": "markdown",
   "id": "f4e4b7df-c4f5-4e99-8d30-48697de67424",
   "metadata": {},
   "source": [
    "This section aims to test the obtained classifier for 2 articles. To achieve this, we first load the data"
   ]
  },
  {
   "cell_type": "code",
   "execution_count": 88,
   "id": "db744975-3d00-4fba-a286-af6522be0aca",
   "metadata": {},
   "outputs": [
    {
     "name": "stdout",
     "output_type": "stream",
     "text": [
      "Please ensure that only pdf files of articles are present in the subfolders of the specified directory\n",
      "1 article(s) detected in Bouw & Vastgoed folder\n",
      "0 article(s) detected in Handel & Industrie folder\n",
      "1 article(s) detected in Zakelijke Dienstverlening folder\n",
      "0 article(s) detected in Zorg folder\n"
     ]
    }
   ],
   "source": [
    "def extract_text_from_pdf(pdf_path):\n",
    "    document = fitz.open(pdf_path)\n",
    "    text = \"\"\n",
    "    for page_num in range(len(document)):\n",
    "        page = document.load_page(page_num)\n",
    "        text += page.get_text()\n",
    "    return text\n",
    "\n",
    "directory = 'small experiment for presentation'\n",
    "df_experiment = pd.DataFrame(columns=['article_id' , 'paragraph_id', 'text', 'group', 'publication_date'])\n",
    "\n",
    "print('Please ensure that only pdf files of articles are present in the subfolders of the specified directory')\n",
    "article_nr = 1\n",
    "for folder in os.listdir(directory):\n",
    "    folder_size = len(os.listdir(directory + \"\\\\\" + folder))\n",
    "    print(f'{folder_size} article(s) detected in {folder} folder')\n",
    "    \n",
    "    for article in os.listdir(directory + '\\\\' + folder):\n",
    "        text = extract_text_from_pdf(directory + '\\\\' + folder + '\\\\' + article)\n",
    "        date = article.split(' ')[-1].split('.')[0] #Remove the article number and \".pdf\" to obtain the publication date\n",
    "        \n",
    "        paragraphs = [para.strip() for para in text.split(\"\\n \\n\") if para.strip()]\n",
    "        para_nr = 1\n",
    "        for para in paragraphs:\n",
    "            df_temp = pd.DataFrame([[article_nr, para_nr, para, folder, date]], \n",
    "                                   columns=['article_id' , 'paragraph_id', 'text', 'group', 'publication_date'])\n",
    "            df_experiment = pd.concat([df_experiment, df_temp])\n",
    "            para_nr += 1\n",
    "        article_nr += 1\n",
    "        \n",
    "df_experiment.set_index(['article_id' , 'paragraph_id'], inplace=True)\n",
    "df_experiment['publication_date'] = pd.to_datetime(df_experiment['publication_date'], format='%d-%m-%Y')"
   ]
  },
  {
   "cell_type": "code",
   "execution_count": 89,
   "id": "3667ff88-4d09-49bf-80f2-8f5c40293147",
   "metadata": {},
   "outputs": [
    {
     "data": {
      "text/html": [
       "<div>\n",
       "<style scoped>\n",
       "    .dataframe tbody tr th:only-of-type {\n",
       "        vertical-align: middle;\n",
       "    }\n",
       "\n",
       "    .dataframe tbody tr th {\n",
       "        vertical-align: top;\n",
       "    }\n",
       "\n",
       "    .dataframe thead th {\n",
       "        text-align: right;\n",
       "    }\n",
       "</style>\n",
       "<table border=\"1\" class=\"dataframe\">\n",
       "  <thead>\n",
       "    <tr style=\"text-align: right;\">\n",
       "      <th></th>\n",
       "      <th></th>\n",
       "      <th>text</th>\n",
       "      <th>group</th>\n",
       "      <th>publication_date</th>\n",
       "    </tr>\n",
       "    <tr>\n",
       "      <th>article_id</th>\n",
       "      <th>paragraph_id</th>\n",
       "      <th></th>\n",
       "      <th></th>\n",
       "      <th></th>\n",
       "    </tr>\n",
       "  </thead>\n",
       "  <tbody>\n",
       "    <tr>\n",
       "      <th rowspan=\"4\" valign=\"top\">1</th>\n",
       "      <th>1</th>\n",
       "      <td>Huizen 12% duurder in november, grootste stijg...</td>\n",
       "      <td>Bouw &amp; Vastgoed</td>\n",
       "      <td>2024-12-23</td>\n",
       "    </tr>\n",
       "    <tr>\n",
       "      <th>2</th>\n",
       "      <td>Na jarenlange dalingen van de huizenprijzen be...</td>\n",
       "      <td>Bouw &amp; Vastgoed</td>\n",
       "      <td>2024-12-23</td>\n",
       "    </tr>\n",
       "    <tr>\n",
       "      <th>3</th>\n",
       "      <td>In november wisselden 17.973 woningen van eige...</td>\n",
       "      <td>Bouw &amp; Vastgoed</td>\n",
       "      <td>2024-12-23</td>\n",
       "    </tr>\n",
       "    <tr>\n",
       "      <th>4</th>\n",
       "      <td>Gecorrigeerd voor inflatie zijn de huizenprijz...</td>\n",
       "      <td>Bouw &amp; Vastgoed</td>\n",
       "      <td>2024-12-23</td>\n",
       "    </tr>\n",
       "    <tr>\n",
       "      <th rowspan=\"3\" valign=\"top\">2</th>\n",
       "      <th>1</th>\n",
       "      <td>Accountants Deloitte overtraden beroepsregels ...</td>\n",
       "      <td>Zakelijke Dienstverlening</td>\n",
       "      <td>2025-01-06</td>\n",
       "    </tr>\n",
       "    <tr>\n",
       "      <th>2</th>\n",
       "      <td>‘Passende maatregelen’ \\n‘Ons interne onderzoe...</td>\n",
       "      <td>Zakelijke Dienstverlening</td>\n",
       "      <td>2025-01-06</td>\n",
       "    </tr>\n",
       "    <tr>\n",
       "      <th>3</th>\n",
       "      <td>Scholen vinden lastig een accountant \\nDe onde...</td>\n",
       "      <td>Zakelijke Dienstverlening</td>\n",
       "      <td>2025-01-06</td>\n",
       "    </tr>\n",
       "  </tbody>\n",
       "</table>\n",
       "</div>"
      ],
      "text/plain": [
       "                                                                      text  \\\n",
       "article_id paragraph_id                                                      \n",
       "1          1             Huizen 12% duurder in november, grootste stijg...   \n",
       "           2             Na jarenlange dalingen van de huizenprijzen be...   \n",
       "           3             In november wisselden 17.973 woningen van eige...   \n",
       "           4             Gecorrigeerd voor inflatie zijn de huizenprijz...   \n",
       "2          1             Accountants Deloitte overtraden beroepsregels ...   \n",
       "           2             ‘Passende maatregelen’ \\n‘Ons interne onderzoe...   \n",
       "           3             Scholen vinden lastig een accountant \\nDe onde...   \n",
       "\n",
       "                                             group publication_date  \n",
       "article_id paragraph_id                                              \n",
       "1          1                       Bouw & Vastgoed       2024-12-23  \n",
       "           2                       Bouw & Vastgoed       2024-12-23  \n",
       "           3                       Bouw & Vastgoed       2024-12-23  \n",
       "           4                       Bouw & Vastgoed       2024-12-23  \n",
       "2          1             Zakelijke Dienstverlening       2025-01-06  \n",
       "           2             Zakelijke Dienstverlening       2025-01-06  \n",
       "           3             Zakelijke Dienstverlening       2025-01-06  "
      ]
     },
     "execution_count": 89,
     "metadata": {},
     "output_type": "execute_result"
    }
   ],
   "source": [
    "df_experiment"
   ]
  },
  {
   "cell_type": "code",
   "execution_count": 90,
   "id": "57574524-fe00-40e4-bd0a-cac9155457bc",
   "metadata": {},
   "outputs": [],
   "source": [
    "# Load the 'nl_core_news_sm' model\n",
    "nlp = spacy.load('nl_core_news_sm')\n",
    "\n",
    "# Add [NEWLINE] as a single token so that it is not split into 3 seperate tokens\n",
    "special_cases = {\"[NEWLINE]\": [{\"ORTH\": \"[NEWLINE]\"}]}\n",
    "nlp.tokenizer.add_special_case(\"[NEWLINE]\", [{\"ORTH\": \"[NEWLINE]\"}])\n",
    "\n",
    "df_experiment_clean = df_experiment.copy()\n",
    "df_experiment_clean['original_text'] = df_experiment_clean['text'].copy()\n",
    "df_experiment_clean = df_experiment_clean[['original_text', 'text', 'group']]"
   ]
  },
  {
   "cell_type": "code",
   "execution_count": 91,
   "id": "c32b23e3-013b-41af-9491-87f016a760b9",
   "metadata": {},
   "outputs": [],
   "source": [
    "def case_normalization(text):\n",
    "    \"\"\"Returns string of input containing only lowercase letters apart from [NEWLINE], which replaces \\n\"\"\"\n",
    "    text = text.lower()\n",
    "    text = text.replace('\\n', ' [NEWLINE] ')\n",
    "    while text != text.replace('  ', ' '):\n",
    "        text = text.replace('  ', ' ')\n",
    "    return text\n",
    "\n",
    "df_experiment_clean['text'] = df_experiment_clean['text'].apply(case_normalization)"
   ]
  },
  {
   "cell_type": "code",
   "execution_count": 92,
   "id": "3ab99f3c-7e25-449b-865c-b2761c1952f9",
   "metadata": {},
   "outputs": [],
   "source": [
    "def remove_punctuation(text):\n",
    "    \"\"\"Returns the input text with all punctuation removed\"\"\"\n",
    "    \n",
    "    text = text.translate(text.maketrans(\"\", \"\", string.punctuation))\n",
    "    text = text.replace(\"NEWLINE\", \"[NEWLINE]\")\n",
    "    return text\n",
    "\n",
    "df_experiment_clean['text'] = df_experiment_clean['text'].apply(remove_punctuation)"
   ]
  },
  {
   "cell_type": "code",
   "execution_count": 93,
   "id": "e2abb0bc-3f3f-4035-a94d-1553ae1159a9",
   "metadata": {},
   "outputs": [],
   "source": [
    "def remove_stopwords(text):\n",
    "    \"\"\"Returns string of input text with stopwords removed\"\"\"\n",
    "    \n",
    "    doc = nlp(text)\n",
    "    filtered_words = [token.text for token in doc if not token.is_stop]\n",
    "    text = \" \".join(filtered_words)\n",
    "    return text\n",
    "    \n",
    "    \n",
    "# nlp = spacy.load(\"nl_core_news_sm\")\n",
    "df_experiment_clean['text'] = df_experiment_clean['text'].apply(remove_stopwords)"
   ]
  },
  {
   "cell_type": "code",
   "execution_count": 94,
   "id": "5f233960-d718-445f-8458-5fcf6fad811d",
   "metadata": {},
   "outputs": [],
   "source": [
    "def lemmatization(df, text_column=\"text\", output_column=\"text\"):\n",
    "    \"\"\"Lemmatizes the text in a specified column of a DataFrame and adds the results to a new column.\"\"\"\n",
    "    \n",
    "    # Ensure the input column exists in the DataFrame\n",
    "    if text_column not in df.columns:\n",
    "        raise ValueError(f\"Column '{text_column}' does not exist in the DataFrame.\")\n",
    "        \n",
    "    # Apply SpaCy processing and lemmatization\n",
    "    df[output_column] = df[text_column].apply(\n",
    "        lambda text: \" \".join([token.lemma_ for token in nlp(text) if not token.is_punct and not token.is_space]))\n",
    "    \n",
    "    return df\n",
    "\n",
    "df_experiment_clean['text before lemmatization'] = df_experiment_clean['text'].copy()\n",
    "df_experiment_clean = lemmatization(df_experiment_clean, text_column=\"text\")"
   ]
  },
  {
   "cell_type": "code",
   "execution_count": 95,
   "id": "2463024d-b119-4d23-b838-bd823614efb5",
   "metadata": {},
   "outputs": [],
   "source": [
    "def POS_tagging(text):\n",
    "    \"\"\"Returns a list of (token, POS tag) tuples for the input text\"\"\"\n",
    "    doc = nlp(text)\n",
    "    pos_tags = [(token.text, token.pos_) for token in doc]\n",
    "    return pos_tags\n",
    "\n",
    "df_experiment_clean['pos_tags'] = df_experiment_clean['text'].apply(POS_tagging)"
   ]
  },
  {
   "cell_type": "code",
   "execution_count": 96,
   "id": "53961193-226e-4960-b8e7-afd6b8f5e886",
   "metadata": {},
   "outputs": [
    {
     "data": {
      "text/html": [
       "<div>\n",
       "<style scoped>\n",
       "    .dataframe tbody tr th:only-of-type {\n",
       "        vertical-align: middle;\n",
       "    }\n",
       "\n",
       "    .dataframe tbody tr th {\n",
       "        vertical-align: top;\n",
       "    }\n",
       "\n",
       "    .dataframe thead th {\n",
       "        text-align: right;\n",
       "    }\n",
       "</style>\n",
       "<table border=\"1\" class=\"dataframe\">\n",
       "  <thead>\n",
       "    <tr style=\"text-align: right;\">\n",
       "      <th></th>\n",
       "      <th></th>\n",
       "      <th>original_text</th>\n",
       "      <th>text</th>\n",
       "      <th>group</th>\n",
       "      <th>text before lemmatization</th>\n",
       "      <th>pos_tags</th>\n",
       "    </tr>\n",
       "    <tr>\n",
       "      <th>article_id</th>\n",
       "      <th>paragraph_id</th>\n",
       "      <th></th>\n",
       "      <th></th>\n",
       "      <th></th>\n",
       "      <th></th>\n",
       "      <th></th>\n",
       "    </tr>\n",
       "  </thead>\n",
       "  <tbody>\n",
       "    <tr>\n",
       "      <th rowspan=\"4\" valign=\"top\">1</th>\n",
       "      <th>1</th>\n",
       "      <td>Huizen 12% duurder in november, grootste stijg...</td>\n",
       "      <td>huis 12 duur november groot stijging ruim twee...</td>\n",
       "      <td>Bouw &amp; Vastgoed</td>\n",
       "      <td>huizen 12 duurder november grootste stijging r...</td>\n",
       "      <td>[(huis, NOUN), (12, NUM), (duur, NOUN), (novem...</td>\n",
       "    </tr>\n",
       "    <tr>\n",
       "      <th>2</th>\n",
       "      <td>Na jarenlange dalingen van de huizenprijzen be...</td>\n",
       "      <td>jarenlange daling huizenprijzen beginnen 2013 ...</td>\n",
       "      <td>Bouw &amp; Vastgoed</td>\n",
       "      <td>jarenlange dalingen huizenprijzen begonnen 201...</td>\n",
       "      <td>[(jarenlange, ADJ), (daling, NOUN), (huizenpri...</td>\n",
       "    </tr>\n",
       "    <tr>\n",
       "      <th>3</th>\n",
       "      <td>In november wisselden 17.973 woningen van eige...</td>\n",
       "      <td>november wisselden 17973 woning eigenaar 18 tr...</td>\n",
       "      <td>Bouw &amp; Vastgoed</td>\n",
       "      <td>november wisselden 17973 woningen eigenaar 18 ...</td>\n",
       "      <td>[(november, PROPN), (wisselden, VERB), (17973,...</td>\n",
       "    </tr>\n",
       "    <tr>\n",
       "      <th>4</th>\n",
       "      <td>Gecorrigeerd voor inflatie zijn de huizenprijz...</td>\n",
       "      <td>corrigeren inflatie huizenprijzen Nederland 20...</td>\n",
       "      <td>Bouw &amp; Vastgoed</td>\n",
       "      <td>gecorrigeerd inflatie huizenprijzen nederland ...</td>\n",
       "      <td>[(corrigeren, ADJ), (inflatie, NOUN), (huizenp...</td>\n",
       "    </tr>\n",
       "    <tr>\n",
       "      <th rowspan=\"3\" valign=\"top\">2</th>\n",
       "      <th>1</th>\n",
       "      <td>Accountants Deloitte overtraden beroepsregels ...</td>\n",
       "      <td>accountant deloiten overtraen beroepsregel ond...</td>\n",
       "      <td>Zakelijke Dienstverlening</td>\n",
       "      <td>accountants deloitte overtraden beroepsregels ...</td>\n",
       "      <td>[(accountant, NOUN), (deloiten, VERB), (overtr...</td>\n",
       "    </tr>\n",
       "    <tr>\n",
       "      <th>2</th>\n",
       "      <td>‘Passende maatregelen’ \\n‘Ons interne onderzoe...</td>\n",
       "      <td>passen maatregel [NEWLINE] intern onderzoek af...</td>\n",
       "      <td>Zakelijke Dienstverlening</td>\n",
       "      <td>‘ passende maatregelen ’ [NEWLINE] ‘ interne o...</td>\n",
       "      <td>[(passen, VERB), (maatregel, NOUN), ([NEWLINE]...</td>\n",
       "    </tr>\n",
       "    <tr>\n",
       "      <th>3</th>\n",
       "      <td>Scholen vinden lastig een accountant \\nDe onde...</td>\n",
       "      <td>school vinden lastig accountant [NEWLINE] onde...</td>\n",
       "      <td>Zakelijke Dienstverlening</td>\n",
       "      <td>scholen vinden lastig accountant [NEWLINE] ond...</td>\n",
       "      <td>[(school, NOUN), (vinden, VERB), (lastig, ADJ)...</td>\n",
       "    </tr>\n",
       "  </tbody>\n",
       "</table>\n",
       "</div>"
      ],
      "text/plain": [
       "                                                             original_text  \\\n",
       "article_id paragraph_id                                                      \n",
       "1          1             Huizen 12% duurder in november, grootste stijg...   \n",
       "           2             Na jarenlange dalingen van de huizenprijzen be...   \n",
       "           3             In november wisselden 17.973 woningen van eige...   \n",
       "           4             Gecorrigeerd voor inflatie zijn de huizenprijz...   \n",
       "2          1             Accountants Deloitte overtraden beroepsregels ...   \n",
       "           2             ‘Passende maatregelen’ \\n‘Ons interne onderzoe...   \n",
       "           3             Scholen vinden lastig een accountant \\nDe onde...   \n",
       "\n",
       "                                                                      text  \\\n",
       "article_id paragraph_id                                                      \n",
       "1          1             huis 12 duur november groot stijging ruim twee...   \n",
       "           2             jarenlange daling huizenprijzen beginnen 2013 ...   \n",
       "           3             november wisselden 17973 woning eigenaar 18 tr...   \n",
       "           4             corrigeren inflatie huizenprijzen Nederland 20...   \n",
       "2          1             accountant deloiten overtraen beroepsregel ond...   \n",
       "           2             passen maatregel [NEWLINE] intern onderzoek af...   \n",
       "           3             school vinden lastig accountant [NEWLINE] onde...   \n",
       "\n",
       "                                             group  \\\n",
       "article_id paragraph_id                              \n",
       "1          1                       Bouw & Vastgoed   \n",
       "           2                       Bouw & Vastgoed   \n",
       "           3                       Bouw & Vastgoed   \n",
       "           4                       Bouw & Vastgoed   \n",
       "2          1             Zakelijke Dienstverlening   \n",
       "           2             Zakelijke Dienstverlening   \n",
       "           3             Zakelijke Dienstverlening   \n",
       "\n",
       "                                                 text before lemmatization  \\\n",
       "article_id paragraph_id                                                      \n",
       "1          1             huizen 12 duurder november grootste stijging r...   \n",
       "           2             jarenlange dalingen huizenprijzen begonnen 201...   \n",
       "           3             november wisselden 17973 woningen eigenaar 18 ...   \n",
       "           4             gecorrigeerd inflatie huizenprijzen nederland ...   \n",
       "2          1             accountants deloitte overtraden beroepsregels ...   \n",
       "           2             ‘ passende maatregelen ’ [NEWLINE] ‘ interne o...   \n",
       "           3             scholen vinden lastig accountant [NEWLINE] ond...   \n",
       "\n",
       "                                                                  pos_tags  \n",
       "article_id paragraph_id                                                     \n",
       "1          1             [(huis, NOUN), (12, NUM), (duur, NOUN), (novem...  \n",
       "           2             [(jarenlange, ADJ), (daling, NOUN), (huizenpri...  \n",
       "           3             [(november, PROPN), (wisselden, VERB), (17973,...  \n",
       "           4             [(corrigeren, ADJ), (inflatie, NOUN), (huizenp...  \n",
       "2          1             [(accountant, NOUN), (deloiten, VERB), (overtr...  \n",
       "           2             [(passen, VERB), (maatregel, NOUN), ([NEWLINE]...  \n",
       "           3             [(school, NOUN), (vinden, VERB), (lastig, ADJ)...  "
      ]
     },
     "execution_count": 96,
     "metadata": {},
     "output_type": "execute_result"
    }
   ],
   "source": [
    "df_experiment_clean"
   ]
  },
  {
   "cell_type": "code",
   "execution_count": 97,
   "id": "0fbb4c64-7c1b-4c2b-8bd4-8f944861ca93",
   "metadata": {},
   "outputs": [
    {
     "data": {
      "text/plain": [
       "0.42857142857142855"
      ]
     },
     "execution_count": 97,
     "metadata": {},
     "output_type": "execute_result"
    }
   ],
   "source": [
    "# Now we feed the data to the best model we found\n",
    "\n",
    "df[\"label\"] = df[\"group\"].astype(\"category\").cat.codes \n",
    "df_experiment_clean[\"label\"] = df_experiment_clean[\"group\"].astype(\"category\").cat.codes \n",
    "df_train, df_test = train_test_split(df, test_size=0.15, stratify=df[\"label\"], random_state=42)\n",
    "\n",
    "# Though we do not need to retrain the model, we do need to fit_transform it using tf-idf so that we can transform X_test the same way.\n",
    "vectorizer = TfidfVectorizer(max_features=10_000)\n",
    "X_train = vectorizer.fit_transform(df_train[\"text\"])\n",
    "X_test = vectorizer.transform(df_experiment_clean[\"text\"])\n",
    "y_test = df_experiment_clean[\"label\"]\n",
    "\n",
    "y_pred = final_nb.predict(X_test)\n",
    "test_accuracy = accuracy_score(y_test, final_nb.predict(X_test))\n",
    "test_accuracy"
   ]
  },
  {
   "cell_type": "code",
   "execution_count": 98,
   "id": "60a42a5b-f3e4-4bdc-95ba-bd7e3cd06c36",
   "metadata": {},
   "outputs": [
    {
     "data": {
      "text/plain": [
       "array([0, 0, 0, 1, 2, 2, 2], dtype=int8)"
      ]
     },
     "execution_count": 98,
     "metadata": {},
     "output_type": "execute_result"
    }
   ],
   "source": [
    "y_pred"
   ]
  },
  {
   "cell_type": "markdown",
   "id": "85397399-e70f-41e2-8a37-c5e2da874354",
   "metadata": {},
   "source": [
    "We can see that the classifier performs quite well for the first article (75% accurate). For the 2nd article however, all paragraphs have been classified incorrectly."
   ]
  },
  {
   "cell_type": "markdown",
   "id": "7b0fcedc-507d-49cb-adec-1955dd2ed15d",
   "metadata": {},
   "source": [
    "# Adding class 5 (uncertain class) to the classifier"
   ]
  },
  {
   "cell_type": "markdown",
   "id": "9dcc9559-ee61-48be-b3f4-34c30a168327",
   "metadata": {},
   "source": [
    "Firstly, we start by visualizing the following 2 aspects of our resulting classifier: <br>\n",
    "> - The maximum predicted probability amongs the 4 classes for each individual instance\n",
    "> - The difference in predicted probability between the most and second most likely class for each individual instance."
   ]
  },
  {
   "cell_type": "code",
   "execution_count": 99,
   "id": "f2fa63c4-3116-42d3-acac-528fca5fe918",
   "metadata": {},
   "outputs": [],
   "source": [
    "X_train_final_model, y_train_final_model = data_final_model[0][0], data_final_model[0][1]\n",
    "X_val_final_model, y_val_final_model = data_final_model[1][0], data_final_model[1][1]\n",
    "X_test_final_model, y_test_final_model = data_final_model[2][0], data_final_model[2][1]\n",
    "\n",
    "y_pred_test = final_nb.predict(X_test_final_model)\n",
    "y_pred_test_proba = final_nb.predict_proba(X_test_final_model)\n",
    "y_pred_test_proba_max = [max(probs) for probs in y_pred_test_proba]\n",
    "y_pred_test_proba_diff = [sorted(probs, reverse=True)[0] - sorted(probs, reverse=True)[1] for probs in y_pred_test_proba]"
   ]
  },
  {
   "cell_type": "code",
   "execution_count": 100,
   "id": "c2afbf0a-adf3-4719-9666-0ff829caf5fd",
   "metadata": {},
   "outputs": [
    {
     "data": {
      "text/plain": [
       "array([[1.02423130e-03, 9.97956077e-01, 6.20817610e-04, 3.98874408e-04],\n",
       "       [4.75133430e-01, 6.39720197e-03, 9.62631797e-02, 4.22206189e-01],\n",
       "       [7.11539071e-03, 1.10241439e-02, 2.52251492e-01, 7.29608974e-01],\n",
       "       [4.21086309e-04, 9.91928055e-01, 7.04370868e-03, 6.07150327e-04],\n",
       "       [1.23921060e-02, 9.27839105e-01, 5.30231987e-02, 6.74559048e-03],\n",
       "       [2.54415020e-03, 1.22969005e-03, 4.24841561e-04, 9.95801318e-01],\n",
       "       [5.38518564e-03, 5.23607611e-03, 1.28602384e-03, 9.88092714e-01],\n",
       "       [1.21408882e-04, 1.42305923e-03, 9.98220409e-01, 2.35122782e-04],\n",
       "       [9.12235630e-03, 9.22527698e-01, 4.76014658e-02, 2.07484796e-02],\n",
       "       [7.99680685e-04, 1.53200911e-02, 9.79804536e-01, 4.07569232e-03],\n",
       "       [9.94035344e-01, 6.69278182e-04, 3.34897157e-03, 1.94640587e-03],\n",
       "       [2.52562782e-03, 9.89517129e-01, 5.99395500e-03, 1.96328811e-03],\n",
       "       [4.86038306e-01, 6.21758848e-02, 3.75535289e-02, 4.14232280e-01],\n",
       "       [1.31140337e-03, 9.96501010e-01, 4.47236304e-04, 1.74034984e-03],\n",
       "       [1.19620929e-02, 8.91166517e-01, 6.64906815e-02, 3.03807089e-02],\n",
       "       [5.96567582e-01, 3.43890086e-01, 1.60552899e-02, 4.34870418e-02],\n",
       "       [5.98941039e-02, 9.26237038e-01, 7.21455616e-03, 6.65430188e-03],\n",
       "       [5.36997831e-03, 9.83766276e-01, 9.85190470e-03, 1.01184131e-03],\n",
       "       [6.90396127e-03, 3.18441353e-02, 9.58858867e-01, 2.39303597e-03],\n",
       "       [9.97793059e-01, 2.63360664e-04, 6.05226804e-04, 1.33835390e-03],\n",
       "       [1.27132762e-03, 1.80447678e-03, 2.16371305e-03, 9.94760483e-01],\n",
       "       [4.37727710e-03, 1.69865449e-02, 9.56184794e-01, 2.24513845e-02],\n",
       "       [2.51452547e-03, 5.59290082e-03, 9.82321997e-01, 9.57057653e-03],\n",
       "       [7.86143002e-01, 2.35526423e-02, 1.88053978e-01, 2.25037753e-03],\n",
       "       [9.99546037e-01, 2.95372026e-04, 6.53145013e-05, 9.32764717e-05],\n",
       "       [3.53532305e-03, 2.56066466e-03, 8.61901637e-03, 9.85284996e-01],\n",
       "       [6.63009748e-01, 9.53633516e-02, 7.44600884e-02, 1.67166812e-01],\n",
       "       [7.93615434e-01, 1.02359577e-01, 8.84356957e-02, 1.55892935e-02],\n",
       "       [5.89659125e-03, 9.43393733e-01, 1.73675799e-02, 3.33420960e-02],\n",
       "       [2.26490630e-01, 2.00163915e-01, 5.32481436e-01, 4.08640191e-02],\n",
       "       [4.74086897e-05, 9.98464914e-01, 2.71708479e-04, 1.21596877e-03],\n",
       "       [9.78542901e-01, 1.61416072e-02, 1.66097824e-03, 3.65451339e-03],\n",
       "       [9.97375730e-01, 4.43551253e-04, 1.60063137e-04, 2.02065581e-03],\n",
       "       [9.22190306e-01, 4.38255696e-02, 3.16524537e-02, 2.33167060e-03],\n",
       "       [5.12778761e-05, 9.99644433e-01, 1.87870673e-04, 1.16418101e-04],\n",
       "       [9.98205015e-01, 2.31002069e-04, 1.31600317e-03, 2.47979875e-04],\n",
       "       [1.95551135e-04, 9.99768055e-01, 2.59158301e-05, 1.04783167e-05],\n",
       "       [9.99730416e-01, 2.23523571e-07, 9.74531977e-06, 2.59615338e-04],\n",
       "       [6.44719670e-04, 2.29515221e-04, 9.91453580e-01, 7.67218491e-03],\n",
       "       [9.40208323e-01, 5.95004099e-03, 4.95052108e-02, 4.33642527e-03],\n",
       "       [1.09354031e-01, 7.77159630e-01, 9.37153073e-02, 1.97710310e-02],\n",
       "       [9.65718074e-01, 7.22326554e-03, 2.09412343e-02, 6.11742650e-03],\n",
       "       [3.19363682e-01, 1.95522945e-01, 4.11342414e-01, 7.37709584e-02],\n",
       "       [4.59217161e-03, 3.20629616e-01, 6.16299306e-01, 5.84789066e-02],\n",
       "       [3.06396639e-03, 4.61612205e-02, 9.48977474e-01, 1.79733865e-03],\n",
       "       [9.99967119e-01, 1.14631775e-05, 6.74592547e-06, 1.46715185e-05],\n",
       "       [1.73666824e-03, 9.85077303e-01, 1.14492046e-02, 1.73682399e-03],\n",
       "       [6.99962070e-01, 2.14587712e-02, 2.65978866e-01, 1.26002928e-02],\n",
       "       [1.29220460e-05, 9.98965695e-01, 1.00707711e-03, 1.43055998e-05]])"
      ]
     },
     "execution_count": 100,
     "metadata": {},
     "output_type": "execute_result"
    }
   ],
   "source": [
    "y_pred_test_proba"
   ]
  },
  {
   "cell_type": "code",
   "execution_count": 101,
   "id": "ad07796f-0490-4bd4-a119-aeeaa6e6d548",
   "metadata": {},
   "outputs": [
    {
     "data": {
      "image/png": "[encoded data removed]",
      "text/plain": [
       "<Figure size 1200x500 with 2 Axes>"
      ]
     },
     "metadata": {},
     "output_type": "display_data"
    }
   ],
   "source": [
    "fig, axes = plt.subplots(1, 2, figsize=(12, 5))  # 1 row, 2 columns\n",
    "\n",
    "# First histogram (Max Probability)\n",
    "axes[0].hist(y_pred_test_proba_max, bins=20, edgecolor='black', alpha=0.7)\n",
    "axes[0].set_xlabel('Max Probability')\n",
    "axes[0].set_ylabel('Frequency')\n",
    "axes[0].set_title('Distribution of Max Probabilities')\n",
    "\n",
    "# Second histogram (Difference between Top 2 Probabilities)\n",
    "axes[1].hist(y_pred_test_proba_diff, bins=20, edgecolor='black', alpha=0.7)\n",
    "axes[1].set_xlabel('Probability Difference')\n",
    "axes[1].set_ylabel('Frequency')\n",
    "axes[1].set_title('Distribution of Probability Differences')\n",
    "\n",
    "# Adjust layout\n",
    "plt.tight_layout()\n",
    "plt.show()"
   ]
  },
  {
   "cell_type": "markdown",
   "id": "edde9631-c9f1-47eb-8b82-916a5a105d9e",
   "metadata": {},
   "source": [
    "Now we add the functionality to predict the 5th class, the uncentain class"
   ]
  },
  {
   "cell_type": "code",
   "execution_count": 103,
   "id": "de909a14-8ea1-4101-bd5f-9db0b28d5176",
   "metadata": {},
   "outputs": [],
   "source": [
    "def predict_including_unknown(classifier, X, threshold=0.4, margin=0.2):\n",
    "    \"\"\"\n",
    "    Predicts class labels for X, with an additional 'Unknown' class if:\n",
    "    1. No class probability exceeds the threshold.\n",
    "    2. The highest probability is not at least (1 + margin) times the second highest.\n",
    "    \n",
    "    :param classifier: A trained Naïve Bayes classifier with predict_proba().\n",
    "    :param X: Input features.\n",
    "    :param threshold: Minimum probability a class must exceed.\n",
    "    :param margin: Minimum percentage difference between the top 2 classes.\n",
    "    :return: Array of predicted labels, with 'Unknown' for uncertain predictions.\n",
    "    \"\"\"\n",
    "    probas = classifier.predict_proba(X)  # Get probability estimates\n",
    "    classes = classifier.classes_  # Get class labels\n",
    "    predictions = []\n",
    "\n",
    "    for probs in probas:\n",
    "        max_prob = np.max(probs)\n",
    "        sorted_probs = np.sort(probs)[::-1]  # Sort in descending order\n",
    "        second_max_prob = sorted_probs[1] if len(sorted_probs) > 1 else 0\n",
    "\n",
    "        # Check for uncertainty conditions\n",
    "        if max_prob < threshold or max_prob < (1 + margin) * second_max_prob:\n",
    "            predictions.append(5)\n",
    "        else:\n",
    "            predictions.append(classes[np.argmax(probs)])\n",
    "\n",
    "    return np.array(predictions)"
   ]
  },
  {
   "cell_type": "code",
   "execution_count": 104,
   "id": "4c706bd8-f925-4a63-9ae6-e68f848a97fd",
   "metadata": {},
   "outputs": [],
   "source": [
    "def filtered_accuracy(classifier, X_test, y_test, threshold=0.4, margin=0.2):\n",
    "    \"\"\"\n",
    "    Computes accuracy on instances where a reliable prediction is made.\n",
    "\n",
    "    :param classifier: A trained Naïve Bayes classifier with predict_proba().\n",
    "    :param X_test: Test feature matrix.\n",
    "    :param y_test: True labels for X_test.\n",
    "    :param threshold: Minimum probability a class must exceed.\n",
    "    :param margin: Minimum percentage difference between the top 2 classes.\n",
    "    :return: Accuracy computed only on reliable predictions.\n",
    "    \"\"\"\n",
    "    y_pred = predict_including_unknown(classifier, X_test, threshold, margin)\n",
    "    \n",
    "    # Filter out \"Unknown\" predictions\n",
    "    mask = y_pred != 5\n",
    "    filtered_y_pred = y_pred[mask]\n",
    "    filtered_y_test = y_test[mask]\n",
    "    \n",
    "    # Compute accuracy only on valid predictions\n",
    "    if len(filtered_y_test) == 0:\n",
    "        return None  # Avoid division by zero, no reliable predictions made\n",
    "\n",
    "    accuracy = np.mean(filtered_y_pred == filtered_y_test)\n",
    "    return accuracy"
   ]
  },
  {
   "cell_type": "code",
   "execution_count": 107,
   "id": "5e154f79-2249-42d8-8e47-fd48314bf8d4",
   "metadata": {},
   "outputs": [
    {
     "name": "stdout",
     "output_type": "stream",
     "text": [
      "Threshold=0.2, Margin=0.1: 0.00% unknown & 91.84% accurate\n",
      "Threshold=0.2, Margin=0.15: 2.04% unknown & 91.67% accurate\n",
      "Threshold=0.2, Margin=0.2: 4.08% unknown & 91.49% accurate\n",
      "Threshold=0.2, Margin=0.25: 4.08% unknown & 91.49% accurate\n",
      "Threshold=0.2, Margin=0.3: 6.12% unknown & 93.48% accurate\n",
      "Threshold=0.2, Margin=0.35: 6.12% unknown & 93.48% accurate\n",
      "Threshold=0.3, Margin=0.1: 0.00% unknown & 91.84% accurate\n",
      "Threshold=0.3, Margin=0.15: 2.04% unknown & 91.67% accurate\n",
      "Threshold=0.3, Margin=0.2: 4.08% unknown & 91.49% accurate\n",
      "Threshold=0.3, Margin=0.25: 4.08% unknown & 91.49% accurate\n",
      "Threshold=0.3, Margin=0.3: 6.12% unknown & 93.48% accurate\n",
      "Threshold=0.3, Margin=0.35: 6.12% unknown & 93.48% accurate\n",
      "Threshold=0.4, Margin=0.1: 0.00% unknown & 91.84% accurate\n",
      "Threshold=0.4, Margin=0.15: 2.04% unknown & 91.67% accurate\n",
      "Threshold=0.4, Margin=0.2: 4.08% unknown & 91.49% accurate\n",
      "Threshold=0.4, Margin=0.25: 4.08% unknown & 91.49% accurate\n",
      "Threshold=0.4, Margin=0.3: 6.12% unknown & 93.48% accurate\n",
      "Threshold=0.4, Margin=0.35: 6.12% unknown & 93.48% accurate\n",
      "Threshold=0.5, Margin=0.1: 6.12% unknown & 93.48% accurate\n",
      "Threshold=0.5, Margin=0.15: 6.12% unknown & 93.48% accurate\n",
      "Threshold=0.5, Margin=0.2: 6.12% unknown & 93.48% accurate\n",
      "Threshold=0.5, Margin=0.25: 6.12% unknown & 93.48% accurate\n",
      "Threshold=0.5, Margin=0.3: 6.12% unknown & 93.48% accurate\n",
      "Threshold=0.5, Margin=0.35: 6.12% unknown & 93.48% accurate\n",
      "Threshold=0.6, Margin=0.1: 10.20% unknown & 93.18% accurate\n",
      "Threshold=0.6, Margin=0.15: 10.20% unknown & 93.18% accurate\n",
      "Threshold=0.6, Margin=0.2: 10.20% unknown & 93.18% accurate\n",
      "Threshold=0.6, Margin=0.25: 10.20% unknown & 93.18% accurate\n",
      "Threshold=0.6, Margin=0.3: 10.20% unknown & 93.18% accurate\n",
      "Threshold=0.6, Margin=0.35: 10.20% unknown & 93.18% accurate\n"
     ]
    }
   ],
   "source": [
    "thresholds = [0.2, 0.3, 0.4, 0.5, 0.6]\n",
    "margins = [0.1, 0.15, 0.2, 0.25, 0.3, 0.35]\n",
    "\n",
    "for threshold in thresholds:\n",
    "    for margin in margins:\n",
    "        y_pred_incl_unknown = predict_including_unknown(final_nb, X_test_final_model, threshold=threshold, margin=margin)\n",
    "        unknown_count = sum(1 for x in y_pred_incl_unknown if x == 5)\n",
    "        unknown_rate = unknown_count / len(y_pred_incl_unknown)\n",
    "        accuracy = filtered_accuracy(final_nb, X_test_final_model, y_test_final_model, threshold=threshold, margin=margin)\n",
    "        print(f\"Threshold={threshold}, Margin={margin}: {unknown_rate * 100:.2f}% unknown & {accuracy * 100:.2f}% accurate\")"
   ]
  },
  {
   "cell_type": "markdown",
   "id": "c0f0647e-f8de-45d4-85d8-f824c737cdec",
   "metadata": {},
   "source": [
    "# Feature Importance"
   ]
  },
  {
   "cell_type": "code",
   "execution_count": 121,
   "id": "8a7426d2-b100-4726-9885-d545552f346b",
   "metadata": {},
   "outputs": [
    {
     "name": "stdout",
     "output_type": "stream",
     "text": [
      "             Class_0   Class_1    Class_2    Class_3\n",
      "newline    -3.546234 -3.483929  -3.538235  -3.586221\n",
      "bedrijf    -6.465093 -5.432861  -5.643931  -8.502575\n",
      "europees   -8.432192 -5.733153  -7.041867  -7.874670\n",
      "nederland  -5.916017 -5.742719  -6.460041  -7.269483\n",
      "tata      -10.896467 -5.770852 -10.753952 -10.479549\n",
      "industrie -10.896467 -5.815399 -10.753952 -10.479549\n",
      "komen      -6.254255 -5.833063  -6.423120  -6.076283\n",
      "land       -7.196824 -5.836295  -7.855445  -8.127617\n",
      "steel     -10.896467 -5.842049 -10.753952 -10.479549\n",
      "jaar       -5.613876 -5.876653  -5.397837  -5.728953\n"
     ]
    }
   ],
   "source": [
    "# Assuming final_nb is already trained\n",
    "# Extract feature log probabilities\n",
    "feature_probs = final_nb.feature_log_prob_\n",
    "\n",
    "# Assuming you also have a fitted CountVectorizer\n",
    "feature_names = final_nb_vectorizer.get_feature_names_out()\n",
    "\n",
    "# Convert to DataFrame for better readability\n",
    "feature_importance_df = pd.DataFrame(\n",
    "    feature_probs.T,  # Transpose so features are rows\n",
    "    index=feature_names,\n",
    "    columns=[f\"Class_{c}\" for c in final_nb.classes_]\n",
    ")\n",
    "\n",
    "# Sort by importance for a specific class (e.g., Class_1)\n",
    "feature_importance_df_sorted = feature_importance_df.sort_values(by=\"Class_1\", ascending=False)\n",
    "\n",
    "# Display top features per class\n",
    "print(feature_importance_df_sorted.head(10))"
   ]
  },
  {
   "cell_type": "code",
   "execution_count": null,
   "id": "b73c543b-b54b-4e9a-8982-2bb4964b4572",
   "metadata": {},
   "outputs": [],
   "source": []
  },
  {
   "cell_type": "code",
   "execution_count": null,
   "id": "123308a3-0960-4430-8f3b-7dc55df05652",
   "metadata": {},
   "outputs": [],
   "source": []
  },
  {
   "cell_type": "code",
   "execution_count": null,
   "id": "db14c3bb-e561-415a-a7f3-8c5d60742a7b",
   "metadata": {},
   "outputs": [],
   "source": []
  },
  {
   "cell_type": "code",
   "execution_count": null,
   "id": "9753c8fb-1cb9-487b-8e0f-80cbae0b5ea1",
   "metadata": {},
   "outputs": [],
   "source": []
  },
  {
   "cell_type": "code",
   "execution_count": null,
   "id": "f484700f-a2d5-42fb-a12c-3c9c75a60712",
   "metadata": {},
   "outputs": [],
   "source": []
  },
  {
   "cell_type": "code",
   "execution_count": null,
   "id": "f155b5a8-a8cf-4593-9943-f01cdc8cbde4",
   "metadata": {},
   "outputs": [],
   "source": []
  },
  {
   "cell_type": "code",
   "execution_count": 114,
   "id": "b783de69-0c93-4a63-8d90-4602c5f794f1",
   "metadata": {},
   "outputs": [
    {
     "name": "stdout",
     "output_type": "stream",
     "text": [
      "        Class_0   Class_1    Class_2    Class_3\n",
      "4085  -3.546234 -3.483929  -3.538235  -3.586221\n",
      "814   -6.465093 -5.432861  -5.643931  -8.502575\n",
      "2135  -8.432192 -5.733153  -7.041867  -7.874670\n",
      "4039  -5.916017 -5.742719  -6.460041  -7.269483\n",
      "5740 -10.896467 -5.770852 -10.753952 -10.479549\n",
      "2929 -10.896467 -5.815399 -10.753952 -10.479549\n",
      "3328  -6.254255 -5.833063  -6.423120  -6.076283\n",
      "3452  -7.196824 -5.836295  -7.855445  -8.127617\n",
      "5589 -10.896467 -5.842049 -10.753952 -10.479549\n",
      "3119  -5.613876 -5.876653  -5.397837  -5.728953\n"
     ]
    }
   ],
   "source": [
    "# Extract feature log probabilities\n",
    "feature_probs = final_nb.feature_log_prob_\n",
    "\n",
    "# Create a DataFrame with feature indices instead of names\n",
    "feature_importance_df = pd.DataFrame(\n",
    "    feature_probs.T,  # Transpose so features are rows\n",
    "    index=range(feature_probs.shape[1]),  # Use feature indices as row labels\n",
    "    columns=[f\"Class_{c}\" for c in final_nb.classes_]\n",
    ")\n",
    "\n",
    "# Sort by importance for a specific class (e.g., Class_1)\n",
    "feature_importance_df_sorted = feature_importance_df.sort_values(by=\"Class_1\", ascending=False)\n",
    "\n",
    "# Display top 10 features per class\n",
    "print(feature_importance_df_sorted.head(10))"
   ]
  },
  {
   "cell_type": "code",
   "execution_count": 116,
   "id": "c304089c-0a6e-4fd0-a71f-d5092ea27683",
   "metadata": {},
   "outputs": [],
   "source": [
    "feature_names = [f\"Feature_{i}\" for i in range(X_train_final_model.shape[1])]"
   ]
  },
  {
   "cell_type": "code",
   "execution_count": 117,
   "id": "e0ea9e39-111a-4b1d-86ef-e33ef11ec4f0",
   "metadata": {},
   "outputs": [
    {
     "data": {
      "text/plain": [
       "['Feature_0',\n",
       " 'Feature_1',\n",
       " 'Feature_2',\n",
       " 'Feature_3',\n",
       " 'Feature_4',\n",
       " 'Feature_5',\n",
       " 'Feature_6',\n",
       " 'Feature_7',\n",
       " 'Feature_8',\n",
       " 'Feature_9',\n",
       " 'Feature_10',\n",
       " 'Feature_11',\n",
       " 'Feature_12',\n",
       " 'Feature_13',\n",
       " 'Feature_14',\n",
       " 'Feature_15',\n",
       " 'Feature_16',\n",
       " 'Feature_17',\n",
       " 'Feature_18',\n",
       " 'Feature_19',\n",
       " 'Feature_20',\n",
       " 'Feature_21',\n",
       " 'Feature_22',\n",
       " 'Feature_23',\n",
       " 'Feature_24',\n",
       " 'Feature_25',\n",
       " 'Feature_26',\n",
       " 'Feature_27',\n",
       " 'Feature_28',\n",
       " 'Feature_29',\n",
       " 'Feature_30',\n",
       " 'Feature_31',\n",
       " 'Feature_32',\n",
       " 'Feature_33',\n",
       " 'Feature_34',\n",
       " 'Feature_35',\n",
       " 'Feature_36',\n",
       " 'Feature_37',\n",
       " 'Feature_38',\n",
       " 'Feature_39',\n",
       " 'Feature_40',\n",
       " 'Feature_41',\n",
       " 'Feature_42',\n",
       " 'Feature_43',\n",
       " 'Feature_44',\n",
       " 'Feature_45',\n",
       " 'Feature_46',\n",
       " 'Feature_47',\n",
       " 'Feature_48',\n",
       " 'Feature_49',\n",
       " 'Feature_50',\n",
       " 'Feature_51',\n",
       " 'Feature_52',\n",
       " 'Feature_53',\n",
       " 'Feature_54',\n",
       " 'Feature_55',\n",
       " 'Feature_56',\n",
       " 'Feature_57',\n",
       " 'Feature_58',\n",
       " 'Feature_59',\n",
       " 'Feature_60',\n",
       " 'Feature_61',\n",
       " 'Feature_62',\n",
       " 'Feature_63',\n",
       " 'Feature_64',\n",
       " 'Feature_65',\n",
       " 'Feature_66',\n",
       " 'Feature_67',\n",
       " 'Feature_68',\n",
       " 'Feature_69',\n",
       " 'Feature_70',\n",
       " 'Feature_71',\n",
       " 'Feature_72',\n",
       " 'Feature_73',\n",
       " 'Feature_74',\n",
       " 'Feature_75',\n",
       " 'Feature_76',\n",
       " 'Feature_77',\n",
       " 'Feature_78',\n",
       " 'Feature_79',\n",
       " 'Feature_80',\n",
       " 'Feature_81',\n",
       " 'Feature_82',\n",
       " 'Feature_83',\n",
       " 'Feature_84',\n",
       " 'Feature_85',\n",
       " 'Feature_86',\n",
       " 'Feature_87',\n",
       " 'Feature_88',\n",
       " 'Feature_89',\n",
       " 'Feature_90',\n",
       " 'Feature_91',\n",
       " 'Feature_92',\n",
       " 'Feature_93',\n",
       " 'Feature_94',\n",
       " 'Feature_95',\n",
       " 'Feature_96',\n",
       " 'Feature_97',\n",
       " 'Feature_98',\n",
       " 'Feature_99',\n",
       " 'Feature_100',\n",
       " 'Feature_101',\n",
       " 'Feature_102',\n",
       " 'Feature_103',\n",
       " 'Feature_104',\n",
       " 'Feature_105',\n",
       " 'Feature_106',\n",
       " 'Feature_107',\n",
       " 'Feature_108',\n",
       " 'Feature_109',\n",
       " 'Feature_110',\n",
       " 'Feature_111',\n",
       " 'Feature_112',\n",
       " 'Feature_113',\n",
       " 'Feature_114',\n",
       " 'Feature_115',\n",
       " 'Feature_116',\n",
       " 'Feature_117',\n",
       " 'Feature_118',\n",
       " 'Feature_119',\n",
       " 'Feature_120',\n",
       " 'Feature_121',\n",
       " 'Feature_122',\n",
       " 'Feature_123',\n",
       " 'Feature_124',\n",
       " 'Feature_125',\n",
       " 'Feature_126',\n",
       " 'Feature_127',\n",
       " 'Feature_128',\n",
       " 'Feature_129',\n",
       " 'Feature_130',\n",
       " 'Feature_131',\n",
       " 'Feature_132',\n",
       " 'Feature_133',\n",
       " 'Feature_134',\n",
       " 'Feature_135',\n",
       " 'Feature_136',\n",
       " 'Feature_137',\n",
       " 'Feature_138',\n",
       " 'Feature_139',\n",
       " 'Feature_140',\n",
       " 'Feature_141',\n",
       " 'Feature_142',\n",
       " 'Feature_143',\n",
       " 'Feature_144',\n",
       " 'Feature_145',\n",
       " 'Feature_146',\n",
       " 'Feature_147',\n",
       " 'Feature_148',\n",
       " 'Feature_149',\n",
       " 'Feature_150',\n",
       " 'Feature_151',\n",
       " 'Feature_152',\n",
       " 'Feature_153',\n",
       " 'Feature_154',\n",
       " 'Feature_155',\n",
       " 'Feature_156',\n",
       " 'Feature_157',\n",
       " 'Feature_158',\n",
       " 'Feature_159',\n",
       " 'Feature_160',\n",
       " 'Feature_161',\n",
       " 'Feature_162',\n",
       " 'Feature_163',\n",
       " 'Feature_164',\n",
       " 'Feature_165',\n",
       " 'Feature_166',\n",
       " 'Feature_167',\n",
       " 'Feature_168',\n",
       " 'Feature_169',\n",
       " 'Feature_170',\n",
       " 'Feature_171',\n",
       " 'Feature_172',\n",
       " 'Feature_173',\n",
       " 'Feature_174',\n",
       " 'Feature_175',\n",
       " 'Feature_176',\n",
       " 'Feature_177',\n",
       " 'Feature_178',\n",
       " 'Feature_179',\n",
       " 'Feature_180',\n",
       " 'Feature_181',\n",
       " 'Feature_182',\n",
       " 'Feature_183',\n",
       " 'Feature_184',\n",
       " 'Feature_185',\n",
       " 'Feature_186',\n",
       " 'Feature_187',\n",
       " 'Feature_188',\n",
       " 'Feature_189',\n",
       " 'Feature_190',\n",
       " 'Feature_191',\n",
       " 'Feature_192',\n",
       " 'Feature_193',\n",
       " 'Feature_194',\n",
       " 'Feature_195',\n",
       " 'Feature_196',\n",
       " 'Feature_197',\n",
       " 'Feature_198',\n",
       " 'Feature_199',\n",
       " 'Feature_200',\n",
       " 'Feature_201',\n",
       " 'Feature_202',\n",
       " 'Feature_203',\n",
       " 'Feature_204',\n",
       " 'Feature_205',\n",
       " 'Feature_206',\n",
       " 'Feature_207',\n",
       " 'Feature_208',\n",
       " 'Feature_209',\n",
       " 'Feature_210',\n",
       " 'Feature_211',\n",
       " 'Feature_212',\n",
       " 'Feature_213',\n",
       " 'Feature_214',\n",
       " 'Feature_215',\n",
       " 'Feature_216',\n",
       " 'Feature_217',\n",
       " 'Feature_218',\n",
       " 'Feature_219',\n",
       " 'Feature_220',\n",
       " 'Feature_221',\n",
       " 'Feature_222',\n",
       " 'Feature_223',\n",
       " 'Feature_224',\n",
       " 'Feature_225',\n",
       " 'Feature_226',\n",
       " 'Feature_227',\n",
       " 'Feature_228',\n",
       " 'Feature_229',\n",
       " 'Feature_230',\n",
       " 'Feature_231',\n",
       " 'Feature_232',\n",
       " 'Feature_233',\n",
       " 'Feature_234',\n",
       " 'Feature_235',\n",
       " 'Feature_236',\n",
       " 'Feature_237',\n",
       " 'Feature_238',\n",
       " 'Feature_239',\n",
       " 'Feature_240',\n",
       " 'Feature_241',\n",
       " 'Feature_242',\n",
       " 'Feature_243',\n",
       " 'Feature_244',\n",
       " 'Feature_245',\n",
       " 'Feature_246',\n",
       " 'Feature_247',\n",
       " 'Feature_248',\n",
       " 'Feature_249',\n",
       " 'Feature_250',\n",
       " 'Feature_251',\n",
       " 'Feature_252',\n",
       " 'Feature_253',\n",
       " 'Feature_254',\n",
       " 'Feature_255',\n",
       " 'Feature_256',\n",
       " 'Feature_257',\n",
       " 'Feature_258',\n",
       " 'Feature_259',\n",
       " 'Feature_260',\n",
       " 'Feature_261',\n",
       " 'Feature_262',\n",
       " 'Feature_263',\n",
       " 'Feature_264',\n",
       " 'Feature_265',\n",
       " 'Feature_266',\n",
       " 'Feature_267',\n",
       " 'Feature_268',\n",
       " 'Feature_269',\n",
       " 'Feature_270',\n",
       " 'Feature_271',\n",
       " 'Feature_272',\n",
       " 'Feature_273',\n",
       " 'Feature_274',\n",
       " 'Feature_275',\n",
       " 'Feature_276',\n",
       " 'Feature_277',\n",
       " 'Feature_278',\n",
       " 'Feature_279',\n",
       " 'Feature_280',\n",
       " 'Feature_281',\n",
       " 'Feature_282',\n",
       " 'Feature_283',\n",
       " 'Feature_284',\n",
       " 'Feature_285',\n",
       " 'Feature_286',\n",
       " 'Feature_287',\n",
       " 'Feature_288',\n",
       " 'Feature_289',\n",
       " 'Feature_290',\n",
       " 'Feature_291',\n",
       " 'Feature_292',\n",
       " 'Feature_293',\n",
       " 'Feature_294',\n",
       " 'Feature_295',\n",
       " 'Feature_296',\n",
       " 'Feature_297',\n",
       " 'Feature_298',\n",
       " 'Feature_299',\n",
       " 'Feature_300',\n",
       " 'Feature_301',\n",
       " 'Feature_302',\n",
       " 'Feature_303',\n",
       " 'Feature_304',\n",
       " 'Feature_305',\n",
       " 'Feature_306',\n",
       " 'Feature_307',\n",
       " 'Feature_308',\n",
       " 'Feature_309',\n",
       " 'Feature_310',\n",
       " 'Feature_311',\n",
       " 'Feature_312',\n",
       " 'Feature_313',\n",
       " 'Feature_314',\n",
       " 'Feature_315',\n",
       " 'Feature_316',\n",
       " 'Feature_317',\n",
       " 'Feature_318',\n",
       " 'Feature_319',\n",
       " 'Feature_320',\n",
       " 'Feature_321',\n",
       " 'Feature_322',\n",
       " 'Feature_323',\n",
       " 'Feature_324',\n",
       " 'Feature_325',\n",
       " 'Feature_326',\n",
       " 'Feature_327',\n",
       " 'Feature_328',\n",
       " 'Feature_329',\n",
       " 'Feature_330',\n",
       " 'Feature_331',\n",
       " 'Feature_332',\n",
       " 'Feature_333',\n",
       " 'Feature_334',\n",
       " 'Feature_335',\n",
       " 'Feature_336',\n",
       " 'Feature_337',\n",
       " 'Feature_338',\n",
       " 'Feature_339',\n",
       " 'Feature_340',\n",
       " 'Feature_341',\n",
       " 'Feature_342',\n",
       " 'Feature_343',\n",
       " 'Feature_344',\n",
       " 'Feature_345',\n",
       " 'Feature_346',\n",
       " 'Feature_347',\n",
       " 'Feature_348',\n",
       " 'Feature_349',\n",
       " 'Feature_350',\n",
       " 'Feature_351',\n",
       " 'Feature_352',\n",
       " 'Feature_353',\n",
       " 'Feature_354',\n",
       " 'Feature_355',\n",
       " 'Feature_356',\n",
       " 'Feature_357',\n",
       " 'Feature_358',\n",
       " 'Feature_359',\n",
       " 'Feature_360',\n",
       " 'Feature_361',\n",
       " 'Feature_362',\n",
       " 'Feature_363',\n",
       " 'Feature_364',\n",
       " 'Feature_365',\n",
       " 'Feature_366',\n",
       " 'Feature_367',\n",
       " 'Feature_368',\n",
       " 'Feature_369',\n",
       " 'Feature_370',\n",
       " 'Feature_371',\n",
       " 'Feature_372',\n",
       " 'Feature_373',\n",
       " 'Feature_374',\n",
       " 'Feature_375',\n",
       " 'Feature_376',\n",
       " 'Feature_377',\n",
       " 'Feature_378',\n",
       " 'Feature_379',\n",
       " 'Feature_380',\n",
       " 'Feature_381',\n",
       " 'Feature_382',\n",
       " 'Feature_383',\n",
       " 'Feature_384',\n",
       " 'Feature_385',\n",
       " 'Feature_386',\n",
       " 'Feature_387',\n",
       " 'Feature_388',\n",
       " 'Feature_389',\n",
       " 'Feature_390',\n",
       " 'Feature_391',\n",
       " 'Feature_392',\n",
       " 'Feature_393',\n",
       " 'Feature_394',\n",
       " 'Feature_395',\n",
       " 'Feature_396',\n",
       " 'Feature_397',\n",
       " 'Feature_398',\n",
       " 'Feature_399',\n",
       " 'Feature_400',\n",
       " 'Feature_401',\n",
       " 'Feature_402',\n",
       " 'Feature_403',\n",
       " 'Feature_404',\n",
       " 'Feature_405',\n",
       " 'Feature_406',\n",
       " 'Feature_407',\n",
       " 'Feature_408',\n",
       " 'Feature_409',\n",
       " 'Feature_410',\n",
       " 'Feature_411',\n",
       " 'Feature_412',\n",
       " 'Feature_413',\n",
       " 'Feature_414',\n",
       " 'Feature_415',\n",
       " 'Feature_416',\n",
       " 'Feature_417',\n",
       " 'Feature_418',\n",
       " 'Feature_419',\n",
       " 'Feature_420',\n",
       " 'Feature_421',\n",
       " 'Feature_422',\n",
       " 'Feature_423',\n",
       " 'Feature_424',\n",
       " 'Feature_425',\n",
       " 'Feature_426',\n",
       " 'Feature_427',\n",
       " 'Feature_428',\n",
       " 'Feature_429',\n",
       " 'Feature_430',\n",
       " 'Feature_431',\n",
       " 'Feature_432',\n",
       " 'Feature_433',\n",
       " 'Feature_434',\n",
       " 'Feature_435',\n",
       " 'Feature_436',\n",
       " 'Feature_437',\n",
       " 'Feature_438',\n",
       " 'Feature_439',\n",
       " 'Feature_440',\n",
       " 'Feature_441',\n",
       " 'Feature_442',\n",
       " 'Feature_443',\n",
       " 'Feature_444',\n",
       " 'Feature_445',\n",
       " 'Feature_446',\n",
       " 'Feature_447',\n",
       " 'Feature_448',\n",
       " 'Feature_449',\n",
       " 'Feature_450',\n",
       " 'Feature_451',\n",
       " 'Feature_452',\n",
       " 'Feature_453',\n",
       " 'Feature_454',\n",
       " 'Feature_455',\n",
       " 'Feature_456',\n",
       " 'Feature_457',\n",
       " 'Feature_458',\n",
       " 'Feature_459',\n",
       " 'Feature_460',\n",
       " 'Feature_461',\n",
       " 'Feature_462',\n",
       " 'Feature_463',\n",
       " 'Feature_464',\n",
       " 'Feature_465',\n",
       " 'Feature_466',\n",
       " 'Feature_467',\n",
       " 'Feature_468',\n",
       " 'Feature_469',\n",
       " 'Feature_470',\n",
       " 'Feature_471',\n",
       " 'Feature_472',\n",
       " 'Feature_473',\n",
       " 'Feature_474',\n",
       " 'Feature_475',\n",
       " 'Feature_476',\n",
       " 'Feature_477',\n",
       " 'Feature_478',\n",
       " 'Feature_479',\n",
       " 'Feature_480',\n",
       " 'Feature_481',\n",
       " 'Feature_482',\n",
       " 'Feature_483',\n",
       " 'Feature_484',\n",
       " 'Feature_485',\n",
       " 'Feature_486',\n",
       " 'Feature_487',\n",
       " 'Feature_488',\n",
       " 'Feature_489',\n",
       " 'Feature_490',\n",
       " 'Feature_491',\n",
       " 'Feature_492',\n",
       " 'Feature_493',\n",
       " 'Feature_494',\n",
       " 'Feature_495',\n",
       " 'Feature_496',\n",
       " 'Feature_497',\n",
       " 'Feature_498',\n",
       " 'Feature_499',\n",
       " 'Feature_500',\n",
       " 'Feature_501',\n",
       " 'Feature_502',\n",
       " 'Feature_503',\n",
       " 'Feature_504',\n",
       " 'Feature_505',\n",
       " 'Feature_506',\n",
       " 'Feature_507',\n",
       " 'Feature_508',\n",
       " 'Feature_509',\n",
       " 'Feature_510',\n",
       " 'Feature_511',\n",
       " 'Feature_512',\n",
       " 'Feature_513',\n",
       " 'Feature_514',\n",
       " 'Feature_515',\n",
       " 'Feature_516',\n",
       " 'Feature_517',\n",
       " 'Feature_518',\n",
       " 'Feature_519',\n",
       " 'Feature_520',\n",
       " 'Feature_521',\n",
       " 'Feature_522',\n",
       " 'Feature_523',\n",
       " 'Feature_524',\n",
       " 'Feature_525',\n",
       " 'Feature_526',\n",
       " 'Feature_527',\n",
       " 'Feature_528',\n",
       " 'Feature_529',\n",
       " 'Feature_530',\n",
       " 'Feature_531',\n",
       " 'Feature_532',\n",
       " 'Feature_533',\n",
       " 'Feature_534',\n",
       " 'Feature_535',\n",
       " 'Feature_536',\n",
       " 'Feature_537',\n",
       " 'Feature_538',\n",
       " 'Feature_539',\n",
       " 'Feature_540',\n",
       " 'Feature_541',\n",
       " 'Feature_542',\n",
       " 'Feature_543',\n",
       " 'Feature_544',\n",
       " 'Feature_545',\n",
       " 'Feature_546',\n",
       " 'Feature_547',\n",
       " 'Feature_548',\n",
       " 'Feature_549',\n",
       " 'Feature_550',\n",
       " 'Feature_551',\n",
       " 'Feature_552',\n",
       " 'Feature_553',\n",
       " 'Feature_554',\n",
       " 'Feature_555',\n",
       " 'Feature_556',\n",
       " 'Feature_557',\n",
       " 'Feature_558',\n",
       " 'Feature_559',\n",
       " 'Feature_560',\n",
       " 'Feature_561',\n",
       " 'Feature_562',\n",
       " 'Feature_563',\n",
       " 'Feature_564',\n",
       " 'Feature_565',\n",
       " 'Feature_566',\n",
       " 'Feature_567',\n",
       " 'Feature_568',\n",
       " 'Feature_569',\n",
       " 'Feature_570',\n",
       " 'Feature_571',\n",
       " 'Feature_572',\n",
       " 'Feature_573',\n",
       " 'Feature_574',\n",
       " 'Feature_575',\n",
       " 'Feature_576',\n",
       " 'Feature_577',\n",
       " 'Feature_578',\n",
       " 'Feature_579',\n",
       " 'Feature_580',\n",
       " 'Feature_581',\n",
       " 'Feature_582',\n",
       " 'Feature_583',\n",
       " 'Feature_584',\n",
       " 'Feature_585',\n",
       " 'Feature_586',\n",
       " 'Feature_587',\n",
       " 'Feature_588',\n",
       " 'Feature_589',\n",
       " 'Feature_590',\n",
       " 'Feature_591',\n",
       " 'Feature_592',\n",
       " 'Feature_593',\n",
       " 'Feature_594',\n",
       " 'Feature_595',\n",
       " 'Feature_596',\n",
       " 'Feature_597',\n",
       " 'Feature_598',\n",
       " 'Feature_599',\n",
       " 'Feature_600',\n",
       " 'Feature_601',\n",
       " 'Feature_602',\n",
       " 'Feature_603',\n",
       " 'Feature_604',\n",
       " 'Feature_605',\n",
       " 'Feature_606',\n",
       " 'Feature_607',\n",
       " 'Feature_608',\n",
       " 'Feature_609',\n",
       " 'Feature_610',\n",
       " 'Feature_611',\n",
       " 'Feature_612',\n",
       " 'Feature_613',\n",
       " 'Feature_614',\n",
       " 'Feature_615',\n",
       " 'Feature_616',\n",
       " 'Feature_617',\n",
       " 'Feature_618',\n",
       " 'Feature_619',\n",
       " 'Feature_620',\n",
       " 'Feature_621',\n",
       " 'Feature_622',\n",
       " 'Feature_623',\n",
       " 'Feature_624',\n",
       " 'Feature_625',\n",
       " 'Feature_626',\n",
       " 'Feature_627',\n",
       " 'Feature_628',\n",
       " 'Feature_629',\n",
       " 'Feature_630',\n",
       " 'Feature_631',\n",
       " 'Feature_632',\n",
       " 'Feature_633',\n",
       " 'Feature_634',\n",
       " 'Feature_635',\n",
       " 'Feature_636',\n",
       " 'Feature_637',\n",
       " 'Feature_638',\n",
       " 'Feature_639',\n",
       " 'Feature_640',\n",
       " 'Feature_641',\n",
       " 'Feature_642',\n",
       " 'Feature_643',\n",
       " 'Feature_644',\n",
       " 'Feature_645',\n",
       " 'Feature_646',\n",
       " 'Feature_647',\n",
       " 'Feature_648',\n",
       " 'Feature_649',\n",
       " 'Feature_650',\n",
       " 'Feature_651',\n",
       " 'Feature_652',\n",
       " 'Feature_653',\n",
       " 'Feature_654',\n",
       " 'Feature_655',\n",
       " 'Feature_656',\n",
       " 'Feature_657',\n",
       " 'Feature_658',\n",
       " 'Feature_659',\n",
       " 'Feature_660',\n",
       " 'Feature_661',\n",
       " 'Feature_662',\n",
       " 'Feature_663',\n",
       " 'Feature_664',\n",
       " 'Feature_665',\n",
       " 'Feature_666',\n",
       " 'Feature_667',\n",
       " 'Feature_668',\n",
       " 'Feature_669',\n",
       " 'Feature_670',\n",
       " 'Feature_671',\n",
       " 'Feature_672',\n",
       " 'Feature_673',\n",
       " 'Feature_674',\n",
       " 'Feature_675',\n",
       " 'Feature_676',\n",
       " 'Feature_677',\n",
       " 'Feature_678',\n",
       " 'Feature_679',\n",
       " 'Feature_680',\n",
       " 'Feature_681',\n",
       " 'Feature_682',\n",
       " 'Feature_683',\n",
       " 'Feature_684',\n",
       " 'Feature_685',\n",
       " 'Feature_686',\n",
       " 'Feature_687',\n",
       " 'Feature_688',\n",
       " 'Feature_689',\n",
       " 'Feature_690',\n",
       " 'Feature_691',\n",
       " 'Feature_692',\n",
       " 'Feature_693',\n",
       " 'Feature_694',\n",
       " 'Feature_695',\n",
       " 'Feature_696',\n",
       " 'Feature_697',\n",
       " 'Feature_698',\n",
       " 'Feature_699',\n",
       " 'Feature_700',\n",
       " 'Feature_701',\n",
       " 'Feature_702',\n",
       " 'Feature_703',\n",
       " 'Feature_704',\n",
       " 'Feature_705',\n",
       " 'Feature_706',\n",
       " 'Feature_707',\n",
       " 'Feature_708',\n",
       " 'Feature_709',\n",
       " 'Feature_710',\n",
       " 'Feature_711',\n",
       " 'Feature_712',\n",
       " 'Feature_713',\n",
       " 'Feature_714',\n",
       " 'Feature_715',\n",
       " 'Feature_716',\n",
       " 'Feature_717',\n",
       " 'Feature_718',\n",
       " 'Feature_719',\n",
       " 'Feature_720',\n",
       " 'Feature_721',\n",
       " 'Feature_722',\n",
       " 'Feature_723',\n",
       " 'Feature_724',\n",
       " 'Feature_725',\n",
       " 'Feature_726',\n",
       " 'Feature_727',\n",
       " 'Feature_728',\n",
       " 'Feature_729',\n",
       " 'Feature_730',\n",
       " 'Feature_731',\n",
       " 'Feature_732',\n",
       " 'Feature_733',\n",
       " 'Feature_734',\n",
       " 'Feature_735',\n",
       " 'Feature_736',\n",
       " 'Feature_737',\n",
       " 'Feature_738',\n",
       " 'Feature_739',\n",
       " 'Feature_740',\n",
       " 'Feature_741',\n",
       " 'Feature_742',\n",
       " 'Feature_743',\n",
       " 'Feature_744',\n",
       " 'Feature_745',\n",
       " 'Feature_746',\n",
       " 'Feature_747',\n",
       " 'Feature_748',\n",
       " 'Feature_749',\n",
       " 'Feature_750',\n",
       " 'Feature_751',\n",
       " 'Feature_752',\n",
       " 'Feature_753',\n",
       " 'Feature_754',\n",
       " 'Feature_755',\n",
       " 'Feature_756',\n",
       " 'Feature_757',\n",
       " 'Feature_758',\n",
       " 'Feature_759',\n",
       " 'Feature_760',\n",
       " 'Feature_761',\n",
       " 'Feature_762',\n",
       " 'Feature_763',\n",
       " 'Feature_764',\n",
       " 'Feature_765',\n",
       " 'Feature_766',\n",
       " 'Feature_767',\n",
       " 'Feature_768',\n",
       " 'Feature_769',\n",
       " 'Feature_770',\n",
       " 'Feature_771',\n",
       " 'Feature_772',\n",
       " 'Feature_773',\n",
       " 'Feature_774',\n",
       " 'Feature_775',\n",
       " 'Feature_776',\n",
       " 'Feature_777',\n",
       " 'Feature_778',\n",
       " 'Feature_779',\n",
       " 'Feature_780',\n",
       " 'Feature_781',\n",
       " 'Feature_782',\n",
       " 'Feature_783',\n",
       " 'Feature_784',\n",
       " 'Feature_785',\n",
       " 'Feature_786',\n",
       " 'Feature_787',\n",
       " 'Feature_788',\n",
       " 'Feature_789',\n",
       " 'Feature_790',\n",
       " 'Feature_791',\n",
       " 'Feature_792',\n",
       " 'Feature_793',\n",
       " 'Feature_794',\n",
       " 'Feature_795',\n",
       " 'Feature_796',\n",
       " 'Feature_797',\n",
       " 'Feature_798',\n",
       " 'Feature_799',\n",
       " 'Feature_800',\n",
       " 'Feature_801',\n",
       " 'Feature_802',\n",
       " 'Feature_803',\n",
       " 'Feature_804',\n",
       " 'Feature_805',\n",
       " 'Feature_806',\n",
       " 'Feature_807',\n",
       " 'Feature_808',\n",
       " 'Feature_809',\n",
       " 'Feature_810',\n",
       " 'Feature_811',\n",
       " 'Feature_812',\n",
       " 'Feature_813',\n",
       " 'Feature_814',\n",
       " 'Feature_815',\n",
       " 'Feature_816',\n",
       " 'Feature_817',\n",
       " 'Feature_818',\n",
       " 'Feature_819',\n",
       " 'Feature_820',\n",
       " 'Feature_821',\n",
       " 'Feature_822',\n",
       " 'Feature_823',\n",
       " 'Feature_824',\n",
       " 'Feature_825',\n",
       " 'Feature_826',\n",
       " 'Feature_827',\n",
       " 'Feature_828',\n",
       " 'Feature_829',\n",
       " 'Feature_830',\n",
       " 'Feature_831',\n",
       " 'Feature_832',\n",
       " 'Feature_833',\n",
       " 'Feature_834',\n",
       " 'Feature_835',\n",
       " 'Feature_836',\n",
       " 'Feature_837',\n",
       " 'Feature_838',\n",
       " 'Feature_839',\n",
       " 'Feature_840',\n",
       " 'Feature_841',\n",
       " 'Feature_842',\n",
       " 'Feature_843',\n",
       " 'Feature_844',\n",
       " 'Feature_845',\n",
       " 'Feature_846',\n",
       " 'Feature_847',\n",
       " 'Feature_848',\n",
       " 'Feature_849',\n",
       " 'Feature_850',\n",
       " 'Feature_851',\n",
       " 'Feature_852',\n",
       " 'Feature_853',\n",
       " 'Feature_854',\n",
       " 'Feature_855',\n",
       " 'Feature_856',\n",
       " 'Feature_857',\n",
       " 'Feature_858',\n",
       " 'Feature_859',\n",
       " 'Feature_860',\n",
       " 'Feature_861',\n",
       " 'Feature_862',\n",
       " 'Feature_863',\n",
       " 'Feature_864',\n",
       " 'Feature_865',\n",
       " 'Feature_866',\n",
       " 'Feature_867',\n",
       " 'Feature_868',\n",
       " 'Feature_869',\n",
       " 'Feature_870',\n",
       " 'Feature_871',\n",
       " 'Feature_872',\n",
       " 'Feature_873',\n",
       " 'Feature_874',\n",
       " 'Feature_875',\n",
       " 'Feature_876',\n",
       " 'Feature_877',\n",
       " 'Feature_878',\n",
       " 'Feature_879',\n",
       " 'Feature_880',\n",
       " 'Feature_881',\n",
       " 'Feature_882',\n",
       " 'Feature_883',\n",
       " 'Feature_884',\n",
       " 'Feature_885',\n",
       " 'Feature_886',\n",
       " 'Feature_887',\n",
       " 'Feature_888',\n",
       " 'Feature_889',\n",
       " 'Feature_890',\n",
       " 'Feature_891',\n",
       " 'Feature_892',\n",
       " 'Feature_893',\n",
       " 'Feature_894',\n",
       " 'Feature_895',\n",
       " 'Feature_896',\n",
       " 'Feature_897',\n",
       " 'Feature_898',\n",
       " 'Feature_899',\n",
       " 'Feature_900',\n",
       " 'Feature_901',\n",
       " 'Feature_902',\n",
       " 'Feature_903',\n",
       " 'Feature_904',\n",
       " 'Feature_905',\n",
       " 'Feature_906',\n",
       " 'Feature_907',\n",
       " 'Feature_908',\n",
       " 'Feature_909',\n",
       " 'Feature_910',\n",
       " 'Feature_911',\n",
       " 'Feature_912',\n",
       " 'Feature_913',\n",
       " 'Feature_914',\n",
       " 'Feature_915',\n",
       " 'Feature_916',\n",
       " 'Feature_917',\n",
       " 'Feature_918',\n",
       " 'Feature_919',\n",
       " 'Feature_920',\n",
       " 'Feature_921',\n",
       " 'Feature_922',\n",
       " 'Feature_923',\n",
       " 'Feature_924',\n",
       " 'Feature_925',\n",
       " 'Feature_926',\n",
       " 'Feature_927',\n",
       " 'Feature_928',\n",
       " 'Feature_929',\n",
       " 'Feature_930',\n",
       " 'Feature_931',\n",
       " 'Feature_932',\n",
       " 'Feature_933',\n",
       " 'Feature_934',\n",
       " 'Feature_935',\n",
       " 'Feature_936',\n",
       " 'Feature_937',\n",
       " 'Feature_938',\n",
       " 'Feature_939',\n",
       " 'Feature_940',\n",
       " 'Feature_941',\n",
       " 'Feature_942',\n",
       " 'Feature_943',\n",
       " 'Feature_944',\n",
       " 'Feature_945',\n",
       " 'Feature_946',\n",
       " 'Feature_947',\n",
       " 'Feature_948',\n",
       " 'Feature_949',\n",
       " 'Feature_950',\n",
       " 'Feature_951',\n",
       " 'Feature_952',\n",
       " 'Feature_953',\n",
       " 'Feature_954',\n",
       " 'Feature_955',\n",
       " 'Feature_956',\n",
       " 'Feature_957',\n",
       " 'Feature_958',\n",
       " 'Feature_959',\n",
       " 'Feature_960',\n",
       " 'Feature_961',\n",
       " 'Feature_962',\n",
       " 'Feature_963',\n",
       " 'Feature_964',\n",
       " 'Feature_965',\n",
       " 'Feature_966',\n",
       " 'Feature_967',\n",
       " 'Feature_968',\n",
       " 'Feature_969',\n",
       " 'Feature_970',\n",
       " 'Feature_971',\n",
       " 'Feature_972',\n",
       " 'Feature_973',\n",
       " 'Feature_974',\n",
       " 'Feature_975',\n",
       " 'Feature_976',\n",
       " 'Feature_977',\n",
       " 'Feature_978',\n",
       " 'Feature_979',\n",
       " 'Feature_980',\n",
       " 'Feature_981',\n",
       " 'Feature_982',\n",
       " 'Feature_983',\n",
       " 'Feature_984',\n",
       " 'Feature_985',\n",
       " 'Feature_986',\n",
       " 'Feature_987',\n",
       " 'Feature_988',\n",
       " 'Feature_989',\n",
       " 'Feature_990',\n",
       " 'Feature_991',\n",
       " 'Feature_992',\n",
       " 'Feature_993',\n",
       " 'Feature_994',\n",
       " 'Feature_995',\n",
       " 'Feature_996',\n",
       " 'Feature_997',\n",
       " 'Feature_998',\n",
       " 'Feature_999',\n",
       " ...]"
      ]
     },
     "execution_count": 117,
     "metadata": {},
     "output_type": "execute_result"
    }
   ],
   "source": [
    "feature_names"
   ]
  },
  {
   "cell_type": "code",
   "execution_count": null,
   "id": "1de87f58-3fac-458d-895c-d8c3c42b16b4",
   "metadata": {},
   "outputs": [],
   "source": []
  }
 ],
 "metadata": {
  "kernelspec": {
   "display_name": "Python 3 (ipykernel)",
   "language": "python",
   "name": "python3"
  },
  "language_info": {
   "codemirror_mode": {
    "name": "ipython",
    "version": 3
   },
   "file_extension": ".py",
   "mimetype": "text/x-python",
   "name": "python",
   "nbconvert_exporter": "python",
   "pygments_lexer": "ipython3",
   "version": "3.10.9"
  }
 },
 "nbformat": 4,
 "nbformat_minor": 5
}
