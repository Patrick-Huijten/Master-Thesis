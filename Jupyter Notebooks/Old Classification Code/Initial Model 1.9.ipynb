{
 "cells": [
  {
   "cell_type": "markdown",
   "id": "1dc6c140",
   "metadata": {},
   "source": [
    "# Imports"
   ]
  },
  {
   "cell_type": "code",
   "execution_count": 133,
   "id": "d174e253",
   "metadata": {},
   "outputs": [],
   "source": [
    "# !pip install PyMuPDF \n",
    "# !pip install transformers torch\n",
    "# !pip install --upgrade ipywidgets\n",
    "# !pip install -U gensim"
   ]
  },
  {
   "cell_type": "code",
   "execution_count": 134,
   "id": "a64d74fb",
   "metadata": {},
   "outputs": [],
   "source": [
    "import fitz  # PyMuPDF\n",
    "import torch\n",
    "import logging\n",
    "import spacy\n",
    "import os\n",
    "import string\n",
    "import warnings\n",
    "import ast\n",
    "import numpy as np\n",
    "import pandas as pd\n",
    "import matplotlib.pyplot as plt\n",
    "import seaborn as sns\n",
    "from datetime import datetime\n",
    "from tqdm import tqdm\n",
    "from sklearn.model_selection import train_test_split, LeaveOneOut, StratifiedKFold\n",
    "from sklearn.svm import SVC\n",
    "from sklearn.naive_bayes import MultinomialNB, GaussianNB \n",
    "from sklearn.ensemble import RandomForestClassifier\n",
    "from sklearn.metrics import classification_report, accuracy_score, confusion_matrix\n",
    "from sklearn.pipeline import FeatureUnion\n",
    "from sklearn.feature_extraction import DictVectorizer\n",
    "from sklearn.feature_extraction.text import CountVectorizer, TfidfVectorizer\n",
    "from sklearn.preprocessing import LabelEncoder, MaxAbsScaler, OneHotEncoder, StandardScaler\n",
    "from scipy.sparse import hstack, csr_matrix\n",
    "from transformers import BertTokenizer, BertModel, AutoTokenizer, AutoModel, TFAutoModel\n",
    "from collections import Counter\n",
    "from gensim.models import Word2Vec"
   ]
  },
  {
   "cell_type": "markdown",
   "id": "9b417a19",
   "metadata": {},
   "source": [
    "# Loading Data"
   ]
  },
  {
   "cell_type": "code",
   "execution_count": 135,
   "id": "ab59a12a",
   "metadata": {},
   "outputs": [
    {
     "data": {
      "text/html": [
       "<div>\n",
       "<style scoped>\n",
       "    .dataframe tbody tr th:only-of-type {\n",
       "        vertical-align: middle;\n",
       "    }\n",
       "\n",
       "    .dataframe tbody tr th {\n",
       "        vertical-align: top;\n",
       "    }\n",
       "\n",
       "    .dataframe thead th {\n",
       "        text-align: right;\n",
       "    }\n",
       "</style>\n",
       "<table border=\"1\" class=\"dataframe\">\n",
       "  <thead>\n",
       "    <tr style=\"text-align: right;\">\n",
       "      <th></th>\n",
       "      <th></th>\n",
       "      <th>text</th>\n",
       "      <th>group</th>\n",
       "      <th>publication_date</th>\n",
       "      <th>file_path</th>\n",
       "      <th>original_text</th>\n",
       "      <th>text before lemmatization</th>\n",
       "      <th>pos_tags</th>\n",
       "    </tr>\n",
       "    <tr>\n",
       "      <th>article_id</th>\n",
       "      <th>paragraph_id</th>\n",
       "      <th></th>\n",
       "      <th></th>\n",
       "      <th></th>\n",
       "      <th></th>\n",
       "      <th></th>\n",
       "      <th></th>\n",
       "      <th></th>\n",
       "    </tr>\n",
       "  </thead>\n",
       "  <tbody>\n",
       "    <tr>\n",
       "      <th rowspan=\"5\" valign=\"top\">1</th>\n",
       "      <th>1</th>\n",
       "      <td>provincie willen slag versoepeling stikstofreg...</td>\n",
       "      <td>Bouw &amp; Vastgoed</td>\n",
       "      <td>2024-08-28</td>\n",
       "      <td>data\\Bouw &amp; Vastgoed\\1, 28-08-2024.pdf</td>\n",
       "      <td>Provincies willen aan de slag met versoepeling...</td>\n",
       "      <td>provincies willen slag versoepeling stikstofre...</td>\n",
       "      <td>[(provincie, NOUN), (willen, VERB), (slag, NOU...</td>\n",
       "    </tr>\n",
       "    <tr>\n",
       "      <th>2</th>\n",
       "      <td>draaien allemaal drempelwaran stikstofvergunni...</td>\n",
       "      <td>Bouw &amp; Vastgoed</td>\n",
       "      <td>2024-08-28</td>\n",
       "      <td>data\\Bouw &amp; Vastgoed\\1, 28-08-2024.pdf</td>\n",
       "      <td>Het draait allemaal om de drempelwaarde voor e...</td>\n",
       "      <td>draait allemaal drempelwaarde stikstofvergunni...</td>\n",
       "      <td>[(draaien, VERB), (allemaal, ADV), (drempelwar...</td>\n",
       "    </tr>\n",
       "    <tr>\n",
       "      <th>3</th>\n",
       "      <td>hoog drempelwaard vergunning [NEWLINE] aangevo...</td>\n",
       "      <td>Bouw &amp; Vastgoed</td>\n",
       "      <td>2024-08-28</td>\n",
       "      <td>data\\Bouw &amp; Vastgoed\\1, 28-08-2024.pdf</td>\n",
       "      <td>Met een hogere drempelwaarde zouden minder ver...</td>\n",
       "      <td>hogere drempelwaarde vergunningen [NEWLINE] aa...</td>\n",
       "      <td>[(hoog, ADJ), (drempelwaard, NOUN), (vergunnin...</td>\n",
       "    </tr>\n",
       "    <tr>\n",
       "      <th>4</th>\n",
       "      <td>hoofdlijnenakkoord vier coalitiepartij afsprek...</td>\n",
       "      <td>Bouw &amp; Vastgoed</td>\n",
       "      <td>2024-08-28</td>\n",
       "      <td>data\\Bouw &amp; Vastgoed\\1, 28-08-2024.pdf</td>\n",
       "      <td>In het hoofdlijnenakkoord hebben de vier coali...</td>\n",
       "      <td>hoofdlijnenakkoord vier coalitiepartijen afges...</td>\n",
       "      <td>[(hoofdlijnenakkoord, PROPN), (vier, NUM), (co...</td>\n",
       "    </tr>\n",
       "    <tr>\n",
       "      <th>5</th>\n",
       "      <td>ondergren lang onderwerp discussie huidig Nede...</td>\n",
       "      <td>Bouw &amp; Vastgoed</td>\n",
       "      <td>2024-08-28</td>\n",
       "      <td>data\\Bouw &amp; Vastgoed\\1, 28-08-2024.pdf</td>\n",
       "      <td>De ondergrens is al langer onderwerp van discu...</td>\n",
       "      <td>ondergrens langer onderwerp discussie huidige ...</td>\n",
       "      <td>[(ondergren, VERB), (lang, ADJ), (onderwerp, N...</td>\n",
       "    </tr>\n",
       "    <tr>\n",
       "      <th>...</th>\n",
       "      <th>...</th>\n",
       "      <td>...</td>\n",
       "      <td>...</td>\n",
       "      <td>...</td>\n",
       "      <td>...</td>\n",
       "      <td>...</td>\n",
       "      <td>...</td>\n",
       "      <td>...</td>\n",
       "    </tr>\n",
       "    <tr>\n",
       "      <th>118</th>\n",
       "      <th>2</th>\n",
       "      <td>telgenkamp vestigen hoop kort termijn twee cru...</td>\n",
       "      <td>Zorg</td>\n",
       "      <td>2024-10-08</td>\n",
       "      <td>data\\Zorg\\7, 08-10-2024.pdf</td>\n",
       "      <td>Telgenkamp vestigt haar hoop voor de korte ter...</td>\n",
       "      <td>telgenkamp vestigt hoop korte termijn twee cru...</td>\n",
       "      <td>[(telgenkamp, NOUN), (vestigen, VERB), (hoop, ...</td>\n",
       "    </tr>\n",
       "    <tr>\n",
       "      <th>119</th>\n",
       "      <th>1</th>\n",
       "      <td>verzekeraar inkomst zwart werk vergoeden [NEWL...</td>\n",
       "      <td>Zorg</td>\n",
       "      <td>2024-10-17</td>\n",
       "      <td>data\\Zorg\\8, 17-10-2024.pdf</td>\n",
       "      <td>Waarom verzekeraars inkomsten uit zwart werk w...</td>\n",
       "      <td>verzekeraars inkomsten zwart werk vergoeden [N...</td>\n",
       "      <td>[(verzekeraar, ADJ), (inkomst, NOUN), (zwart, ...</td>\n",
       "    </tr>\n",
       "    <tr>\n",
       "      <th rowspan=\"3\" valign=\"top\">120</th>\n",
       "      <th>1</th>\n",
       "      <td>verzekeraar klant helpen zorgbemiddeling [NEWL...</td>\n",
       "      <td>Zorg</td>\n",
       "      <td>2024-10-16</td>\n",
       "      <td>data\\Zorg\\9, 16-10-2024.pdf</td>\n",
       "      <td>Verzekeraar wil klant helpen met zorgbemiddeli...</td>\n",
       "      <td>verzekeraar klant helpen zorgbemiddeling [NEWL...</td>\n",
       "      <td>[(verzekeraar, ADJ), (klant, NOUN), (helpen, V...</td>\n",
       "    </tr>\n",
       "    <tr>\n",
       "      <th>2</th>\n",
       "      <td>verzekeraar wachten patiënt snel zorg helpen [...</td>\n",
       "      <td>Zorg</td>\n",
       "      <td>2024-10-16</td>\n",
       "      <td>data\\Zorg\\9, 16-10-2024.pdf</td>\n",
       "      <td>Verzekeraar wil wachtende patiënt aan snelle z...</td>\n",
       "      <td>verzekeraar wachtende patiënt snelle zorg help...</td>\n",
       "      <td>[(verzekeraar, NOUN), (wachten, VERB), (patiën...</td>\n",
       "    </tr>\n",
       "    <tr>\n",
       "      <th>3</th>\n",
       "      <td>zorgbemiddeling wondermiddel helpen zeggen Haa...</td>\n",
       "      <td>Zorg</td>\n",
       "      <td>2024-10-16</td>\n",
       "      <td>data\\Zorg\\9, 16-10-2024.pdf</td>\n",
       "      <td>Zorgbemiddeling is geen wondermiddel, maar kan...</td>\n",
       "      <td>zorgbemiddeling wondermiddel helpen zegt haarl...</td>\n",
       "      <td>[(zorgbemiddeling, NOUN), (wondermiddel, NOUN)...</td>\n",
       "    </tr>\n",
       "  </tbody>\n",
       "</table>\n",
       "<p>374 rows × 7 columns</p>\n",
       "</div>"
      ],
      "text/plain": [
       "                                                                      text  \\\n",
       "article_id paragraph_id                                                      \n",
       "1          1             provincie willen slag versoepeling stikstofreg...   \n",
       "           2             draaien allemaal drempelwaran stikstofvergunni...   \n",
       "           3             hoog drempelwaard vergunning [NEWLINE] aangevo...   \n",
       "           4             hoofdlijnenakkoord vier coalitiepartij afsprek...   \n",
       "           5             ondergren lang onderwerp discussie huidig Nede...   \n",
       "...                                                                    ...   \n",
       "118        2             telgenkamp vestigen hoop kort termijn twee cru...   \n",
       "119        1             verzekeraar inkomst zwart werk vergoeden [NEWL...   \n",
       "120        1             verzekeraar klant helpen zorgbemiddeling [NEWL...   \n",
       "           2             verzekeraar wachten patiënt snel zorg helpen [...   \n",
       "           3             zorgbemiddeling wondermiddel helpen zeggen Haa...   \n",
       "\n",
       "                                   group publication_date  \\\n",
       "article_id paragraph_id                                     \n",
       "1          1             Bouw & Vastgoed       2024-08-28   \n",
       "           2             Bouw & Vastgoed       2024-08-28   \n",
       "           3             Bouw & Vastgoed       2024-08-28   \n",
       "           4             Bouw & Vastgoed       2024-08-28   \n",
       "           5             Bouw & Vastgoed       2024-08-28   \n",
       "...                                  ...              ...   \n",
       "118        2                        Zorg       2024-10-08   \n",
       "119        1                        Zorg       2024-10-17   \n",
       "120        1                        Zorg       2024-10-16   \n",
       "           2                        Zorg       2024-10-16   \n",
       "           3                        Zorg       2024-10-16   \n",
       "\n",
       "                                                      file_path  \\\n",
       "article_id paragraph_id                                           \n",
       "1          1             data\\Bouw & Vastgoed\\1, 28-08-2024.pdf   \n",
       "           2             data\\Bouw & Vastgoed\\1, 28-08-2024.pdf   \n",
       "           3             data\\Bouw & Vastgoed\\1, 28-08-2024.pdf   \n",
       "           4             data\\Bouw & Vastgoed\\1, 28-08-2024.pdf   \n",
       "           5             data\\Bouw & Vastgoed\\1, 28-08-2024.pdf   \n",
       "...                                                         ...   \n",
       "118        2                        data\\Zorg\\7, 08-10-2024.pdf   \n",
       "119        1                        data\\Zorg\\8, 17-10-2024.pdf   \n",
       "120        1                        data\\Zorg\\9, 16-10-2024.pdf   \n",
       "           2                        data\\Zorg\\9, 16-10-2024.pdf   \n",
       "           3                        data\\Zorg\\9, 16-10-2024.pdf   \n",
       "\n",
       "                                                             original_text  \\\n",
       "article_id paragraph_id                                                      \n",
       "1          1             Provincies willen aan de slag met versoepeling...   \n",
       "           2             Het draait allemaal om de drempelwaarde voor e...   \n",
       "           3             Met een hogere drempelwaarde zouden minder ver...   \n",
       "           4             In het hoofdlijnenakkoord hebben de vier coali...   \n",
       "           5             De ondergrens is al langer onderwerp van discu...   \n",
       "...                                                                    ...   \n",
       "118        2             Telgenkamp vestigt haar hoop voor de korte ter...   \n",
       "119        1             Waarom verzekeraars inkomsten uit zwart werk w...   \n",
       "120        1             Verzekeraar wil klant helpen met zorgbemiddeli...   \n",
       "           2             Verzekeraar wil wachtende patiënt aan snelle z...   \n",
       "           3             Zorgbemiddeling is geen wondermiddel, maar kan...   \n",
       "\n",
       "                                                 text before lemmatization  \\\n",
       "article_id paragraph_id                                                      \n",
       "1          1             provincies willen slag versoepeling stikstofre...   \n",
       "           2             draait allemaal drempelwaarde stikstofvergunni...   \n",
       "           3             hogere drempelwaarde vergunningen [NEWLINE] aa...   \n",
       "           4             hoofdlijnenakkoord vier coalitiepartijen afges...   \n",
       "           5             ondergrens langer onderwerp discussie huidige ...   \n",
       "...                                                                    ...   \n",
       "118        2             telgenkamp vestigt hoop korte termijn twee cru...   \n",
       "119        1             verzekeraars inkomsten zwart werk vergoeden [N...   \n",
       "120        1             verzekeraar klant helpen zorgbemiddeling [NEWL...   \n",
       "           2             verzekeraar wachtende patiënt snelle zorg help...   \n",
       "           3             zorgbemiddeling wondermiddel helpen zegt haarl...   \n",
       "\n",
       "                                                                  pos_tags  \n",
       "article_id paragraph_id                                                     \n",
       "1          1             [(provincie, NOUN), (willen, VERB), (slag, NOU...  \n",
       "           2             [(draaien, VERB), (allemaal, ADV), (drempelwar...  \n",
       "           3             [(hoog, ADJ), (drempelwaard, NOUN), (vergunnin...  \n",
       "           4             [(hoofdlijnenakkoord, PROPN), (vier, NUM), (co...  \n",
       "           5             [(ondergren, VERB), (lang, ADJ), (onderwerp, N...  \n",
       "...                                                                    ...  \n",
       "118        2             [(telgenkamp, NOUN), (vestigen, VERB), (hoop, ...  \n",
       "119        1             [(verzekeraar, ADJ), (inkomst, NOUN), (zwart, ...  \n",
       "120        1             [(verzekeraar, ADJ), (klant, NOUN), (helpen, V...  \n",
       "           2             [(verzekeraar, NOUN), (wachten, VERB), (patiën...  \n",
       "           3             [(zorgbemiddeling, NOUN), (wondermiddel, NOUN)...  \n",
       "\n",
       "[374 rows x 7 columns]"
      ]
     },
     "execution_count": 135,
     "metadata": {},
     "output_type": "execute_result"
    }
   ],
   "source": [
    "df = pd.read_csv('pre-processed data.csv').set_index(['article_id' , 'paragraph_id'], inplace=False)\n",
    "df['pos_tags'] = df['pos_tags'].apply(ast.literal_eval)\n",
    "df"
   ]
  },
  {
   "cell_type": "code",
   "execution_count": 136,
   "id": "79131840-2c1d-4bf0-bfc6-b7dced4863d7",
   "metadata": {},
   "outputs": [
    {
     "name": "stdout",
     "output_type": "stream",
     "text": [
      "124 paragraphs in Bouw & Vastgoed.\n",
      "114 paragraphs in Handel & Industrie.\n",
      "83 paragraphs in Zakelijke Dienstverlening.\n",
      "53 paragraphs in Zorg.\n"
     ]
    }
   ],
   "source": [
    "for group in df['group'].unique():\n",
    "    print(f\"{len(df[df['group'] == group])} paragraphs in {group}.\")"
   ]
  },
  {
   "cell_type": "markdown",
   "id": "35c2f1da-ba16-487f-8d96-518aea903d37",
   "metadata": {},
   "source": [
    "# Overarching Function"
   ]
  },
  {
   "cell_type": "markdown",
   "id": "54b743e7-b85e-4431-b8e1-9ccac1e09110",
   "metadata": {},
   "source": [
    "**The function evaluate_model() as described below is an overarching function for finding the model with the highest validation accuracy given the provided parameter values.** <br>\n",
    "\n",
    "Expected parameter values: <br>\n",
    "- **df**: Pandas DataFrame containing the following columns:\n",
    "> **original_text**: Text before any pre-processing steps were taken, $str$ <br>\n",
    "> **text before lemmatization**: Text just before lemmatization has taken place, $str$ <br>\n",
    "> **text**: Text after all pre-processing steps have been completed, $str$ <br>\n",
    "> **pos_tags**: Part-Of-Speech tags, $list$ <br>\n",
    "> **group**: Target variable, $str$ (Converted to numeric in the evaluate_model function) <br>\n",
    "- **test_ratio**: The ratio of the data that is reserved for testing. Any floating point in the inclusive interval [0, 1].\n",
    "> Note that in the case of hold-out cross-validation (which is performed when $k=1$), test_ratio is also used the ratio of training data that is reserved for validation.\n",
    "- **k_values**: List of k values for k-fold cross-validation. Default value: [2, 3, 5, 10, 20]\n",
    "- **model_type**: Selects the type of classifier from amongst the following: [\"svm\", \"naive_bayes\", \"random_forest\"].\n",
    "> If model_type=\"naive_bayes\", a multinomial naive bayes classifier is trained if $pos=$\"none\" and embedding $\\in$ [\"BoW\", \"tf-idf\"]. Otherwise, a Gaussian naive bayes classifier is trained since the resulting word embedding will contain continuous features, which multinomial naive bayes classifiers cannot handle.\n",
    "- **embedding**: Selects the type of word embedding from amongst the following: [\"BoW\", \"tf-idf\", \"BERTje\", \"mBERT\", \"RobBERT\", \"Word2Vec\"].\n",
    "- **pos**: Selects how POS tags are used from amongst the following: [\"none\", \"one-hot\", \"ngram\"].\n",
    "- **ngram_size**: Selects the type of ngrams that are used. Must be an integer, no smaller than 2. Set to 2 by default.\n",
    "> Note that if _pos_$\\neq$\"ngram\", n is not used and the value of ngram_size is irrelevant.\n",
    "- **print_updates**: If set to True, intermediate and final results will be printed in addition to being returned. Default value: True\n",
    "- **show_class_accuracy**: If set to True, the accuracies per class are shown for the final classifier. Default: True\n",
    "- **show_confusion_matrix**: If set to True, the resulting confusion matrix of the final classifier will be shown. Default: True\n",
    "- **return_data**: If set to True, the function returns not only results and best_model, but also the data used to train, validate and test the model\n",
    "\n",
    "**The parameters below are model-specific and their values are only relevant if the corresponding model type is selected.**\n",
    "\n",
    "- **C_values**: A list containing all values of C to be tested for SVM classifiers. Default value: [0.1, 1, 10]\n",
    "- **kernel_values**: A list containing all kernel types to be tested for SVM classifiers. Default value: ['linear', 'rbf', 'poly']\n",
    "- **max_depth_values**: A list containing all maximum depth values to be tested for Random Forest classifiers. Default value: [5, 10, 15, 20, None]\n",
    "- **alpha_values**: A list containing all $\\alpha$ values to be tested for multinomial naive bayes classifiers. Default value: [0.01, 0.1, 0.5, 1.0, 2.0, 5.0, 10.0]\n",
    "- **fit_prior_values**: A list containing all prior_values values to be tested for Multinomial Naive Bayes classifiers. Default value: [True, False]\n",
    "- **var_smoothing_values**: A list containing all var_smoothing values to be tested for Gaussian Naive Bayes classifiers. Default value: [$10^{-11}$, $10^{-10}$, $10^{-9}$, $10^{-8}$, $10^{-7}$]"
   ]
  },
  {
   "cell_type": "code",
   "execution_count": 137,
   "id": "05375a7b-9283-4029-aaa6-5c1fe664e3e3",
   "metadata": {},
   "outputs": [],
   "source": [
    "def evaluate_model(df: pd.DataFrame, test_ratio: float = 0.15, k_values: list = [2, 3, 5, 10, 20], \n",
    "                   model_type: str = \"svm\", embedding: str = \"tf-idf\",\n",
    "                   pos: str = \"none\", ngram_size: int = 2, print_updates: bool = True,\n",
    "                   show_class_accuracy: bool = True, show_confusion_matrix: bool = True, return_data = False,\n",
    "                   C_values: list = [0.1, 1, 10], kernel_values: list = ['linear', 'rbf', 'poly'],\n",
    "                   max_depth_values: list = [5, 10, 15, 20, None],\n",
    "                   alpha_values: list = [0.01, 0.1, 0.5, 1.0, 2.0, 5.0, 10.0],\n",
    "                   fit_prior_values: list = [True, False],\n",
    "                   var_smoothing_values: list = [10**-11, 10**-10, 10**-9, 10**-8, 10**-7]):\n",
    "    \"\"\"\n",
    "    Function to extract embeddings (TF-IDF or BERTje), perform classification with SVM hyperparameter tuning, and evaluate using k-fold cross-validation.\n",
    "\n",
    "    For parameters, see the markdown above this cell.\n",
    "\n",
    "    Returns:\n",
    "        dict: Dictionary of accuracies for each k and best SVM hyperparameters.\n",
    "    \"\"\"\n",
    "    \n",
    "    #Raise appropriate error message in case of a faulty parameter value\n",
    "    if not isinstance(df, pd.DataFrame):\n",
    "        raise ValueError(f\"Invalid input data. Please ensure df is a Pandas DataFrame\")\n",
    "    if test_ratio <= 0 or test_ratio >= 1:\n",
    "        raise ValueError(f\"Invalid test_ratio. Choose a value in the exclusive interval (0,1)\")\n",
    "    if not all(isinstance(x, int) and x > 0 for x in k_values):\n",
    "        raise ValueError(f\"Invalid k_values. Please ensure all entries in k_values are positive integers\")\n",
    "    if model_type.lower() not in [\"svm\", \"naive_bayes\", \"random_forest\"]:\n",
    "        raise ValueError(f\"Invalid model_type. Choose from {'SVM', 'Naive_Bayes', 'Random_Forest'}\")\n",
    "    if embedding.lower() not in [\"bow\", \"tf-idf\", \"bertje\", \"mbert\", \"robbert\", \"word2vec\"]:\n",
    "        raise ValueError(f'Invalid embedding. Choose from [\"BoW\", \"tf-idf\", \"BERTje\", \"mBERT\", \"RobBERT\", \"Word2Vec\"]')\n",
    "    if pos not in [\"none\", \"one-hot\", \"ngram\"]:\n",
    "        raise ValueError(f'Invalid pos. Choose from [\"none\", \"one-hot\", \"ngram\"]')\n",
    "    if type(ngram_size) != int or ngram_size < 2:\n",
    "        raise ValueError(f'Invalid ngram_size. Please ensure that ngram_size is an integer, no smaller than 2')\n",
    "    if not type(print_updates) == bool:\n",
    "        raise ValueError(f'Invalid print_updates value. Please ensure this parameter has a boolean value.')\n",
    "    if not all(x > 0 for x in C_values):\n",
    "        raise ValueError(f'Invalid C_values. Please ensure that all entries in C_values lie in the exclusive interval (0, inf)')\n",
    "    if not all(type(x) == str for x in kernel_values):\n",
    "        raise ValueError(f'Invalid kernel_values. Please ensure every entry in kernel_values is a string that represents a kernel type')\n",
    "    if not all((type(x) == int and x > 0) or x == None for x in max_depth_values):\n",
    "        raise ValueError(f'Invalid max_depth_values. Please ensure every entry in max_depth_values is a positive integer or None for no maximum')\n",
    "    if not all((type(x) == int or type(x) == float) and (x > 0) for x in alpha_values):\n",
    "        raise ValueError(f'Invalid alpha_values. Please ensure every entry in alpha_values is numeric and non-negative')\n",
    "    if not all(type(x) == bool for x in fit_prior_values):\n",
    "        raise ValueError(f'Invalid fit_prior_values. Please ensure every entry in fit_prior_values is boolean')\n",
    "    if not all(x >= 0 for x in var_smoothing_values):\n",
    "        raise ValueError(f'Invalid var_smoothing_values. Please ensure every entry in var_smoothing_values is a non-negative number')\n",
    "        \n",
    "\n",
    "    # Convert labels to numeric format\n",
    "    df[\"label\"] = df[\"group\"].astype(\"category\").cat.codes \n",
    "    df_train, df_test = train_test_split(df, test_size=test_ratio, stratify=df[\"label\"], random_state=42)\n",
    "    \n",
    "    # ===========================\n",
    "    # 1. Extract Features (BoW, TF-IDF, BERTje, mBERT, RobBERT or Word2Vec)\n",
    "    # ===========================\n",
    "\n",
    "    if embedding.lower() == \"bow\":\n",
    "        if print_updates:\n",
    "            print(\"\\nUsing Bag of Words (BoW) Embeddings...\")\n",
    "        vectorizer = CountVectorizer(max_features=10_000)\n",
    "        embeddings = vectorizer.fit_transform(df_train[\"text\"])#.toarray()\n",
    "        test_embeddings = vectorizer.transform(df_test[\"text\"])#.toarray()\n",
    "    \n",
    "    elif embedding.lower() == \"tf-idf\":\n",
    "        if print_updates:\n",
    "            print(\"\\nUsing TF-IDF Embeddings...\")\n",
    "        vectorizer = TfidfVectorizer(max_features=10_000)\n",
    "        embeddings = vectorizer.fit_transform(df_train[\"text\"])#.toarray()\n",
    "        test_embeddings = vectorizer.transform(df_test[\"text\"])\n",
    "\n",
    "    elif embedding.lower() in [\"bertje\", \"mbert\", \"robbert\"]:\n",
    "        if embedding.lower() == \"bertje\":\n",
    "            model_name = \"GroNLP/bert-base-dutch-cased\"\n",
    "        elif embedding.lower() == \"mbert\":\n",
    "            model_name = \"bert-base-multilingual-cased\"\n",
    "        elif embedding.lower() == \"robbert\":\n",
    "            model_name = \"pdelobelle/robbert-v2-dutch-base\"\n",
    "\n",
    "        if print_updates:\n",
    "            print(f\"\\nUsing {embedding.upper()} Embeddings ({model_name})...\")\n",
    "\n",
    "        tokenizer = AutoTokenizer.from_pretrained(model_name)\n",
    "        model = AutoModel.from_pretrained(model_name)\n",
    "        model.eval()\n",
    "\n",
    "        def get_word_embedding(text):\n",
    "            with torch.no_grad():\n",
    "                tokens = tokenizer(text, padding=\"max_length\", truncation=True, max_length=256, return_tensors=\"pt\")\n",
    "                output = model(**tokens)\n",
    "                embeddings = output.last_hidden_state.mean(dim=1)\n",
    "            return embeddings.squeeze().numpy()\n",
    "\n",
    "        if print_updates:\n",
    "            print(f\"\\nCreating {embedding} embedding, this may take a few minutes.\")\n",
    "        embeddings = np.array([get_word_embedding(text) for text in df_train[\"text\"]])\n",
    "        test_embeddings = np.array([get_word_embedding(text) for text in df_test[\"text\"]])\n",
    "\n",
    "    elif embedding.lower() == \"word2vec\":\n",
    "        if print_updates:\n",
    "            print(\"\\nUsing Word2Vec Embeddings...\")\n",
    "\n",
    "        sentences = [text.split() for text in df_train[\"text\"]]\n",
    "        w2v_model = Word2Vec(sentences, vector_size=300, window=5, min_count=2, workers=4)\n",
    "\n",
    "        def get_w2v_embedding(text):\n",
    "            words = text.split()\n",
    "            word_vectors = [w2v_model.wv[word] for word in words if word in w2v_model.wv]\n",
    "            return np.mean(word_vectors, axis=0) if word_vectors else np.zeros(300)\n",
    "\n",
    "        embeddings = np.array([get_w2v_embedding(text) for text in df_train[\"text\"]])\n",
    "        test_embeddings = np.array([get_w2v_embedding(text) for text in df_test[\"text\"]])\n",
    "\n",
    "    else:\n",
    "        raise ValueError(\"Invalid embedding type. Choose 'tf-idf' 'BERTje', 'mBERT', 'RobBERT' or 'Word2Vec'.\")\n",
    "\n",
    "    # ===========================\n",
    "    # 2. Process POS Tags if Needed\n",
    "    # ===========================\n",
    "\n",
    "    if pos == \"one-hot\":\n",
    "        if print_updates:\n",
    "            print(\"\\nUsing One-Hot Encoding for POS Tags...\")\n",
    "\n",
    "        def pos_to_features(pos_tags):\n",
    "            \"\"\"Convert list of (word, POS) tuples into a dictionary of POS tag counts.\"\"\"\n",
    "            pos_counts = Counter(tag for _, tag in pos_tags)\n",
    "            return dict(pos_counts)\n",
    "\n",
    "        # Convert to list of dictionaries\n",
    "        pos_features = [pos_to_features(tags) for tags in df_train[\"pos_tags\"]]\n",
    "        test_pos_features = [pos_to_features(tags) for tags in df_test[\"pos_tags\"]]\n",
    "    \n",
    "        # Convert list of dictionaries to Pandas DataFrame (fill missing tags with 0)\n",
    "        pos_df = pd.DataFrame(pos_features).fillna(0)\n",
    "        pos_df_test = pd.DataFrame(test_pos_features).fillna(0)\n",
    "\n",
    "        # Ensure that pos_df_test and pos_df_test have the same columns\n",
    "        pos_df_test = pos_df_test.reindex(columns=pos_df.columns, fill_value=0)\n",
    "    \n",
    "        # Create OneHotEncoder and use it on the pos features\n",
    "        encoder = OneHotEncoder(sparse=False, handle_unknown=\"ignore\")\n",
    "        pos_features_encoded = encoder.fit_transform(pos_df)\n",
    "        pos_features_encoded_test = encoder.transform(pos_df_test)\n",
    "    \n",
    "        # Scale the POS features\n",
    "        scaler = StandardScaler()\n",
    "        pos_features_scaled = scaler.fit_transform(pos_features_encoded)\n",
    "        pos_features_scaled_test = scaler.transform(pos_features_encoded_test)\n",
    "\n",
    "        # Ensure embeddings and pos_features_scaled have the same format\n",
    "        if isinstance(embeddings, np.ndarray):  \n",
    "            embeddings = csr_matrix(embeddings)  # Convert dense to sparse\n",
    "        if isinstance(test_embeddings, np.ndarray):  \n",
    "            test_embeddings = csr_matrix(test_embeddings)  # Convert dense to sparse\n",
    "\n",
    "        if not isinstance(pos_features_scaled, csr_matrix):  \n",
    "            pos_features_scaled = csr_matrix(pos_features_scaled)  # Convert dense to sparse\n",
    "        if not isinstance(pos_features_scaled_test, csr_matrix):  \n",
    "            pos_features_scaled_test = csr_matrix(pos_features_scaled_test)  # Convert dense to sparse\n",
    "\n",
    "        # Combine embeddings with POS features\n",
    "        embeddings = hstack([embeddings, pos_features_scaled])\n",
    "        test_embeddings = hstack([test_embeddings, pos_features_scaled_test])\n",
    "\n",
    "    elif pos.lower() == \"ngram\":\n",
    "        if print_updates:\n",
    "            print(f\"\\nUsing N-gram POS Features (n={ngram_size})...\")\n",
    "        \n",
    "        # Function to convert POS tags to n-grams\n",
    "        def pos_to_ngrams(pos_tags, n=2):\n",
    "            \"\"\"Convert a list of POS-tag tuples into n-gram strings.\"\"\"\n",
    "            pos_sequence = [tag for _, tag in pos_tags]  # Extract only POS tags\n",
    "            ngrams = ['_'.join(pos_sequence[i:i+n]) for i in range(len(pos_sequence)-n+1)]\n",
    "            return ' '.join(ngrams)  # Convert to space-separated string for TF-IDF\n",
    "\n",
    "        # Create POS n-grams\n",
    "        pos_ngrams = np.array([pos_to_ngrams(tags, ngram_size) for tags in df_train[\"pos_tags\"]])\n",
    "        pos_ngrams_test = np.array([pos_to_ngrams(tags, ngram_size) for tags in df_test[\"pos_tags\"]])\n",
    "\n",
    "        # Use TF-IDF to extract n-gram features\n",
    "        vectorizer = TfidfVectorizer(max_features=1000)  # Use fewer features since it's for POS\n",
    "        pos_embeddings = vectorizer.fit_transform(pos_ngrams)#.toarray()\n",
    "        pos_embeddings_test = vectorizer.transform(pos_ngrams_test)\n",
    "\n",
    "        # Ensure embeddings and pos_features_scaled have the same format\n",
    "        if isinstance(embeddings, np.ndarray):  \n",
    "            embeddings = csr_matrix(embeddings)  # Convert dense to sparse\n",
    "        if isinstance(test_embeddings, np.ndarray):  \n",
    "            test_embeddings = csr_matrix(test_embeddings)  # Convert dense to sparse\n",
    "\n",
    "        if not isinstance(pos_embeddings, csr_matrix):  \n",
    "            pos_embeddings = csr_matrix(pos_embeddings)  # Convert dense to sparse\n",
    "        if not isinstance(pos_embeddings_test, csr_matrix):  \n",
    "            pos_embeddings_test = csr_matrix(pos_embeddings_test)  # Convert dense to sparse\n",
    "        \n",
    "        # Combine embeddings with POS n-grams features\n",
    "        embeddings = hstack([embeddings, pos_embeddings])\n",
    "        test_embeddings = hstack([test_embeddings, pos_embeddings_test])\n",
    "\n",
    "    elif pos != \"none\":\n",
    "        raise ValueError(\"Invalid POS type. Choose 'none', 'one-hot', or 'ngram'.\")\n",
    "\n",
    "    # ===========================\n",
    "    # 3. Model Evaluation (Holdout or k-Fold) with Hyperparameter Search\n",
    "    # ===========================\n",
    "\n",
    "    # Set initial performance metrics such that they can be updated after a better classifier has been found\n",
    "    # best_k = None\n",
    "    best_accuracy = 0\n",
    "    best_params = None\n",
    "    results = {}\n",
    "    best_functionwide_accuracy = 0\n",
    "    best_functionwide_params = None\n",
    "\n",
    "    # For every value of k, we find the best parameter settings and save them in the results dictionary\n",
    "    for k in k_values:\n",
    "        param_results = {}\n",
    "        # accuracy_scores = []\n",
    "        # best_model_params = {}\n",
    "\n",
    "        if k == 1: # Use regular hold-out cross-validation\n",
    "            X_train, X_val, y_train, y_val = train_test_split(\n",
    "                embeddings, df_train[\"label\"], test_size=test_ratio, stratify=df_train[\"label\"], random_state=42\n",
    "            )\n",
    "            \n",
    "            if model_type.lower() == \"svm\":\n",
    "                for C in C_values:\n",
    "                    for kernel in kernel_values:\n",
    "                        classifier = SVC(kernel=kernel, C=C)\n",
    "                        classifier.fit(X_train, y_train)\n",
    "                        accuracy = accuracy_score(y_val, classifier.predict(X_val))\n",
    "                        param_results.setdefault((C, kernel), []).append(accuracy)\n",
    "            \n",
    "            elif model_type.lower() == \"random_forest\":\n",
    "                for max_depth in max_depth_values:\n",
    "                    classifier = RandomForestClassifier(max_depth=max_depth, random_state=42)\n",
    "                    classifier.fit(X_train, y_train)\n",
    "                    accuracy = accuracy_score(y_val, classifier.predict(X_val))\n",
    "                    param_results.setdefault((max_depth), []).append(accuracy)\n",
    "            \n",
    "            elif model_type.lower() == \"naive_bayes\":\n",
    "                if pos == \"none\" and embedding.lower() in [\"bow\", \"tf-idf\"]: # In this case all features are discrete, so we can use MultinomialNB\n",
    "                    for alpha in alpha_values:\n",
    "                        for fit_prior in fit_prior_values:\n",
    "                            classifier = MultinomialNB(alpha=alpha, fit_prior=fit_prior)\n",
    "                            classifier.fit(X_train, y_train)\n",
    "                            accuracy = accuracy_score(y_val, classifier.predict(X_val))\n",
    "                            param_results.setdefault((alpha, fit_prior), []).append(accuracy)\n",
    "                else: # In this case, there are continuous features, so we use GaussianNB\n",
    "                    for var_smoothing in var_smoothing_values:\n",
    "                        classifier = GaussianNB(var_smoothing=var_smoothing)\n",
    "                        \n",
    "                        if isinstance(X_train, np.ndarray):\n",
    "                            classifier.fit(X_train, y_train)\n",
    "                            accuracy = accuracy_score(y_val, classifier.predict(X_val))\n",
    "                        else:\n",
    "                            classifier.fit(X_train.toarray(), y_train)\n",
    "                            accuracy = accuracy_score(y_val, classifier.predict(X_val.toarray()))\n",
    "                            \n",
    "                        param_results.setdefault((var_smoothing), []).append(accuracy)\n",
    "\n",
    "            else:\n",
    "                raise ValueError('Invalid model_type. Choose \"svm\", \"random_forest\" or \"naive_bayes\".')\n",
    "\n",
    "            # accuracy_scores.append(best_accuracy)\n",
    "            \n",
    "        else:  # Use stratified k-fold cross-validation\n",
    "            kf = StratifiedKFold(n_splits=k, shuffle=True, random_state=42)\n",
    "            for train_index, val_index in kf.split(embeddings, df_train[\"label\"]):\n",
    "                X_train, X_val = embeddings[train_index], embeddings[val_index]\n",
    "                y_train, y_val = df_train[\"label\"].iloc[train_index].values, df_train[\"label\"].iloc[val_index].values\n",
    "                \n",
    "                best_fold_accuracy = 0\n",
    "                \n",
    "                if model_type == \"svm\":\n",
    "                    for C in C_values:\n",
    "                        for kernel in kernel_values:\n",
    "                            classifier = SVC(kernel=kernel, C=C)\n",
    "                            classifier.fit(X_train, y_train)\n",
    "                            accuracy = accuracy_score(y_val, classifier.predict(X_val))\n",
    "                            param_results.setdefault((C, kernel), []).append(accuracy)\n",
    "                \n",
    "                elif model_type == \"random_forest\":\n",
    "                    for max_depth in max_depth_values:\n",
    "                        classifier = RandomForestClassifier(max_depth=max_depth, random_state=42)\n",
    "                        classifier.fit(X_train, y_train)\n",
    "                        accuracy = accuracy_score(y_val, classifier.predict(X_val))\n",
    "                        param_results.setdefault((max_depth), []).append(accuracy)\n",
    "                \n",
    "                elif model_type == \"naive_bayes\":\n",
    "                    if pos == \"none\" and embedding.lower() in [\"bow\", \"tf-idf\"]:\n",
    "                        for alpha in alpha_values:\n",
    "                            for fit_prior in fit_prior_values:\n",
    "                                classifier = MultinomialNB(alpha=alpha, fit_prior=fit_prior)\n",
    "                                classifier.fit(X_train, y_train)\n",
    "                                accuracy = accuracy_score(y_val, classifier.predict(X_val))\n",
    "                                param_results.setdefault((alpha, fit_prior), []).append(accuracy)\n",
    "                    else:\n",
    "                        for var_smoothing in var_smoothing_values:\n",
    "                            classifier = GaussianNB(var_smoothing=var_smoothing)\n",
    "                            if isinstance(X_train, np.ndarray):\n",
    "                                classifier.fit(X_train, y_train)\n",
    "                                accuracy = accuracy_score(y_val, classifier.predict(X_val))\n",
    "                            else:\n",
    "                                classifier.fit(X_train.toarray(), y_train)\n",
    "                                accuracy = accuracy_score(y_val, classifier.predict(X_val.toarray()))\n",
    "                            param_results.setdefault((var_smoothing), []).append(accuracy)\n",
    "                                \n",
    "                else:\n",
    "                    raise ValueError('Invalid model_type. Choose \"svm\", \"random_forest\" or \"naive_bayes\".')\n",
    "                \n",
    "                # accuracy_scores.append(best_fold_accuracy)\n",
    "        \n",
    "        # results[k] = {\"accuracy\": np.mean(accuracy_scores), \"best_params\": best_model_params}\n",
    "\n",
    "        # Compute mean accuracy for each hyperparameter set\n",
    "        mean_accuracies = {params: np.mean(acc_list) for params, acc_list in param_results.items()}\n",
    "        best_params = max(mean_accuracies, key=mean_accuracies.get)\n",
    "        best_accuracy = mean_accuracies[best_params]\n",
    "        results[k] = {\"accuracy\": best_accuracy, \"best_params\": best_params}\n",
    "        \n",
    "        if print_updates:\n",
    "            print(f\"Best {model_type} Params for k={k}: {results[k]['best_params']}, Mean Validation Accuracy: {results[k]['accuracy']:.4f}\")\n",
    "        \n",
    "        if print_updates:\n",
    "            print(f\"param_results: {param_results}\")\n",
    "            print(f\"mean results: {mean_accuracies}\")\n",
    "            print(f\"best validation accuracy for K={k}: {best_accuracy}\")\n",
    "            print(f\"best functionwide validation accuracy: {best_functionwide_accuracy}\\n\")\n",
    "\n",
    "        # Train final model on full training set if this is the best performance so far\n",
    "        if best_accuracy > best_functionwide_accuracy:\n",
    "            best_functionwide_accuracy = best_accuracy\n",
    "            best_functionwide_params = best_params\n",
    "            if not isinstance(best_params, tuple):\n",
    "                best_params = (best_params,)\n",
    "            if model_type.lower() == \"svm\":\n",
    "                best_model = SVC(C=best_params[0], kernel=best_params[1])\n",
    "            elif model_type.lower() == \"random_forest\":\n",
    "                best_model = RandomForestClassifier(max_depth=best_params[0], random_state=42)\n",
    "            elif model_type.lower() == \"naive_bayes\":\n",
    "                if pos == \"none\" and embedding.lower() in [\"bow\", \"tf-idf\"]:\n",
    "                    best_model = MultinomialNB(alpha=best_params[0], fit_prior=best_params[1])\n",
    "                else:\n",
    "                    best_model = GaussianNB(var_smoothing=best_params[0])\n",
    "                    \n",
    "            if isinstance(X_train, np.ndarray):\n",
    "                best_model.fit(X_train, y_train)\n",
    "            else:\n",
    "                best_model.fit(X_train.toarray(), y_train)\n",
    "    \n",
    "    # Evaluate best model on test set\n",
    "    if not isinstance(test_embeddings, np.ndarray):\n",
    "        test_accuracy = accuracy_score(df_test[\"label\"], best_model.predict(test_embeddings.toarray()))\n",
    "    else:\n",
    "        test_accuracy = accuracy_score(df_test[\"label\"], best_model.predict(test_embeddings))\n",
    "        \n",
    "    if print_updates:\n",
    "        print(f\"\\nBest model found: \\nModel={model_type}, \\nParameter values: {best_params}, \\nValidation Accuracy: {best_functionwide_accuracy:.4f}\")\n",
    "        print(f\"Final Test Accuracy: {test_accuracy:.4f}\")\n",
    "\n",
    "    if show_class_accuracy:\n",
    "        y_test = df_test[\"label\"]\n",
    "        \n",
    "        if not isinstance(test_embeddings, np.ndarray):\n",
    "            y_pred = best_model.predict(test_embeddings.toarray())\n",
    "        else:\n",
    "            y_pred = best_model.predict(test_embeddings)\n",
    "            \n",
    "        cm = confusion_matrix(y_test, y_pred)\n",
    "        \n",
    "        # Class names (assuming they are in the same order as in y_train or y_test)\n",
    "        class_names = np.unique(y_test)  # This will give you the unique class labels\n",
    "        \n",
    "        # Calculate per-class accuracy: TP / (TP + FN)\n",
    "        class_accuracies = cm.diagonal() / cm.sum(axis=1)\n",
    "        \n",
    "        # Print the accuracy for each class along with its name\n",
    "        for i, acc in enumerate(class_accuracies):\n",
    "            print(f\"Class '{class_names[i]}' Accuracy: {acc:.4f}\")\n",
    "\n",
    "    if show_confusion_matrix:\n",
    "        y_test = df_test[\"label\"]\n",
    "        \n",
    "        if not isinstance(test_embeddings, np.ndarray):\n",
    "            y_pred = best_model.predict(test_embeddings.toarray())\n",
    "        else:\n",
    "            y_pred = best_model.predict(test_embeddings)\n",
    "            \n",
    "        cm = confusion_matrix(y_test, y_pred)\n",
    "        class_mapping = {0: 'Bouw & Vastgoed', 1: 'Handel & Industrie', 2: 'Zakelijke Dienstverlening', 3: 'Zorg'}\n",
    "        class_names = [class_mapping[i] for i in np.unique(y_test)]\n",
    "        \n",
    "        # Plotting the confusion matrix\n",
    "        plt.figure(figsize=(8, 6))\n",
    "        sns.heatmap(cm, annot=True, fmt='d', cmap='Blues', xticklabels=class_names, yticklabels=class_names, cbar=True)\n",
    "        \n",
    "        # Label the axes\n",
    "        plt.xlabel('Predicted Label')\n",
    "        plt.ylabel('True Label')\n",
    "        plt.title('Confusion Matrix')\n",
    "        \n",
    "        # Display the plot\n",
    "        plt.show()\n",
    "\n",
    "    if return_data:\n",
    "        y_test = df_test[\"label\"]\n",
    "        return results, best_model, [(X_train, y_train), (X_val, y_val), (X_test, y_test)]\n",
    "    else:\n",
    "        return results, best_model"
   ]
  },
  {
   "cell_type": "markdown",
   "id": "63f1cb8e-3aea-49ae-8f44-f14583996f4b",
   "metadata": {
    "jp-MarkdownHeadingCollapsed": true
   },
   "source": [
    "# Testing:"
   ]
  },
  {
   "cell_type": "code",
   "execution_count": 44,
   "id": "89cf1789-14a2-4917-b1fa-f3abf782beae",
   "metadata": {},
   "outputs": [
    {
     "name": "stdout",
     "output_type": "stream",
     "text": [
      "\n",
      "Using TF-IDF Embeddings...\n",
      "Best random_forest Params for k=2: 15, Mean Validation Accuracy: 0.4889\n",
      "param_results: {5: [0.4528301886792453, 0.4430379746835443], 10: [0.49056603773584906, 0.4620253164556962], 15: [0.5157232704402516, 0.4620253164556962], 20: [0.4968553459119497, 0.47468354430379744], None: [0.4779874213836478, 0.4873417721518987]}\n",
      "mean results: {5: 0.4479340816813948, 10: 0.47629567709577264, 15: 0.4888742934479739, 20: 0.48576944510787357, None: 0.4826645967677733}\n",
      "best validation accuracy for K=2: 0.4888742934479739\n",
      "best functionwide validation accuracy: 0\n",
      "\n",
      "Best random_forest Params for k=3: 10, Mean Validation Accuracy: 0.5204\n",
      "param_results: {5: [0.5188679245283019, 0.4528301886792453, 0.4095238095238095], 10: [0.5471698113207547, 0.5188679245283019, 0.49523809523809526], 15: [0.5754716981132075, 0.5094339622641509, 0.47619047619047616], 20: [0.5471698113207547, 0.5, 0.4857142857142857], None: [0.5377358490566038, 0.49056603773584906, 0.4857142857142857]}\n",
      "mean results: {5: 0.4604073075771189, 10: 0.5204252770290506, 15: 0.5203653788559449, 20: 0.5109613656783468, None: 0.5046720575022462}\n",
      "best validation accuracy for K=3: 0.5204252770290506\n",
      "best functionwide validation accuracy: 0.4888742934479739\n",
      "\n",
      "Best random_forest Params for k=5: 20, Mean Validation Accuracy: 0.5299\n",
      "param_results: {5: [0.484375, 0.4375, 0.5238095238095238, 0.5079365079365079, 0.5079365079365079], 10: [0.546875, 0.4375, 0.5396825396825397, 0.5238095238095238, 0.49206349206349204], 15: [0.546875, 0.515625, 0.5238095238095238, 0.5079365079365079, 0.49206349206349204], 20: [0.546875, 0.53125, 0.5555555555555556, 0.5238095238095238, 0.49206349206349204], None: [0.546875, 0.515625, 0.5238095238095238, 0.5238095238095238, 0.4603174603174603]}\n",
      "mean results: {5: 0.4923115079365079, 10: 0.507986111111111, 15: 0.5172619047619047, 20: 0.5299107142857143, None: 0.5140873015873015}\n",
      "best validation accuracy for K=5: 0.5299107142857143\n",
      "best functionwide validation accuracy: 0.5204252770290506\n",
      "\n",
      "\n",
      "Best model found: \n",
      "Model=random_forest, \n",
      "Parameter values: (20,), \n",
      "Validation Accuracy: 0.5299\n",
      "Final Test Accuracy: 0.5965\n",
      "Class '0' Accuracy: 0.8421\n",
      "Class '1' Accuracy: 0.7647\n",
      "Class '2' Accuracy: 0.0769\n",
      "Class '3' Accuracy: 0.5000\n"
     ]
    },
    {
     "data": {
      "image/png": "[encoded data removed]",
      "text/plain": [
       "<Figure size 800x600 with 2 Axes>"
      ]
     },
     "metadata": {},
     "output_type": "display_data"
    },
    {
     "data": {
      "text/plain": [
       "{2: {'accuracy': 0.4888742934479739, 'best_params': 15},\n",
       " 3: {'accuracy': 0.5204252770290506, 'best_params': 10},\n",
       " 5: {'accuracy': 0.5299107142857143, 'best_params': 20}}"
      ]
     },
     "execution_count": 44,
     "metadata": {},
     "output_type": "execute_result"
    }
   ],
   "source": [
    "evaluate_model(df, test_ratio = 0.15, k_values = [2, 3, 5], \n",
    "                   embedding = \"tf-idf\", model_type = \"random_forest\",\n",
    "                   C_values = [0.1, 1, 10], kernel_values = ['linear', 'rbf', 'poly'],\n",
    "                   max_depth_values = [5, 10, 15, 20, None],\n",
    "                   alpha_values = [0.01, 0.1, 0.5, 1.0, 2.0, 5.0, 10.0],\n",
    "                   fit_prior_values = [True, False],\n",
    "                   var_smoothing_values = [10**-11, 10**-10, 10**-9, 10**-8, 10**-7],\n",
    "                   pos = \"none\", ngram_size = 2,)"
   ]
  },
  {
   "cell_type": "code",
   "execution_count": 45,
   "id": "d8e5d384-a5c4-4c31-b78d-02cd6e26505d",
   "metadata": {},
   "outputs": [
    {
     "name": "stdout",
     "output_type": "stream",
     "text": [
      "\n",
      "Using BERTJE Embeddings (GroNLP/bert-base-dutch-cased)...\n"
     ]
    },
    {
     "name": "stderr",
     "output_type": "stream",
     "text": [
      "Some weights of BertModel were not initialized from the model checkpoint at GroNLP/bert-base-dutch-cased and are newly initialized: ['bert.pooler.dense.bias', 'bert.pooler.dense.weight']\n",
      "You should probably TRAIN this model on a down-stream task to be able to use it for predictions and inference.\n"
     ]
    },
    {
     "name": "stdout",
     "output_type": "stream",
     "text": [
      "\n",
      "Creating BERTje embedding, this may take a few minutes.\n",
      "Best random_forest Params for k=2: 5, Mean Validation Accuracy: 0.5647\n",
      "param_results: {5: [0.5660377358490566, 0.5632911392405063], 10: [0.5849056603773585, 0.5253164556962026], 15: [0.5660377358490566, 0.5253164556962026], 20: [0.5660377358490566, 0.5253164556962026], None: [0.5660377358490566, 0.5253164556962026]}\n",
      "mean results: {5: 0.5646644375447815, 10: 0.5551110580367805, 15: 0.5456770957726296, 20: 0.5456770957726296, None: 0.5456770957726296}\n",
      "best validation accuracy for K=2: 0.5646644375447815\n",
      "best functionwide validation accuracy: 0\n",
      "\n",
      "Best random_forest Params for k=3: 10, Mean Validation Accuracy: 0.5897\n",
      "param_results: {5: [0.5660377358490566, 0.5660377358490566, 0.47619047619047616], 10: [0.6320754716981132, 0.6226415094339622, 0.5142857142857142], 15: [0.6226415094339622, 0.6509433962264151, 0.49523809523809526], 20: [0.6226415094339622, 0.6509433962264151, 0.49523809523809526], None: [0.6226415094339622, 0.6509433962264151, 0.49523809523809526]}\n",
      "mean results: {5: 0.5360886492961964, 10: 0.5896675651392632, 15: 0.5896076669661575, 20: 0.5896076669661575, None: 0.5896076669661575}\n",
      "best validation accuracy for K=3: 0.5896675651392632\n",
      "best functionwide validation accuracy: 0.5646644375447815\n",
      "\n",
      "Best random_forest Params for k=5: 10, Mean Validation Accuracy: 0.5803\n",
      "param_results: {5: [0.609375, 0.625, 0.6031746031746031, 0.5079365079365079, 0.5238095238095238], 10: [0.640625, 0.5625, 0.6031746031746031, 0.5555555555555556, 0.5396825396825397], 15: [0.625, 0.578125, 0.5873015873015873, 0.5396825396825397, 0.5079365079365079], 20: [0.625, 0.578125, 0.5873015873015873, 0.5396825396825397, 0.5079365079365079], None: [0.625, 0.578125, 0.5873015873015873, 0.5396825396825397, 0.5079365079365079]}\n",
      "mean results: {5: 0.573859126984127, 10: 0.5803075396825397, 15: 0.567609126984127, 20: 0.567609126984127, None: 0.567609126984127}\n",
      "best validation accuracy for K=5: 0.5803075396825397\n",
      "best functionwide validation accuracy: 0.5896675651392632\n",
      "\n",
      "\n",
      "Best model found: \n",
      "Model=random_forest, \n",
      "Parameter values: 10, \n",
      "Validation Accuracy: 0.5897\n",
      "Final Test Accuracy: 0.5614\n",
      "Class '0' Accuracy: 0.6316\n",
      "Class '1' Accuracy: 0.5882\n",
      "Class '2' Accuracy: 0.3846\n",
      "Class '3' Accuracy: 0.6250\n"
     ]
    },
    {
     "data": {
      "image/png": "[encoded data removed]",
      "text/plain": [
       "<Figure size 800x600 with 2 Axes>"
      ]
     },
     "metadata": {},
     "output_type": "display_data"
    },
    {
     "data": {
      "text/plain": [
       "{2: {'accuracy': 0.5646644375447815, 'best_params': 5},\n",
       " 3: {'accuracy': 0.5896675651392632, 'best_params': 10},\n",
       " 5: {'accuracy': 0.5803075396825397, 'best_params': 10}}"
      ]
     },
     "execution_count": 45,
     "metadata": {},
     "output_type": "execute_result"
    }
   ],
   "source": [
    "evaluate_model(df, test_ratio = 0.15, k_values = [2, 3, 5], \n",
    "                   embedding = \"BERTje\", model_type = \"random_forest\",\n",
    "                   C_values = [0.1, 1, 10], kernel_values = ['linear', 'rbf', 'poly'],\n",
    "                   max_depth_values = [5, 10, 15, 20, None],\n",
    "                   alpha_values = [0.01, 0.1, 0.5, 1.0, 2.0, 5.0, 10.0],\n",
    "                   fit_prior_values = [True, False],\n",
    "                   var_smoothing_values = [10**-11, 10**-10, 10**-9, 10**-8, 10**-7],\n",
    "                   pos = \"none\", ngram_size = 2)"
   ]
  },
  {
   "cell_type": "code",
   "execution_count": 46,
   "id": "81b3d6c4-8346-44e6-ac90-fe229c91e638",
   "metadata": {},
   "outputs": [
    {
     "name": "stdout",
     "output_type": "stream",
     "text": [
      "\n",
      "Using TF-IDF Embeddings...\n",
      "\n",
      "Using One-Hot Encoding for POS Tags...\n"
     ]
    },
    {
     "name": "stderr",
     "output_type": "stream",
     "text": [
      "C:\\Users\\20193204\\AppData\\Roaming\\Python\\Python310\\site-packages\\sklearn\\preprocessing\\_encoders.py:975: FutureWarning: `sparse` was renamed to `sparse_output` in version 1.2 and will be removed in 1.4. `sparse_output` is ignored unless you leave `sparse` to its default value.\n",
      "  warnings.warn(\n"
     ]
    },
    {
     "name": "stdout",
     "output_type": "stream",
     "text": [
      "Best random_forest Params for k=2: 20, Mean Validation Accuracy: 0.4953\n",
      "param_results: {5: [0.4276729559748428, 0.47468354430379744], 10: [0.4968553459119497, 0.45569620253164556], 15: [0.49056603773584906, 0.4810126582278481], 20: [0.49056603773584906, 0.5], None: [0.5031446540880503, 0.4873417721518987]}\n",
      "mean results: {5: 0.4511782501393201, 10: 0.4762757742217976, 15: 0.4857893479818486, 20: 0.49528301886792453, None: 0.49524321311997455}\n",
      "best validation accuracy for K=2: 0.49528301886792453\n",
      "best functionwide validation accuracy: 0\n",
      "\n",
      "Best random_forest Params for k=3: 20, Mean Validation Accuracy: 0.5234\n",
      "param_results: {5: [0.46226415094339623, 0.4811320754716981, 0.45714285714285713], 10: [0.5188679245283019, 0.4716981132075472, 0.4095238095238095], 15: [0.5471698113207547, 0.5471698113207547, 0.44761904761904764], 20: [0.5943396226415094, 0.5471698113207547, 0.42857142857142855], None: [0.5660377358490566, 0.5660377358490566, 0.4095238095238095]}\n",
      "mean results: {5: 0.4668463611859838, 10: 0.4666966157532195, 15: 0.5139862234201856, 20: 0.5233602875112309, None: 0.5138664270739742}\n",
      "best validation accuracy for K=3: 0.5233602875112309\n",
      "best functionwide validation accuracy: 0.49528301886792453\n",
      "\n",
      "Best random_forest Params for k=5: 20, Mean Validation Accuracy: 0.5616\n",
      "param_results: {5: [0.5, 0.5, 0.5238095238095238, 0.5238095238095238, 0.4603174603174603], 10: [0.515625, 0.546875, 0.5396825396825397, 0.49206349206349204, 0.47619047619047616], 15: [0.546875, 0.5625, 0.5238095238095238, 0.5396825396825397, 0.5238095238095238], 20: [0.546875, 0.5625, 0.5555555555555556, 0.5873015873015873, 0.5555555555555556], None: [0.59375, 0.5625, 0.5079365079365079, 0.5079365079365079, 0.5396825396825397]}\n",
      "mean results: {5: 0.5015873015873016, 10: 0.5140873015873015, 15: 0.5393353174603174, 20: 0.5615575396825397, None: 0.5423611111111111}\n",
      "best validation accuracy for K=5: 0.5615575396825397\n",
      "best functionwide validation accuracy: 0.5233602875112309\n",
      "\n",
      "\n",
      "Best model found: \n",
      "Model=random_forest, \n",
      "Parameter values: (20,), \n",
      "Validation Accuracy: 0.5616\n",
      "Final Test Accuracy: 0.5614\n",
      "Class '0' Accuracy: 0.7895\n",
      "Class '1' Accuracy: 0.6471\n",
      "Class '2' Accuracy: 0.2308\n",
      "Class '3' Accuracy: 0.3750\n"
     ]
    },
    {
     "data": {
      "image/png": "[encoded data removed]",
      "text/plain": [
       "<Figure size 800x600 with 2 Axes>"
      ]
     },
     "metadata": {},
     "output_type": "display_data"
    },
    {
     "data": {
      "text/plain": [
       "{2: {'accuracy': 0.49528301886792453, 'best_params': 20},\n",
       " 3: {'accuracy': 0.5233602875112309, 'best_params': 20},\n",
       " 5: {'accuracy': 0.5615575396825397, 'best_params': 20}}"
      ]
     },
     "execution_count": 46,
     "metadata": {},
     "output_type": "execute_result"
    }
   ],
   "source": [
    "evaluate_model(df, test_ratio = 0.15, k_values = [2, 3, 5], \n",
    "                   embedding = \"tf-idf\", model_type = \"random_forest\",\n",
    "                   C_values = [0.1, 1, 10], kernel_values = ['linear', 'rbf', 'poly'],\n",
    "                   max_depth_values = [5, 10, 15, 20, None],\n",
    "                   alpha_values = [0.01, 0.1, 0.5, 1.0, 2.0, 5.0, 10.0],\n",
    "                   fit_prior_values = [True, False],\n",
    "                   var_smoothing_values = [10**-11, 10**-10, 10**-9, 10**-8, 10**-7],\n",
    "                   pos = \"one-hot\", ngram_size = 2)"
   ]
  },
  {
   "cell_type": "code",
   "execution_count": 47,
   "id": "1e439779-31d0-4d7f-a242-21bc47ebfcfb",
   "metadata": {},
   "outputs": [
    {
     "name": "stdout",
     "output_type": "stream",
     "text": [
      "\n",
      "Using MBERT Embeddings (bert-base-multilingual-cased)...\n",
      "\n",
      "Creating mbert embedding, this may take a few minutes.\n",
      "\n",
      "Using N-gram POS Features (n=2)...\n",
      "Best random_forest Params for k=2: 15, Mean Validation Accuracy: 0.5298\n",
      "param_results: {5: [0.5534591194968553, 0.4240506329113924], 10: [0.559748427672956, 0.46835443037974683], 15: [0.5849056603773585, 0.47468354430379744], 20: [0.5849056603773585, 0.47468354430379744], None: [0.5849056603773585, 0.47468354430379744]}\n",
      "mean results: {5: 0.48875487620412383, 10: 0.5140514290263514, 15: 0.529794602340578, 20: 0.529794602340578, None: 0.529794602340578}\n",
      "best validation accuracy for K=2: 0.529794602340578\n",
      "best functionwide validation accuracy: 0\n",
      "\n",
      "Best random_forest Params for k=3: 15, Mean Validation Accuracy: 0.5677\n",
      "param_results: {5: [0.6037735849056604, 0.5, 0.4666666666666667], 10: [0.6037735849056604, 0.5377358490566038, 0.49523809523809526], 15: [0.6132075471698113, 0.5660377358490566, 0.5238095238095238], 20: [0.6132075471698113, 0.5566037735849056, 0.5238095238095238], None: [0.6132075471698113, 0.5566037735849056, 0.5238095238095238]}\n",
      "mean results: {5: 0.5234800838574424, 10: 0.5455825097334531, 15: 0.5676849356094639, 20: 0.5645402815214137, None: 0.5645402815214137}\n",
      "best validation accuracy for K=3: 0.5676849356094639\n",
      "best functionwide validation accuracy: 0.529794602340578\n",
      "\n",
      "Best random_forest Params for k=5: 20, Mean Validation Accuracy: 0.5547\n",
      "param_results: {5: [0.625, 0.546875, 0.5555555555555556, 0.4126984126984127, 0.5396825396825397], 10: [0.65625, 0.59375, 0.5396825396825397, 0.4126984126984127, 0.5079365079365079], 15: [0.671875, 0.609375, 0.5079365079365079, 0.4444444444444444, 0.5079365079365079], 20: [0.671875, 0.609375, 0.5238095238095238, 0.4444444444444444, 0.5238095238095238], None: [0.671875, 0.609375, 0.5238095238095238, 0.4444444444444444, 0.5238095238095238]}\n",
      "mean results: {5: 0.5359623015873016, 10: 0.542063492063492, 15: 0.5483134920634921, 20: 0.5546626984126984, None: 0.5546626984126984}\n",
      "best validation accuracy for K=5: 0.5546626984126984\n",
      "best functionwide validation accuracy: 0.5676849356094639\n",
      "\n",
      "\n",
      "Best model found: \n",
      "Model=random_forest, \n",
      "Parameter values: 20, \n",
      "Validation Accuracy: 0.5677\n",
      "Final Test Accuracy: 0.5614\n",
      "Class '0' Accuracy: 0.5789\n",
      "Class '1' Accuracy: 0.7059\n",
      "Class '2' Accuracy: 0.3077\n",
      "Class '3' Accuracy: 0.6250\n"
     ]
    },
    {
     "data": {
      "image/png": "[encoded data removed]",
      "text/plain": [
       "<Figure size 800x600 with 2 Axes>"
      ]
     },
     "metadata": {},
     "output_type": "display_data"
    },
    {
     "data": {
      "text/plain": [
       "{2: {'accuracy': 0.529794602340578, 'best_params': 15},\n",
       " 3: {'accuracy': 0.5676849356094639, 'best_params': 15},\n",
       " 5: {'accuracy': 0.5546626984126984, 'best_params': 20}}"
      ]
     },
     "execution_count": 47,
     "metadata": {},
     "output_type": "execute_result"
    }
   ],
   "source": [
    "evaluate_model(df, test_ratio = 0.15, k_values = [2, 3, 5], \n",
    "                   embedding = \"mbert\", model_type = \"random_forest\",\n",
    "                   C_values = [0.1, 1, 10], kernel_values = ['linear', 'rbf', 'poly'],\n",
    "                   max_depth_values = [5, 10, 15, 20, None],\n",
    "                   alpha_values = [0.01, 0.1, 0.5, 1.0, 2.0, 5.0, 10.0],\n",
    "                   fit_prior_values = [True, False],\n",
    "                   var_smoothing_values = [10**-11, 10**-10, 10**-9, 10**-8, 10**-7],\n",
    "                   pos = \"ngram\", ngram_size = 2)"
   ]
  },
  {
   "cell_type": "code",
   "execution_count": 48,
   "id": "593ea37e-589b-4bf3-8bcc-4de3550f0880",
   "metadata": {},
   "outputs": [
    {
     "name": "stdout",
     "output_type": "stream",
     "text": [
      "\n",
      "Using BERTJE Embeddings (GroNLP/bert-base-dutch-cased)...\n"
     ]
    },
    {
     "name": "stderr",
     "output_type": "stream",
     "text": [
      "Some weights of BertModel were not initialized from the model checkpoint at GroNLP/bert-base-dutch-cased and are newly initialized: ['bert.pooler.dense.bias', 'bert.pooler.dense.weight']\n",
      "You should probably TRAIN this model on a down-stream task to be able to use it for predictions and inference.\n"
     ]
    },
    {
     "name": "stdout",
     "output_type": "stream",
     "text": [
      "\n",
      "Creating BERTje embedding, this may take a few minutes.\n",
      "Best svm Params for k=2: (0.1, 'linear'), Mean Validation Accuracy: 0.6750\n",
      "param_results: {(0.1, 'linear'): [0.7044025157232704, 0.6455696202531646], (0.1, 'rbf'): [0.3270440251572327, 0.34177215189873417], (0.1, 'poly'): [0.49056603773584906, 0.47468354430379744], (1, 'linear'): [0.6855345911949685, 0.6012658227848101], (1, 'rbf'): [0.5220125786163522, 0.4873417721518987], (1, 'poly'): [0.5471698113207547, 0.5126582278481012], (10, 'linear'): [0.6855345911949685, 0.6012658227848101], (10, 'rbf'): [0.7044025157232704, 0.6329113924050633], (10, 'poly'): [0.6855345911949685, 0.6455696202531646]}\n",
      "mean results: {(0.1, 'linear'): 0.6749860679882175, (0.1, 'rbf'): 0.3344080885279834, (0.1, 'poly'): 0.48262479101982325, (1, 'linear'): 0.6434002069898893, (1, 'rbf'): 0.5046771753841255, (1, 'poly'): 0.529914019584428, (10, 'linear'): 0.6434002069898893, (10, 'rbf'): 0.6686569540641669, (10, 'poly'): 0.6655521057240665}\n",
      "best validation accuracy for K=2: 0.6749860679882175\n",
      "best functionwide validation accuracy: 0\n",
      "\n",
      "Best svm Params for k=3: (10, 'rbf'), Mean Validation Accuracy: 0.7095\n",
      "param_results: {(0.1, 'linear'): [0.7169811320754716, 0.7452830188679245, 0.6095238095238096], (0.1, 'rbf'): [0.3490566037735849, 0.4339622641509434, 0.44761904761904764], (0.1, 'poly'): [0.5377358490566038, 0.5094339622641509, 0.45714285714285713], (1, 'linear'): [0.6509433962264151, 0.660377358490566, 0.5428571428571428], (1, 'rbf'): [0.5471698113207547, 0.5283018867924528, 0.49523809523809526], (1, 'poly'): [0.5849056603773585, 0.5754716981132075, 0.5238095238095238], (10, 'linear'): [0.6509433962264151, 0.660377358490566, 0.5428571428571428], (10, 'rbf'): [0.7547169811320755, 0.7547169811320755, 0.6190476190476191], (10, 'poly'): [0.7264150943396226, 0.7264150943396226, 0.6190476190476191]}\n",
      "mean results: {(0.1, 'linear'): 0.690595986822402, (0.1, 'rbf'): 0.4102126385145253, (0.1, 'poly'): 0.5014375561545373, (1, 'linear'): 0.6180592991913746, (1, 'rbf'): 0.5235699311171009, (1, 'poly'): 0.5613956274333632, (10, 'linear'): 0.6180592991913746, (10, 'rbf'): 0.7094938604372567, (10, 'poly'): 0.6906259359089547}\n",
      "best validation accuracy for K=3: 0.7094938604372567\n",
      "best functionwide validation accuracy: 0.6749860679882175\n",
      "\n",
      "Best svm Params for k=5: (10, 'rbf'), Mean Validation Accuracy: 0.6938\n",
      "param_results: {(0.1, 'linear'): [0.71875, 0.71875, 0.746031746031746, 0.5873015873015873, 0.6349206349206349], (0.1, 'rbf'): [0.40625, 0.5, 0.49206349206349204, 0.3968253968253968, 0.5079365079365079], (0.1, 'poly'): [0.515625, 0.5625, 0.5079365079365079, 0.4444444444444444, 0.47619047619047616], (1, 'linear'): [0.6875, 0.671875, 0.6666666666666666, 0.6031746031746031, 0.6349206349206349], (1, 'rbf'): [0.59375, 0.5625, 0.5873015873015873, 0.4444444444444444, 0.5714285714285714], (1, 'poly'): [0.671875, 0.5625, 0.6349206349206349, 0.5079365079365079, 0.5873015873015873], (10, 'linear'): [0.6875, 0.640625, 0.6666666666666666, 0.5714285714285714, 0.6349206349206349], (10, 'rbf'): [0.71875, 0.71875, 0.746031746031746, 0.6349206349206349, 0.6507936507936508], (10, 'poly'): [0.6875, 0.734375, 0.7142857142857143, 0.6190476190476191, 0.6190476190476191]}\n",
      "mean results: {(0.1, 'linear'): 0.6811507936507937, (0.1, 'rbf'): 0.46061507936507934, (0.1, 'poly'): 0.5013392857142858, (1, 'linear'): 0.6528273809523809, (1, 'rbf'): 0.5518849206349206, (1, 'poly'): 0.5929067460317461, (10, 'linear'): 0.6402281746031746, (10, 'rbf'): 0.6938492063492063, (10, 'poly'): 0.6748511904761905}\n",
      "best validation accuracy for K=5: 0.6938492063492063\n",
      "best functionwide validation accuracy: 0.7094938604372567\n",
      "\n",
      "\n",
      "Best model found: \n",
      "Model=svm, \n",
      "Parameter values: (10, 'rbf'), \n",
      "Validation Accuracy: 0.7095\n",
      "Final Test Accuracy: 0.7368\n",
      "Class '0' Accuracy: 0.7895\n",
      "Class '1' Accuracy: 0.8235\n",
      "Class '2' Accuracy: 0.5385\n",
      "Class '3' Accuracy: 0.7500\n"
     ]
    },
    {
     "data": {
      "image/png": "[encoded data removed]",
      "text/plain": [
       "<Figure size 800x600 with 2 Axes>"
      ]
     },
     "metadata": {},
     "output_type": "display_data"
    },
    {
     "data": {
      "text/plain": [
       "{2: {'accuracy': 0.6749860679882175, 'best_params': (0.1, 'linear')},\n",
       " 3: {'accuracy': 0.7094938604372567, 'best_params': (10, 'rbf')},\n",
       " 5: {'accuracy': 0.6938492063492063, 'best_params': (10, 'rbf')}}"
      ]
     },
     "execution_count": 48,
     "metadata": {},
     "output_type": "execute_result"
    }
   ],
   "source": [
    "evaluate_model(df, test_ratio = 0.15, k_values = [2, 3, 5], \n",
    "                   embedding = \"BERTje\", model_type = \"svm\",\n",
    "                   C_values = [0.1, 1, 10], kernel_values = ['linear', 'rbf', 'poly'],\n",
    "                   max_depth_values = [5, 10, 15, 20, None],\n",
    "                   alpha_values = [0.01, 0.1, 0.5, 1.0, 2.0, 5.0, 10.0],\n",
    "                   fit_prior_values = [True, False],\n",
    "                   var_smoothing_values = [10**-11, 10**-10, 10**-9, 10**-8, 10**-7],\n",
    "                   pos = \"none\", ngram_size = 2)"
   ]
  },
  {
   "cell_type": "code",
   "execution_count": 49,
   "id": "8a9f5f14-abea-4e15-9690-703a63f98f61",
   "metadata": {},
   "outputs": [
    {
     "name": "stdout",
     "output_type": "stream",
     "text": [
      "\n",
      "Using Bag of Words (BoW) Embeddings...\n",
      "\n",
      "Using One-Hot Encoding for POS Tags...\n"
     ]
    },
    {
     "name": "stderr",
     "output_type": "stream",
     "text": [
      "C:\\Users\\20193204\\AppData\\Roaming\\Python\\Python310\\site-packages\\sklearn\\preprocessing\\_encoders.py:975: FutureWarning: `sparse` was renamed to `sparse_output` in version 1.2 and will be removed in 1.4. `sparse_output` is ignored unless you leave `sparse` to its default value.\n",
      "  warnings.warn(\n"
     ]
    },
    {
     "name": "stdout",
     "output_type": "stream",
     "text": [
      "Best svm Params for k=2: (1, 'rbf'), Mean Validation Accuracy: 0.4952\n",
      "param_results: {(0.1, 'linear'): [0.5408805031446541, 0.44936708860759494], (0.1, 'rbf'): [0.3270440251572327, 0.33544303797468356], (0.1, 'poly'): [0.3270440251572327, 0.37341772151898733], (1, 'linear'): [0.5408805031446541, 0.44936708860759494], (1, 'rbf'): [0.5094339622641509, 0.4810126582278481], (1, 'poly'): [0.4025157232704403, 0.4177215189873418], (10, 'linear'): [0.5408805031446541, 0.44936708860759494], (10, 'rbf'): [0.5031446540880503, 0.47468354430379744], (10, 'poly'): [0.4088050314465409, 0.46835443037974683]}\n",
      "mean results: {(0.1, 'linear'): 0.49512379587612454, (0.1, 'rbf'): 0.3312435315659581, (0.1, 'poly'): 0.35023087333811, (1, 'linear'): 0.49512379587612454, (1, 'rbf'): 0.4952233102459995, (1, 'poly'): 0.410118621128891, (10, 'linear'): 0.49512379587612454, (10, 'rbf'): 0.4889140991959239, (10, 'poly'): 0.43857973091314384}\n",
      "best validation accuracy for K=2: 0.4952233102459995\n",
      "best functionwide validation accuracy: 0\n",
      "\n",
      "Best svm Params for k=3: (0.1, 'linear'), Mean Validation Accuracy: 0.5077\n",
      "param_results: {(0.1, 'linear'): [0.5754716981132075, 0.5094339622641509, 0.4380952380952381], (0.1, 'rbf'): [0.330188679245283, 0.330188679245283, 0.3904761904761905], (0.1, 'poly'): [0.3490566037735849, 0.3584905660377358, 0.37142857142857144], (1, 'linear'): [0.5754716981132075, 0.5094339622641509, 0.4380952380952381], (1, 'rbf'): [0.5566037735849056, 0.4811320754716981, 0.45714285714285713], (1, 'poly'): [0.41509433962264153, 0.4339622641509434, 0.4095238095238095], (10, 'linear'): [0.5754716981132075, 0.5094339622641509, 0.4380952380952381], (10, 'rbf'): [0.5471698113207547, 0.4528301886792453, 0.4666666666666667], (10, 'poly'): [0.4811320754716981, 0.4339622641509434, 0.45714285714285713]}\n",
      "mean results: {(0.1, 'linear'): 0.5076669661575323, (0.1, 'rbf'): 0.35028451632225216, (0.1, 'poly'): 0.3596585804132974, (1, 'linear'): 0.5076669661575323, (1, 'rbf'): 0.49829290206648696, (1, 'poly'): 0.41952680443246476, (10, 'linear'): 0.5076669661575323, (10, 'rbf'): 0.48888888888888893, (10, 'poly'): 0.4574123989218329}\n",
      "best validation accuracy for K=3: 0.5076669661575323\n",
      "best functionwide validation accuracy: 0.4952233102459995\n",
      "\n",
      "Best svm Params for k=5: (0.1, 'linear'), Mean Validation Accuracy: 0.5202\n",
      "param_results: {(0.1, 'linear'): [0.609375, 0.53125, 0.5714285714285714, 0.36507936507936506, 0.5238095238095238], (0.1, 'rbf'): [0.390625, 0.328125, 0.4126984126984127, 0.31746031746031744, 0.4126984126984127], (0.1, 'poly'): [0.375, 0.328125, 0.38095238095238093, 0.36507936507936506, 0.38095238095238093], (1, 'linear'): [0.609375, 0.53125, 0.5714285714285714, 0.36507936507936506, 0.5238095238095238], (1, 'rbf'): [0.5625, 0.53125, 0.42857142857142855, 0.42857142857142855, 0.5238095238095238], (1, 'poly'): [0.359375, 0.515625, 0.4126984126984127, 0.3492063492063492, 0.49206349206349204], (10, 'linear'): [0.609375, 0.53125, 0.5714285714285714, 0.36507936507936506, 0.5238095238095238], (10, 'rbf'): [0.546875, 0.484375, 0.4444444444444444, 0.36507936507936506, 0.49206349206349204], (10, 'poly'): [0.4375, 0.484375, 0.4603174603174603, 0.3968253968253968, 0.49206349206349204]}\n",
      "mean results: {(0.1, 'linear'): 0.520188492063492, (0.1, 'rbf'): 0.3723214285714286, (0.1, 'poly'): 0.3660218253968254, (1, 'linear'): 0.520188492063492, (1, 'rbf'): 0.4949404761904762, (1, 'poly'): 0.4257936507936508, (10, 'linear'): 0.520188492063492, (10, 'rbf'): 0.46656746031746027, (10, 'poly'): 0.4542162698412698}\n",
      "best validation accuracy for K=5: 0.520188492063492\n",
      "best functionwide validation accuracy: 0.5076669661575323\n",
      "\n",
      "\n",
      "Best model found: \n",
      "Model=svm, \n",
      "Parameter values: (0.1, 'linear'), \n",
      "Validation Accuracy: 0.5202\n",
      "Final Test Accuracy: 0.4912\n",
      "Class '0' Accuracy: 0.5263\n",
      "Class '1' Accuracy: 0.5294\n",
      "Class '2' Accuracy: 0.3846\n",
      "Class '3' Accuracy: 0.5000\n"
     ]
    },
    {
     "data": {
      "image/png": "[encoded data removed]",
      "text/plain": [
       "<Figure size 800x600 with 2 Axes>"
      ]
     },
     "metadata": {},
     "output_type": "display_data"
    },
    {
     "data": {
      "text/plain": [
       "{2: {'accuracy': 0.4952233102459995, 'best_params': (1, 'rbf')},\n",
       " 3: {'accuracy': 0.5076669661575323, 'best_params': (0.1, 'linear')},\n",
       " 5: {'accuracy': 0.520188492063492, 'best_params': (0.1, 'linear')}}"
      ]
     },
     "execution_count": 49,
     "metadata": {},
     "output_type": "execute_result"
    }
   ],
   "source": [
    "evaluate_model(df, test_ratio = 0.15, k_values = [2, 3, 5], \n",
    "                   embedding = \"BoW\", model_type = \"svm\",\n",
    "                   C_values = [0.1, 1, 10], kernel_values = ['linear', 'rbf', 'poly'],\n",
    "                   max_depth_values = [5, 10, 15, 20, None],\n",
    "                   alpha_values = [0.01, 0.1, 0.5, 1.0, 2.0, 5.0, 10.0],\n",
    "                   fit_prior_values = [True, False],\n",
    "                   var_smoothing_values = [10**-11, 10**-10, 10**-9, 10**-8, 10**-7],\n",
    "                   pos = \"one-hot\", ngram_size = 2)"
   ]
  },
  {
   "cell_type": "code",
   "execution_count": 50,
   "id": "adfb0f54-7aca-41bd-ad44-c2e5c116d87e",
   "metadata": {},
   "outputs": [
    {
     "name": "stdout",
     "output_type": "stream",
     "text": [
      "\n",
      "Using ROBBERT Embeddings (pdelobelle/robbert-v2-dutch-base)...\n"
     ]
    },
    {
     "name": "stderr",
     "output_type": "stream",
     "text": [
      "Some weights of RobertaModel were not initialized from the model checkpoint at pdelobelle/robbert-v2-dutch-base and are newly initialized: ['roberta.pooler.dense.bias', 'roberta.pooler.dense.weight']\n",
      "You should probably TRAIN this model on a down-stream task to be able to use it for predictions and inference.\n"
     ]
    },
    {
     "name": "stdout",
     "output_type": "stream",
     "text": [
      "\n",
      "Creating robBERT embedding, this may take a few minutes.\n",
      "\n",
      "Using N-gram POS Features (n=2)...\n",
      "Best svm Params for k=2: (1, 'linear'), Mean Validation Accuracy: 0.6182\n",
      "param_results: {(0.1, 'linear'): [0.6415094339622641, 0.5822784810126582], (0.1, 'rbf'): [0.3270440251572327, 0.33544303797468356], (0.1, 'poly'): [0.39622641509433965, 0.43670886075949367], (1, 'linear'): [0.6415094339622641, 0.5949367088607594], (1, 'rbf'): [0.5031446540880503, 0.44936708860759494], (1, 'poly'): [0.5031446540880503, 0.4620253164556962], (10, 'linear'): [0.6037735849056604, 0.5822784810126582], (10, 'rbf'): [0.5974842767295597, 0.5632911392405063], (10, 'poly'): [0.6289308176100629, 0.5632911392405063]}\n",
      "mean results: {(0.1, 'linear'): 0.6118939574874611, (0.1, 'rbf'): 0.3312435315659581, (0.1, 'poly'): 0.41646763792691666, (1, 'linear'): 0.6182230714115118, (1, 'rbf'): 0.47625587134782266, (1, 'poly'): 0.48258498527187327, (10, 'linear'): 0.5930260329591592, (10, 'rbf'): 0.580387707985033, (10, 'poly'): 0.5961109784252846}\n",
      "best validation accuracy for K=2: 0.6182230714115118\n",
      "best functionwide validation accuracy: 0\n",
      "\n",
      "Best svm Params for k=3: (0.1, 'linear'), Mean Validation Accuracy: 0.6622\n",
      "param_results: {(0.1, 'linear'): [0.7169811320754716, 0.6886792452830188, 0.580952380952381], (0.1, 'rbf'): [0.330188679245283, 0.330188679245283, 0.3333333333333333], (0.1, 'poly'): [0.5283018867924528, 0.4716981132075472, 0.4380952380952381], (1, 'linear'): [0.6698113207547169, 0.660377358490566, 0.5904761904761905], (1, 'rbf'): [0.5283018867924528, 0.46226415094339623, 0.44761904761904764], (1, 'poly'): [0.5283018867924528, 0.4716981132075472, 0.4380952380952381], (10, 'linear'): [0.6509433962264151, 0.6415094339622641, 0.6], (10, 'rbf'): [0.7169811320754716, 0.6698113207547169, 0.5714285714285714], (10, 'poly'): [0.7075471698113207, 0.6981132075471698, 0.5714285714285714]}\n",
      "mean results: {(0.1, 'linear'): 0.6622042527702905, (0.1, 'rbf'): 0.3312368972746331, (0.1, 'poly'): 0.4793650793650794, (1, 'linear'): 0.6402216232404911, (1, 'rbf'): 0.47939502845163223, (1, 'poly'): 0.4793650793650794, (10, 'linear'): 0.630817610062893, (10, 'rbf'): 0.6527403414195867, (10, 'poly'): 0.6590296495956872}\n",
      "best validation accuracy for K=3: 0.6622042527702905\n",
      "best functionwide validation accuracy: 0.6182230714115118\n",
      "\n",
      "Best svm Params for k=5: (10, 'poly'), Mean Validation Accuracy: 0.7001\n",
      "param_results: {(0.1, 'linear'): [0.703125, 0.71875, 0.6984126984126984, 0.6190476190476191, 0.6984126984126984], (0.1, 'rbf'): [0.328125, 0.328125, 0.3333333333333333, 0.3333333333333333, 0.3333333333333333], (0.1, 'poly'): [0.5, 0.546875, 0.4444444444444444, 0.42857142857142855, 0.4603174603174603], (1, 'linear'): [0.734375, 0.71875, 0.6031746031746031, 0.6349206349206349, 0.6190476190476191], (1, 'rbf'): [0.5, 0.546875, 0.4603174603174603, 0.4126984126984127, 0.49206349206349204], (1, 'poly'): [0.5, 0.546875, 0.4444444444444444, 0.42857142857142855, 0.49206349206349204], (10, 'linear'): [0.71875, 0.671875, 0.6507936507936508, 0.6507936507936508, 0.6190476190476191], (10, 'rbf'): [0.71875, 0.703125, 0.6825396825396826, 0.5873015873015873, 0.6825396825396826], (10, 'poly'): [0.6875, 0.765625, 0.7301587301587301, 0.6190476190476191, 0.6984126984126984]}\n",
      "mean results: {(0.1, 'linear'): 0.6875496031746031, (0.1, 'rbf'): 0.33124999999999993, (0.1, 'poly'): 0.4760416666666667, (1, 'linear'): 0.6620535714285715, (1, 'rbf'): 0.482390873015873, (1, 'poly'): 0.482390873015873, (10, 'linear'): 0.662251984126984, (10, 'rbf'): 0.6748511904761905, (10, 'poly'): 0.7001488095238095}\n",
      "best validation accuracy for K=5: 0.7001488095238095\n",
      "best functionwide validation accuracy: 0.6622042527702905\n",
      "\n",
      "\n",
      "Best model found: \n",
      "Model=svm, \n",
      "Parameter values: (10, 'poly'), \n",
      "Validation Accuracy: 0.7001\n",
      "Final Test Accuracy: 0.6842\n",
      "Class '0' Accuracy: 0.7368\n",
      "Class '1' Accuracy: 0.7647\n",
      "Class '2' Accuracy: 0.4615\n",
      "Class '3' Accuracy: 0.7500\n"
     ]
    },
    {
     "data": {
      "image/png": "[encoded data removed]",
      "text/plain": [
       "<Figure size 800x600 with 2 Axes>"
      ]
     },
     "metadata": {},
     "output_type": "display_data"
    },
    {
     "data": {
      "text/plain": [
       "{2: {'accuracy': 0.6182230714115118, 'best_params': (1, 'linear')},\n",
       " 3: {'accuracy': 0.6622042527702905, 'best_params': (0.1, 'linear')},\n",
       " 5: {'accuracy': 0.7001488095238095, 'best_params': (10, 'poly')}}"
      ]
     },
     "execution_count": 50,
     "metadata": {},
     "output_type": "execute_result"
    }
   ],
   "source": [
    "evaluate_model(df, test_ratio = 0.15, k_values = [2, 3, 5], \n",
    "                   embedding = \"robBERT\", model_type = \"svm\",\n",
    "                   C_values = [0.1, 1, 10], kernel_values = ['linear', 'rbf', 'poly'],\n",
    "                   max_depth_values = [5, 10, 15, 20, None],\n",
    "                   alpha_values = [0.01, 0.1, 0.5, 1.0, 2.0, 5.0, 10.0],\n",
    "                   fit_prior_values = [True, False],\n",
    "                   var_smoothing_values = [10**-11, 10**-10, 10**-9, 10**-8, 10**-7],\n",
    "                   pos = \"ngram\", ngram_size = 2)"
   ]
  },
  {
   "cell_type": "code",
   "execution_count": 51,
   "id": "6f2576a7-c632-4f37-b94d-5f0c0f4f1363",
   "metadata": {},
   "outputs": [
    {
     "name": "stdout",
     "output_type": "stream",
     "text": [
      "\n",
      "Using TF-IDF Embeddings...\n",
      "Best naive_bayes Params for k=2: (0.1, False), Mean Validation Accuracy: 0.7160\n",
      "param_results: {(0.01, True): [0.710691823899371, 0.7025316455696202], (0.01, False): [0.6729559748427673, 0.6265822784810127], (0.1, True): [0.7169811320754716, 0.6962025316455697], (0.1, False): [0.7295597484276729, 0.7025316455696202], (0.5, True): [0.559748427672956, 0.620253164556962], (0.5, False): [0.710691823899371, 0.6962025316455697], (1.0, True): [0.5283018867924528, 0.5379746835443038], (1.0, False): [0.6792452830188679, 0.6772151898734177], (2.0, True): [0.5031446540880503, 0.5443037974683544], (2.0, False): [0.6163522012578616, 0.6265822784810127], (5.0, True): [0.4591194968553459, 0.569620253164557], (5.0, False): [0.559748427672956, 0.5316455696202531], (10.0, True): [0.37735849056603776, 0.5569620253164557], (10.0, False): [0.5094339622641509, 0.47468354430379744]}\n",
      "mean results: {(0.01, True): 0.7066117347344956, (0.01, False): 0.6497691266618899, (0.1, True): 0.7065918318605207, (0.1, False): 0.7160456969986466, (0.5, True): 0.5900007961149589, (0.5, False): 0.7034471777724703, (1.0, True): 0.5331382851683784, (1.0, False): 0.6782302364461428, (2.0, True): 0.5237242257782024, (2.0, False): 0.6214672398694372, (5.0, True): 0.5143698750099515, (5.0, False): 0.5456969986466045, (10.0, True): 0.4671602579412467, (10.0, False): 0.4920587532839742}\n",
      "best validation accuracy for K=2: 0.7160456969986466\n",
      "best functionwide validation accuracy: 0\n",
      "\n",
      "Best naive_bayes Params for k=3: (0.01, True), Mean Validation Accuracy: 0.7317\n",
      "param_results: {(0.01, True): [0.7358490566037735, 0.7735849056603774, 0.6857142857142857], (0.01, False): [0.6792452830188679, 0.7547169811320755, 0.6476190476190476], (0.1, True): [0.7358490566037735, 0.7547169811320755, 0.6857142857142857], (0.1, False): [0.7264150943396226, 0.7641509433962265, 0.6857142857142857], (0.5, True): [0.6037735849056604, 0.6037735849056604, 0.6190476190476191], (0.5, False): [0.7169811320754716, 0.7358490566037735, 0.6666666666666666], (1.0, True): [0.5660377358490566, 0.5660377358490566, 0.5714285714285714], (1.0, False): [0.660377358490566, 0.7358490566037735, 0.6285714285714286], (2.0, True): [0.5566037735849056, 0.5660377358490566, 0.5428571428571428], (2.0, False): [0.6509433962264151, 0.6698113207547169, 0.6095238095238096], (5.0, True): [0.5471698113207547, 0.5471698113207547, 0.5523809523809524], (5.0, False): [0.5566037735849056, 0.5754716981132075, 0.6], (10.0, True): [0.4811320754716981, 0.5188679245283019, 0.5428571428571428], (10.0, False): [0.5094339622641509, 0.5283018867924528, 0.5142857142857142]}\n",
      "mean results: {(0.01, True): 0.7317160826594789, (0.01, False): 0.6938604372566637, (0.1, True): 0.7254267744833781, (0.1, False): 0.7254267744833781, (0.5, True): 0.6088649296196466, (0.5, False): 0.7064989517819705, (1.0, True): 0.5678346810422282, (1.0, False): 0.674932614555256, (2.0, True): 0.5551662174303683, (2.0, False): 0.6434261755016472, (5.0, True): 0.5489068583408206, (5.0, False): 0.5773584905660377, (10.0, True): 0.5142857142857142, (10.0, False): 0.517340521114106}\n",
      "best validation accuracy for K=3: 0.7317160826594789\n",
      "best functionwide validation accuracy: 0.7160456969986466\n",
      "\n",
      "Best naive_bayes Params for k=5: (0.01, True), Mean Validation Accuracy: 0.7254\n",
      "param_results: {(0.01, True): [0.703125, 0.796875, 0.746031746031746, 0.6984126984126984, 0.6825396825396826], (0.01, False): [0.6875, 0.8125, 0.746031746031746, 0.6825396825396826, 0.6507936507936508], (0.1, True): [0.6875, 0.75, 0.746031746031746, 0.7301587301587301, 0.6825396825396826], (0.1, False): [0.6875, 0.765625, 0.7777777777777778, 0.6666666666666666, 0.6825396825396826], (0.5, True): [0.609375, 0.625, 0.5873015873015873, 0.6825396825396826, 0.6190476190476191], (0.5, False): [0.6875, 0.734375, 0.746031746031746, 0.7142857142857143, 0.6666666666666666], (1.0, True): [0.546875, 0.5625, 0.5714285714285714, 0.6031746031746031, 0.5873015873015873], (1.0, False): [0.703125, 0.6875, 0.7142857142857143, 0.6825396825396826, 0.6507936507936508], (2.0, True): [0.5625, 0.5625, 0.5714285714285714, 0.5555555555555556, 0.5396825396825397], (2.0, False): [0.625, 0.65625, 0.6825396825396826, 0.6507936507936508, 0.6507936507936508], (5.0, True): [0.5625, 0.5, 0.5555555555555556, 0.5555555555555556, 0.5555555555555556], (5.0, False): [0.53125, 0.609375, 0.5555555555555556, 0.6031746031746031, 0.6031746031746031], (10.0, True): [0.484375, 0.46875, 0.5238095238095238, 0.5873015873015873, 0.5238095238095238], (10.0, False): [0.484375, 0.59375, 0.5396825396825397, 0.5555555555555556, 0.5238095238095238]}\n",
      "mean results: {(0.01, True): 0.7253968253968255, (0.01, False): 0.7158730158730159, (0.1, True): 0.7192460317460319, (0.1, False): 0.7160218253968254, (0.5, True): 0.6246527777777777, (0.5, False): 0.7097718253968254, (1.0, True): 0.5742559523809524, (1.0, False): 0.6876488095238096, (2.0, True): 0.5583333333333333, (2.0, False): 0.6530753968253968, (5.0, True): 0.5458333333333334, (5.0, False): 0.5805059523809524, (10.0, True): 0.517609126984127, (10.0, False): 0.5394345238095237}\n",
      "best validation accuracy for K=5: 0.7253968253968255\n",
      "best functionwide validation accuracy: 0.7317160826594789\n",
      "\n",
      "\n",
      "Best model found: \n",
      "Model=naive_bayes, \n",
      "Parameter values: (0.01, True), \n",
      "Validation Accuracy: 0.7317\n",
      "Final Test Accuracy: 0.8246\n",
      "Class '0' Accuracy: 0.8947\n",
      "Class '1' Accuracy: 0.8824\n",
      "Class '2' Accuracy: 0.6923\n",
      "Class '3' Accuracy: 0.7500\n"
     ]
    },
    {
     "data": {
      "image/png": "[encoded data removed]",
      "text/plain": [
       "<Figure size 800x600 with 2 Axes>"
      ]
     },
     "metadata": {},
     "output_type": "display_data"
    },
    {
     "data": {
      "text/plain": [
       "{2: {'accuracy': 0.7160456969986466, 'best_params': (0.1, False)},\n",
       " 3: {'accuracy': 0.7317160826594789, 'best_params': (0.01, True)},\n",
       " 5: {'accuracy': 0.7253968253968255, 'best_params': (0.01, True)}}"
      ]
     },
     "execution_count": 51,
     "metadata": {},
     "output_type": "execute_result"
    }
   ],
   "source": [
    "evaluate_model(df, test_ratio = 0.15, k_values = [2, 3, 5], \n",
    "                   embedding = \"tf-idf\", model_type = \"naive_bayes\",\n",
    "                   C_values = [0.1, 1, 10], kernel_values = ['linear', 'rbf', 'poly'],\n",
    "                   max_depth_values = [5, 10, 15, 20, None],\n",
    "                   alpha_values = [0.01, 0.1, 0.5, 1.0, 2.0, 5.0, 10.0],\n",
    "                   fit_prior_values = [True, False],\n",
    "                   var_smoothing_values = [10**-11, 10**-10, 10**-9, 10**-8, 10**-7],\n",
    "                   pos = \"none\", ngram_size = 2)"
   ]
  },
  {
   "cell_type": "code",
   "execution_count": 52,
   "id": "a3fa4f8c-a329-475f-9091-1ed0077ef729",
   "metadata": {},
   "outputs": [
    {
     "name": "stdout",
     "output_type": "stream",
     "text": [
      "\n",
      "Using TF-IDF Embeddings...\n",
      "Best naive_bayes Params for k=2: (0.1, False), Mean Validation Accuracy: 0.7160\n",
      "param_results: {(0.01, True): [0.710691823899371, 0.7025316455696202], (0.01, False): [0.6729559748427673, 0.6265822784810127], (0.1, True): [0.7169811320754716, 0.6962025316455697], (0.1, False): [0.7295597484276729, 0.7025316455696202], (0.5, True): [0.559748427672956, 0.620253164556962], (0.5, False): [0.710691823899371, 0.6962025316455697], (1.0, True): [0.5283018867924528, 0.5379746835443038], (1.0, False): [0.6792452830188679, 0.6772151898734177], (2.0, True): [0.5031446540880503, 0.5443037974683544], (2.0, False): [0.6163522012578616, 0.6265822784810127], (5.0, True): [0.4591194968553459, 0.569620253164557], (5.0, False): [0.559748427672956, 0.5316455696202531], (10.0, True): [0.37735849056603776, 0.5569620253164557], (10.0, False): [0.5094339622641509, 0.47468354430379744]}\n",
      "mean results: {(0.01, True): 0.7066117347344956, (0.01, False): 0.6497691266618899, (0.1, True): 0.7065918318605207, (0.1, False): 0.7160456969986466, (0.5, True): 0.5900007961149589, (0.5, False): 0.7034471777724703, (1.0, True): 0.5331382851683784, (1.0, False): 0.6782302364461428, (2.0, True): 0.5237242257782024, (2.0, False): 0.6214672398694372, (5.0, True): 0.5143698750099515, (5.0, False): 0.5456969986466045, (10.0, True): 0.4671602579412467, (10.0, False): 0.4920587532839742}\n",
      "best validation accuracy for K=2: 0.7160456969986466\n",
      "best functionwide validation accuracy: 0\n",
      "\n",
      "Best naive_bayes Params for k=3: (0.01, True), Mean Validation Accuracy: 0.7317\n",
      "param_results: {(0.01, True): [0.7358490566037735, 0.7735849056603774, 0.6857142857142857], (0.01, False): [0.6792452830188679, 0.7547169811320755, 0.6476190476190476], (0.1, True): [0.7358490566037735, 0.7547169811320755, 0.6857142857142857], (0.1, False): [0.7264150943396226, 0.7641509433962265, 0.6857142857142857], (0.5, True): [0.6037735849056604, 0.6037735849056604, 0.6190476190476191], (0.5, False): [0.7169811320754716, 0.7358490566037735, 0.6666666666666666], (1.0, True): [0.5660377358490566, 0.5660377358490566, 0.5714285714285714], (1.0, False): [0.660377358490566, 0.7358490566037735, 0.6285714285714286], (2.0, True): [0.5566037735849056, 0.5660377358490566, 0.5428571428571428], (2.0, False): [0.6509433962264151, 0.6698113207547169, 0.6095238095238096], (5.0, True): [0.5471698113207547, 0.5471698113207547, 0.5523809523809524], (5.0, False): [0.5566037735849056, 0.5754716981132075, 0.6], (10.0, True): [0.4811320754716981, 0.5188679245283019, 0.5428571428571428], (10.0, False): [0.5094339622641509, 0.5283018867924528, 0.5142857142857142]}\n",
      "mean results: {(0.01, True): 0.7317160826594789, (0.01, False): 0.6938604372566637, (0.1, True): 0.7254267744833781, (0.1, False): 0.7254267744833781, (0.5, True): 0.6088649296196466, (0.5, False): 0.7064989517819705, (1.0, True): 0.5678346810422282, (1.0, False): 0.674932614555256, (2.0, True): 0.5551662174303683, (2.0, False): 0.6434261755016472, (5.0, True): 0.5489068583408206, (5.0, False): 0.5773584905660377, (10.0, True): 0.5142857142857142, (10.0, False): 0.517340521114106}\n",
      "best validation accuracy for K=3: 0.7317160826594789\n",
      "best functionwide validation accuracy: 0.7160456969986466\n",
      "\n",
      "Best naive_bayes Params for k=5: (0.01, True), Mean Validation Accuracy: 0.7254\n",
      "param_results: {(0.01, True): [0.703125, 0.796875, 0.746031746031746, 0.6984126984126984, 0.6825396825396826], (0.01, False): [0.6875, 0.8125, 0.746031746031746, 0.6825396825396826, 0.6507936507936508], (0.1, True): [0.6875, 0.75, 0.746031746031746, 0.7301587301587301, 0.6825396825396826], (0.1, False): [0.6875, 0.765625, 0.7777777777777778, 0.6666666666666666, 0.6825396825396826], (0.5, True): [0.609375, 0.625, 0.5873015873015873, 0.6825396825396826, 0.6190476190476191], (0.5, False): [0.6875, 0.734375, 0.746031746031746, 0.7142857142857143, 0.6666666666666666], (1.0, True): [0.546875, 0.5625, 0.5714285714285714, 0.6031746031746031, 0.5873015873015873], (1.0, False): [0.703125, 0.6875, 0.7142857142857143, 0.6825396825396826, 0.6507936507936508], (2.0, True): [0.5625, 0.5625, 0.5714285714285714, 0.5555555555555556, 0.5396825396825397], (2.0, False): [0.625, 0.65625, 0.6825396825396826, 0.6507936507936508, 0.6507936507936508], (5.0, True): [0.5625, 0.5, 0.5555555555555556, 0.5555555555555556, 0.5555555555555556], (5.0, False): [0.53125, 0.609375, 0.5555555555555556, 0.6031746031746031, 0.6031746031746031], (10.0, True): [0.484375, 0.46875, 0.5238095238095238, 0.5873015873015873, 0.5238095238095238], (10.0, False): [0.484375, 0.59375, 0.5396825396825397, 0.5555555555555556, 0.5238095238095238]}\n",
      "mean results: {(0.01, True): 0.7253968253968255, (0.01, False): 0.7158730158730159, (0.1, True): 0.7192460317460319, (0.1, False): 0.7160218253968254, (0.5, True): 0.6246527777777777, (0.5, False): 0.7097718253968254, (1.0, True): 0.5742559523809524, (1.0, False): 0.6876488095238096, (2.0, True): 0.5583333333333333, (2.0, False): 0.6530753968253968, (5.0, True): 0.5458333333333334, (5.0, False): 0.5805059523809524, (10.0, True): 0.517609126984127, (10.0, False): 0.5394345238095237}\n",
      "best validation accuracy for K=5: 0.7253968253968255\n",
      "best functionwide validation accuracy: 0.7317160826594789\n",
      "\n",
      "\n",
      "Best model found: \n",
      "Model=naive_bayes, \n",
      "Parameter values: (0.01, True), \n",
      "Validation Accuracy: 0.7317\n",
      "Final Test Accuracy: 0.8246\n",
      "Class '0' Accuracy: 0.8947\n",
      "Class '1' Accuracy: 0.8824\n",
      "Class '2' Accuracy: 0.6923\n",
      "Class '3' Accuracy: 0.7500\n"
     ]
    },
    {
     "data": {
      "image/png": "[encoded data removed]",
      "text/plain": [
       "<Figure size 800x600 with 2 Axes>"
      ]
     },
     "metadata": {},
     "output_type": "display_data"
    },
    {
     "data": {
      "text/plain": [
       "{2: {'accuracy': 0.7160456969986466, 'best_params': (0.1, False)},\n",
       " 3: {'accuracy': 0.7317160826594789, 'best_params': (0.01, True)},\n",
       " 5: {'accuracy': 0.7253968253968255, 'best_params': (0.01, True)}}"
      ]
     },
     "execution_count": 52,
     "metadata": {},
     "output_type": "execute_result"
    }
   ],
   "source": [
    "evaluate_model(df, test_ratio = 0.15, k_values = [2, 3, 5], \n",
    "                   embedding = \"tf-idf\", model_type = \"naive_bayes\",\n",
    "                   C_values = [0.1, 1, 10], kernel_values = ['linear', 'rbf', 'poly'],\n",
    "                   max_depth_values = [5, 10, 15, 20, None],\n",
    "                   alpha_values = [0.01, 0.1, 0.5, 1.0, 2.0, 5.0, 10.0],\n",
    "                   fit_prior_values = [True, False],\n",
    "                   var_smoothing_values = [10**-11, 10**-10, 10**-9, 10**-8, 10**-7],\n",
    "                   pos = \"none\", ngram_size = 2)"
   ]
  },
  {
   "cell_type": "code",
   "execution_count": 57,
   "id": "73858ac7-b747-47f0-a9f8-a5e447086153",
   "metadata": {},
   "outputs": [
    {
     "name": "stdout",
     "output_type": "stream",
     "text": [
      "\n",
      "Using Bag of Words (BoW) Embeddings...\n",
      "\n",
      "Using N-gram POS Features (n=2)...\n",
      "Best naive_bayes Params for k=2: 1e-11, Mean Validation Accuracy: 0.6845\n",
      "param_results: {1e-11: [0.710691823899371, 0.6582278481012658], 1e-10: [0.710691823899371, 0.6582278481012658], 1e-09: [0.710691823899371, 0.6582278481012658], 1e-08: [0.710691823899371, 0.6582278481012658], 1e-07: [0.710691823899371, 0.6582278481012658]}\n",
      "mean results: {1e-11: 0.6844598360003185, 1e-10: 0.6844598360003185, 1e-09: 0.6844598360003185, 1e-08: 0.6844598360003185, 1e-07: 0.6844598360003185}\n",
      "best validation accuracy for K=2: 0.6844598360003185\n",
      "best functionwide validation accuracy: 0\n",
      "\n",
      "Best naive_bayes Params for k=3: 1e-11, Mean Validation Accuracy: 0.6907\n",
      "param_results: {1e-11: [0.7075471698113207, 0.7264150943396226, 0.638095238095238], 1e-10: [0.7075471698113207, 0.7264150943396226, 0.638095238095238], 1e-09: [0.7075471698113207, 0.7264150943396226, 0.638095238095238], 1e-08: [0.7075471698113207, 0.7264150943396226, 0.638095238095238], 1e-07: [0.7075471698113207, 0.7264150943396226, 0.638095238095238]}\n",
      "mean results: {1e-11: 0.6906858340820605, 1e-10: 0.6906858340820605, 1e-09: 0.6906858340820605, 1e-08: 0.6906858340820605, 1e-07: 0.6906858340820605}\n",
      "best validation accuracy for K=3: 0.6906858340820605\n",
      "best functionwide validation accuracy: 0.6844598360003185\n",
      "\n",
      "Best naive_bayes Params for k=5: 1e-07, Mean Validation Accuracy: 0.6940\n",
      "param_results: {1e-11: [0.6875, 0.6875, 0.7619047619047619, 0.6349206349206349, 0.6825396825396826], 1e-10: [0.6875, 0.6875, 0.7619047619047619, 0.6349206349206349, 0.6825396825396826], 1e-09: [0.6875, 0.6875, 0.7619047619047619, 0.6349206349206349, 0.6825396825396826], 1e-08: [0.6875, 0.6875, 0.7619047619047619, 0.6349206349206349, 0.6825396825396826], 1e-07: [0.6875, 0.6875, 0.7619047619047619, 0.6349206349206349, 0.6984126984126984]}\n",
      "mean results: {1e-11: 0.6908730158730159, 1e-10: 0.6908730158730159, 1e-09: 0.6908730158730159, 1e-08: 0.6908730158730159, 1e-07: 0.694047619047619}\n",
      "best validation accuracy for K=5: 0.694047619047619\n",
      "best functionwide validation accuracy: 0.6906858340820605\n",
      "\n",
      "\n",
      "Best model found: \n",
      "Model=naive_bayes, \n",
      "Parameter values: (1e-07,), \n",
      "Validation Accuracy: 0.6940\n",
      "Final Test Accuracy: 0.7544\n",
      "Class '0' Accuracy: 0.8421\n",
      "Class '1' Accuracy: 0.8235\n",
      "Class '2' Accuracy: 0.6154\n",
      "Class '3' Accuracy: 0.6250\n"
     ]
    },
    {
     "data": {
      "image/png": "[encoded data removed]",
      "text/plain": [
       "<Figure size 800x600 with 2 Axes>"
      ]
     },
     "metadata": {},
     "output_type": "display_data"
    },
    {
     "data": {
      "text/plain": [
       "{2: {'accuracy': 0.6844598360003185, 'best_params': 1e-11},\n",
       " 3: {'accuracy': 0.6906858340820605, 'best_params': 1e-11},\n",
       " 5: {'accuracy': 0.694047619047619, 'best_params': 1e-07}}"
      ]
     },
     "execution_count": 57,
     "metadata": {},
     "output_type": "execute_result"
    }
   ],
   "source": [
    "evaluate_model(df, test_ratio = 0.15, k_values = [2, 3, 5], \n",
    "                   embedding = \"BoW\", model_type = \"naive_bayes\",\n",
    "                   C_values = [0.1, 1, 10], kernel_values = ['linear', 'rbf', 'poly'],\n",
    "                   max_depth_values = [5, 10, 15, 20, None],\n",
    "                   alpha_values = [0.01, 0.1, 0.5, 1.0, 2.0, 5.0, 10.0],\n",
    "                   fit_prior_values = [True, False],\n",
    "                   var_smoothing_values = [10**-11, 10**-10, 10**-9, 10**-8, 10**-7],\n",
    "                   pos = \"ngram\", ngram_size = 2)"
   ]
  },
  {
   "cell_type": "code",
   "execution_count": null,
   "id": "d4a52df0-8bbf-496d-ae72-22c8305b8c12",
   "metadata": {},
   "outputs": [],
   "source": [
    "# To Do:\n",
    "\n",
    "# -Add some print statements to show the model chosen en parameters, especially for Gaussian- of Multinomial Naive Bayes\n",
    "# -Print update of best model after every k\n",
    "# -Clean Code and add/remove/update comments where needed\n",
    "# -Return actual model and validation accuracy such that we can visualize the results in confusion matrices\n",
    "# -If 2 classes too close in likelihood or no class likelihood exceeds threshold, then say class 5"
   ]
  },
  {
   "cell_type": "markdown",
   "id": "d6c0e4d6-b432-474b-9dc6-c849606fb3e4",
   "metadata": {},
   "source": [
    "# Finding the best model"
   ]
  },
  {
   "cell_type": "markdown",
   "id": "e7f21a1a-684a-4858-bffc-635d70fde24e",
   "metadata": {},
   "source": [
    "Our goal is to find the classifier with the highest validation accuracy for each model type"
   ]
  },
  {
   "cell_type": "code",
   "execution_count": 58,
   "id": "2f75715a-e332-4874-b594-16a7d501c90f",
   "metadata": {},
   "outputs": [],
   "source": [
    "# Ignore all warnings since they cause problems for te progress bars\n",
    "warnings.simplefilter(\"ignore\")"
   ]
  },
  {
   "cell_type": "code",
   "execution_count": 62,
   "id": "459a5987-e39d-4f54-97e3-5d9a824a7dbe",
   "metadata": {},
   "outputs": [
    {
     "name": "stderr",
     "output_type": "stream",
     "text": [
      "Progress:   0%|                                                                          | 0/30 [00:00<?, ?iteration/s]"
     ]
    },
    {
     "name": "stdout",
     "output_type": "stream",
     "text": [
      "\n",
      "testing for embedding=BoW, pos=none, n=2\n"
     ]
    },
    {
     "name": "stderr",
     "output_type": "stream",
     "text": [
      "Progress:   3%|██▏                                                               | 1/30 [00:26<12:57, 26.82s/iteration]"
     ]
    },
    {
     "name": "stdout",
     "output_type": "stream",
     "text": [
      "Maximum validation accuracy this iteration: 0.7291666666666666\n",
      "Best validaton accuracy increased from -inf to 0.7291666666666666 with params BoW, none, (0.1, 'linear').\n",
      "\n",
      "testing for embedding=BoW, pos=one-hot, n=2\n"
     ]
    },
    {
     "name": "stderr",
     "output_type": "stream",
     "text": [
      "Progress:   7%|████▍                                                             | 2/30 [01:16<18:41, 40.06s/iteration]"
     ]
    },
    {
     "name": "stdout",
     "output_type": "stream",
     "text": [
      "Maximum validation accuracy this iteration: 0.5625\n",
      "\n",
      "testing for embedding=BoW, pos=ngram, n=2\n"
     ]
    },
    {
     "name": "stderr",
     "output_type": "stream",
     "text": [
      "Progress:  10%|██████▌                                                           | 3/30 [01:52<17:13, 38.29s/iteration]"
     ]
    },
    {
     "name": "stdout",
     "output_type": "stream",
     "text": [
      "Maximum validation accuracy this iteration: 0.7291666666666666\n",
      "\n",
      "testing for embedding=BoW, pos=ngram, n=3\n"
     ]
    },
    {
     "name": "stderr",
     "output_type": "stream",
     "text": [
      "Progress:  13%|████████▊                                                         | 4/30 [02:39<18:10, 41.94s/iteration]"
     ]
    },
    {
     "name": "stdout",
     "output_type": "stream",
     "text": [
      "Maximum validation accuracy this iteration: 0.7291666666666666\n",
      "\n",
      "testing for embedding=BoW, pos=ngram, n=5\n"
     ]
    },
    {
     "name": "stderr",
     "output_type": "stream",
     "text": [
      "Progress:  17%|███████████                                                       | 5/30 [03:23<17:41, 42.45s/iteration]"
     ]
    },
    {
     "name": "stdout",
     "output_type": "stream",
     "text": [
      "Maximum validation accuracy this iteration: 0.7291666666666666\n",
      "\n",
      "testing for embedding=tf-idf, pos=none, n=2\n"
     ]
    },
    {
     "name": "stderr",
     "output_type": "stream",
     "text": [
      "Progress:  20%|█████████████▏                                                    | 6/30 [03:52<15:11, 37.97s/iteration]"
     ]
    },
    {
     "name": "stdout",
     "output_type": "stream",
     "text": [
      "Maximum validation accuracy this iteration: 0.7291666666666666\n",
      "\n",
      "testing for embedding=tf-idf, pos=one-hot, n=2\n"
     ]
    },
    {
     "name": "stderr",
     "output_type": "stream",
     "text": [
      "Progress:  23%|███████████████▍                                                  | 7/30 [04:43<16:07, 42.08s/iteration]"
     ]
    },
    {
     "name": "stdout",
     "output_type": "stream",
     "text": [
      "Maximum validation accuracy this iteration: 0.4791666666666667\n",
      "\n",
      "testing for embedding=tf-idf, pos=ngram, n=2\n"
     ]
    },
    {
     "name": "stderr",
     "output_type": "stream",
     "text": [
      "Progress:  27%|█████████████████▌                                                | 8/30 [05:23<15:13, 41.51s/iteration]"
     ]
    },
    {
     "name": "stdout",
     "output_type": "stream",
     "text": [
      "Maximum validation accuracy this iteration: 0.6875\n",
      "\n",
      "testing for embedding=tf-idf, pos=ngram, n=3\n"
     ]
    },
    {
     "name": "stderr",
     "output_type": "stream",
     "text": [
      "Progress:  30%|███████████████████▊                                              | 9/30 [06:16<15:48, 45.17s/iteration]"
     ]
    },
    {
     "name": "stdout",
     "output_type": "stream",
     "text": [
      "Maximum validation accuracy this iteration: 0.6875\n",
      "\n",
      "testing for embedding=tf-idf, pos=ngram, n=5\n"
     ]
    },
    {
     "name": "stderr",
     "output_type": "stream",
     "text": [
      "Progress:  33%|█████████████████████▋                                           | 10/30 [07:05<15:23, 46.20s/iteration]"
     ]
    },
    {
     "name": "stdout",
     "output_type": "stream",
     "text": [
      "Maximum validation accuracy this iteration: 0.6041666666666666\n",
      "\n",
      "testing for embedding=BERTje, pos=none, n=2\n"
     ]
    },
    {
     "name": "stderr",
     "output_type": "stream",
     "text": [
      "Some weights of BertModel were not initialized from the model checkpoint at GroNLP/bert-base-dutch-cased and are newly initialized: ['bert.pooler.dense.bias', 'bert.pooler.dense.weight']\n",
      "You should probably TRAIN this model on a down-stream task to be able to use it for predictions and inference.\n",
      "Progress:  37%|███████████████████████▊                                         | 11/30 [09:35<24:43, 78.10s/iteration]"
     ]
    },
    {
     "name": "stdout",
     "output_type": "stream",
     "text": [
      "Maximum validation accuracy this iteration: 0.7291666666666666\n",
      "\n",
      "testing for embedding=BERTje, pos=one-hot, n=2\n"
     ]
    },
    {
     "name": "stderr",
     "output_type": "stream",
     "text": [
      "Some weights of BertModel were not initialized from the model checkpoint at GroNLP/bert-base-dutch-cased and are newly initialized: ['bert.pooler.dense.bias', 'bert.pooler.dense.weight']\n",
      "You should probably TRAIN this model on a down-stream task to be able to use it for predictions and inference.\n",
      "Progress:  40%|█████████████████████████▌                                      | 12/30 [12:46<33:44, 112.49s/iteration]"
     ]
    },
    {
     "name": "stdout",
     "output_type": "stream",
     "text": [
      "Maximum validation accuracy this iteration: 0.5416666666666666\n",
      "\n",
      "testing for embedding=BERTje, pos=ngram, n=2\n"
     ]
    },
    {
     "name": "stderr",
     "output_type": "stream",
     "text": [
      "Some weights of BertModel were not initialized from the model checkpoint at GroNLP/bert-base-dutch-cased and are newly initialized: ['bert.pooler.dense.bias', 'bert.pooler.dense.weight']\n",
      "You should probably TRAIN this model on a down-stream task to be able to use it for predictions and inference.\n",
      "Progress:  43%|███████████████████████████▋                                    | 13/30 [15:20<35:23, 124.92s/iteration]"
     ]
    },
    {
     "name": "stdout",
     "output_type": "stream",
     "text": [
      "Maximum validation accuracy this iteration: 0.7291666666666666\n",
      "\n",
      "testing for embedding=BERTje, pos=ngram, n=3\n"
     ]
    },
    {
     "name": "stderr",
     "output_type": "stream",
     "text": [
      "Some weights of BertModel were not initialized from the model checkpoint at GroNLP/bert-base-dutch-cased and are newly initialized: ['bert.pooler.dense.bias', 'bert.pooler.dense.weight']\n",
      "You should probably TRAIN this model on a down-stream task to be able to use it for predictions and inference.\n",
      "Progress:  47%|█████████████████████████████▊                                  | 14/30 [18:05<36:36, 137.27s/iteration]"
     ]
    },
    {
     "name": "stdout",
     "output_type": "stream",
     "text": [
      "Maximum validation accuracy this iteration: 0.7291666666666666\n",
      "\n",
      "testing for embedding=BERTje, pos=ngram, n=5\n"
     ]
    },
    {
     "name": "stderr",
     "output_type": "stream",
     "text": [
      "Some weights of BertModel were not initialized from the model checkpoint at GroNLP/bert-base-dutch-cased and are newly initialized: ['bert.pooler.dense.bias', 'bert.pooler.dense.weight']\n",
      "You should probably TRAIN this model on a down-stream task to be able to use it for predictions and inference.\n",
      "Progress:  50%|████████████████████████████████                                | 15/30 [21:26<39:05, 156.34s/iteration]"
     ]
    },
    {
     "name": "stdout",
     "output_type": "stream",
     "text": [
      "Maximum validation accuracy this iteration: 0.7291666666666666\n",
      "\n",
      "testing for embedding=mBERT, pos=none, n=2\n"
     ]
    },
    {
     "name": "stderr",
     "output_type": "stream",
     "text": [
      "Progress:  53%|██████████████████████████████████▏                             | 16/30 [23:52<35:45, 153.25s/iteration]"
     ]
    },
    {
     "name": "stdout",
     "output_type": "stream",
     "text": [
      "Maximum validation accuracy this iteration: 0.6875\n",
      "\n",
      "testing for embedding=mBERT, pos=one-hot, n=2\n"
     ]
    },
    {
     "name": "stderr",
     "output_type": "stream",
     "text": [
      "Progress:  57%|████████████████████████████████████▎                           | 17/30 [27:27<37:11, 171.69s/iteration]"
     ]
    },
    {
     "name": "stdout",
     "output_type": "stream",
     "text": [
      "Maximum validation accuracy this iteration: 0.5416666666666666\n",
      "\n",
      "testing for embedding=mBERT, pos=ngram, n=2\n"
     ]
    },
    {
     "name": "stderr",
     "output_type": "stream",
     "text": [
      "Progress:  60%|██████████████████████████████████████▍                         | 18/30 [30:35<35:19, 176.63s/iteration]"
     ]
    },
    {
     "name": "stdout",
     "output_type": "stream",
     "text": [
      "Maximum validation accuracy this iteration: 0.6875\n",
      "\n",
      "testing for embedding=mBERT, pos=ngram, n=3\n"
     ]
    },
    {
     "name": "stderr",
     "output_type": "stream",
     "text": [
      "Progress:  63%|████████████████████████████████████████▌                       | 19/30 [33:52<33:31, 182.82s/iteration]"
     ]
    },
    {
     "name": "stdout",
     "output_type": "stream",
     "text": [
      "Maximum validation accuracy this iteration: 0.6875\n",
      "\n",
      "testing for embedding=mBERT, pos=ngram, n=5\n"
     ]
    },
    {
     "name": "stderr",
     "output_type": "stream",
     "text": [
      "Progress:  67%|██████████████████████████████████████████▋                     | 20/30 [36:37<29:33, 177.36s/iteration]"
     ]
    },
    {
     "name": "stdout",
     "output_type": "stream",
     "text": [
      "Maximum validation accuracy this iteration: 0.6875\n",
      "\n",
      "testing for embedding=RobBERT, pos=none, n=2\n"
     ]
    },
    {
     "name": "stderr",
     "output_type": "stream",
     "text": [
      "Some weights of RobertaModel were not initialized from the model checkpoint at pdelobelle/robbert-v2-dutch-base and are newly initialized: ['roberta.pooler.dense.bias', 'roberta.pooler.dense.weight']\n",
      "You should probably TRAIN this model on a down-stream task to be able to use it for predictions and inference.\n",
      "Progress:  70%|████████████████████████████████████████████▊                   | 21/30 [38:40<24:10, 161.12s/iteration]"
     ]
    },
    {
     "name": "stdout",
     "output_type": "stream",
     "text": [
      "Maximum validation accuracy this iteration: 0.75\n",
      "Best validaton accuracy increased from 0.7291666666666666 to 0.75 with params RobBERT, none, (0.1, 'linear').\n",
      "\n",
      "testing for embedding=RobBERT, pos=one-hot, n=2\n"
     ]
    },
    {
     "name": "stderr",
     "output_type": "stream",
     "text": [
      "Some weights of RobertaModel were not initialized from the model checkpoint at pdelobelle/robbert-v2-dutch-base and are newly initialized: ['roberta.pooler.dense.bias', 'roberta.pooler.dense.weight']\n",
      "You should probably TRAIN this model on a down-stream task to be able to use it for predictions and inference.\n",
      "Progress:  73%|██████████████████████████████████████████████▉                 | 22/30 [41:38<22:10, 166.32s/iteration]"
     ]
    },
    {
     "name": "stdout",
     "output_type": "stream",
     "text": [
      "Maximum validation accuracy this iteration: 0.5208333333333334\n",
      "\n",
      "testing for embedding=RobBERT, pos=ngram, n=2\n"
     ]
    },
    {
     "name": "stderr",
     "output_type": "stream",
     "text": [
      "Some weights of RobertaModel were not initialized from the model checkpoint at pdelobelle/robbert-v2-dutch-base and are newly initialized: ['roberta.pooler.dense.bias', 'roberta.pooler.dense.weight']\n",
      "You should probably TRAIN this model on a down-stream task to be able to use it for predictions and inference.\n",
      "Progress:  77%|█████████████████████████████████████████████████               | 23/30 [44:15<19:03, 163.35s/iteration]"
     ]
    },
    {
     "name": "stdout",
     "output_type": "stream",
     "text": [
      "Maximum validation accuracy this iteration: 0.75\n",
      "\n",
      "testing for embedding=RobBERT, pos=ngram, n=3\n"
     ]
    },
    {
     "name": "stderr",
     "output_type": "stream",
     "text": [
      "Some weights of RobertaModel were not initialized from the model checkpoint at pdelobelle/robbert-v2-dutch-base and are newly initialized: ['roberta.pooler.dense.bias', 'roberta.pooler.dense.weight']\n",
      "You should probably TRAIN this model on a down-stream task to be able to use it for predictions and inference.\n",
      "Progress:  80%|███████████████████████████████████████████████████▏            | 24/30 [47:00<16:24, 164.02s/iteration]"
     ]
    },
    {
     "name": "stdout",
     "output_type": "stream",
     "text": [
      "Maximum validation accuracy this iteration: 0.75\n",
      "\n",
      "testing for embedding=RobBERT, pos=ngram, n=5\n"
     ]
    },
    {
     "name": "stderr",
     "output_type": "stream",
     "text": [
      "Some weights of RobertaModel were not initialized from the model checkpoint at pdelobelle/robbert-v2-dutch-base and are newly initialized: ['roberta.pooler.dense.bias', 'roberta.pooler.dense.weight']\n",
      "You should probably TRAIN this model on a down-stream task to be able to use it for predictions and inference.\n",
      "Progress:  83%|█████████████████████████████████████████████████████▎          | 25/30 [49:46<13:41, 164.39s/iteration]"
     ]
    },
    {
     "name": "stdout",
     "output_type": "stream",
     "text": [
      "Maximum validation accuracy this iteration: 0.75\n",
      "\n",
      "testing for embedding=Word2Vec, pos=none, n=2\n"
     ]
    },
    {
     "name": "stderr",
     "output_type": "stream",
     "text": [
      "Progress:  87%|███████████████████████████████████████████████████████▍        | 26/30 [49:50<07:45, 116.40s/iteration]"
     ]
    },
    {
     "name": "stdout",
     "output_type": "stream",
     "text": [
      "Maximum validation accuracy this iteration: 0.3958333333333333\n",
      "\n",
      "testing for embedding=Word2Vec, pos=one-hot, n=2\n"
     ]
    },
    {
     "name": "stderr",
     "output_type": "stream",
     "text": [
      "Progress:  90%|██████████████████████████████████████████████████████████▌      | 27/30 [50:27<04:38, 92.70s/iteration]"
     ]
    },
    {
     "name": "stdout",
     "output_type": "stream",
     "text": [
      "Maximum validation accuracy this iteration: 0.4791666666666667\n",
      "\n",
      "testing for embedding=Word2Vec, pos=ngram, n=2\n"
     ]
    },
    {
     "name": "stderr",
     "output_type": "stream",
     "text": [
      "Progress:  93%|████████████████████████████████████████████████████████████▋    | 28/30 [50:52<02:24, 72.16s/iteration]"
     ]
    },
    {
     "name": "stdout",
     "output_type": "stream",
     "text": [
      "Maximum validation accuracy this iteration: 0.5\n",
      "\n",
      "testing for embedding=Word2Vec, pos=ngram, n=3\n"
     ]
    },
    {
     "name": "stderr",
     "output_type": "stream",
     "text": [
      "Progress:  97%|██████████████████████████████████████████████████████████████▊  | 29/30 [51:30<01:01, 61.89s/iteration]"
     ]
    },
    {
     "name": "stdout",
     "output_type": "stream",
     "text": [
      "Maximum validation accuracy this iteration: 0.4791666666666667\n",
      "\n",
      "testing for embedding=Word2Vec, pos=ngram, n=5\n"
     ]
    },
    {
     "name": "stderr",
     "output_type": "stream",
     "text": [
      "Progress: 100%|████████████████████████████████████████████████████████████████| 30/30 [52:05<00:00, 104.17s/iteration]"
     ]
    },
    {
     "name": "stdout",
     "output_type": "stream",
     "text": [
      "Maximum validation accuracy this iteration: 0.3958333333333333\n",
      "Best overall model: ('RobBERT', 'none', 1)\n",
      "Best overall accuracy: 0.75\n",
      "Best overall parameters: (0.1, 'linear')\n"
     ]
    },
    {
     "name": "stderr",
     "output_type": "stream",
     "text": [
      "\n"
     ]
    }
   ],
   "source": [
    "# Support Vector Machine\n",
    "\n",
    "counter = 0\n",
    "n_values = [2, 3, 5]\n",
    "\n",
    "# Total iterations to track progress\n",
    "total_combinations = len([\"BoW\", \"tf-idf\", \"BERTje\", \"mBERT\", \"RobBERT\", \"Word2Vec\"]) * len([\"none\", \"one-hot\"] + 3 * [\"ngram\"])\n",
    "\n",
    "# Initialize tracking variables\n",
    "best_overall_model = None\n",
    "best_overall_accuracy = float('-inf')\n",
    "best_overall_params = None\n",
    "\n",
    "# Create tqdm progress bar\n",
    "with tqdm(total=total_combinations, desc=\"Progress\", unit=\"iteration\") as pbar:\n",
    "    for embedding in [\"BoW\", \"tf-idf\", \"BERTje\", \"mBERT\", \"RobBERT\", \"Word2Vec\"]:\n",
    "        for pos in [\"none\", \"one-hot\"] + 3 * [\"ngram\"]:\n",
    "            \n",
    "            n = 2  # Default value in case pos != \"ngram\"\n",
    "            if pos == \"ngram\":\n",
    "                n = n_values[counter % 3]\n",
    "                counter += 1\n",
    "\n",
    "            print(f\"\\ntesting for embedding={embedding}, pos={pos}, n={n}\")\n",
    "            results = evaluate_model(df, \n",
    "                                     test_ratio=0.15, \n",
    "                                     k_values=[1, 2, 3, 5, 10, 20],\n",
    "                                     embedding=embedding, \n",
    "                                     model_type=\"svm\",\n",
    "                                     pos=pos, \n",
    "                                     ngram_size=n,\n",
    "                                     print_updates=False,\n",
    "                                     show_class_accuracy=False, \n",
    "                                     show_confusion_matrix=False)[0]\n",
    "\n",
    "            # Find the best model in this iteration\n",
    "            global_best_model = max(results.items(), key=lambda x: x[1]['accuracy'])\n",
    "            global_best_model_key = global_best_model[0]\n",
    "            best_accuracy = global_best_model[1]['accuracy']\n",
    "            best_params = global_best_model[1]['best_params']\n",
    "\n",
    "            print(f\"Maximum validation accuracy this iteration: {best_accuracy}\")\n",
    "            \n",
    "            # Update global best if the current model is better\n",
    "            if best_accuracy > best_overall_accuracy:\n",
    "                print(f\"Best validaton accuracy increased from {best_overall_accuracy} to {best_accuracy} with params {embedding}, {pos}, {best_params}.\")\n",
    "                best_overall_accuracy = best_accuracy\n",
    "                best_overall_model = (embedding, pos, global_best_model_key)\n",
    "                best_overall_params = best_params\n",
    "\n",
    "            # Update the progress bar\n",
    "            pbar.update(1)\n",
    "\n",
    "# Print the overall best model after all iterations\n",
    "print(f\"Best overall model: {best_overall_model}\")\n",
    "print(f\"Best overall accuracy: {best_overall_accuracy}\")\n",
    "print(f\"Best overall parameters: {best_overall_params}\")"
   ]
  },
  {
   "cell_type": "code",
   "execution_count": 75,
   "id": "8429373c-08d5-434c-987e-2ad413c33261",
   "metadata": {},
   "outputs": [
    {
     "name": "stderr",
     "output_type": "stream",
     "text": [
      "Progress:   0%|                                                                          | 0/30 [00:00<?, ?iteration/s]"
     ]
    },
    {
     "name": "stdout",
     "output_type": "stream",
     "text": [
      "\n",
      "testing for embedding=BoW, pos=none, n=2\n"
     ]
    },
    {
     "name": "stderr",
     "output_type": "stream",
     "text": [
      "Progress:   3%|██▏                                                               | 1/30 [00:01<00:36,  1.27s/iteration]"
     ]
    },
    {
     "name": "stdout",
     "output_type": "stream",
     "text": [
      "Maximum validation accuracy this iteration: 0.7708333333333334\n",
      "Best validaton accuracy increased from -inf to 0.7708333333333334 with params BoW, none, (0.01, True).\n",
      "\n",
      "testing for embedding=BoW, pos=one-hot, n=2\n"
     ]
    },
    {
     "name": "stderr",
     "output_type": "stream",
     "text": [
      "Progress:   7%|████▍                                                             | 2/30 [00:13<03:40,  7.88s/iteration]"
     ]
    },
    {
     "name": "stdout",
     "output_type": "stream",
     "text": [
      "Maximum validation accuracy this iteration: 0.5833333333333334\n",
      "\n",
      "testing for embedding=BoW, pos=ngram, n=2\n"
     ]
    },
    {
     "name": "stderr",
     "output_type": "stream",
     "text": [
      "Progress:  10%|██████▌                                                           | 3/30 [00:26<04:26,  9.87s/iteration]"
     ]
    },
    {
     "name": "stdout",
     "output_type": "stream",
     "text": [
      "Maximum validation accuracy this iteration: 0.7708333333333334\n",
      "\n",
      "testing for embedding=BoW, pos=ngram, n=3\n"
     ]
    },
    {
     "name": "stderr",
     "output_type": "stream",
     "text": [
      "Progress:  13%|████████▊                                                         | 4/30 [00:39<04:53, 11.30s/iteration]"
     ]
    },
    {
     "name": "stdout",
     "output_type": "stream",
     "text": [
      "Maximum validation accuracy this iteration: 0.7708333333333334\n",
      "\n",
      "testing for embedding=BoW, pos=ngram, n=5\n"
     ]
    },
    {
     "name": "stderr",
     "output_type": "stream",
     "text": [
      "Progress:  17%|███████████                                                       | 5/30 [00:53<05:03, 12.14s/iteration]"
     ]
    },
    {
     "name": "stdout",
     "output_type": "stream",
     "text": [
      "Maximum validation accuracy this iteration: 0.7291666666666666\n",
      "\n",
      "testing for embedding=tf-idf, pos=none, n=2\n"
     ]
    },
    {
     "name": "stderr",
     "output_type": "stream",
     "text": [
      "Progress:  20%|█████████████▏                                                    | 6/30 [00:54<03:23,  8.46s/iteration]"
     ]
    },
    {
     "name": "stdout",
     "output_type": "stream",
     "text": [
      "Maximum validation accuracy this iteration: 0.7916666666666666\n",
      "Best validaton accuracy increased from 0.7708333333333334 to 0.7916666666666666 with params tf-idf, none, (0.1, False).\n",
      "\n",
      "testing for embedding=tf-idf, pos=one-hot, n=2\n"
     ]
    },
    {
     "name": "stderr",
     "output_type": "stream",
     "text": [
      "Progress:  23%|███████████████▍                                                  | 7/30 [01:06<03:44,  9.76s/iteration]"
     ]
    },
    {
     "name": "stdout",
     "output_type": "stream",
     "text": [
      "Maximum validation accuracy this iteration: 0.5625\n",
      "\n",
      "testing for embedding=tf-idf, pos=ngram, n=2\n"
     ]
    },
    {
     "name": "stderr",
     "output_type": "stream",
     "text": [
      "Progress:  27%|█████████████████▌                                                | 8/30 [01:19<03:52, 10.55s/iteration]"
     ]
    },
    {
     "name": "stdout",
     "output_type": "stream",
     "text": [
      "Maximum validation accuracy this iteration: 0.6908730158730159\n",
      "\n",
      "testing for embedding=tf-idf, pos=ngram, n=3\n"
     ]
    },
    {
     "name": "stderr",
     "output_type": "stream",
     "text": [
      "Progress:  30%|███████████████████▊                                              | 9/30 [01:32<04:01, 11.49s/iteration]"
     ]
    },
    {
     "name": "stdout",
     "output_type": "stream",
     "text": [
      "Maximum validation accuracy this iteration: 0.6875\n",
      "\n",
      "testing for embedding=tf-idf, pos=ngram, n=5\n"
     ]
    },
    {
     "name": "stderr",
     "output_type": "stream",
     "text": [
      "Progress:  33%|█████████████████████▋                                           | 10/30 [01:46<04:04, 12.22s/iteration]"
     ]
    },
    {
     "name": "stdout",
     "output_type": "stream",
     "text": [
      "Maximum validation accuracy this iteration: 0.6458333333333334\n",
      "\n",
      "testing for embedding=BERTje, pos=none, n=2\n"
     ]
    },
    {
     "name": "stderr",
     "output_type": "stream",
     "text": [
      "Some weights of BertModel were not initialized from the model checkpoint at GroNLP/bert-base-dutch-cased and are newly initialized: ['bert.pooler.dense.bias', 'bert.pooler.dense.weight']\n",
      "You should probably TRAIN this model on a down-stream task to be able to use it for predictions and inference.\n",
      "Progress:  37%|███████████████████████▊                                         | 11/30 [03:58<15:29, 48.90s/iteration]"
     ]
    },
    {
     "name": "stdout",
     "output_type": "stream",
     "text": [
      "Maximum validation accuracy this iteration: 0.6666666666666666\n",
      "\n",
      "testing for embedding=BERTje, pos=one-hot, n=2\n"
     ]
    },
    {
     "name": "stderr",
     "output_type": "stream",
     "text": [
      "Some weights of BertModel were not initialized from the model checkpoint at GroNLP/bert-base-dutch-cased and are newly initialized: ['bert.pooler.dense.bias', 'bert.pooler.dense.weight']\n",
      "You should probably TRAIN this model on a down-stream task to be able to use it for predictions and inference.\n",
      "Progress:  40%|██████████████████████████                                       | 12/30 [06:12<22:24, 74.71s/iteration]"
     ]
    },
    {
     "name": "stdout",
     "output_type": "stream",
     "text": [
      "Maximum validation accuracy this iteration: 0.4583333333333333\n",
      "\n",
      "testing for embedding=BERTje, pos=ngram, n=2\n"
     ]
    },
    {
     "name": "stderr",
     "output_type": "stream",
     "text": [
      "Some weights of BertModel were not initialized from the model checkpoint at GroNLP/bert-base-dutch-cased and are newly initialized: ['bert.pooler.dense.bias', 'bert.pooler.dense.weight']\n",
      "You should probably TRAIN this model on a down-stream task to be able to use it for predictions and inference.\n",
      "Progress:  43%|████████████████████████████▏                                    | 13/30 [08:03<24:18, 85.80s/iteration]"
     ]
    },
    {
     "name": "stdout",
     "output_type": "stream",
     "text": [
      "Maximum validation accuracy this iteration: 0.5833333333333334\n",
      "\n",
      "testing for embedding=BERTje, pos=ngram, n=3\n"
     ]
    },
    {
     "name": "stderr",
     "output_type": "stream",
     "text": [
      "Some weights of BertModel were not initialized from the model checkpoint at GroNLP/bert-base-dutch-cased and are newly initialized: ['bert.pooler.dense.bias', 'bert.pooler.dense.weight']\n",
      "You should probably TRAIN this model on a down-stream task to be able to use it for predictions and inference.\n",
      "Progress:  47%|██████████████████████████████▎                                  | 14/30 [09:53<24:50, 93.15s/iteration]"
     ]
    },
    {
     "name": "stdout",
     "output_type": "stream",
     "text": [
      "Maximum validation accuracy this iteration: 0.3958333333333333\n",
      "\n",
      "testing for embedding=BERTje, pos=ngram, n=5\n"
     ]
    },
    {
     "name": "stderr",
     "output_type": "stream",
     "text": [
      "Some weights of BertModel were not initialized from the model checkpoint at GroNLP/bert-base-dutch-cased and are newly initialized: ['bert.pooler.dense.bias', 'bert.pooler.dense.weight']\n",
      "You should probably TRAIN this model on a down-stream task to be able to use it for predictions and inference.\n",
      "Progress:  50%|████████████████████████████████▌                                | 15/30 [11:42<24:25, 97.70s/iteration]"
     ]
    },
    {
     "name": "stdout",
     "output_type": "stream",
     "text": [
      "Maximum validation accuracy this iteration: 0.29310515873015874\n",
      "\n",
      "testing for embedding=mBERT, pos=none, n=2\n"
     ]
    },
    {
     "name": "stderr",
     "output_type": "stream",
     "text": [
      "Progress:  53%|██████████████████████████████████▏                             | 16/30 [13:27<23:20, 100.05s/iteration]"
     ]
    },
    {
     "name": "stdout",
     "output_type": "stream",
     "text": [
      "Maximum validation accuracy this iteration: 0.625\n",
      "\n",
      "testing for embedding=mBERT, pos=one-hot, n=2\n"
     ]
    },
    {
     "name": "stderr",
     "output_type": "stream",
     "text": [
      "Progress:  57%|████████████████████████████████████▎                           | 17/30 [15:17<22:20, 103.08s/iteration]"
     ]
    },
    {
     "name": "stdout",
     "output_type": "stream",
     "text": [
      "Maximum validation accuracy this iteration: 0.4583333333333333\n",
      "\n",
      "testing for embedding=mBERT, pos=ngram, n=2\n"
     ]
    },
    {
     "name": "stderr",
     "output_type": "stream",
     "text": [
      "Progress:  60%|██████████████████████████████████████▍                         | 18/30 [17:03<20:46, 103.86s/iteration]"
     ]
    },
    {
     "name": "stdout",
     "output_type": "stream",
     "text": [
      "Maximum validation accuracy this iteration: 0.5625\n",
      "\n",
      "testing for embedding=mBERT, pos=ngram, n=3\n"
     ]
    },
    {
     "name": "stderr",
     "output_type": "stream",
     "text": [
      "Progress:  63%|████████████████████████████████████████▌                       | 19/30 [18:50<19:11, 104.72s/iteration]"
     ]
    },
    {
     "name": "stdout",
     "output_type": "stream",
     "text": [
      "Maximum validation accuracy this iteration: 0.3628691983122363\n",
      "\n",
      "testing for embedding=mBERT, pos=ngram, n=5\n"
     ]
    },
    {
     "name": "stderr",
     "output_type": "stream",
     "text": [
      "Progress:  67%|██████████████████████████████████████████▋                     | 20/30 [20:35<17:28, 104.83s/iteration]"
     ]
    },
    {
     "name": "stdout",
     "output_type": "stream",
     "text": [
      "Maximum validation accuracy this iteration: 0.2837301587301587\n",
      "\n",
      "testing for embedding=RobBERT, pos=none, n=2\n"
     ]
    },
    {
     "name": "stderr",
     "output_type": "stream",
     "text": [
      "Some weights of RobertaModel were not initialized from the model checkpoint at pdelobelle/robbert-v2-dutch-base and are newly initialized: ['roberta.pooler.dense.bias', 'roberta.pooler.dense.weight']\n",
      "You should probably TRAIN this model on a down-stream task to be able to use it for predictions and inference.\n",
      "Progress:  70%|████████████████████████████████████████████▊                   | 21/30 [22:22<15:50, 105.64s/iteration]"
     ]
    },
    {
     "name": "stdout",
     "output_type": "stream",
     "text": [
      "Maximum validation accuracy this iteration: 0.5833333333333334\n",
      "\n",
      "testing for embedding=RobBERT, pos=one-hot, n=2\n"
     ]
    },
    {
     "name": "stderr",
     "output_type": "stream",
     "text": [
      "Some weights of RobertaModel were not initialized from the model checkpoint at pdelobelle/robbert-v2-dutch-base and are newly initialized: ['roberta.pooler.dense.bias', 'roberta.pooler.dense.weight']\n",
      "You should probably TRAIN this model on a down-stream task to be able to use it for predictions and inference.\n",
      "Progress:  73%|██████████████████████████████████████████████▉                 | 22/30 [24:12<14:14, 106.82s/iteration]"
     ]
    },
    {
     "name": "stdout",
     "output_type": "stream",
     "text": [
      "Maximum validation accuracy this iteration: 0.4791666666666667\n",
      "\n",
      "testing for embedding=RobBERT, pos=ngram, n=2\n"
     ]
    },
    {
     "name": "stderr",
     "output_type": "stream",
     "text": [
      "Some weights of RobertaModel were not initialized from the model checkpoint at pdelobelle/robbert-v2-dutch-base and are newly initialized: ['roberta.pooler.dense.bias', 'roberta.pooler.dense.weight']\n",
      "You should probably TRAIN this model on a down-stream task to be able to use it for predictions and inference.\n",
      "Progress:  77%|█████████████████████████████████████████████████               | 23/30 [26:01<12:32, 107.45s/iteration]"
     ]
    },
    {
     "name": "stdout",
     "output_type": "stream",
     "text": [
      "Maximum validation accuracy this iteration: 0.5833333333333334\n",
      "\n",
      "testing for embedding=RobBERT, pos=ngram, n=3\n"
     ]
    },
    {
     "name": "stderr",
     "output_type": "stream",
     "text": [
      "Some weights of RobertaModel were not initialized from the model checkpoint at pdelobelle/robbert-v2-dutch-base and are newly initialized: ['roberta.pooler.dense.bias', 'roberta.pooler.dense.weight']\n",
      "You should probably TRAIN this model on a down-stream task to be able to use it for predictions and inference.\n",
      "Progress:  80%|███████████████████████████████████████████████████▏            | 24/30 [27:51<10:49, 108.33s/iteration]"
     ]
    },
    {
     "name": "stdout",
     "output_type": "stream",
     "text": [
      "Maximum validation accuracy this iteration: 0.37875000000000003\n",
      "\n",
      "testing for embedding=RobBERT, pos=ngram, n=5\n"
     ]
    },
    {
     "name": "stderr",
     "output_type": "stream",
     "text": [
      "Some weights of RobertaModel were not initialized from the model checkpoint at pdelobelle/robbert-v2-dutch-base and are newly initialized: ['roberta.pooler.dense.bias', 'roberta.pooler.dense.weight']\n",
      "You should probably TRAIN this model on a down-stream task to be able to use it for predictions and inference.\n",
      "Progress:  83%|█████████████████████████████████████████████████████▎          | 25/30 [29:40<09:03, 108.61s/iteration]"
     ]
    },
    {
     "name": "stdout",
     "output_type": "stream",
     "text": [
      "Maximum validation accuracy this iteration: 0.29002976190476193\n",
      "\n",
      "testing for embedding=Word2Vec, pos=none, n=2\n"
     ]
    },
    {
     "name": "stderr",
     "output_type": "stream",
     "text": [
      "Progress:  87%|████████████████████████████████████████████████████████▎        | 26/30 [29:41<05:04, 76.21s/iteration]"
     ]
    },
    {
     "name": "stdout",
     "output_type": "stream",
     "text": [
      "Maximum validation accuracy this iteration: 0.2774782869122492\n",
      "\n",
      "testing for embedding=Word2Vec, pos=one-hot, n=2\n"
     ]
    },
    {
     "name": "stderr",
     "output_type": "stream",
     "text": [
      "Progress:  90%|██████████████████████████████████████████████████████████▌      | 27/30 [29:42<02:41, 53.68s/iteration]"
     ]
    },
    {
     "name": "stdout",
     "output_type": "stream",
     "text": [
      "Maximum validation accuracy this iteration: 0.4583333333333333\n",
      "\n",
      "testing for embedding=Word2Vec, pos=ngram, n=2\n"
     ]
    },
    {
     "name": "stderr",
     "output_type": "stream",
     "text": [
      "Progress:  93%|████████████████████████████████████████████████████████████▋    | 28/30 [29:43<01:15, 37.84s/iteration]"
     ]
    },
    {
     "name": "stdout",
     "output_type": "stream",
     "text": [
      "Maximum validation accuracy this iteration: 0.3221774193548387\n",
      "\n",
      "testing for embedding=Word2Vec, pos=ngram, n=3\n"
     ]
    },
    {
     "name": "stderr",
     "output_type": "stream",
     "text": [
      "Progress:  97%|██████████████████████████████████████████████████████████████▊  | 29/30 [29:45<00:26, 26.95s/iteration]"
     ]
    },
    {
     "name": "stdout",
     "output_type": "stream",
     "text": [
      "Maximum validation accuracy this iteration: 0.3439614680359844\n",
      "\n",
      "testing for embedding=Word2Vec, pos=ngram, n=5\n"
     ]
    },
    {
     "name": "stderr",
     "output_type": "stream",
     "text": [
      "Progress: 100%|█████████████████████████████████████████████████████████████████| 30/30 [29:46<00:00, 59.56s/iteration]"
     ]
    },
    {
     "name": "stdout",
     "output_type": "stream",
     "text": [
      "Maximum validation accuracy this iteration: 0.28055555555555556\n",
      "Best overall model: ('tf-idf', 'none', 1)\n",
      "Best overall accuracy: 0.7916666666666666\n",
      "Best overall parameters: (0.1, False)\n"
     ]
    },
    {
     "name": "stderr",
     "output_type": "stream",
     "text": [
      "\n"
     ]
    }
   ],
   "source": [
    "# Naive Bayes\n",
    "\n",
    "counter = 0\n",
    "n_values = [2, 3, 5]\n",
    "\n",
    "# Total iterations to track progress\n",
    "total_combinations = len([\"BoW\", \"tf-idf\", \"BERTje\", \"mBERT\", \"RobBERT\", \"Word2Vec\"]) * len([\"none\", \"one-hot\"] + 3 * [\"ngram\"])\n",
    "\n",
    "# Initialize tracking variables\n",
    "best_overall_model = None\n",
    "best_overall_accuracy = float('-inf')\n",
    "best_overall_params = None\n",
    "\n",
    "# Create tqdm progress bar\n",
    "with tqdm(total=total_combinations, desc=\"Progress\", unit=\"iteration\") as pbar:\n",
    "    for embedding in [\"BoW\", \"tf-idf\", \"BERTje\", \"mBERT\", \"RobBERT\", \"Word2Vec\"]:\n",
    "        for pos in [\"none\", \"one-hot\"] + 3 * [\"ngram\"]:\n",
    "            \n",
    "            n = 2  # Default value in case pos != \"ngram\"\n",
    "            if pos == \"ngram\":\n",
    "                n = n_values[counter % 3]\n",
    "                counter += 1\n",
    "\n",
    "            print(f\"\\ntesting for embedding={embedding}, pos={pos}, n={n}\")\n",
    "            results = evaluate_model(df, \n",
    "                                     test_ratio=0.15, \n",
    "                                     k_values=[1, 2, 3, 5, 10, 20],\n",
    "                                     embedding=embedding, \n",
    "                                     model_type=\"naive_bayes\",\n",
    "                                     pos=pos, \n",
    "                                     ngram_size=n,\n",
    "                                     print_updates=False,\n",
    "                                     show_class_accuracy=False, \n",
    "                                     show_confusion_matrix=False)[0]\n",
    "\n",
    "            # Find the best model in this iteration\n",
    "            global_best_model = max(results.items(), key=lambda x: x[1]['accuracy'])\n",
    "            global_best_model_key = global_best_model[0]\n",
    "            best_accuracy = global_best_model[1]['accuracy']\n",
    "            best_params = global_best_model[1]['best_params']\n",
    "\n",
    "            print(f\"Maximum validation accuracy this iteration: {best_accuracy}\")\n",
    "\n",
    "            # Update global best if the current model is better\n",
    "            if best_accuracy > best_overall_accuracy:\n",
    "                print(f\"Best validaton accuracy increased from {best_overall_accuracy} to {best_accuracy} with params {embedding}, {pos}, {best_params}.\")\n",
    "                best_overall_accuracy = best_accuracy\n",
    "                best_overall_model = (embedding, pos, global_best_model_key)\n",
    "                best_overall_params = best_params\n",
    "\n",
    "            # Update the progress bar\n",
    "            pbar.update(1)\n",
    "\n",
    "# Print the overall best model after all iterations\n",
    "print(f\"Best overall model: {best_overall_model}\")\n",
    "print(f\"Best overall accuracy: {best_overall_accuracy}\")\n",
    "print(f\"Best overall parameters: {best_overall_params}\")"
   ]
  },
  {
   "cell_type": "code",
   "execution_count": 64,
   "id": "e1ecc2d9-6a87-42c4-bb73-ba92087537ad",
   "metadata": {},
   "outputs": [
    {
     "name": "stderr",
     "output_type": "stream",
     "text": [
      "Progress:   0%|                                                                          | 0/30 [00:00<?, ?iteration/s]"
     ]
    },
    {
     "name": "stdout",
     "output_type": "stream",
     "text": [
      "\n",
      "testing for embedding=BoW, pos=none, n=2\n"
     ]
    },
    {
     "name": "stderr",
     "output_type": "stream",
     "text": [
      "Progress:   3%|██                                                             | 1/30 [06:20<3:03:41, 380.06s/iteration]"
     ]
    },
    {
     "name": "stdout",
     "output_type": "stream",
     "text": [
      "Maximum validation accuracy this iteration: 0.5833333333333334\n",
      "Best validaton accuracy increased from -inf to 0.5833333333333334 with params BoW, none, 15.\n",
      "\n",
      "testing for embedding=BoW, pos=one-hot, n=2\n"
     ]
    },
    {
     "name": "stderr",
     "output_type": "stream",
     "text": [
      "Progress:   7%|████▏                                                          | 2/30 [12:22<2:52:25, 369.48s/iteration]"
     ]
    },
    {
     "name": "stdout",
     "output_type": "stream",
     "text": [
      "Maximum validation accuracy this iteration: 0.5833333333333334\n",
      "\n",
      "testing for embedding=BoW, pos=ngram, n=2\n"
     ]
    },
    {
     "name": "stderr",
     "output_type": "stream",
     "text": [
      "Progress:  10%|██████▎                                                        | 3/30 [18:53<2:50:43, 379.39s/iteration]"
     ]
    },
    {
     "name": "stdout",
     "output_type": "stream",
     "text": [
      "Maximum validation accuracy this iteration: 0.6041666666666666\n",
      "Best validaton accuracy increased from 0.5833333333333334 to 0.6041666666666666 with params BoW, ngram, 5.\n",
      "\n",
      "testing for embedding=BoW, pos=ngram, n=3\n"
     ]
    },
    {
     "name": "stderr",
     "output_type": "stream",
     "text": [
      "Progress:  13%|████████▍                                                      | 4/30 [27:05<3:03:37, 423.73s/iteration]"
     ]
    },
    {
     "name": "stdout",
     "output_type": "stream",
     "text": [
      "Maximum validation accuracy this iteration: 0.6041666666666666\n",
      "\n",
      "testing for embedding=BoW, pos=ngram, n=5\n"
     ]
    },
    {
     "name": "stderr",
     "output_type": "stream",
     "text": [
      "Progress:  17%|██████████▌                                                    | 5/30 [34:05<2:56:02, 422.49s/iteration]"
     ]
    },
    {
     "name": "stdout",
     "output_type": "stream",
     "text": [
      "Maximum validation accuracy this iteration: 0.5625\n",
      "\n",
      "testing for embedding=tf-idf, pos=none, n=2\n"
     ]
    },
    {
     "name": "stderr",
     "output_type": "stream",
     "text": [
      "Progress:  20%|████████████▌                                                  | 6/30 [39:22<2:34:39, 386.64s/iteration]"
     ]
    },
    {
     "name": "stdout",
     "output_type": "stream",
     "text": [
      "Maximum validation accuracy this iteration: 0.6041666666666666\n",
      "\n",
      "testing for embedding=tf-idf, pos=one-hot, n=2\n"
     ]
    },
    {
     "name": "stderr",
     "output_type": "stream",
     "text": [
      "Progress:  23%|██████████████▋                                                | 7/30 [44:59<2:21:58, 370.39s/iteration]"
     ]
    },
    {
     "name": "stdout",
     "output_type": "stream",
     "text": [
      "Maximum validation accuracy this iteration: 0.625\n",
      "Best validaton accuracy increased from 0.6041666666666666 to 0.625 with params tf-idf, one-hot, 10.\n",
      "\n",
      "testing for embedding=tf-idf, pos=ngram, n=2\n"
     ]
    },
    {
     "name": "stderr",
     "output_type": "stream",
     "text": [
      "Progress:  27%|████████████████▊                                              | 8/30 [51:21<2:17:11, 374.15s/iteration]"
     ]
    },
    {
     "name": "stdout",
     "output_type": "stream",
     "text": [
      "Maximum validation accuracy this iteration: 0.6041666666666666\n",
      "\n",
      "testing for embedding=tf-idf, pos=ngram, n=3\n"
     ]
    },
    {
     "name": "stderr",
     "output_type": "stream",
     "text": [
      "Progress:  30%|██████████████████▉                                            | 9/30 [59:23<2:22:48, 408.01s/iteration]"
     ]
    },
    {
     "name": "stdout",
     "output_type": "stream",
     "text": [
      "Maximum validation accuracy this iteration: 0.5833333333333334\n",
      "\n",
      "testing for embedding=tf-idf, pos=ngram, n=5\n"
     ]
    },
    {
     "name": "stderr",
     "output_type": "stream",
     "text": [
      "Progress:  33%|████████████████████                                        | 10/30 [1:06:26<2:17:31, 412.55s/iteration]"
     ]
    },
    {
     "name": "stdout",
     "output_type": "stream",
     "text": [
      "Maximum validation accuracy this iteration: 0.5204166666666666\n",
      "\n",
      "testing for embedding=BERTje, pos=none, n=2\n"
     ]
    },
    {
     "name": "stderr",
     "output_type": "stream",
     "text": [
      "Some weights of BertModel were not initialized from the model checkpoint at GroNLP/bert-base-dutch-cased and are newly initialized: ['bert.pooler.dense.bias', 'bert.pooler.dense.weight']\n",
      "You should probably TRAIN this model on a down-stream task to be able to use it for predictions and inference.\n",
      "Progress:  37%|██████████████████████                                      | 11/30 [1:11:24<1:59:30, 377.38s/iteration]"
     ]
    },
    {
     "name": "stdout",
     "output_type": "stream",
     "text": [
      "Maximum validation accuracy this iteration: 0.6458333333333334\n",
      "Best validaton accuracy increased from 0.625 to 0.6458333333333334 with params BERTje, none, 15.\n",
      "\n",
      "testing for embedding=BERTje, pos=one-hot, n=2\n"
     ]
    },
    {
     "name": "stderr",
     "output_type": "stream",
     "text": [
      "Some weights of BertModel were not initialized from the model checkpoint at GroNLP/bert-base-dutch-cased and are newly initialized: ['bert.pooler.dense.bias', 'bert.pooler.dense.weight']\n",
      "You should probably TRAIN this model on a down-stream task to be able to use it for predictions and inference.\n",
      "Progress:  40%|████████████████████████                                    | 12/30 [1:18:00<1:54:54, 383.03s/iteration]"
     ]
    },
    {
     "name": "stdout",
     "output_type": "stream",
     "text": [
      "Maximum validation accuracy this iteration: 0.625\n",
      "\n",
      "testing for embedding=BERTje, pos=ngram, n=2\n"
     ]
    },
    {
     "name": "stderr",
     "output_type": "stream",
     "text": [
      "Some weights of BertModel were not initialized from the model checkpoint at GroNLP/bert-base-dutch-cased and are newly initialized: ['bert.pooler.dense.bias', 'bert.pooler.dense.weight']\n",
      "You should probably TRAIN this model on a down-stream task to be able to use it for predictions and inference.\n",
      "Progress:  43%|██████████████████████████                                  | 13/30 [1:24:28<1:49:00, 384.74s/iteration]"
     ]
    },
    {
     "name": "stdout",
     "output_type": "stream",
     "text": [
      "Maximum validation accuracy this iteration: 0.625\n",
      "\n",
      "testing for embedding=BERTje, pos=ngram, n=3\n"
     ]
    },
    {
     "name": "stderr",
     "output_type": "stream",
     "text": [
      "Some weights of BertModel were not initialized from the model checkpoint at GroNLP/bert-base-dutch-cased and are newly initialized: ['bert.pooler.dense.bias', 'bert.pooler.dense.weight']\n",
      "You should probably TRAIN this model on a down-stream task to be able to use it for predictions and inference.\n",
      "Progress:  47%|████████████████████████████                                | 14/30 [1:31:24<1:45:06, 394.17s/iteration]"
     ]
    },
    {
     "name": "stdout",
     "output_type": "stream",
     "text": [
      "Maximum validation accuracy this iteration: 0.625\n",
      "\n",
      "testing for embedding=BERTje, pos=ngram, n=5\n"
     ]
    },
    {
     "name": "stderr",
     "output_type": "stream",
     "text": [
      "Some weights of BertModel were not initialized from the model checkpoint at GroNLP/bert-base-dutch-cased and are newly initialized: ['bert.pooler.dense.bias', 'bert.pooler.dense.weight']\n",
      "You should probably TRAIN this model on a down-stream task to be able to use it for predictions and inference.\n",
      "Progress:  50%|██████████████████████████████                              | 15/30 [1:38:47<1:42:13, 408.89s/iteration]"
     ]
    },
    {
     "name": "stdout",
     "output_type": "stream",
     "text": [
      "Maximum validation accuracy this iteration: 0.6666666666666666\n",
      "Best validaton accuracy increased from 0.6458333333333334 to 0.6666666666666666 with params BERTje, ngram, 15.\n",
      "\n",
      "testing for embedding=mBERT, pos=none, n=2\n"
     ]
    },
    {
     "name": "stderr",
     "output_type": "stream",
     "text": [
      "Progress:  53%|████████████████████████████████                            | 16/30 [1:44:31<1:30:47, 389.09s/iteration]"
     ]
    },
    {
     "name": "stdout",
     "output_type": "stream",
     "text": [
      "Maximum validation accuracy this iteration: 0.6041666666666666\n",
      "\n",
      "testing for embedding=mBERT, pos=one-hot, n=2\n"
     ]
    },
    {
     "name": "stderr",
     "output_type": "stream",
     "text": [
      "Progress:  57%|██████████████████████████████████                          | 17/30 [1:51:09<1:24:53, 391.82s/iteration]"
     ]
    },
    {
     "name": "stdout",
     "output_type": "stream",
     "text": [
      "Maximum validation accuracy this iteration: 0.625\n",
      "\n",
      "testing for embedding=mBERT, pos=ngram, n=2\n"
     ]
    },
    {
     "name": "stderr",
     "output_type": "stream",
     "text": [
      "Progress:  60%|████████████████████████████████████                        | 18/30 [1:57:42<1:18:26, 392.23s/iteration]"
     ]
    },
    {
     "name": "stdout",
     "output_type": "stream",
     "text": [
      "Maximum validation accuracy this iteration: 0.6458333333333334\n",
      "\n",
      "testing for embedding=mBERT, pos=ngram, n=3\n"
     ]
    },
    {
     "name": "stderr",
     "output_type": "stream",
     "text": [
      "Progress:  63%|██████████████████████████████████████                      | 19/30 [2:04:36<1:13:07, 398.86s/iteration]"
     ]
    },
    {
     "name": "stdout",
     "output_type": "stream",
     "text": [
      "Maximum validation accuracy this iteration: 0.5833333333333334\n",
      "\n",
      "testing for embedding=mBERT, pos=ngram, n=5\n"
     ]
    },
    {
     "name": "stderr",
     "output_type": "stream",
     "text": [
      "Progress:  67%|████████████████████████████████████████                    | 20/30 [2:11:37<1:07:34, 405.40s/iteration]"
     ]
    },
    {
     "name": "stdout",
     "output_type": "stream",
     "text": [
      "Maximum validation accuracy this iteration: 0.625\n",
      "\n",
      "testing for embedding=RobBERT, pos=none, n=2\n"
     ]
    },
    {
     "name": "stderr",
     "output_type": "stream",
     "text": [
      "Some weights of RobertaModel were not initialized from the model checkpoint at pdelobelle/robbert-v2-dutch-base and are newly initialized: ['roberta.pooler.dense.bias', 'roberta.pooler.dense.weight']\n",
      "You should probably TRAIN this model on a down-stream task to be able to use it for predictions and inference.\n",
      "Progress:  70%|███████████████████████████████████████████▍                  | 21/30 [2:16:35<56:00, 373.35s/iteration]"
     ]
    },
    {
     "name": "stdout",
     "output_type": "stream",
     "text": [
      "Maximum validation accuracy this iteration: 0.6458333333333334\n",
      "\n",
      "testing for embedding=RobBERT, pos=one-hot, n=2\n"
     ]
    },
    {
     "name": "stderr",
     "output_type": "stream",
     "text": [
      "Some weights of RobertaModel were not initialized from the model checkpoint at pdelobelle/robbert-v2-dutch-base and are newly initialized: ['roberta.pooler.dense.bias', 'roberta.pooler.dense.weight']\n",
      "You should probably TRAIN this model on a down-stream task to be able to use it for predictions and inference.\n",
      "Progress:  73%|█████████████████████████████████████████████▍                | 22/30 [2:23:12<50:43, 380.41s/iteration]"
     ]
    },
    {
     "name": "stdout",
     "output_type": "stream",
     "text": [
      "Maximum validation accuracy this iteration: 0.625\n",
      "\n",
      "testing for embedding=RobBERT, pos=ngram, n=2\n"
     ]
    },
    {
     "name": "stderr",
     "output_type": "stream",
     "text": [
      "Some weights of RobertaModel were not initialized from the model checkpoint at pdelobelle/robbert-v2-dutch-base and are newly initialized: ['roberta.pooler.dense.bias', 'roberta.pooler.dense.weight']\n",
      "You should probably TRAIN this model on a down-stream task to be able to use it for predictions and inference.\n",
      "Progress:  77%|███████████████████████████████████████████████▌              | 23/30 [2:29:46<44:51, 384.43s/iteration]"
     ]
    },
    {
     "name": "stdout",
     "output_type": "stream",
     "text": [
      "Maximum validation accuracy this iteration: 0.6458333333333334\n",
      "\n",
      "testing for embedding=RobBERT, pos=ngram, n=3\n"
     ]
    },
    {
     "name": "stderr",
     "output_type": "stream",
     "text": [
      "Some weights of RobertaModel were not initialized from the model checkpoint at pdelobelle/robbert-v2-dutch-base and are newly initialized: ['roberta.pooler.dense.bias', 'roberta.pooler.dense.weight']\n",
      "You should probably TRAIN this model on a down-stream task to be able to use it for predictions and inference.\n",
      "Progress:  80%|█████████████████████████████████████████████████▌            | 24/30 [2:36:43<39:24, 394.05s/iteration]"
     ]
    },
    {
     "name": "stdout",
     "output_type": "stream",
     "text": [
      "Maximum validation accuracy this iteration: 0.625\n",
      "\n",
      "testing for embedding=RobBERT, pos=ngram, n=5\n"
     ]
    },
    {
     "name": "stderr",
     "output_type": "stream",
     "text": [
      "Some weights of RobertaModel were not initialized from the model checkpoint at pdelobelle/robbert-v2-dutch-base and are newly initialized: ['roberta.pooler.dense.bias', 'roberta.pooler.dense.weight']\n",
      "You should probably TRAIN this model on a down-stream task to be able to use it for predictions and inference.\n",
      "Progress:  83%|███████████████████████████████████████████████████▋          | 25/30 [2:43:48<33:36, 403.36s/iteration]"
     ]
    },
    {
     "name": "stdout",
     "output_type": "stream",
     "text": [
      "Maximum validation accuracy this iteration: 0.6458333333333334\n",
      "\n",
      "testing for embedding=Word2Vec, pos=none, n=2\n"
     ]
    },
    {
     "name": "stderr",
     "output_type": "stream",
     "text": [
      "Progress:  87%|█████████████████████████████████████████████████████▋        | 26/30 [2:46:10<21:40, 325.15s/iteration]"
     ]
    },
    {
     "name": "stdout",
     "output_type": "stream",
     "text": [
      "Maximum validation accuracy this iteration: 0.34500000000000003\n",
      "\n",
      "testing for embedding=Word2Vec, pos=one-hot, n=2\n"
     ]
    },
    {
     "name": "stderr",
     "output_type": "stream",
     "text": [
      "Progress:  90%|███████████████████████████████████████████████████████▊      | 27/30 [2:49:26<14:18, 286.26s/iteration]"
     ]
    },
    {
     "name": "stdout",
     "output_type": "stream",
     "text": [
      "Maximum validation accuracy this iteration: 0.4038035339922132\n",
      "\n",
      "testing for embedding=Word2Vec, pos=ngram, n=2\n"
     ]
    },
    {
     "name": "stderr",
     "output_type": "stream",
     "text": [
      "Progress:  93%|█████████████████████████████████████████████████████████▊    | 28/30 [2:52:37<08:35, 257.84s/iteration]"
     ]
    },
    {
     "name": "stdout",
     "output_type": "stream",
     "text": [
      "Maximum validation accuracy this iteration: 0.441633064516129\n",
      "\n",
      "testing for embedding=Word2Vec, pos=ngram, n=3\n"
     ]
    },
    {
     "name": "stderr",
     "output_type": "stream",
     "text": [
      "Progress:  97%|███████████████████████████████████████████████████████████▉  | 29/30 [2:56:13<04:05, 245.12s/iteration]"
     ]
    },
    {
     "name": "stdout",
     "output_type": "stream",
     "text": [
      "Maximum validation accuracy this iteration: 0.41949685534591197\n",
      "\n",
      "testing for embedding=Word2Vec, pos=ngram, n=5\n"
     ]
    },
    {
     "name": "stderr",
     "output_type": "stream",
     "text": [
      "Progress: 100%|██████████████████████████████████████████████████████████████| 30/30 [2:59:55<00:00, 359.83s/iteration]"
     ]
    },
    {
     "name": "stdout",
     "output_type": "stream",
     "text": [
      "Maximum validation accuracy this iteration: 0.37583333333333335\n",
      "Best overall model: ('BERTje', 'ngram', 1)\n",
      "Best overall accuracy: 0.6666666666666666\n",
      "Best overall parameters: 15\n"
     ]
    },
    {
     "name": "stderr",
     "output_type": "stream",
     "text": [
      "\n"
     ]
    }
   ],
   "source": [
    "# Random Forest\n",
    "\n",
    "counter = 0\n",
    "n_values = [2, 3, 5]\n",
    "\n",
    "# Total iterations to track progress\n",
    "total_combinations = len([\"BoW\", \"tf-idf\", \"BERTje\", \"mBERT\", \"RobBERT\", \"Word2Vec\"]) * len([\"none\", \"one-hot\"] + 3 * [\"ngram\"])\n",
    "\n",
    "# Initialize tracking variables\n",
    "best_overall_model = None\n",
    "best_overall_accuracy = float('-inf')\n",
    "best_overall_params = None\n",
    "\n",
    "# Create tqdm progress bar\n",
    "with tqdm(total=total_combinations, desc=\"Progress\", unit=\"iteration\") as pbar:\n",
    "    for embedding in [\"BoW\", \"tf-idf\", \"BERTje\", \"mBERT\", \"RobBERT\", \"Word2Vec\"]:\n",
    "        for pos in [\"none\", \"one-hot\"] + 3 * [\"ngram\"]:\n",
    "            \n",
    "            n = 2  # Default value in case pos != \"ngram\"\n",
    "            if pos == \"ngram\":\n",
    "                n = n_values[counter % 3]\n",
    "                counter += 1\n",
    "\n",
    "            print(f\"\\ntesting for embedding={embedding}, pos={pos}, n={n}\")\n",
    "            results = evaluate_model(df, \n",
    "                                     test_ratio=0.15, \n",
    "                                     k_values=[1, 2, 3, 5, 10, 20],\n",
    "                                     embedding=embedding, \n",
    "                                     model_type=\"random_forest\",\n",
    "                                     pos=pos, \n",
    "                                     ngram_size=n,\n",
    "                                     print_updates=False,\n",
    "                                     show_class_accuracy=False, \n",
    "                                     show_confusion_matrix=False)[0]\n",
    "\n",
    "            # Find the best model in this iteration\n",
    "            global_best_model = max(results.items(), key=lambda x: x[1]['accuracy'])\n",
    "            global_best_model_key = global_best_model[0]\n",
    "            best_accuracy = global_best_model[1]['accuracy']\n",
    "            best_params = global_best_model[1]['best_params']\n",
    "\n",
    "            print(f\"Maximum validation accuracy this iteration: {best_accuracy}\")\n",
    "\n",
    "            # Update global best if the current model is better\n",
    "            if best_accuracy > best_overall_accuracy:\n",
    "                print(f\"Best validaton accuracy increased from {best_overall_accuracy} to {best_accuracy} with params {embedding}, {pos}, {best_params}.\")\n",
    "                best_overall_accuracy = best_accuracy\n",
    "                best_overall_model = (embedding, pos, global_best_model_key)\n",
    "                best_overall_params = best_params\n",
    "\n",
    "            # Update the progress bar\n",
    "            pbar.update(1)\n",
    "\n",
    "# Print the overall best model after all iterations\n",
    "print(f\"Best overall model: {best_overall_model}\")\n",
    "print(f\"Best overall accuracy: {best_overall_accuracy}\")\n",
    "print(f\"Best overall parameters: {best_overall_params}\")"
   ]
  },
  {
   "cell_type": "code",
   "execution_count": 138,
   "id": "12c282a9-f453-4450-9b6e-f77d9c81a2c0",
   "metadata": {
    "scrolled": true
   },
   "outputs": [
    {
     "name": "stdout",
     "output_type": "stream",
     "text": [
      "\n",
      "Using TF-IDF Embeddings...\n",
      "Best naive_bayes Params for k=1: (0.1, False), Mean Validation Accuracy: 0.7917\n",
      "param_results: {(0.01, True): [0.7708333333333334], (0.01, False): [0.75], (0.1, True): [0.7708333333333334], (0.1, False): [0.7916666666666666], (0.5, True): [0.6875], (0.5, False): [0.7291666666666666], (1.0, True): [0.5625], (1.0, False): [0.6875], (2.0, True): [0.5625], (2.0, False): [0.6666666666666666], (5.0, True): [0.5625], (5.0, False): [0.6041666666666666], (10.0, True): [0.5416666666666666], (10.0, False): [0.5833333333333334]}\n",
      "mean results: {(0.01, True): 0.7708333333333334, (0.01, False): 0.75, (0.1, True): 0.7708333333333334, (0.1, False): 0.7916666666666666, (0.5, True): 0.6875, (0.5, False): 0.7291666666666666, (1.0, True): 0.5625, (1.0, False): 0.6875, (2.0, True): 0.5625, (2.0, False): 0.6666666666666666, (5.0, True): 0.5625, (5.0, False): 0.6041666666666666, (10.0, True): 0.5416666666666666, (10.0, False): 0.5833333333333334}\n",
      "best validation accuracy for K=1: 0.7916666666666666\n",
      "best functionwide validation accuracy: 0\n",
      "\n",
      "Best naive_bayes Params for k=2: (0.1, False), Mean Validation Accuracy: 0.7160\n",
      "param_results: {(0.01, True): [0.710691823899371, 0.7025316455696202], (0.01, False): [0.6729559748427673, 0.6265822784810127], (0.1, True): [0.7169811320754716, 0.6962025316455697], (0.1, False): [0.7295597484276729, 0.7025316455696202], (0.5, True): [0.559748427672956, 0.620253164556962], (0.5, False): [0.710691823899371, 0.6962025316455697], (1.0, True): [0.5283018867924528, 0.5379746835443038], (1.0, False): [0.6792452830188679, 0.6772151898734177], (2.0, True): [0.5031446540880503, 0.5443037974683544], (2.0, False): [0.6163522012578616, 0.6265822784810127], (5.0, True): [0.4591194968553459, 0.569620253164557], (5.0, False): [0.559748427672956, 0.5316455696202531], (10.0, True): [0.37735849056603776, 0.5569620253164557], (10.0, False): [0.5094339622641509, 0.47468354430379744]}\n",
      "mean results: {(0.01, True): 0.7066117347344956, (0.01, False): 0.6497691266618899, (0.1, True): 0.7065918318605207, (0.1, False): 0.7160456969986466, (0.5, True): 0.5900007961149589, (0.5, False): 0.7034471777724703, (1.0, True): 0.5331382851683784, (1.0, False): 0.6782302364461428, (2.0, True): 0.5237242257782024, (2.0, False): 0.6214672398694372, (5.0, True): 0.5143698750099515, (5.0, False): 0.5456969986466045, (10.0, True): 0.4671602579412467, (10.0, False): 0.4920587532839742}\n",
      "best validation accuracy for K=2: 0.7160456969986466\n",
      "best functionwide validation accuracy: 0.7916666666666666\n",
      "\n",
      "Best naive_bayes Params for k=3: (0.01, True), Mean Validation Accuracy: 0.7317\n",
      "param_results: {(0.01, True): [0.7358490566037735, 0.7735849056603774, 0.6857142857142857], (0.01, False): [0.6792452830188679, 0.7547169811320755, 0.6476190476190476], (0.1, True): [0.7358490566037735, 0.7547169811320755, 0.6857142857142857], (0.1, False): [0.7264150943396226, 0.7641509433962265, 0.6857142857142857], (0.5, True): [0.6037735849056604, 0.6037735849056604, 0.6190476190476191], (0.5, False): [0.7169811320754716, 0.7358490566037735, 0.6666666666666666], (1.0, True): [0.5660377358490566, 0.5660377358490566, 0.5714285714285714], (1.0, False): [0.660377358490566, 0.7358490566037735, 0.6285714285714286], (2.0, True): [0.5566037735849056, 0.5660377358490566, 0.5428571428571428], (2.0, False): [0.6509433962264151, 0.6698113207547169, 0.6095238095238096], (5.0, True): [0.5471698113207547, 0.5471698113207547, 0.5523809523809524], (5.0, False): [0.5566037735849056, 0.5754716981132075, 0.6], (10.0, True): [0.4811320754716981, 0.5188679245283019, 0.5428571428571428], (10.0, False): [0.5094339622641509, 0.5283018867924528, 0.5142857142857142]}\n",
      "mean results: {(0.01, True): 0.7317160826594789, (0.01, False): 0.6938604372566637, (0.1, True): 0.7254267744833781, (0.1, False): 0.7254267744833781, (0.5, True): 0.6088649296196466, (0.5, False): 0.7064989517819705, (1.0, True): 0.5678346810422282, (1.0, False): 0.674932614555256, (2.0, True): 0.5551662174303683, (2.0, False): 0.6434261755016472, (5.0, True): 0.5489068583408206, (5.0, False): 0.5773584905660377, (10.0, True): 0.5142857142857142, (10.0, False): 0.517340521114106}\n",
      "best validation accuracy for K=3: 0.7317160826594789\n",
      "best functionwide validation accuracy: 0.7916666666666666\n",
      "\n",
      "Best naive_bayes Params for k=5: (0.01, True), Mean Validation Accuracy: 0.7254\n",
      "param_results: {(0.01, True): [0.703125, 0.796875, 0.746031746031746, 0.6984126984126984, 0.6825396825396826], (0.01, False): [0.6875, 0.8125, 0.746031746031746, 0.6825396825396826, 0.6507936507936508], (0.1, True): [0.6875, 0.75, 0.746031746031746, 0.7301587301587301, 0.6825396825396826], (0.1, False): [0.6875, 0.765625, 0.7777777777777778, 0.6666666666666666, 0.6825396825396826], (0.5, True): [0.609375, 0.625, 0.5873015873015873, 0.6825396825396826, 0.6190476190476191], (0.5, False): [0.6875, 0.734375, 0.746031746031746, 0.7142857142857143, 0.6666666666666666], (1.0, True): [0.546875, 0.5625, 0.5714285714285714, 0.6031746031746031, 0.5873015873015873], (1.0, False): [0.703125, 0.6875, 0.7142857142857143, 0.6825396825396826, 0.6507936507936508], (2.0, True): [0.5625, 0.5625, 0.5714285714285714, 0.5555555555555556, 0.5396825396825397], (2.0, False): [0.625, 0.65625, 0.6825396825396826, 0.6507936507936508, 0.6507936507936508], (5.0, True): [0.5625, 0.5, 0.5555555555555556, 0.5555555555555556, 0.5555555555555556], (5.0, False): [0.53125, 0.609375, 0.5555555555555556, 0.6031746031746031, 0.6031746031746031], (10.0, True): [0.484375, 0.46875, 0.5238095238095238, 0.5873015873015873, 0.5238095238095238], (10.0, False): [0.484375, 0.59375, 0.5396825396825397, 0.5555555555555556, 0.5238095238095238]}\n",
      "mean results: {(0.01, True): 0.7253968253968255, (0.01, False): 0.7158730158730159, (0.1, True): 0.7192460317460319, (0.1, False): 0.7160218253968254, (0.5, True): 0.6246527777777777, (0.5, False): 0.7097718253968254, (1.0, True): 0.5742559523809524, (1.0, False): 0.6876488095238096, (2.0, True): 0.5583333333333333, (2.0, False): 0.6530753968253968, (5.0, True): 0.5458333333333334, (5.0, False): 0.5805059523809524, (10.0, True): 0.517609126984127, (10.0, False): 0.5394345238095237}\n",
      "best validation accuracy for K=5: 0.7253968253968255\n",
      "best functionwide validation accuracy: 0.7916666666666666\n",
      "\n",
      "Best naive_bayes Params for k=10: (0.1, True), Mean Validation Accuracy: 0.7347\n",
      "param_results: {(0.01, True): [0.65625, 0.6875, 0.84375, 0.78125, 0.8125, 0.65625, 0.84375, 0.6451612903225806, 0.7419354838709677, 0.6451612903225806], (0.01, False): [0.625, 0.625, 0.84375, 0.8125, 0.8125, 0.59375, 0.84375, 0.6129032258064516, 0.7419354838709677, 0.5806451612903226], (0.1, True): [0.65625, 0.71875, 0.78125, 0.78125, 0.84375, 0.65625, 0.8125, 0.7096774193548387, 0.7741935483870968, 0.6129032258064516], (0.1, False): [0.625, 0.6875, 0.84375, 0.78125, 0.8125, 0.65625, 0.78125, 0.6129032258064516, 0.7741935483870968, 0.6129032258064516], (0.5, True): [0.53125, 0.625, 0.625, 0.65625, 0.65625, 0.5625, 0.6875, 0.6129032258064516, 0.7741935483870968, 0.5483870967741935], (0.5, False): [0.625, 0.75, 0.78125, 0.75, 0.84375, 0.59375, 0.8125, 0.7096774193548387, 0.7419354838709677, 0.6129032258064516], (1.0, True): [0.5, 0.53125, 0.59375, 0.5625, 0.65625, 0.53125, 0.65625, 0.5483870967741935, 0.7096774193548387, 0.5483870967741935], (1.0, False): [0.625, 0.6875, 0.65625, 0.78125, 0.8125, 0.59375, 0.8125, 0.6774193548387096, 0.7741935483870968, 0.5806451612903226], (2.0, True): [0.5, 0.5625, 0.5625, 0.53125, 0.59375, 0.5625, 0.59375, 0.5483870967741935, 0.6129032258064516, 0.4838709677419355], (2.0, False): [0.625, 0.625, 0.59375, 0.78125, 0.78125, 0.5625, 0.71875, 0.6451612903225806, 0.7741935483870968, 0.5483870967741935], (5.0, True): [0.46875, 0.5625, 0.53125, 0.5, 0.53125, 0.5625, 0.59375, 0.5806451612903226, 0.6129032258064516, 0.4838709677419355], (5.0, False): [0.5625, 0.5, 0.5625, 0.75, 0.65625, 0.53125, 0.6875, 0.6129032258064516, 0.6774193548387096, 0.5806451612903226], (10.0, True): [0.4375, 0.5, 0.5, 0.46875, 0.53125, 0.5625, 0.5625, 0.6129032258064516, 0.6129032258064516, 0.5161290322580645], (10.0, False): [0.4375, 0.53125, 0.5625, 0.65625, 0.5625, 0.5625, 0.59375, 0.5806451612903226, 0.5806451612903226, 0.5483870967741935]}\n",
      "mean results: {(0.01, True): 0.7313508064516129, (0.01, False): 0.7091733870967742, (0.1, True): 0.7346774193548388, (0.1, False): 0.7187500000000001, (0.5, True): 0.6279233870967742, (0.5, False): 0.7220766129032259, (1.0, True): 0.5837701612903226, (1.0, False): 0.700100806451613, (2.0, True): 0.5551411290322582, (2.0, False): 0.665524193548387, (5.0, True): 0.542741935483871, (5.0, False): 0.6120967741935485, (10.0, True): 0.5304435483870968, (10.0, False): 0.5615927419354838}\n",
      "best validation accuracy for K=10: 0.7346774193548388\n",
      "best functionwide validation accuracy: 0.7916666666666666\n",
      "\n",
      "Best naive_bayes Params for k=20: (0.1, True), Mean Validation Accuracy: 0.7248\n",
      "param_results: {(0.01, True): [0.6875, 0.75, 0.625, 0.6875, 0.875, 0.875, 0.625, 0.6875, 0.875, 0.6875, 0.75, 0.6875, 0.75, 0.75, 0.625, 0.8125, 0.9375, 0.6, 0.5333333333333333, 0.6666666666666666], (0.01, False): [0.5625, 0.75, 0.5625, 0.6875, 0.875, 0.875, 0.625, 0.6875, 0.875, 0.6875, 0.75, 0.6875, 0.75, 0.6875, 0.625, 0.8125, 0.9375, 0.6, 0.4, 0.6666666666666666], (0.1, True): [0.5625, 0.75, 0.6875, 0.6875, 0.875, 0.8125, 0.5625, 0.6875, 0.875, 0.6875, 0.75, 0.75, 0.75, 0.75, 0.625, 0.8125, 0.9375, 0.7333333333333333, 0.5333333333333333, 0.6666666666666666], (0.1, False): [0.625, 0.75, 0.625, 0.6875, 0.9375, 0.875, 0.625, 0.6875, 0.875, 0.6875, 0.75, 0.75, 0.6875, 0.75, 0.625, 0.8125, 0.9375, 0.6666666666666666, 0.4666666666666667, 0.6666666666666666], (0.5, True): [0.625, 0.625, 0.5625, 0.6875, 0.75, 0.625, 0.5, 0.5625, 0.6875, 0.5625, 0.625, 0.5625, 0.75, 0.625, 0.625, 0.625, 0.8125, 0.7333333333333333, 0.4666666666666667, 0.6], (0.5, False): [0.5625, 0.75, 0.6875, 0.75, 0.875, 0.6875, 0.5625, 0.6875, 0.875, 0.6875, 0.75, 0.75, 0.75, 0.75, 0.625, 0.8125, 0.8125, 0.7333333333333333, 0.4666666666666667, 0.6666666666666666], (1.0, True): [0.5, 0.5, 0.5625, 0.5625, 0.625, 0.5, 0.5, 0.5625, 0.6875, 0.5625, 0.5625, 0.5, 0.75, 0.5625, 0.5625, 0.625, 0.8125, 0.6666666666666666, 0.6, 0.5333333333333333], (1.0, False): [0.625, 0.75, 0.625, 0.75, 0.875, 0.625, 0.5625, 0.6875, 0.8125, 0.6875, 0.75, 0.6875, 0.75, 0.75, 0.625, 0.8125, 0.8125, 0.7333333333333333, 0.5333333333333333, 0.6666666666666666], (2.0, True): [0.5625, 0.4375, 0.5, 0.625, 0.625, 0.4375, 0.5, 0.5625, 0.625, 0.5625, 0.5625, 0.5, 0.625, 0.5625, 0.5, 0.5, 0.6875, 0.6, 0.5333333333333333, 0.5333333333333333], (2.0, False): [0.625, 0.6875, 0.5, 0.75, 0.75, 0.625, 0.625, 0.5625, 0.75, 0.625, 0.75, 0.625, 0.75, 0.6875, 0.625, 0.6875, 0.8125, 0.7333333333333333, 0.4, 0.6], (5.0, True): [0.5625, 0.4375, 0.5, 0.625, 0.5625, 0.5, 0.5, 0.5, 0.5625, 0.5625, 0.5625, 0.5, 0.625, 0.5625, 0.5, 0.5625, 0.6875, 0.6, 0.4666666666666667, 0.5333333333333333], (5.0, False): [0.625, 0.625, 0.5, 0.625, 0.625, 0.5625, 0.5625, 0.625, 0.6875, 0.625, 0.5625, 0.5625, 0.75, 0.625, 0.625, 0.6875, 0.75, 0.6, 0.4, 0.7333333333333333], (10.0, True): [0.625, 0.375, 0.375, 0.625, 0.5, 0.5, 0.4375, 0.5, 0.5625, 0.5, 0.5625, 0.5, 0.625, 0.5, 0.5, 0.625, 0.6875, 0.6, 0.4666666666666667, 0.5333333333333333], (10.0, False): [0.4375, 0.5, 0.5, 0.625, 0.625, 0.4375, 0.5625, 0.5625, 0.5625, 0.625, 0.5625, 0.375, 0.75, 0.5625, 0.6875, 0.5625, 0.5625, 0.5333333333333333, 0.4, 0.5333333333333333]}\n",
      "mean results: {(0.01, True): 0.724375, (0.01, False): 0.7052083333333333, (0.1, True): 0.7247916666666666, (0.1, False): 0.724375, (0.5, True): 0.630625, (0.5, False): 0.7120833333333333, (1.0, True): 0.5868749999999999, (1.0, False): 0.7060416666666666, (2.0, True): 0.5520833333333333, (2.0, False): 0.6585416666666666, (5.0, True): 0.545625, (5.0, False): 0.6179166666666667, (10.0, True): 0.53, (10.0, False): 0.5483333333333333}\n",
      "best validation accuracy for K=20: 0.7247916666666666\n",
      "best functionwide validation accuracy: 0.7916666666666666\n",
      "\n",
      "\n",
      "Best model found: \n",
      "Model=naive_bayes, \n",
      "Parameter values: (0.1, True), \n",
      "Validation Accuracy: 0.7917\n",
      "Final Test Accuracy: 0.7719\n",
      "Class '0' Accuracy: 0.8421\n",
      "Class '1' Accuracy: 0.7647\n",
      "Class '2' Accuracy: 0.6923\n",
      "Class '3' Accuracy: 0.7500\n"
     ]
    },
    {
     "data": {
      "image/png": "[encoded data removed]",
      "text/plain": [
       "<Figure size 800x600 with 2 Axes>"
      ]
     },
     "metadata": {},
     "output_type": "display_data"
    }
   ],
   "source": [
    "# Model with best validation accuracy:\n",
    "\n",
    "final_results = evaluate_model(df, \n",
    "                               test_ratio=0.15, \n",
    "                               k_values=[1, 2, 3, 5, 10, 20],\n",
    "                               embedding=\"tf-idf\", \n",
    "                               model_type=\"naive_bayes\",\n",
    "                               pos=\"none\", \n",
    "                               ngram_size=2,\n",
    "                               print_updates=True,\n",
    "                               show_class_accuracy=True, \n",
    "                               show_confusion_matrix=True,\n",
    "                               return_data=True)\n",
    "\n",
    "final_performance, final_nb, data_final_model = final_results[0], final_results[1], final_results[2]"
   ]
  },
  {
   "cell_type": "markdown",
   "id": "f1509cbb-6c44-4a91-9c45-89b8dece4111",
   "metadata": {},
   "source": [
    "# Small test on 2 articles"
   ]
  },
  {
   "cell_type": "markdown",
   "id": "f4e4b7df-c4f5-4e99-8d30-48697de67424",
   "metadata": {},
   "source": [
    "This section aims to test the obtained classifier for 2 articles. To achieve this, we first load the data"
   ]
  },
  {
   "cell_type": "code",
   "execution_count": 139,
   "id": "db744975-3d00-4fba-a286-af6522be0aca",
   "metadata": {},
   "outputs": [
    {
     "name": "stdout",
     "output_type": "stream",
     "text": [
      "Please ensure that only pdf files of articles are present in the subfolders of the specified directory\n",
      "1 article(s) detected in Bouw & Vastgoed folder\n",
      "0 article(s) detected in Handel & Industrie folder\n",
      "1 article(s) detected in Zakelijke Dienstverlening folder\n",
      "0 article(s) detected in Zorg folder\n"
     ]
    }
   ],
   "source": [
    "def extract_text_from_pdf(pdf_path):\n",
    "    document = fitz.open(pdf_path)\n",
    "    text = \"\"\n",
    "    for page_num in range(len(document)):\n",
    "        page = document.load_page(page_num)\n",
    "        text += page.get_text()\n",
    "    return text\n",
    "\n",
    "directory = 'small experiment for presentation'\n",
    "df_experiment = pd.DataFrame(columns=['article_id' , 'paragraph_id', 'text', 'group', 'publication_date'])\n",
    "\n",
    "print('Please ensure that only pdf files of articles are present in the subfolders of the specified directory')\n",
    "article_nr = 1\n",
    "for folder in os.listdir(directory):\n",
    "    folder_size = len(os.listdir(directory + \"\\\\\" + folder))\n",
    "    print(f'{folder_size} article(s) detected in {folder} folder')\n",
    "    \n",
    "    for article in os.listdir(directory + '\\\\' + folder):\n",
    "        text = extract_text_from_pdf(directory + '\\\\' + folder + '\\\\' + article)\n",
    "        date = article.split(' ')[-1].split('.')[0] #Remove the article number and \".pdf\" to obtain the publication date\n",
    "        \n",
    "        paragraphs = [para.strip() for para in text.split(\"\\n \\n\") if para.strip()]\n",
    "        para_nr = 1\n",
    "        for para in paragraphs:\n",
    "            df_temp = pd.DataFrame([[article_nr, para_nr, para, folder, date]], \n",
    "                                   columns=['article_id' , 'paragraph_id', 'text', 'group', 'publication_date'])\n",
    "            df_experiment = pd.concat([df_experiment, df_temp])\n",
    "            para_nr += 1\n",
    "        article_nr += 1\n",
    "        \n",
    "df_experiment.set_index(['article_id' , 'paragraph_id'], inplace=True)\n",
    "df_experiment['publication_date'] = pd.to_datetime(df_experiment['publication_date'], format='%d-%m-%Y')"
   ]
  },
  {
   "cell_type": "code",
   "execution_count": 140,
   "id": "3667ff88-4d09-49bf-80f2-8f5c40293147",
   "metadata": {},
   "outputs": [
    {
     "data": {
      "text/html": [
       "<div>\n",
       "<style scoped>\n",
       "    .dataframe tbody tr th:only-of-type {\n",
       "        vertical-align: middle;\n",
       "    }\n",
       "\n",
       "    .dataframe tbody tr th {\n",
       "        vertical-align: top;\n",
       "    }\n",
       "\n",
       "    .dataframe thead th {\n",
       "        text-align: right;\n",
       "    }\n",
       "</style>\n",
       "<table border=\"1\" class=\"dataframe\">\n",
       "  <thead>\n",
       "    <tr style=\"text-align: right;\">\n",
       "      <th></th>\n",
       "      <th></th>\n",
       "      <th>text</th>\n",
       "      <th>group</th>\n",
       "      <th>publication_date</th>\n",
       "    </tr>\n",
       "    <tr>\n",
       "      <th>article_id</th>\n",
       "      <th>paragraph_id</th>\n",
       "      <th></th>\n",
       "      <th></th>\n",
       "      <th></th>\n",
       "    </tr>\n",
       "  </thead>\n",
       "  <tbody>\n",
       "    <tr>\n",
       "      <th rowspan=\"4\" valign=\"top\">1</th>\n",
       "      <th>1</th>\n",
       "      <td>Huizen 12% duurder in november, grootste stijg...</td>\n",
       "      <td>Bouw &amp; Vastgoed</td>\n",
       "      <td>2024-12-23</td>\n",
       "    </tr>\n",
       "    <tr>\n",
       "      <th>2</th>\n",
       "      <td>Na jarenlange dalingen van de huizenprijzen be...</td>\n",
       "      <td>Bouw &amp; Vastgoed</td>\n",
       "      <td>2024-12-23</td>\n",
       "    </tr>\n",
       "    <tr>\n",
       "      <th>3</th>\n",
       "      <td>In november wisselden 17.973 woningen van eige...</td>\n",
       "      <td>Bouw &amp; Vastgoed</td>\n",
       "      <td>2024-12-23</td>\n",
       "    </tr>\n",
       "    <tr>\n",
       "      <th>4</th>\n",
       "      <td>Gecorrigeerd voor inflatie zijn de huizenprijz...</td>\n",
       "      <td>Bouw &amp; Vastgoed</td>\n",
       "      <td>2024-12-23</td>\n",
       "    </tr>\n",
       "    <tr>\n",
       "      <th rowspan=\"3\" valign=\"top\">2</th>\n",
       "      <th>1</th>\n",
       "      <td>Accountants Deloitte overtraden beroepsregels ...</td>\n",
       "      <td>Zakelijke Dienstverlening</td>\n",
       "      <td>2025-01-06</td>\n",
       "    </tr>\n",
       "    <tr>\n",
       "      <th>2</th>\n",
       "      <td>‘Passende maatregelen’ \\n‘Ons interne onderzoe...</td>\n",
       "      <td>Zakelijke Dienstverlening</td>\n",
       "      <td>2025-01-06</td>\n",
       "    </tr>\n",
       "    <tr>\n",
       "      <th>3</th>\n",
       "      <td>Scholen vinden lastig een accountant \\nDe onde...</td>\n",
       "      <td>Zakelijke Dienstverlening</td>\n",
       "      <td>2025-01-06</td>\n",
       "    </tr>\n",
       "  </tbody>\n",
       "</table>\n",
       "</div>"
      ],
      "text/plain": [
       "                                                                      text  \\\n",
       "article_id paragraph_id                                                      \n",
       "1          1             Huizen 12% duurder in november, grootste stijg...   \n",
       "           2             Na jarenlange dalingen van de huizenprijzen be...   \n",
       "           3             In november wisselden 17.973 woningen van eige...   \n",
       "           4             Gecorrigeerd voor inflatie zijn de huizenprijz...   \n",
       "2          1             Accountants Deloitte overtraden beroepsregels ...   \n",
       "           2             ‘Passende maatregelen’ \\n‘Ons interne onderzoe...   \n",
       "           3             Scholen vinden lastig een accountant \\nDe onde...   \n",
       "\n",
       "                                             group publication_date  \n",
       "article_id paragraph_id                                              \n",
       "1          1                       Bouw & Vastgoed       2024-12-23  \n",
       "           2                       Bouw & Vastgoed       2024-12-23  \n",
       "           3                       Bouw & Vastgoed       2024-12-23  \n",
       "           4                       Bouw & Vastgoed       2024-12-23  \n",
       "2          1             Zakelijke Dienstverlening       2025-01-06  \n",
       "           2             Zakelijke Dienstverlening       2025-01-06  \n",
       "           3             Zakelijke Dienstverlening       2025-01-06  "
      ]
     },
     "execution_count": 140,
     "metadata": {},
     "output_type": "execute_result"
    }
   ],
   "source": [
    "df_experiment"
   ]
  },
  {
   "cell_type": "code",
   "execution_count": 141,
   "id": "57574524-fe00-40e4-bd0a-cac9155457bc",
   "metadata": {},
   "outputs": [],
   "source": [
    "# Load the 'nl_core_news_sm' model\n",
    "nlp = spacy.load('nl_core_news_sm')\n",
    "\n",
    "# Add [NEWLINE] as a single token so that it is not split into 3 seperate tokens\n",
    "special_cases = {\"[NEWLINE]\": [{\"ORTH\": \"[NEWLINE]\"}]}\n",
    "nlp.tokenizer.add_special_case(\"[NEWLINE]\", [{\"ORTH\": \"[NEWLINE]\"}])\n",
    "\n",
    "df_experiment_clean = df_experiment.copy()\n",
    "df_experiment_clean['original_text'] = df_experiment_clean['text'].copy()\n",
    "df_experiment_clean = df_experiment_clean[['original_text', 'text', 'group']]"
   ]
  },
  {
   "cell_type": "code",
   "execution_count": 142,
   "id": "c32b23e3-013b-41af-9491-87f016a760b9",
   "metadata": {},
   "outputs": [],
   "source": [
    "def case_normalization(text):\n",
    "    \"\"\"Returns string of input containing only lowercase letters apart from [NEWLINE], which replaces \\n\"\"\"\n",
    "    text = text.lower()\n",
    "    text = text.replace('\\n', ' [NEWLINE] ')\n",
    "    while text != text.replace('  ', ' '):\n",
    "        text = text.replace('  ', ' ')\n",
    "    return text\n",
    "\n",
    "df_experiment_clean['text'] = df_experiment_clean['text'].apply(case_normalization)"
   ]
  },
  {
   "cell_type": "code",
   "execution_count": 143,
   "id": "3ab99f3c-7e25-449b-865c-b2761c1952f9",
   "metadata": {},
   "outputs": [],
   "source": [
    "def remove_punctuation(text):\n",
    "    \"\"\"Returns the input text with all punctuation removed\"\"\"\n",
    "    \n",
    "    text = text.translate(text.maketrans(\"\", \"\", string.punctuation))\n",
    "    text = text.replace(\"NEWLINE\", \"[NEWLINE]\")\n",
    "    return text\n",
    "\n",
    "df_experiment_clean['text'] = df_experiment_clean['text'].apply(remove_punctuation)"
   ]
  },
  {
   "cell_type": "code",
   "execution_count": 144,
   "id": "e2abb0bc-3f3f-4035-a94d-1553ae1159a9",
   "metadata": {},
   "outputs": [],
   "source": [
    "def remove_stopwords(text):\n",
    "    \"\"\"Returns string of input text with stopwords removed\"\"\"\n",
    "    \n",
    "    doc = nlp(text)\n",
    "    filtered_words = [token.text for token in doc if not token.is_stop]\n",
    "    text = \" \".join(filtered_words)\n",
    "    return text\n",
    "    \n",
    "    \n",
    "# nlp = spacy.load(\"nl_core_news_sm\")\n",
    "df_experiment_clean['text'] = df_experiment_clean['text'].apply(remove_stopwords)"
   ]
  },
  {
   "cell_type": "code",
   "execution_count": 145,
   "id": "5f233960-d718-445f-8458-5fcf6fad811d",
   "metadata": {},
   "outputs": [],
   "source": [
    "def lemmatization(df, text_column=\"text\", output_column=\"text\"):\n",
    "    \"\"\"Lemmatizes the text in a specified column of a DataFrame and adds the results to a new column.\"\"\"\n",
    "    \n",
    "    # Ensure the input column exists in the DataFrame\n",
    "    if text_column not in df.columns:\n",
    "        raise ValueError(f\"Column '{text_column}' does not exist in the DataFrame.\")\n",
    "        \n",
    "    # Apply SpaCy processing and lemmatization\n",
    "    df[output_column] = df[text_column].apply(\n",
    "        lambda text: \" \".join([token.lemma_ for token in nlp(text) if not token.is_punct and not token.is_space]))\n",
    "    \n",
    "    return df\n",
    "\n",
    "df_experiment_clean['text before lemmatization'] = df_experiment_clean['text'].copy()\n",
    "df_experiment_clean = lemmatization(df_experiment_clean, text_column=\"text\")"
   ]
  },
  {
   "cell_type": "code",
   "execution_count": 146,
   "id": "2463024d-b119-4d23-b838-bd823614efb5",
   "metadata": {},
   "outputs": [],
   "source": [
    "def POS_tagging(text):\n",
    "    \"\"\"Returns a list of (token, POS tag) tuples for the input text\"\"\"\n",
    "    doc = nlp(text)\n",
    "    pos_tags = [(token.text, token.pos_) for token in doc]\n",
    "    return pos_tags\n",
    "\n",
    "df_experiment_clean['pos_tags'] = df_experiment_clean['text'].apply(POS_tagging)"
   ]
  },
  {
   "cell_type": "code",
   "execution_count": 147,
   "id": "53961193-226e-4960-b8e7-afd6b8f5e886",
   "metadata": {},
   "outputs": [
    {
     "data": {
      "text/html": [
       "<div>\n",
       "<style scoped>\n",
       "    .dataframe tbody tr th:only-of-type {\n",
       "        vertical-align: middle;\n",
       "    }\n",
       "\n",
       "    .dataframe tbody tr th {\n",
       "        vertical-align: top;\n",
       "    }\n",
       "\n",
       "    .dataframe thead th {\n",
       "        text-align: right;\n",
       "    }\n",
       "</style>\n",
       "<table border=\"1\" class=\"dataframe\">\n",
       "  <thead>\n",
       "    <tr style=\"text-align: right;\">\n",
       "      <th></th>\n",
       "      <th></th>\n",
       "      <th>original_text</th>\n",
       "      <th>text</th>\n",
       "      <th>group</th>\n",
       "      <th>text before lemmatization</th>\n",
       "      <th>pos_tags</th>\n",
       "    </tr>\n",
       "    <tr>\n",
       "      <th>article_id</th>\n",
       "      <th>paragraph_id</th>\n",
       "      <th></th>\n",
       "      <th></th>\n",
       "      <th></th>\n",
       "      <th></th>\n",
       "      <th></th>\n",
       "    </tr>\n",
       "  </thead>\n",
       "  <tbody>\n",
       "    <tr>\n",
       "      <th rowspan=\"4\" valign=\"top\">1</th>\n",
       "      <th>1</th>\n",
       "      <td>Huizen 12% duurder in november, grootste stijg...</td>\n",
       "      <td>huis 12 duur november groot stijging ruim twee...</td>\n",
       "      <td>Bouw &amp; Vastgoed</td>\n",
       "      <td>huizen 12 duurder november grootste stijging r...</td>\n",
       "      <td>[(huis, NOUN), (12, NUM), (duur, NOUN), (novem...</td>\n",
       "    </tr>\n",
       "    <tr>\n",
       "      <th>2</th>\n",
       "      <td>Na jarenlange dalingen van de huizenprijzen be...</td>\n",
       "      <td>jarenlange daling huizenprijzen beginnen 2013 ...</td>\n",
       "      <td>Bouw &amp; Vastgoed</td>\n",
       "      <td>jarenlange dalingen huizenprijzen begonnen 201...</td>\n",
       "      <td>[(jarenlange, ADJ), (daling, NOUN), (huizenpri...</td>\n",
       "    </tr>\n",
       "    <tr>\n",
       "      <th>3</th>\n",
       "      <td>In november wisselden 17.973 woningen van eige...</td>\n",
       "      <td>november wisselden 17973 woning eigenaar 18 tr...</td>\n",
       "      <td>Bouw &amp; Vastgoed</td>\n",
       "      <td>november wisselden 17973 woningen eigenaar 18 ...</td>\n",
       "      <td>[(november, PROPN), (wisselden, VERB), (17973,...</td>\n",
       "    </tr>\n",
       "    <tr>\n",
       "      <th>4</th>\n",
       "      <td>Gecorrigeerd voor inflatie zijn de huizenprijz...</td>\n",
       "      <td>corrigeren inflatie huizenprijzen Nederland 20...</td>\n",
       "      <td>Bouw &amp; Vastgoed</td>\n",
       "      <td>gecorrigeerd inflatie huizenprijzen nederland ...</td>\n",
       "      <td>[(corrigeren, ADJ), (inflatie, NOUN), (huizenp...</td>\n",
       "    </tr>\n",
       "    <tr>\n",
       "      <th rowspan=\"3\" valign=\"top\">2</th>\n",
       "      <th>1</th>\n",
       "      <td>Accountants Deloitte overtraden beroepsregels ...</td>\n",
       "      <td>accountant deloiten overtraen beroepsregel ond...</td>\n",
       "      <td>Zakelijke Dienstverlening</td>\n",
       "      <td>accountants deloitte overtraden beroepsregels ...</td>\n",
       "      <td>[(accountant, NOUN), (deloiten, VERB), (overtr...</td>\n",
       "    </tr>\n",
       "    <tr>\n",
       "      <th>2</th>\n",
       "      <td>‘Passende maatregelen’ \\n‘Ons interne onderzoe...</td>\n",
       "      <td>passen maatregel [NEWLINE] intern onderzoek af...</td>\n",
       "      <td>Zakelijke Dienstverlening</td>\n",
       "      <td>‘ passende maatregelen ’ [NEWLINE] ‘ interne o...</td>\n",
       "      <td>[(passen, VERB), (maatregel, NOUN), ([NEWLINE]...</td>\n",
       "    </tr>\n",
       "    <tr>\n",
       "      <th>3</th>\n",
       "      <td>Scholen vinden lastig een accountant \\nDe onde...</td>\n",
       "      <td>school vinden lastig accountant [NEWLINE] onde...</td>\n",
       "      <td>Zakelijke Dienstverlening</td>\n",
       "      <td>scholen vinden lastig accountant [NEWLINE] ond...</td>\n",
       "      <td>[(school, NOUN), (vinden, VERB), (lastig, ADJ)...</td>\n",
       "    </tr>\n",
       "  </tbody>\n",
       "</table>\n",
       "</div>"
      ],
      "text/plain": [
       "                                                             original_text  \\\n",
       "article_id paragraph_id                                                      \n",
       "1          1             Huizen 12% duurder in november, grootste stijg...   \n",
       "           2             Na jarenlange dalingen van de huizenprijzen be...   \n",
       "           3             In november wisselden 17.973 woningen van eige...   \n",
       "           4             Gecorrigeerd voor inflatie zijn de huizenprijz...   \n",
       "2          1             Accountants Deloitte overtraden beroepsregels ...   \n",
       "           2             ‘Passende maatregelen’ \\n‘Ons interne onderzoe...   \n",
       "           3             Scholen vinden lastig een accountant \\nDe onde...   \n",
       "\n",
       "                                                                      text  \\\n",
       "article_id paragraph_id                                                      \n",
       "1          1             huis 12 duur november groot stijging ruim twee...   \n",
       "           2             jarenlange daling huizenprijzen beginnen 2013 ...   \n",
       "           3             november wisselden 17973 woning eigenaar 18 tr...   \n",
       "           4             corrigeren inflatie huizenprijzen Nederland 20...   \n",
       "2          1             accountant deloiten overtraen beroepsregel ond...   \n",
       "           2             passen maatregel [NEWLINE] intern onderzoek af...   \n",
       "           3             school vinden lastig accountant [NEWLINE] onde...   \n",
       "\n",
       "                                             group  \\\n",
       "article_id paragraph_id                              \n",
       "1          1                       Bouw & Vastgoed   \n",
       "           2                       Bouw & Vastgoed   \n",
       "           3                       Bouw & Vastgoed   \n",
       "           4                       Bouw & Vastgoed   \n",
       "2          1             Zakelijke Dienstverlening   \n",
       "           2             Zakelijke Dienstverlening   \n",
       "           3             Zakelijke Dienstverlening   \n",
       "\n",
       "                                                 text before lemmatization  \\\n",
       "article_id paragraph_id                                                      \n",
       "1          1             huizen 12 duurder november grootste stijging r...   \n",
       "           2             jarenlange dalingen huizenprijzen begonnen 201...   \n",
       "           3             november wisselden 17973 woningen eigenaar 18 ...   \n",
       "           4             gecorrigeerd inflatie huizenprijzen nederland ...   \n",
       "2          1             accountants deloitte overtraden beroepsregels ...   \n",
       "           2             ‘ passende maatregelen ’ [NEWLINE] ‘ interne o...   \n",
       "           3             scholen vinden lastig accountant [NEWLINE] ond...   \n",
       "\n",
       "                                                                  pos_tags  \n",
       "article_id paragraph_id                                                     \n",
       "1          1             [(huis, NOUN), (12, NUM), (duur, NOUN), (novem...  \n",
       "           2             [(jarenlange, ADJ), (daling, NOUN), (huizenpri...  \n",
       "           3             [(november, PROPN), (wisselden, VERB), (17973,...  \n",
       "           4             [(corrigeren, ADJ), (inflatie, NOUN), (huizenp...  \n",
       "2          1             [(accountant, NOUN), (deloiten, VERB), (overtr...  \n",
       "           2             [(passen, VERB), (maatregel, NOUN), ([NEWLINE]...  \n",
       "           3             [(school, NOUN), (vinden, VERB), (lastig, ADJ)...  "
      ]
     },
     "execution_count": 147,
     "metadata": {},
     "output_type": "execute_result"
    }
   ],
   "source": [
    "df_experiment_clean"
   ]
  },
  {
   "cell_type": "code",
   "execution_count": 148,
   "id": "fb19045b-0e78-4793-a8fb-bd32a1507078",
   "metadata": {},
   "outputs": [
    {
     "data": {
      "text/plain": [
       "0.42857142857142855"
      ]
     },
     "execution_count": 148,
     "metadata": {},
     "output_type": "execute_result"
    }
   ],
   "source": [
    "# Now we feed the data to the best model we found\n",
    "\n",
    "df[\"label\"] = df[\"group\"].astype(\"category\").cat.codes \n",
    "df_experiment_clean[\"label\"] = df_experiment_clean[\"group\"].astype(\"category\").cat.codes \n",
    "df_train, df_test = train_test_split(df, test_size=0.15, stratify=df[\"label\"], random_state=42)\n",
    "\n",
    "# Though we do not need to retrain the model, we do need to fit_transform it using tf-idf so that we can transform X_test the same way.\n",
    "vectorizer = TfidfVectorizer(max_features=10_000)\n",
    "X_train = vectorizer.fit_transform(df_train[\"text\"])\n",
    "X_test = vectorizer.transform(df_experiment_clean[\"text\"])\n",
    "y_test = df_experiment_clean[\"label\"]\n",
    "\n",
    "y_pred = final_nb.predict(X_test)\n",
    "test_accuracy = accuracy_score(y_test, final_nb.predict(X_test))\n",
    "test_accuracy"
   ]
  },
  {
   "cell_type": "code",
   "execution_count": 149,
   "id": "60a42a5b-f3e4-4bdc-95ba-bd7e3cd06c36",
   "metadata": {},
   "outputs": [
    {
     "data": {
      "text/plain": [
       "array([0, 0, 0, 1, 2, 2, 2], dtype=int8)"
      ]
     },
     "execution_count": 149,
     "metadata": {},
     "output_type": "execute_result"
    }
   ],
   "source": [
    "y_pred"
   ]
  },
  {
   "cell_type": "markdown",
   "id": "85397399-e70f-41e2-8a37-c5e2da874354",
   "metadata": {},
   "source": [
    "We can see that the classifier performs quite well for the first article (75% accurate). For the 2nd article however, all paragraphs have been classified incorrectly."
   ]
  },
  {
   "cell_type": "markdown",
   "id": "7b0fcedc-507d-49cb-adec-1955dd2ed15d",
   "metadata": {},
   "source": [
    "# Adding class 5 (uncertain class) to the classifier"
   ]
  },
  {
   "cell_type": "markdown",
   "id": "9dcc9559-ee61-48be-b3f4-34c30a168327",
   "metadata": {},
   "source": [
    "Firstly, we start by visualizing the following 2 aspects of our resulting classifier: <br>\n",
    "> - The maximum predicted probability amongs the 4 classes for each individual instance\n",
    "> - The difference in predicted probability between the most and second most likely class for each individual instance."
   ]
  },
  {
   "cell_type": "code",
   "execution_count": 150,
   "id": "f2fa63c4-3116-42d3-acac-528fca5fe918",
   "metadata": {},
   "outputs": [],
   "source": [
    "X_train_final_model, y_train_final_model = data_final_model[0][0], data_final_model[0][1]\n",
    "X_val_final_model, y_val_final_model = data_final_model[1][0], data_final_model[1][1]\n",
    "X_test_final_model, y_test_final_model = data_final_model[2][0], data_final_model[2][1]\n",
    "\n",
    "y_pred_test = final_nb.predict(X_test_final_model)\n",
    "y_pred_test_proba = final_nb.predict_proba(X_test_final_model)\n",
    "y_pred_test_proba_max = [max(probs) for probs in y_pred_test_proba]\n",
    "y_pred_test_proba_diff = [sorted(probs, reverse=True)[0] - sorted(probs, reverse=True)[1] for probs in y_pred_test_proba]"
   ]
  },
  {
   "cell_type": "code",
   "execution_count": 151,
   "id": "ad07796f-0490-4bd4-a119-aeeaa6e6d548",
   "metadata": {},
   "outputs": [
    {
     "data": {
      "image/png": "[encoded data removed]",
      "text/plain": [
       "<Figure size 1200x500 with 2 Axes>"
      ]
     },
     "metadata": {},
     "output_type": "display_data"
    }
   ],
   "source": [
    "fig, axes = plt.subplots(1, 2, figsize=(12, 5))  # 1 row, 2 columns\n",
    "\n",
    "# First histogram (Max Probability)\n",
    "axes[0].hist(y_pred_test_proba_max, bins=20, edgecolor='black', alpha=0.7)\n",
    "axes[0].set_xlabel('Max Probability')\n",
    "axes[0].set_ylabel('Frequency')\n",
    "axes[0].set_title('Distribution of Max Probabilities')\n",
    "\n",
    "# Second histogram (Difference between Top 2 Probabilities)\n",
    "axes[1].hist(y_pred_test_proba_diff, bins=20, edgecolor='black', alpha=0.7)\n",
    "axes[1].set_xlabel('Probability Difference')\n",
    "axes[1].set_ylabel('Frequency')\n",
    "axes[1].set_title('Distribution of Probability Differences')\n",
    "\n",
    "# Adjust layout\n",
    "plt.tight_layout()\n",
    "plt.show()"
   ]
  },
  {
   "cell_type": "markdown",
   "id": "edde9631-c9f1-47eb-8b82-916a5a105d9e",
   "metadata": {},
   "source": [
    "Now we add the functionality to predict the 5th class, the uncentain class"
   ]
  },
  {
   "cell_type": "code",
   "execution_count": 152,
   "id": "de909a14-8ea1-4101-bd5f-9db0b28d5176",
   "metadata": {},
   "outputs": [],
   "source": [
    "def predict_including_unknown(classifier, X, threshold=0.5, margin=0.2):\n",
    "    \"\"\"\n",
    "    Predicts class labels for X, with an additional 'Unknown' class if:\n",
    "    1. No class probability exceeds the threshold.\n",
    "    2. The highest probability is not at least (1 + margin) times the second highest.\n",
    "    \n",
    "    :param classifier: A trained Naïve Bayes classifier with predict_proba().\n",
    "    :param X: Input features.\n",
    "    :param threshold: Minimum probability a class must exceed.\n",
    "    :param margin: Minimum percentage difference between the top 2 classes.\n",
    "    :return: Array of predicted labels, with 'Unknown' for uncertain predictions.\n",
    "    \"\"\"\n",
    "    probas = classifier.predict_proba(X)  # Get probability estimates\n",
    "    classes = classifier.classes_  # Get class labels\n",
    "    predictions = []\n",
    "\n",
    "    for probs in probas:\n",
    "        max_prob = np.max(probs)\n",
    "        sorted_probs = np.sort(probs)[::-1]  # Sort in descending order\n",
    "        second_max_prob = sorted_probs[1] if len(sorted_probs) > 1 else 0\n",
    "\n",
    "        # Check for uncertainty conditions\n",
    "        if max_prob < threshold or max_prob < (1 + margin) * second_max_prob:\n",
    "            predictions.append(5)\n",
    "        else:\n",
    "            predictions.append(classes[np.argmax(probs)])\n",
    "\n",
    "    return np.array(predictions)"
   ]
  },
  {
   "cell_type": "code",
   "execution_count": 153,
   "id": "4c706bd8-f925-4a63-9ae6-e68f848a97fd",
   "metadata": {},
   "outputs": [],
   "source": [
    "def filtered_accuracy(classifier, X_test, y_test, threshold=0.4, margin=0.2):\n",
    "    \"\"\"\n",
    "    Computes accuracy on instances where a reliable prediction is made.\n",
    "\n",
    "    :param classifier: A trained Naïve Bayes classifier with predict_proba().\n",
    "    :param X_test: Test feature matrix.\n",
    "    :param y_test: True labels for X_test.\n",
    "    :param threshold: Minimum probability a class must exceed.\n",
    "    :param margin: Minimum percentage difference between the top 2 classes.\n",
    "    :return: Accuracy computed only on reliable predictions.\n",
    "    \"\"\"\n",
    "    y_pred = predict_including_unknown(classifier, X_test, threshold, margin)\n",
    "    \n",
    "    # Filter out \"Unknown\" predictions\n",
    "    mask = y_pred != 5\n",
    "    filtered_y_pred = y_pred[mask]\n",
    "    filtered_y_test = y_test[mask]\n",
    "    \n",
    "    # Compute accuracy only on valid predictions\n",
    "    if len(filtered_y_test) == 0:\n",
    "        return None  # Avoid division by zero, no reliable predictions made\n",
    "\n",
    "    accuracy = np.mean(filtered_y_pred == filtered_y_test)\n",
    "    return accuracy"
   ]
  },
  {
   "cell_type": "code",
   "execution_count": 154,
   "id": "5e154f79-2249-42d8-8e47-fd48314bf8d4",
   "metadata": {},
   "outputs": [
    {
     "name": "stdout",
     "output_type": "stream",
     "text": [
      "Threshold=0.2, Margin=0.1: 1.75% unknown & 76.79% accurate\n",
      "Threshold=0.2, Margin=0.15: 3.51% unknown & 76.36% accurate\n",
      "Threshold=0.2, Margin=0.2: 3.51% unknown & 76.36% accurate\n",
      "Threshold=0.3, Margin=0.1: 1.75% unknown & 76.79% accurate\n",
      "Threshold=0.3, Margin=0.15: 3.51% unknown & 76.36% accurate\n",
      "Threshold=0.3, Margin=0.2: 3.51% unknown & 76.36% accurate\n",
      "Threshold=0.4, Margin=0.1: 7.02% unknown & 75.47% accurate\n",
      "Threshold=0.4, Margin=0.15: 7.02% unknown & 75.47% accurate\n",
      "Threshold=0.4, Margin=0.2: 7.02% unknown & 75.47% accurate\n"
     ]
    }
   ],
   "source": [
    "thresholds = [0.2, 0.3, 0.4]\n",
    "margins = [0.1, 0.15, 0.2]\n",
    "\n",
    "for threshold in thresholds:\n",
    "    for margin in margins:\n",
    "        y_pred_incl_unknown = predict_including_unknown(final_nb, X_test_final_model, threshold=threshold, margin=margin)\n",
    "        unknown_count = sum(1 for x in y_pred_incl_unknown if x == 5)\n",
    "        unknown_rate = unknown_count / len(y_pred_incl_unknown)\n",
    "        accuracy = filtered_accuracy(final_nb, X_test_final_model, y_test_final_model, threshold=threshold, margin=margin)\n",
    "        print(f\"Threshold={threshold}, Margin={margin}: {unknown_rate * 100:.2f}% unknown & {accuracy * 100:.2f}% accurate\")"
   ]
  },
  {
   "cell_type": "markdown",
   "id": "d90be20d-e80a-4123-8faa-4f5b1a847181",
   "metadata": {},
   "source": [
    "# Testing for duplicate data"
   ]
  },
  {
   "cell_type": "code",
   "execution_count": 155,
   "id": "70e9f8f8-d18b-42d3-b44f-b0dad057d9dc",
   "metadata": {},
   "outputs": [
    {
     "name": "stdout",
     "output_type": "stream",
     "text": [
      "    article_1  article_2  similarity\n",
      "0           7         39    1.000000\n",
      "1          13        107    1.000000\n",
      "2          19         53    1.000000\n",
      "3          19         90    1.000000\n",
      "4          19        109    1.000000\n",
      "5          24         62    0.996245\n",
      "6          24         99    0.995303\n",
      "7          24        117    0.995303\n",
      "8          25         72    0.999984\n",
      "9          33        103    0.991317\n",
      "10         44         81    1.000000\n",
      "11         47         85    1.000000\n",
      "12         51         89    0.998005\n",
      "13         53         90    1.000000\n",
      "14         53        109    1.000000\n",
      "15         54         94    1.000000\n",
      "16         62         99    0.999947\n",
      "17         62        117    0.999947\n",
      "18         90        109    1.000000\n",
      "19         99        117    1.000000\n"
     ]
    }
   ],
   "source": [
    "article_texts = df.groupby(\"article_id\")[\"text\"].apply(lambda x: \" \".join(x)).reset_index()\n",
    "from sklearn.feature_extraction.text import TfidfVectorizer\n",
    "from sklearn.metrics.pairwise import cosine_similarity\n",
    "\n",
    "# Convert article texts into a TF-IDF matrix\n",
    "vectorizer = TfidfVectorizer()\n",
    "tfidf_matrix = vectorizer.fit_transform(article_texts[\"text\"])\n",
    "\n",
    "# Compute cosine similarity\n",
    "cosine_sim = cosine_similarity(tfidf_matrix)\n",
    "\n",
    "# Convert to DataFrame for better readability\n",
    "cosine_df = pd.DataFrame(cosine_sim, index=article_texts[\"article_id\"], columns=article_texts[\"article_id\"])\n",
    "\n",
    "# Find pairs with similarity > 0.99 (excluding self-similarity)\n",
    "similar_articles = []\n",
    "threshold = 0.99\n",
    "\n",
    "for i, id1 in enumerate(article_texts[\"article_id\"]):\n",
    "    for j, id2 in enumerate(article_texts[\"article_id\"]):\n",
    "        if i < j and cosine_df.loc[id1, id2] > threshold:\n",
    "            similar_articles.append((id1, id2, cosine_df.loc[id1, id2]))\n",
    "\n",
    "# Display results\n",
    "similar_articles_df = pd.DataFrame(similar_articles, columns=[\"article_1\", \"article_2\", \"similarity\"])\n",
    "print(similar_articles_df)"
   ]
  },
  {
   "cell_type": "code",
   "execution_count": 163,
   "id": "8b1ca7b1-4e1e-4ec7-b9d9-5eb45482449c",
   "metadata": {},
   "outputs": [
    {
     "data": {
      "text/html": [
       "<div>\n",
       "<style scoped>\n",
       "    .dataframe tbody tr th:only-of-type {\n",
       "        vertical-align: middle;\n",
       "    }\n",
       "\n",
       "    .dataframe tbody tr th {\n",
       "        vertical-align: top;\n",
       "    }\n",
       "\n",
       "    .dataframe thead th {\n",
       "        text-align: right;\n",
       "    }\n",
       "</style>\n",
       "<table border=\"1\" class=\"dataframe\">\n",
       "  <thead>\n",
       "    <tr style=\"text-align: right;\">\n",
       "      <th></th>\n",
       "      <th>article_1</th>\n",
       "      <th>article_2</th>\n",
       "      <th>file_path_1</th>\n",
       "      <th>file_path_2</th>\n",
       "      <th>similarity</th>\n",
       "    </tr>\n",
       "  </thead>\n",
       "  <tbody>\n",
       "    <tr>\n",
       "      <th>0</th>\n",
       "      <td>7</td>\n",
       "      <td>39</td>\n",
       "      <td>data\\Bouw &amp; Vastgoed\\15, 29-10-2024.pdf</td>\n",
       "      <td>data\\Handel &amp; Industrie\\20, 29-10-2024.pdf</td>\n",
       "      <td>1.000000</td>\n",
       "    </tr>\n",
       "    <tr>\n",
       "      <th>1</th>\n",
       "      <td>13</td>\n",
       "      <td>107</td>\n",
       "      <td>data\\Bouw &amp; Vastgoed\\20, 19-11-2024.pdf</td>\n",
       "      <td>data\\Zorg\\15, 19-11-2024.pdf</td>\n",
       "      <td>1.000000</td>\n",
       "    </tr>\n",
       "    <tr>\n",
       "      <th>2</th>\n",
       "      <td>19</td>\n",
       "      <td>53</td>\n",
       "      <td>data\\Bouw &amp; Vastgoed\\26, 04-12-2024.pdf</td>\n",
       "      <td>data\\Handel &amp; Industrie\\33, 04-12-2024.pdf</td>\n",
       "      <td>1.000000</td>\n",
       "    </tr>\n",
       "    <tr>\n",
       "      <th>3</th>\n",
       "      <td>19</td>\n",
       "      <td>90</td>\n",
       "      <td>data\\Bouw &amp; Vastgoed\\26, 04-12-2024.pdf</td>\n",
       "      <td>data\\Zakelijke Dienstverlening\\33, 04-12-2024.pdf</td>\n",
       "      <td>1.000000</td>\n",
       "    </tr>\n",
       "    <tr>\n",
       "      <th>4</th>\n",
       "      <td>19</td>\n",
       "      <td>109</td>\n",
       "      <td>data\\Bouw &amp; Vastgoed\\26, 04-12-2024.pdf</td>\n",
       "      <td>data\\Zorg\\17, 04-12-2024.pdf</td>\n",
       "      <td>1.000000</td>\n",
       "    </tr>\n",
       "    <tr>\n",
       "      <th>5</th>\n",
       "      <td>24</td>\n",
       "      <td>62</td>\n",
       "      <td>data\\Bouw &amp; Vastgoed\\7, 01-10-2024.pdf</td>\n",
       "      <td>data\\Handel &amp; Industrie\\8, 01-10-2024.pdf</td>\n",
       "      <td>0.996245</td>\n",
       "    </tr>\n",
       "    <tr>\n",
       "      <th>6</th>\n",
       "      <td>24</td>\n",
       "      <td>99</td>\n",
       "      <td>data\\Bouw &amp; Vastgoed\\7, 01-10-2024.pdf</td>\n",
       "      <td>data\\Zakelijke Dienstverlening\\8, 01-10-2024.pdf</td>\n",
       "      <td>0.995303</td>\n",
       "    </tr>\n",
       "    <tr>\n",
       "      <th>7</th>\n",
       "      <td>24</td>\n",
       "      <td>117</td>\n",
       "      <td>data\\Bouw &amp; Vastgoed\\7, 01-10-2024.pdf</td>\n",
       "      <td>data\\Zorg\\6, 01-10-2024.pdf</td>\n",
       "      <td>0.995303</td>\n",
       "    </tr>\n",
       "    <tr>\n",
       "      <th>8</th>\n",
       "      <td>25</td>\n",
       "      <td>72</td>\n",
       "      <td>data\\Bouw &amp; Vastgoed\\8, 22-10-2024.pdf</td>\n",
       "      <td>data\\Zakelijke Dienstverlening\\17, 22-10-2024.pdf</td>\n",
       "      <td>0.999984</td>\n",
       "    </tr>\n",
       "    <tr>\n",
       "      <th>9</th>\n",
       "      <td>33</td>\n",
       "      <td>103</td>\n",
       "      <td>data\\Handel &amp; Industrie\\15, 21-10-2024.pdf</td>\n",
       "      <td>data\\Zorg\\11, 21-10-2024.pdf</td>\n",
       "      <td>0.991317</td>\n",
       "    </tr>\n",
       "    <tr>\n",
       "      <th>10</th>\n",
       "      <td>44</td>\n",
       "      <td>81</td>\n",
       "      <td>data\\Handel &amp; Industrie\\25, 14-11-2024.pdf</td>\n",
       "      <td>data\\Zakelijke Dienstverlening\\25, 14-11-2024.pdf</td>\n",
       "      <td>1.000000</td>\n",
       "    </tr>\n",
       "    <tr>\n",
       "      <th>11</th>\n",
       "      <td>47</td>\n",
       "      <td>85</td>\n",
       "      <td>data\\Handel &amp; Industrie\\28, 27-11-2024.pdf</td>\n",
       "      <td>data\\Zakelijke Dienstverlening\\29, 27-11-2024.pdf</td>\n",
       "      <td>1.000000</td>\n",
       "    </tr>\n",
       "    <tr>\n",
       "      <th>12</th>\n",
       "      <td>51</td>\n",
       "      <td>89</td>\n",
       "      <td>data\\Handel &amp; Industrie\\31, 05-12-2024.pdf</td>\n",
       "      <td>data\\Zakelijke Dienstverlening\\32, 05-12-2024.pdf</td>\n",
       "      <td>0.998005</td>\n",
       "    </tr>\n",
       "    <tr>\n",
       "      <th>13</th>\n",
       "      <td>53</td>\n",
       "      <td>90</td>\n",
       "      <td>data\\Handel &amp; Industrie\\33, 04-12-2024.pdf</td>\n",
       "      <td>data\\Zakelijke Dienstverlening\\33, 04-12-2024.pdf</td>\n",
       "      <td>1.000000</td>\n",
       "    </tr>\n",
       "    <tr>\n",
       "      <th>14</th>\n",
       "      <td>53</td>\n",
       "      <td>109</td>\n",
       "      <td>data\\Handel &amp; Industrie\\33, 04-12-2024.pdf</td>\n",
       "      <td>data\\Zorg\\17, 04-12-2024.pdf</td>\n",
       "      <td>1.000000</td>\n",
       "    </tr>\n",
       "    <tr>\n",
       "      <th>15</th>\n",
       "      <td>54</td>\n",
       "      <td>94</td>\n",
       "      <td>data\\Handel &amp; Industrie\\34, 11-12-2024.pdf</td>\n",
       "      <td>data\\Zakelijke Dienstverlening\\37, 11-12-2024.pdf</td>\n",
       "      <td>1.000000</td>\n",
       "    </tr>\n",
       "    <tr>\n",
       "      <th>16</th>\n",
       "      <td>62</td>\n",
       "      <td>99</td>\n",
       "      <td>data\\Handel &amp; Industrie\\8, 01-10-2024.pdf</td>\n",
       "      <td>data\\Zakelijke Dienstverlening\\8, 01-10-2024.pdf</td>\n",
       "      <td>0.999947</td>\n",
       "    </tr>\n",
       "    <tr>\n",
       "      <th>17</th>\n",
       "      <td>62</td>\n",
       "      <td>117</td>\n",
       "      <td>data\\Handel &amp; Industrie\\8, 01-10-2024.pdf</td>\n",
       "      <td>data\\Zorg\\6, 01-10-2024.pdf</td>\n",
       "      <td>0.999947</td>\n",
       "    </tr>\n",
       "    <tr>\n",
       "      <th>18</th>\n",
       "      <td>90</td>\n",
       "      <td>109</td>\n",
       "      <td>data\\Zakelijke Dienstverlening\\33, 04-12-2024.pdf</td>\n",
       "      <td>data\\Zorg\\17, 04-12-2024.pdf</td>\n",
       "      <td>1.000000</td>\n",
       "    </tr>\n",
       "    <tr>\n",
       "      <th>19</th>\n",
       "      <td>99</td>\n",
       "      <td>117</td>\n",
       "      <td>data\\Zakelijke Dienstverlening\\8, 01-10-2024.pdf</td>\n",
       "      <td>data\\Zorg\\6, 01-10-2024.pdf</td>\n",
       "      <td>1.000000</td>\n",
       "    </tr>\n",
       "  </tbody>\n",
       "</table>\n",
       "</div>"
      ],
      "text/plain": [
       "    article_1  article_2                                        file_path_1  \\\n",
       "0           7         39            data\\Bouw & Vastgoed\\15, 29-10-2024.pdf   \n",
       "1          13        107            data\\Bouw & Vastgoed\\20, 19-11-2024.pdf   \n",
       "2          19         53            data\\Bouw & Vastgoed\\26, 04-12-2024.pdf   \n",
       "3          19         90            data\\Bouw & Vastgoed\\26, 04-12-2024.pdf   \n",
       "4          19        109            data\\Bouw & Vastgoed\\26, 04-12-2024.pdf   \n",
       "5          24         62             data\\Bouw & Vastgoed\\7, 01-10-2024.pdf   \n",
       "6          24         99             data\\Bouw & Vastgoed\\7, 01-10-2024.pdf   \n",
       "7          24        117             data\\Bouw & Vastgoed\\7, 01-10-2024.pdf   \n",
       "8          25         72             data\\Bouw & Vastgoed\\8, 22-10-2024.pdf   \n",
       "9          33        103         data\\Handel & Industrie\\15, 21-10-2024.pdf   \n",
       "10         44         81         data\\Handel & Industrie\\25, 14-11-2024.pdf   \n",
       "11         47         85         data\\Handel & Industrie\\28, 27-11-2024.pdf   \n",
       "12         51         89         data\\Handel & Industrie\\31, 05-12-2024.pdf   \n",
       "13         53         90         data\\Handel & Industrie\\33, 04-12-2024.pdf   \n",
       "14         53        109         data\\Handel & Industrie\\33, 04-12-2024.pdf   \n",
       "15         54         94         data\\Handel & Industrie\\34, 11-12-2024.pdf   \n",
       "16         62         99          data\\Handel & Industrie\\8, 01-10-2024.pdf   \n",
       "17         62        117          data\\Handel & Industrie\\8, 01-10-2024.pdf   \n",
       "18         90        109  data\\Zakelijke Dienstverlening\\33, 04-12-2024.pdf   \n",
       "19         99        117   data\\Zakelijke Dienstverlening\\8, 01-10-2024.pdf   \n",
       "\n",
       "                                          file_path_2  similarity  \n",
       "0          data\\Handel & Industrie\\20, 29-10-2024.pdf    1.000000  \n",
       "1                        data\\Zorg\\15, 19-11-2024.pdf    1.000000  \n",
       "2          data\\Handel & Industrie\\33, 04-12-2024.pdf    1.000000  \n",
       "3   data\\Zakelijke Dienstverlening\\33, 04-12-2024.pdf    1.000000  \n",
       "4                        data\\Zorg\\17, 04-12-2024.pdf    1.000000  \n",
       "5           data\\Handel & Industrie\\8, 01-10-2024.pdf    0.996245  \n",
       "6    data\\Zakelijke Dienstverlening\\8, 01-10-2024.pdf    0.995303  \n",
       "7                         data\\Zorg\\6, 01-10-2024.pdf    0.995303  \n",
       "8   data\\Zakelijke Dienstverlening\\17, 22-10-2024.pdf    0.999984  \n",
       "9                        data\\Zorg\\11, 21-10-2024.pdf    0.991317  \n",
       "10  data\\Zakelijke Dienstverlening\\25, 14-11-2024.pdf    1.000000  \n",
       "11  data\\Zakelijke Dienstverlening\\29, 27-11-2024.pdf    1.000000  \n",
       "12  data\\Zakelijke Dienstverlening\\32, 05-12-2024.pdf    0.998005  \n",
       "13  data\\Zakelijke Dienstverlening\\33, 04-12-2024.pdf    1.000000  \n",
       "14                       data\\Zorg\\17, 04-12-2024.pdf    1.000000  \n",
       "15  data\\Zakelijke Dienstverlening\\37, 11-12-2024.pdf    1.000000  \n",
       "16   data\\Zakelijke Dienstverlening\\8, 01-10-2024.pdf    0.999947  \n",
       "17                        data\\Zorg\\6, 01-10-2024.pdf    0.999947  \n",
       "18                       data\\Zorg\\17, 04-12-2024.pdf    1.000000  \n",
       "19                        data\\Zorg\\6, 01-10-2024.pdf    1.000000  "
      ]
     },
     "execution_count": 163,
     "metadata": {},
     "output_type": "execute_result"
    }
   ],
   "source": [
    "# Aggregate text and file_path for each article_id\n",
    "article_info = df.groupby(\"article_id\").agg(\n",
    "    text=(\"text\", lambda x: \" \".join(x)),\n",
    "    file_path=(\"file_path\", \"first\")  # Assuming each article has a unique file_path\n",
    ").reset_index()\n",
    "\n",
    "# Compute the TF-IDF matrix and cosine similarity as before\n",
    "from sklearn.feature_extraction.text import TfidfVectorizer\n",
    "from sklearn.metrics.pairwise import cosine_similarity\n",
    "\n",
    "vectorizer = TfidfVectorizer()\n",
    "tfidf_matrix = vectorizer.fit_transform(article_info[\"text\"])\n",
    "\n",
    "# Compute cosine similarity\n",
    "cosine_sim = cosine_similarity(tfidf_matrix)\n",
    "\n",
    "# Convert to DataFrame for better readability\n",
    "cosine_df = pd.DataFrame(cosine_sim, index=article_info[\"article_id\"], columns=article_info[\"article_id\"])\n",
    "\n",
    "# Find pairs with similarity > 0.99 (excluding self-similarity)\n",
    "similar_articles = []\n",
    "threshold = 0.99\n",
    "\n",
    "for i, id1 in enumerate(article_info[\"article_id\"]):\n",
    "    for j, id2 in enumerate(article_info[\"article_id\"]):\n",
    "        if i < j and cosine_df.loc[id1, id2] > threshold:\n",
    "            similar_articles.append((\n",
    "                id1, \n",
    "                id2, \n",
    "                article_info.loc[article_info[\"article_id\"] == id1, \"file_path\"].values[0],  # File path for article 1\n",
    "                article_info.loc[article_info[\"article_id\"] == id2, \"file_path\"].values[0],   # File path for article 2\n",
    "                cosine_df.loc[id1, id2]\n",
    "            ))\n",
    "\n",
    "# Display results with file paths\n",
    "similar_articles_df = pd.DataFrame(similar_articles, columns=[\"article_1\", \"article_2\", \"file_path_1\", \"file_path_2\", \"similarity\"])\n",
    "similar_articles_df"
   ]
  },
  {
   "cell_type": "markdown",
   "id": "1daea706-a696-4af4-a2f7-74f84ad61109",
   "metadata": {},
   "source": [
    "The following choices were made: <br>\n",
    "> - Row 0: Handel & Industrie \n",
    "> - Row 1: Zakelijke Dienstverlening \n",
    "> - Row 2-4 + 13-14 + 18: Zakelijke Dienstverlening \n",
    "> - Row 5-7 + 16-17 + 19: Zakelijke Dienstverlening \n",
    "> - Row 8: Bouw & vastgoed\n",
    "> - Row 9: Zorg\n",
    "> - Row 10: Handel & Industrie\n",
    "> - Row 11: Handel & Industrie\n",
    "> - Row 12: Zakelijke Dienstverlening\n",
    "> - Row 15: Handel & Industrie"
   ]
  },
  {
   "cell_type": "code",
   "execution_count": null,
   "id": "8e3aabdc-757b-4927-8bda-2cedf3aa7f60",
   "metadata": {},
   "outputs": [],
   "source": []
  }
 ],
 "metadata": {
  "kernelspec": {
   "display_name": "Python 3 (ipykernel)",
   "language": "python",
   "name": "python3"
  },
  "language_info": {
   "codemirror_mode": {
    "name": "ipython",
    "version": 3
   },
   "file_extension": ".py",
   "mimetype": "text/x-python",
   "name": "python",
   "nbconvert_exporter": "python",
   "pygments_lexer": "ipython3",
   "version": "3.10.9"
  }
 },
 "nbformat": 4,
 "nbformat_minor": 5
}
